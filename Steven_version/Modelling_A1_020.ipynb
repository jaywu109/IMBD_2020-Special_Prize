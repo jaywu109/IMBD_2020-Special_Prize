{
 "cells": [
  {
   "cell_type": "code",
   "execution_count": 1,
   "metadata": {},
   "outputs": [],
   "source": [
    "# model 套件\n",
    "from sklearn.linear_model import LinearRegression, LassoCV\n",
    "from sklearn.model_selection import train_test_split\n",
    "from sklearn.metrics import r2_score, mean_squared_error\n",
    "from sklearn.preprocessing import PowerTransformer\n",
    "import math\n",
    "import warnings\n",
    "warnings.filterwarnings('ignore')\n"
   ]
  },
  {
   "cell_type": "markdown",
   "metadata": {},
   "source": [
    "# Second Preprocessing"
   ]
  },
  {
   "cell_type": "code",
   "execution_count": 2,
   "metadata": {},
   "outputs": [],
   "source": [
    "from sklearn import preprocessing\n",
    "from sklearn.preprocessing import MinMaxScaler, RobustScaler, StandardScaler"
   ]
  },
  {
   "cell_type": "code",
   "execution_count": 3,
   "metadata": {},
   "outputs": [],
   "source": [
    "# 處理 data 套件\n",
    "import numpy as np\n",
    "import pandas as pd"
   ]
  },
  {
   "cell_type": "code",
   "execution_count": 4,
   "metadata": {},
   "outputs": [],
   "source": [
    "# let column can show all\n",
    "pd.set_option('display.max_columns', None)\n",
    "pd.set_option('display.max_rows', None)"
   ]
  },
  {
   "cell_type": "code",
   "execution_count": 5,
   "metadata": {},
   "outputs": [],
   "source": [
    "df = pd.read_csv('BayesianRidge_Pre/Input_A1_020.csv')\n",
    "# df1 = pd.read_csv('Input_C_057.csv')\n",
    "# df2 = pd.read_csv('Input_C_050.csv')"
   ]
  },
  {
   "cell_type": "code",
   "execution_count": 6,
   "metadata": {},
   "outputs": [],
   "source": [
    "title = ['Input_A4_020','Input_A3_020','Input_A5_020','Input_A2_020']\n",
    "\n",
    "# title = ['Input_A4_020','Input_A3_020','Input_A5_020','Input_A2_020']"
   ]
  },
  {
   "cell_type": "code",
   "execution_count": null,
   "metadata": {},
   "outputs": [],
   "source": [
    "# 直接執行轉換拉到最下面會發現 Wraninig\n",
    "for col in title: # Predict 不做轉換\n",
    "    if abs(df[col].skew()) >= 0.7: # 取偏態絕對值大於 0.5的項\n",
    "        print(col)\n",
    "        pt = PowerTransformer() # PowerTransformer 預設為 Yeo-Johson 轉換可轉正負數，不同於另一種 Box-Cox 只能用於正數\n",
    "        d = pt.fit_transform(df[col].values.reshape(-1, 1)).flatten()\n",
    "        df[col]=d"
   ]
  },
  {
   "cell_type": "code",
   "execution_count": 7,
   "metadata": {},
   "outputs": [],
   "source": [
    "X = df[title]\n",
    "scaler = RobustScaler()\n",
    "df[title] = scaler.fit_transform(X)\n",
    "y = df['Predict']"
   ]
  },
  {
   "cell_type": "code",
   "execution_count": 8,
   "metadata": {},
   "outputs": [],
   "source": [
    "def pMSE(ans,predict):\n",
    "    pmse = math.sqrt(sum(pow((ans - predict)/ans*100,2)/len(ans)))\n",
    "    return pmse"
   ]
  },
  {
   "cell_type": "code",
   "execution_count": 9,
   "metadata": {},
   "outputs": [],
   "source": [
    "def pNumber(ans,predict,num):\n",
    "    return sum(abs((ans-predict)/ans*100) < num)"
   ]
  },
  {
   "cell_type": "markdown",
   "metadata": {},
   "source": [
    "# Split data"
   ]
  },
  {
   "cell_type": "code",
   "execution_count": 10,
   "metadata": {},
   "outputs": [],
   "source": [
    "X_train, X_test, y_train, y_test = train_test_split(X, y, test_size=0.3, random_state=42)"
   ]
  },
  {
   "cell_type": "markdown",
   "metadata": {},
   "source": [
    "# LassoCV"
   ]
  },
  {
   "cell_type": "code",
   "execution_count": 11,
   "metadata": {},
   "outputs": [
    {
     "name": "stdout",
     "output_type": "stream",
     "text": [
      "first best alpha: 0.01\n",
      "second best alpha: 0.0006\n",
      "final best alpha: 0.00029\n"
     ]
    }
   ],
   "source": [
    "lasso = LassoCV(alphas=[0.00001, 0.0001, 0.001, 0.01, 0.1, 1, 10, 20, 30],random_state = 42)\n",
    "lasso.fit(X_train, np.sqrt(y_train))\n",
    "alpha = lasso.alpha_\n",
    "print(\"first best alpha:\", alpha)\n",
    "lasso = LassoCV(alphas=[0.00004, 0.00008, 0.0001, 0.0003, 0.0006],random_state = 42)\n",
    "lasso.fit(X_train, np.sqrt(y_train))\n",
    "alpha = lasso.alpha_\n",
    "print(\"second best alpha:\", alpha)\n",
    "lasso = LassoCV(alphas=[0.0001 + i/100000 for i in range(1, 20)], random_state = 42)\n",
    "lasso.fit(X_train, np.sqrt(y_train))\n",
    "alpha = lasso.alpha_\n",
    "print(\"final best alpha:\", alpha)"
   ]
  },
  {
   "cell_type": "code",
   "execution_count": 12,
   "metadata": {},
   "outputs": [],
   "source": [
    "y_pred = lasso.predict(X_test)"
   ]
  },
  {
   "cell_type": "code",
   "execution_count": 13,
   "metadata": {},
   "outputs": [
    {
     "name": "stdout",
     "output_type": "stream",
     "text": [
      "R2 score: 0.3564\n"
     ]
    }
   ],
   "source": [
    "# 預測值與實際值的差距，使用 r2_score ([0,1] 越大越好 )\n",
    "print(\"R2 score: %.4f\"\n",
    "      % r2_score(y_test, pow(y_pred,2)))"
   ]
  },
  {
   "cell_type": "code",
   "execution_count": 14,
   "metadata": {
    "scrolled": true
   },
   "outputs": [
    {
     "name": "stdout",
     "output_type": "stream",
     "text": [
      "Percentage mse score: inf\n"
     ]
    }
   ],
   "source": [
    "print(\"Percentage mse score: %.2f\"\n",
    "      % pMSE(y_test,pow(y_pred,2)))"
   ]
  },
  {
   "cell_type": "code",
   "execution_count": 15,
   "metadata": {},
   "outputs": [
    {
     "name": "stdout",
     "output_type": "stream",
     "text": [
      "Number lower than error: 19\n"
     ]
    }
   ],
   "source": [
    "print(\"Number lower than error: %d\"\n",
    "      % pNumber(y_test, pow(y_pred,2), 15))"
   ]
  },
  {
   "cell_type": "code",
   "execution_count": 16,
   "metadata": {
    "scrolled": true
   },
   "outputs": [
    {
     "name": "stdout",
     "output_type": "stream",
     "text": [
      "Root mean squared error: 0.619512\n"
     ]
    }
   ],
   "source": [
    "# 預測值與實際值的差距，使用 RMSE\n",
    "print(\"Root mean squared error: %.6f\"\n",
    "      % math.sqrt(mean_squared_error(y_test, pow(y_pred,2))))"
   ]
  },
  {
   "cell_type": "code",
   "execution_count": 17,
   "metadata": {},
   "outputs": [
    {
     "data": {
      "text/plain": [
       "count    104.000000\n",
       "mean            inf\n",
       "std             NaN\n",
       "min        1.548904\n",
       "10%        6.758300\n",
       "20%       23.819458\n",
       "30%       33.827489\n",
       "40%       35.641459\n",
       "50%       35.641459\n",
       "60%       40.265909\n",
       "70%       61.684099\n",
       "80%       99.184334\n",
       "90%             inf\n",
       "max             inf\n",
       "Name: Predict, dtype: float64"
      ]
     },
     "execution_count": 17,
     "metadata": {},
     "output_type": "execute_result"
    }
   ],
   "source": [
    "p = [0.1, 0.2, 0.3, 0.4, 0.5, 0.6, 0.7, 0.8, 0.9]\n",
    "abs((y_test - pow(y_pred,2))/y_test*100).describe(percentiles = p)"
   ]
  },
  {
   "cell_type": "code",
   "execution_count": 18,
   "metadata": {
    "scrolled": true
   },
   "outputs": [
    {
     "data": {
      "text/plain": [
       "array([0.18340202, 0.1739452 , 0.09390444, 0.09680483])"
      ]
     },
     "execution_count": 18,
     "metadata": {},
     "output_type": "execute_result"
    }
   ],
   "source": [
    "lasso.coef_"
   ]
  },
  {
   "cell_type": "markdown",
   "metadata": {},
   "source": [
    "# Linear regresssion"
   ]
  },
  {
   "cell_type": "code",
   "execution_count": 19,
   "metadata": {},
   "outputs": [],
   "source": [
    "# 建立一個線性回歸模型\n",
    "regr = LinearRegression()\n",
    "\n",
    "# 將訓練資料丟進去模型訓練\n",
    "regr.fit(X_train, np.sqrt(y_train))\n",
    "\n",
    "# 將測試資料丟進模型得到預測結果\n",
    "y_pred = regr.predict(X_test)"
   ]
  },
  {
   "cell_type": "code",
   "execution_count": 20,
   "metadata": {
    "scrolled": true
   },
   "outputs": [
    {
     "name": "stdout",
     "output_type": "stream",
     "text": [
      "Mean squared error: 0.383879\n"
     ]
    }
   ],
   "source": [
    "# 預測值與實際值的差距，使用 MSE\n",
    "print(\"Mean squared error: %.6f\"\n",
    "      % mean_squared_error(y_test, pow(y_pred,2)))"
   ]
  },
  {
   "cell_type": "code",
   "execution_count": 21,
   "metadata": {},
   "outputs": [
    {
     "name": "stdout",
     "output_type": "stream",
     "text": [
      "Root mean squared error: 0.619579\n"
     ]
    }
   ],
   "source": [
    "# 預測值與實際值的差距，使用 RMSE\n",
    "print(\"Root mean squared error: %.6f\"\n",
    "      % math.sqrt(mean_squared_error(y_test, pow(y_pred,2))))"
   ]
  },
  {
   "cell_type": "code",
   "execution_count": 22,
   "metadata": {
    "scrolled": true
   },
   "outputs": [
    {
     "name": "stdout",
     "output_type": "stream",
     "text": [
      "R2 score: 0.3563\n"
     ]
    }
   ],
   "source": [
    "# 預測值與實際值的差距，使用 r2_score ([0,1] 越大越好 )\n",
    "print(\"R2 score: %.4f\"\n",
    "      % r2_score(y_test,pow(y_pred,2)))"
   ]
  },
  {
   "cell_type": "code",
   "execution_count": 23,
   "metadata": {},
   "outputs": [
    {
     "name": "stdout",
     "output_type": "stream",
     "text": [
      "Linear regression score: 0.5036\n"
     ]
    }
   ],
   "source": [
    "# the score function displays the accuracy of the model which translates to how well the model \n",
    "# can accurately predict for a new datapoint.\n",
    "print(\"Linear regression score: %.4f\"\n",
    "      % regr.score(X_train,np.sqrt(y_train)))"
   ]
  },
  {
   "cell_type": "code",
   "execution_count": 24,
   "metadata": {},
   "outputs": [
    {
     "name": "stdout",
     "output_type": "stream",
     "text": [
      "Percentage mse score: inf\n"
     ]
    }
   ],
   "source": [
    "print(\"Percentage mse score: %.2f\"\n",
    "      % pMSE(y_test, pow(y_pred,2)))"
   ]
  },
  {
   "cell_type": "code",
   "execution_count": 25,
   "metadata": {
    "scrolled": true
   },
   "outputs": [
    {
     "name": "stdout",
     "output_type": "stream",
     "text": [
      "Number lower than error: 19\n"
     ]
    }
   ],
   "source": [
    "# y_test : len 103\n",
    "print(\"Number lower than error: %d\"   \n",
    "      % pNumber(y_test, pow(y_pred,2), 15))"
   ]
  },
  {
   "cell_type": "code",
   "execution_count": 26,
   "metadata": {},
   "outputs": [
    {
     "data": {
      "text/plain": [
       "count    104.000000\n",
       "mean            inf\n",
       "std             NaN\n",
       "min        1.367833\n",
       "10%        6.560587\n",
       "20%       23.603805\n",
       "30%       33.917689\n",
       "40%       35.548217\n",
       "50%       35.548217\n",
       "60%       40.354676\n",
       "70%       61.586739\n",
       "80%       98.994834\n",
       "90%             inf\n",
       "max             inf\n",
       "Name: Predict, dtype: float64"
      ]
     },
     "execution_count": 26,
     "metadata": {},
     "output_type": "execute_result"
    }
   ],
   "source": [
    "p = [0.1, 0.2, 0.3, 0.4, 0.5, 0.6, 0.7, 0.8, 0.9]\n",
    "abs((y_test - pow(y_pred,2))/y_test*100).describe(percentiles = p)"
   ]
  },
  {
   "cell_type": "code",
   "execution_count": 27,
   "metadata": {
    "scrolled": true
   },
   "outputs": [
    {
     "data": {
      "text/plain": [
       "<matplotlib.axes._subplots.AxesSubplot at 0x1d75ace8488>"
      ]
     },
     "execution_count": 27,
     "metadata": {},
     "output_type": "execute_result"
    },
    {
     "data": {
      "image/png": "[encoded data removed]",
      "text/plain": [
       "<Figure size 432x288 with 1 Axes>"
      ]
     },
     "metadata": {
      "needs_background": "light"
     },
     "output_type": "display_data"
    }
   ],
   "source": [
    "from matplotlib import pyplot as plt\n",
    "import seaborn as sb\n",
    "%matplotlib inline\n",
    "sb.regplot(y_test, pow(y_pred,2))"
   ]
  },
  {
   "cell_type": "code",
   "execution_count": 28,
   "metadata": {},
   "outputs": [
    {
     "data": {
      "text/plain": [
       "(8.822685601073744, 1.4549114070465586e-21)"
      ]
     },
     "execution_count": 28,
     "metadata": {},
     "output_type": "execute_result"
    }
   ],
   "source": [
    "# p-value: Used to interpret the test, in this case whether the sample was drawn from a Gaussian distribution.\n",
    "# If p-value <= alpha (0.05) : Reject H0 => need Normally distributed\n",
    "# If p-value > alpha (0.05) : Accept H0 \n",
    "from statsmodels.stats.diagnostic import normal_ad\n",
    "normal_ad(y_test - pow(y_pred,2))"
   ]
  },
  {
   "cell_type": "markdown",
   "metadata": {},
   "source": [
    "# XGBoost regression"
   ]
  },
  {
   "cell_type": "code",
   "execution_count": 29,
   "metadata": {},
   "outputs": [],
   "source": [
    "from xgboost.sklearn import XGBRegressor\n",
    "from sklearn.model_selection import GridSearchCV\n",
    "from sklearn.model_selection import cross_val_score,KFold\n",
    "from scipy.stats import skew\n"
   ]
  },
  {
   "cell_type": "markdown",
   "metadata": {},
   "source": [
    "# 先調 booster / n_estimators"
   ]
  },
  {
   "cell_type": "code",
   "execution_count": 30,
   "metadata": {
    "scrolled": true
   },
   "outputs": [
    {
     "name": "stdout",
     "output_type": "stream",
     "text": [
      "Fitting 3 folds for each of 60 candidates, totalling 180 fits\n"
     ]
    },
    {
     "name": "stderr",
     "output_type": "stream",
     "text": [
      "[Parallel(n_jobs=6)]: Using backend LokyBackend with 6 concurrent workers.\n",
      "[Parallel(n_jobs=6)]: Done   1 tasks      | elapsed:    3.0s\n",
      "[Parallel(n_jobs=6)]: Done   6 tasks      | elapsed:    3.1s\n",
      "[Parallel(n_jobs=6)]: Done  13 tasks      | elapsed:    3.1s\n",
      "[Parallel(n_jobs=6)]: Done  20 tasks      | elapsed:    3.1s\n",
      "[Parallel(n_jobs=6)]: Batch computation too fast (0.1879s.) Setting batch_size=2.\n",
      "[Parallel(n_jobs=6)]: Done  29 tasks      | elapsed:    3.2s\n",
      "[Parallel(n_jobs=6)]: Done  39 tasks      | elapsed:    3.3s\n",
      "[Parallel(n_jobs=6)]: Batch computation too fast (0.1050s.) Setting batch_size=6.\n",
      "[Parallel(n_jobs=6)]: Batch computation too fast (0.1401s.) Setting batch_size=16.\n",
      "[Parallel(n_jobs=6)]: Done  65 tasks      | elapsed:    3.5s\n",
      "[Parallel(n_jobs=6)]: Done 131 out of 180 | elapsed:    3.6s remaining:    1.3s\n"
     ]
    },
    {
     "name": "stdout",
     "output_type": "stream",
     "text": [
      "best params\n",
      "{'booster': 'dart', 'n_estimators': 20}\n",
      "best score\n",
      "0.4480236523143571\n"
     ]
    },
    {
     "name": "stderr",
     "output_type": "stream",
     "text": [
      "[Parallel(n_jobs=6)]: Done 180 out of 180 | elapsed:    5.6s finished\n"
     ]
    }
   ],
   "source": [
    "#for tuning parameters\n",
    "parameters_for_testing = {\n",
    "    'booster':['gbtree','gblinear','dart'],\n",
    "    'n_estimators':range(10,201,10),\n",
    "}\n",
    "\n",
    "other_params = {'learning_rate': 0.1, 'n_estimators': 90, 'max_depth': 5, 'min_child_weight': 1, 'seed': 42,\n",
    "'subsample': 0.8, 'colsample_bytree': 0.8, 'gamma': 0, 'reg_alpha': 0, 'reg_lambda': 1}\n",
    "\n",
    "xgb_model = XGBRegressor(**other_params)\n",
    "gsearch = GridSearchCV(estimator = xgb_model, param_grid = parameters_for_testing, n_jobs=6,iid=False, verbose=10,scoring='r2')\n",
    "\n",
    "gsearch.fit(X_train,np.sqrt(y_train))\n",
    "\n",
    "#print (gsearch1.cv_results_)\n",
    "print('best params')\n",
    "print (gsearch.best_params_)\n",
    "print('best score')\n",
    "print (gsearch.best_score_)"
   ]
  },
  {
   "cell_type": "markdown",
   "metadata": {},
   "source": [
    "# 調 max_depth / min_child_weight"
   ]
  },
  {
   "cell_type": "code",
   "execution_count": 31,
   "metadata": {
    "scrolled": false
   },
   "outputs": [
    {
     "name": "stdout",
     "output_type": "stream",
     "text": [
      "Fitting 3 folds for each of 60 candidates, totalling 180 fits\n"
     ]
    },
    {
     "name": "stderr",
     "output_type": "stream",
     "text": [
      "[Parallel(n_jobs=6)]: Using backend LokyBackend with 6 concurrent workers.\n",
      "[Parallel(n_jobs=6)]: Done   1 tasks      | elapsed:    0.0s\n",
      "[Parallel(n_jobs=6)]: Batch computation too fast (0.0219s.) Setting batch_size=18.\n",
      "[Parallel(n_jobs=6)]: Done   6 tasks      | elapsed:    0.0s\n"
     ]
    },
    {
     "name": "stdout",
     "output_type": "stream",
     "text": [
      "best params\n",
      "{'max_depth': 8, 'min_child_weight': 6}\n",
      "best score\n",
      "0.4576303135524151\n"
     ]
    },
    {
     "name": "stderr",
     "output_type": "stream",
     "text": [
      "[Parallel(n_jobs=6)]: Done 180 out of 180 | elapsed:    0.4s finished\n"
     ]
    }
   ],
   "source": [
    "#for tuning parameters\n",
    "parameters_for_testing = {\n",
    "    'max_depth': [1,2,3, 4, 5, 6, 7, 8, 9, 10], \n",
    "    'min_child_weight': [1, 2, 3, 4, 5, 6]\n",
    "}\n",
    "\n",
    "other_params = {'booster':'dart','learning_rate': 0.1, 'n_estimators': 20, 'seed': 42,\n",
    "'subsample': 0.8, 'colsample_bytree': 0.8, 'gamma': 0, 'reg_alpha': 0, 'reg_lambda': 1}\n",
    "\n",
    "xgb_model = XGBRegressor(**other_params)\n",
    "gsearch = GridSearchCV(estimator = xgb_model, param_grid = parameters_for_testing, n_jobs=6,iid=False, verbose=10,scoring='r2')\n",
    "\n",
    "gsearch.fit(X_train,np.sqrt(y_train))\n",
    "\n",
    "#print (gsearch1.cv_results_)\n",
    "print('best params')\n",
    "print (gsearch.best_params_)\n",
    "print('best score')\n",
    "print (gsearch.best_score_)"
   ]
  },
  {
   "cell_type": "markdown",
   "metadata": {},
   "source": [
    "# 調 gamma"
   ]
  },
  {
   "cell_type": "code",
   "execution_count": 32,
   "metadata": {
    "scrolled": false
   },
   "outputs": [
    {
     "name": "stdout",
     "output_type": "stream",
     "text": [
      "Fitting 3 folds for each of 7 candidates, totalling 21 fits\n",
      "best params\n",
      "{'gamma': 0}\n",
      "best score\n",
      "0.4576303135524151\n"
     ]
    },
    {
     "name": "stderr",
     "output_type": "stream",
     "text": [
      "[Parallel(n_jobs=6)]: Using backend LokyBackend with 6 concurrent workers.\n",
      "[Parallel(n_jobs=6)]: Done   1 tasks      | elapsed:    0.0s\n",
      "[Parallel(n_jobs=6)]: Batch computation too fast (0.0229s.) Setting batch_size=16.\n",
      "[Parallel(n_jobs=6)]: Done   4 out of  21 | elapsed:    0.0s remaining:    0.1s\n",
      "[Parallel(n_jobs=6)]: Done   7 out of  21 | elapsed:    0.0s remaining:    0.0s\n",
      "[Parallel(n_jobs=6)]: Done  10 out of  21 | elapsed:    0.0s remaining:    0.0s\n",
      "[Parallel(n_jobs=6)]: Done  21 out of  21 | elapsed:    0.0s finished\n"
     ]
    }
   ],
   "source": [
    "#for tuning parameters\n",
    "parameters_for_testing = {\n",
    "    'gamma': [0,0.1, 0.2, 0.3, 0.4, 0.5, 0.6]\n",
    "}\n",
    "\n",
    "other_params = {'booster':'dart','learning_rate': 0.1, 'n_estimators': 20, 'max_depth': 8, 'min_child_weight': 6, 'seed': 42,\n",
    "'subsample': 0.8, 'colsample_bytree': 0.8, 'reg_alpha': 0, 'reg_lambda': 1}\n",
    "\n",
    "xgb_model = XGBRegressor(**other_params)\n",
    "gsearch = GridSearchCV(estimator = xgb_model, param_grid = parameters_for_testing, n_jobs=6,iid=False, verbose=10,scoring='r2')\n",
    "\n",
    "gsearch.fit(X_train,np.sqrt(y_train))\n",
    "\n",
    "#print (gsearch1.cv_results_)\n",
    "print('best params')\n",
    "print (gsearch.best_params_)\n",
    "print('best score')\n",
    "print (gsearch.best_score_)"
   ]
  },
  {
   "cell_type": "markdown",
   "metadata": {},
   "source": [
    "# 調 subsample / colsample_bytree"
   ]
  },
  {
   "cell_type": "code",
   "execution_count": 33,
   "metadata": {
    "scrolled": false
   },
   "outputs": [
    {
     "name": "stdout",
     "output_type": "stream",
     "text": [
      "Fitting 3 folds for each of 64 candidates, totalling 192 fits\n"
     ]
    },
    {
     "name": "stderr",
     "output_type": "stream",
     "text": [
      "[Parallel(n_jobs=6)]: Using backend LokyBackend with 6 concurrent workers.\n",
      "[Parallel(n_jobs=6)]: Done   1 tasks      | elapsed:    0.0s\n",
      "[Parallel(n_jobs=6)]: Batch computation too fast (0.0259s.) Setting batch_size=14.\n",
      "[Parallel(n_jobs=6)]: Done   6 tasks      | elapsed:    0.0s\n",
      "[Parallel(n_jobs=6)]: Done  26 tasks      | elapsed:    0.1s\n",
      "[Parallel(n_jobs=6)]: Batch computation too fast (0.1677s.) Setting batch_size=32.\n"
     ]
    },
    {
     "name": "stdout",
     "output_type": "stream",
     "text": [
      "best params\n",
      "{'colsample_bytree': 0.8, 'subsample': 0.4}\n",
      "best score\n",
      "0.4973249180162578\n"
     ]
    },
    {
     "name": "stderr",
     "output_type": "stream",
     "text": [
      "[Parallel(n_jobs=6)]: Done 192 out of 192 | elapsed:    0.4s finished\n"
     ]
    }
   ],
   "source": [
    "#for tuning parameters\n",
    "parameters_for_testing = {\n",
    "    'subsample': [0.2, 0.3, 0.4, 0.5, 0.6, 0.7, 0.8, 0.9], 'colsample_bytree': [0.2, 0.3, 0.4, 0.5, 0.6, 0.7, 0.8, 0.9]\n",
    "}\n",
    "\n",
    "other_params = {'booster':'dart','learning_rate': 0.1, 'n_estimators': 20, 'max_depth': 8, 'min_child_weight': 6, 'seed': 42,\n",
    " 'reg_alpha': 0, 'reg_lambda': 1, 'gamma':0}\n",
    "\n",
    "xgb_model = XGBRegressor(**other_params)\n",
    "gsearch = GridSearchCV(estimator = xgb_model, param_grid = parameters_for_testing, n_jobs=6,iid=False, verbose=10,scoring='r2')\n",
    "\n",
    "gsearch.fit(X_train,np.sqrt(y_train))\n",
    "\n",
    "#print (gsearch1.cv_results_)\n",
    "print('best params')\n",
    "print (gsearch.best_params_)\n",
    "print('best score')\n",
    "print (gsearch.best_score_)"
   ]
  },
  {
   "cell_type": "markdown",
   "metadata": {},
   "source": [
    "# reg_alpha / reg_lambda"
   ]
  },
  {
   "cell_type": "code",
   "execution_count": 34,
   "metadata": {
    "scrolled": false
   },
   "outputs": [
    {
     "name": "stdout",
     "output_type": "stream",
     "text": [
      "Fitting 3 folds for each of 42 candidates, totalling 126 fits\n"
     ]
    },
    {
     "name": "stderr",
     "output_type": "stream",
     "text": [
      "[Parallel(n_jobs=6)]: Using backend LokyBackend with 6 concurrent workers.\n",
      "[Parallel(n_jobs=6)]: Done   1 tasks      | elapsed:    0.0s\n",
      "[Parallel(n_jobs=6)]: Batch computation too fast (0.0280s.) Setting batch_size=14.\n",
      "[Parallel(n_jobs=6)]: Done   6 tasks      | elapsed:    0.0s\n",
      "[Parallel(n_jobs=6)]: Done  11 out of 126 | elapsed:    0.0s remaining:    1.4s\n"
     ]
    },
    {
     "name": "stdout",
     "output_type": "stream",
     "text": [
      "best params\n",
      "{'reg_alpha': 0, 'reg_lambda': 0.1}\n",
      "best score\n",
      "0.5150009628167039\n"
     ]
    },
    {
     "name": "stderr",
     "output_type": "stream",
     "text": [
      "[Parallel(n_jobs=6)]: Done 126 out of 126 | elapsed:    0.2s finished\n"
     ]
    }
   ],
   "source": [
    "#for tuning parameters\n",
    "parameters_for_testing = {\n",
    "    'reg_alpha': [0,0.05, 0.1, 0.5 , 1, 2, 3], 'reg_lambda': [0.05, 0.1, 0.5 , 1, 2, 3]\n",
    "}\n",
    "\n",
    "other_params = {'booster':'dart','learning_rate': 0.1, 'n_estimators': 20, 'max_depth': 8, 'min_child_weight': 6, 'seed': 42,\n",
    " 'gamma':0,'subsample':0.4,'colsample_bytree': 0.8}\n",
    "\n",
    "xgb_model = XGBRegressor(**other_params)\n",
    "gsearch = GridSearchCV(estimator = xgb_model, param_grid = parameters_for_testing, n_jobs=6,iid=False, verbose=10,scoring='r2')\n",
    "\n",
    "gsearch.fit(X_train,np.sqrt(y_train))\n",
    "\n",
    "#print (gsearch1.cv_results_)\n",
    "print('best params')\n",
    "print (gsearch.best_params_)\n",
    "print('best score')\n",
    "print (gsearch.best_score_)"
   ]
  },
  {
   "cell_type": "markdown",
   "metadata": {},
   "source": [
    "# learning_rate"
   ]
  },
  {
   "cell_type": "code",
   "execution_count": 35,
   "metadata": {},
   "outputs": [
    {
     "name": "stdout",
     "output_type": "stream",
     "text": [
      "Fitting 3 folds for each of 5 candidates, totalling 15 fits\n",
      "best params\n",
      "{'learning_rate': 0.1}\n",
      "best score\n",
      "0.5150009628167039\n"
     ]
    },
    {
     "name": "stderr",
     "output_type": "stream",
     "text": [
      "[Parallel(n_jobs=6)]: Using backend LokyBackend with 6 concurrent workers.\n",
      "[Parallel(n_jobs=6)]: Done   1 tasks      | elapsed:    0.0s\n",
      "[Parallel(n_jobs=6)]: Batch computation too fast (0.0299s.) Setting batch_size=12.\n",
      "[Parallel(n_jobs=6)]: Done   4 out of  15 | elapsed:    0.0s remaining:    0.0s\n",
      "[Parallel(n_jobs=6)]: Done   6 out of  15 | elapsed:    0.0s remaining:    0.0s\n",
      "[Parallel(n_jobs=6)]: Done   8 out of  15 | elapsed:    0.0s remaining:    0.0s\n",
      "[Parallel(n_jobs=6)]: Done  10 out of  15 | elapsed:    0.0s remaining:    0.0s\n",
      "[Parallel(n_jobs=6)]: Done  12 out of  15 | elapsed:    0.0s remaining:    0.0s\n",
      "[Parallel(n_jobs=6)]: Done  15 out of  15 | elapsed:    0.0s finished\n"
     ]
    }
   ],
   "source": [
    "#for tuning parameters\n",
    "parameters_for_testing = {\n",
    "   'learning_rate': [0.01, 0.05, 0.07, 0.1, 0.2]\n",
    "}\n",
    "\n",
    "other_params = {'booster':'dart', 'n_estimators': 20, 'max_depth': 8, 'min_child_weight': 6, 'seed': 42,\n",
    " 'gamma':0,'subsample':0.4,'colsample_bytree': 0.8,'reg_alpha': 0, 'reg_lambda': 0.1}\n",
    "\n",
    "xgb_model = XGBRegressor(**other_params)\n",
    "gsearch = GridSearchCV(estimator = xgb_model, param_grid = parameters_for_testing, n_jobs=6,iid=False, verbose=10,scoring='r2')\n",
    "\n",
    "gsearch.fit(X_train,np.sqrt(y_train))\n",
    "\n",
    "#print (gsearch1.cv_results_)\n",
    "print('best params')\n",
    "print (gsearch.best_params_)\n",
    "print('best score')\n",
    "print (gsearch.best_score_)"
   ]
  },
  {
   "cell_type": "code",
   "execution_count": 36,
   "metadata": {
    "scrolled": false
   },
   "outputs": [
    {
     "data": {
      "text/plain": [
       "XGBRegressor(base_score=0.5, booster='dart', colsample_bylevel=1,\n",
       "             colsample_bynode=1, colsample_bytree=0.8, gamma=0, gpu_id=-1,\n",
       "             importance_type='gain', interaction_constraints='',\n",
       "             learning_rate=0.1, max_delta_step=0, max_depth=8,\n",
       "             min_child_weight=6, missing=nan, monotone_constraints='()',\n",
       "             n_estimators=20, n_jobs=0, num_parallel_tree=1,\n",
       "             objective='reg:squarederror', random_state=42, reg_alpha=0,\n",
       "             reg_lambda=0.1, scale_pos_weight=1, seed=42, subsample=0.4,\n",
       "             tree_method='exact', validate_parameters=1, verbosity=None)"
      ]
     },
     "execution_count": 36,
     "metadata": {},
     "output_type": "execute_result"
    }
   ],
   "source": [
    "best_xgb_model = XGBRegressor(\n",
    "              learning_rate = 0.1,\n",
    "              booster = 'dart', \n",
    "              n_estimators = 20, \n",
    "              max_depth = 8, \n",
    "              min_child_weight = 6,\n",
    "              seed = 42,\n",
    "              gamma = 0,\n",
    "              subsample = 0.4,\n",
    "              colsample_bytree = 0.8,\n",
    "              reg_alpha =  0,\n",
    "              reg_lambda = 0.1)\n",
    "\n",
    "best_xgb_model.fit(X_train,np.sqrt(y_train))"
   ]
  },
  {
   "cell_type": "code",
   "execution_count": 37,
   "metadata": {},
   "outputs": [],
   "source": [
    "y_pred = best_xgb_model.predict(X_test)"
   ]
  },
  {
   "cell_type": "code",
   "execution_count": 38,
   "metadata": {},
   "outputs": [
    {
     "name": "stdout",
     "output_type": "stream",
     "text": [
      "R2 score: 0.5022\n"
     ]
    }
   ],
   "source": [
    "# 預測值與實際值的差距，使用 r2_score ([0,1] 越大越好 )\n",
    "print(\"R2 score: %.4f\"\n",
    "      % r2_score(y_test, pow(y_pred,2)))"
   ]
  },
  {
   "cell_type": "code",
   "execution_count": 39,
   "metadata": {
    "scrolled": true
   },
   "outputs": [
    {
     "name": "stdout",
     "output_type": "stream",
     "text": [
      "Percentage rmse score: inf\n"
     ]
    }
   ],
   "source": [
    "print(\"Percentage rmse score: %.2f\"\n",
    "      % pMSE(y_test,pow(y_pred,2)))"
   ]
  },
  {
   "cell_type": "code",
   "execution_count": 40,
   "metadata": {
    "scrolled": true
   },
   "outputs": [
    {
     "name": "stdout",
     "output_type": "stream",
     "text": [
      "Number lower than error: 33\n"
     ]
    }
   ],
   "source": [
    "print(\"Number lower than error: %d\"\n",
    "      % pNumber(y_test, pow(y_pred,2), 15))"
   ]
  },
  {
   "cell_type": "code",
   "execution_count": 41,
   "metadata": {
    "scrolled": false
   },
   "outputs": [
    {
     "name": "stdout",
     "output_type": "stream",
     "text": [
      "Root mean squared error: 0.544829\n"
     ]
    }
   ],
   "source": [
    "# 預測值與實際值的差距，使用 RMSE\n",
    "print(\"Root mean squared error: %.6f\"\n",
    "      % math.sqrt(mean_squared_error(y_test,pow(y_pred,2))))"
   ]
  },
  {
   "cell_type": "code",
   "execution_count": 42,
   "metadata": {},
   "outputs": [
    {
     "data": {
      "text/plain": [
       "count    104.000000\n",
       "mean            inf\n",
       "std             NaN\n",
       "min        0.289248\n",
       "10%        8.214658\n",
       "20%        8.214658\n",
       "30%       13.745540\n",
       "40%       25.783658\n",
       "50%       35.070577\n",
       "60%       44.265491\n",
       "70%       65.460021\n",
       "80%      101.872501\n",
       "90%             inf\n",
       "99%             inf\n",
       "max             inf\n",
       "Name: Predict, dtype: float64"
      ]
     },
     "execution_count": 42,
     "metadata": {},
     "output_type": "execute_result"
    }
   ],
   "source": [
    "p = [0.1, 0.2, 0.3, 0.4, 0.5, 0.6, 0.7, 0.8, 0.9, 0.99]\n",
    "abs((y_test - pow(y_pred,2))/y_test*100).describe(percentiles = p)"
   ]
  },
  {
   "cell_type": "code",
   "execution_count": 43,
   "metadata": {
    "scrolled": true
   },
   "outputs": [
    {
     "name": "stdout",
     "output_type": "stream",
     "text": [
      "XGBoost regression score: 0.6175\n"
     ]
    }
   ],
   "source": [
    "# the score function displays the accuracy of the model which translates to how well the model \n",
    "# can accurately predict for a new datapoint.\n",
    "print(\"XGBoost regression score: %.4f\"\n",
    "      % best_xgb_model.score(X_train,np.sqrt(y_train)))"
   ]
  },
  {
   "cell_type": "markdown",
   "metadata": {},
   "source": [
    "# DecisionTree"
   ]
  },
  {
   "cell_type": "code",
   "execution_count": 44,
   "metadata": {},
   "outputs": [],
   "source": [
    "from sklearn.tree import DecisionTreeRegressor\n",
    "clf = DecisionTreeRegressor(\n",
    "            criterion ='mse', \n",
    "            random_state = 42\n",
    ")"
   ]
  },
  {
   "cell_type": "code",
   "execution_count": 45,
   "metadata": {
    "scrolled": false
   },
   "outputs": [
    {
     "name": "stdout",
     "output_type": "stream",
     "text": [
      "Fitting 3 folds for each of 63 candidates, totalling 189 fits\n"
     ]
    },
    {
     "name": "stderr",
     "output_type": "stream",
     "text": [
      "[Parallel(n_jobs=6)]: Using backend LokyBackend with 6 concurrent workers.\n",
      "[Parallel(n_jobs=6)]: Done   1 tasks      | elapsed:    0.0s\n",
      "[Parallel(n_jobs=6)]: Batch computation too fast (0.1007s.) Setting batch_size=2.\n",
      "[Parallel(n_jobs=6)]: Done   6 tasks      | elapsed:    0.0s\n",
      "[Parallel(n_jobs=6)]: Done  14 tasks      | elapsed:    0.0s\n",
      "[Parallel(n_jobs=6)]: Batch computation too fast (0.0419s.) Setting batch_size=18.\n",
      "[Parallel(n_jobs=6)]: Done  28 tasks      | elapsed:    0.1s\n"
     ]
    },
    {
     "name": "stdout",
     "output_type": "stream",
     "text": [
      "best params\n",
      "{'max_depth': 2, 'min_samples_split': 2}\n",
      "best score\n",
      "0.3668078706192503\n"
     ]
    },
    {
     "name": "stderr",
     "output_type": "stream",
     "text": [
      "[Parallel(n_jobs=6)]: Done 189 out of 189 | elapsed:    0.2s finished\n"
     ]
    }
   ],
   "source": [
    "param_grid = {'max_depth': range(1,10,1),\n",
    "              'min_samples_split': range(2,16,2)}\n",
    "\n",
    "gsearch = GridSearchCV(estimator = clf, param_grid = param_grid, n_jobs=6,iid=False, verbose=10,scoring='r2')\n",
    "\n",
    "gsearch.fit(X_train,np.sqrt(y_train))\n",
    "\n",
    "print('best params')\n",
    "print (gsearch.best_params_)\n",
    "print('best score')\n",
    "print (gsearch.best_score_)"
   ]
  },
  {
   "cell_type": "code",
   "execution_count": 46,
   "metadata": {
    "scrolled": true
   },
   "outputs": [
    {
     "name": "stdout",
     "output_type": "stream",
     "text": [
      "Fitting 3 folds for each of 72 candidates, totalling 216 fits\n"
     ]
    },
    {
     "name": "stderr",
     "output_type": "stream",
     "text": [
      "[Parallel(n_jobs=6)]: Using backend LokyBackend with 6 concurrent workers.\n",
      "[Parallel(n_jobs=6)]: Done   1 tasks      | elapsed:    0.0s\n",
      "[Parallel(n_jobs=6)]: Batch computation too fast (0.0140s.) Setting batch_size=28.\n",
      "[Parallel(n_jobs=6)]: Done   6 tasks      | elapsed:    0.0s\n"
     ]
    },
    {
     "name": "stdout",
     "output_type": "stream",
     "text": [
      "best params\n",
      "{'max_leaf_nodes': 3, 'min_samples_leaf': 8}\n",
      "best score\n",
      "0.3782427560102081\n"
     ]
    },
    {
     "name": "stderr",
     "output_type": "stream",
     "text": [
      "[Parallel(n_jobs=6)]: Done 216 out of 216 | elapsed:    0.1s finished\n"
     ]
    }
   ],
   "source": [
    " param_grid = {\n",
    "              \"min_samples_leaf\": range(1,10,1),\n",
    "              \"max_leaf_nodes\": range(2,10,1)\n",
    "              }\n",
    "    \n",
    "clf = DecisionTreeRegressor(\n",
    "            criterion ='mse', \n",
    "            max_depth = 2,\n",
    "            min_samples_split = 2,\n",
    "            random_state = 42\n",
    ")\n",
    "\n",
    "gsearch = GridSearchCV(estimator = clf, param_grid = param_grid, n_jobs=6,iid=False, verbose=10,scoring='r2')\n",
    "\n",
    "gsearch.fit(X_train,np.sqrt(y_train))\n",
    "\n",
    "print('best params')\n",
    "print (gsearch.best_params_)\n",
    "print('best score')\n",
    "print (gsearch.best_score_)"
   ]
  },
  {
   "cell_type": "code",
   "execution_count": 47,
   "metadata": {},
   "outputs": [],
   "source": [
    "clf = DecisionTreeRegressor(\n",
    "            criterion ='mse', \n",
    "            max_depth = 2,\n",
    "            min_samples_split = 2,\n",
    "            max_leaf_nodes = 3,\n",
    "            min_samples_leaf = 8,\n",
    "            random_state = 42\n",
    ")\n",
    "# 訓練模型\n",
    "clf.fit(X_train,np.sqrt(y_train))\n",
    "\n",
    "# 預測測試集\n",
    "y_pred = clf.predict(X_test)"
   ]
  },
  {
   "cell_type": "code",
   "execution_count": 48,
   "metadata": {},
   "outputs": [
    {
     "name": "stdout",
     "output_type": "stream",
     "text": [
      "Feature importance:  [0.89741551 0.10258449 0.         0.        ]\n"
     ]
    }
   ],
   "source": [
    "print(\"Feature importance: \", clf.feature_importances_)"
   ]
  },
  {
   "cell_type": "code",
   "execution_count": 49,
   "metadata": {},
   "outputs": [
    {
     "name": "stdout",
     "output_type": "stream",
     "text": [
      "R2 score: 0.3733\n"
     ]
    }
   ],
   "source": [
    "# 預測值與實際值的差距，使用 r2_score ([0,1] 越大越好 )\n",
    "print(\"R2 score: %.4f\"\n",
    "      % r2_score(y_test, pow(y_pred,2)))"
   ]
  },
  {
   "cell_type": "code",
   "execution_count": 50,
   "metadata": {
    "scrolled": true
   },
   "outputs": [
    {
     "name": "stdout",
     "output_type": "stream",
     "text": [
      "Percentage rmse score: inf\n"
     ]
    }
   ],
   "source": [
    "print(\"Percentage rmse score: %.2f\"\n",
    "      % pMSE(y_test,pow(y_pred,2)))"
   ]
  },
  {
   "cell_type": "code",
   "execution_count": 51,
   "metadata": {},
   "outputs": [
    {
     "name": "stdout",
     "output_type": "stream",
     "text": [
      "Root mean squared error: 0.611330\n"
     ]
    }
   ],
   "source": [
    "# 預測值與實際值的差距，使用 RMSE\n",
    "print(\"Root mean squared error: %.6f\"\n",
    "      % math.sqrt(mean_squared_error(y_test,pow(y_pred,2))))"
   ]
  },
  {
   "cell_type": "code",
   "execution_count": 52,
   "metadata": {},
   "outputs": [
    {
     "data": {
      "text/plain": [
       "count    104.000000\n",
       "mean            inf\n",
       "std             NaN\n",
       "min        8.727174\n",
       "10%       30.154592\n",
       "20%       30.154592\n",
       "30%       31.406302\n",
       "40%       34.922704\n",
       "50%       36.909239\n",
       "60%       36.909239\n",
       "70%       36.909239\n",
       "80%       71.786337\n",
       "90%             inf\n",
       "max             inf\n",
       "Name: Predict, dtype: float64"
      ]
     },
     "execution_count": 52,
     "metadata": {},
     "output_type": "execute_result"
    }
   ],
   "source": [
    "p = [0.1, 0.2, 0.3, 0.4, 0.5, 0.6, 0.7, 0.8, 0.9]\n",
    "abs((y_test - pow(y_pred,2))/y_test*100).describe(percentiles = p)"
   ]
  },
  {
   "cell_type": "markdown",
   "metadata": {},
   "source": [
    "#  RandomForest"
   ]
  },
  {
   "cell_type": "code",
   "execution_count": 53,
   "metadata": {},
   "outputs": [],
   "source": [
    "from sklearn.ensemble import RandomForestRegressor\n",
    "clf = RandomForestRegressor(\n",
    "          criterion ='mse', \n",
    "          random_state = 42\n",
    ")"
   ]
  },
  {
   "cell_type": "code",
   "execution_count": 54,
   "metadata": {
    "scrolled": false
   },
   "outputs": [
    {
     "name": "stdout",
     "output_type": "stream",
     "text": [
      "Fitting 3 folds for each of 720 candidates, totalling 2160 fits\n"
     ]
    },
    {
     "name": "stderr",
     "output_type": "stream",
     "text": [
      "[Parallel(n_jobs=6)]: Using backend LokyBackend with 6 concurrent workers.\n",
      "[Parallel(n_jobs=6)]: Done   1 tasks      | elapsed:    0.0s\n",
      "[Parallel(n_jobs=6)]: Batch computation too fast (0.0339s.) Setting batch_size=10.\n",
      "[Parallel(n_jobs=6)]: Done   6 tasks      | elapsed:    0.0s\n",
      "[Parallel(n_jobs=6)]: Done  22 tasks      | elapsed:    0.2s\n",
      "[Parallel(n_jobs=6)]: Batch computation too fast (0.1789s.) Setting batch_size=22.\n",
      "[Parallel(n_jobs=6)]: Done  92 tasks      | elapsed:    0.5s\n",
      "[Parallel(n_jobs=6)]: Done 242 tasks      | elapsed:    1.2s\n",
      "[Parallel(n_jobs=6)]: Done 440 tasks      | elapsed:    2.2s\n",
      "[Parallel(n_jobs=6)]: Done 682 tasks      | elapsed:    3.2s\n",
      "[Parallel(n_jobs=6)]: Done 924 tasks      | elapsed:    4.3s\n",
      "[Parallel(n_jobs=6)]: Done 1210 tasks      | elapsed:    6.1s\n",
      "[Parallel(n_jobs=6)]: Done 1496 tasks      | elapsed:    7.5s\n",
      "[Parallel(n_jobs=6)]: Done 1826 tasks      | elapsed:    9.3s\n"
     ]
    },
    {
     "name": "stdout",
     "output_type": "stream",
     "text": [
      "best params\n",
      "{'max_depth': 2, 'min_samples_split': 2, 'n_estimators': 30}\n",
      "best score\n",
      "0.47553860434940215\n"
     ]
    },
    {
     "name": "stderr",
     "output_type": "stream",
     "text": [
      "[Parallel(n_jobs=6)]: Done 2160 out of 2160 | elapsed:   10.8s finished\n"
     ]
    }
   ],
   "source": [
    "param_grid = {\n",
    "              'n_estimators': range(5,51,5),\n",
    "              'max_depth': range(1,10,1),\n",
    "              'min_samples_split': range(2,10,1)}\n",
    "\n",
    "gsearch = GridSearchCV(estimator = clf, param_grid = param_grid, n_jobs=6,iid=False, verbose=10,scoring='r2')\n",
    "\n",
    "gsearch.fit(X_train,np.sqrt(y_train))\n",
    "\n",
    "print('best params')\n",
    "print (gsearch.best_params_)\n",
    "print('best score')\n",
    "print (gsearch.best_score_)"
   ]
  },
  {
   "cell_type": "code",
   "execution_count": 55,
   "metadata": {
    "scrolled": false
   },
   "outputs": [
    {
     "name": "stdout",
     "output_type": "stream",
     "text": [
      "Fitting 3 folds for each of 117 candidates, totalling 351 fits\n"
     ]
    },
    {
     "name": "stderr",
     "output_type": "stream",
     "text": [
      "[Parallel(n_jobs=6)]: Using backend LokyBackend with 6 concurrent workers.\n",
      "[Parallel(n_jobs=6)]: Done   1 tasks      | elapsed:    0.0s\n",
      "[Parallel(n_jobs=6)]: Batch computation too fast (0.0349s.) Setting batch_size=10.\n",
      "[Parallel(n_jobs=6)]: Done   6 tasks      | elapsed:    0.0s\n",
      "[Parallel(n_jobs=6)]: Done  22 tasks      | elapsed:    0.2s\n",
      "[Parallel(n_jobs=6)]: Done  92 tasks      | elapsed:    0.5s\n",
      "[Parallel(n_jobs=6)]: Done 182 tasks      | elapsed:    0.8s\n"
     ]
    },
    {
     "name": "stdout",
     "output_type": "stream",
     "text": [
      "best params\n",
      "{'max_leaf_nodes': 4, 'min_samples_leaf': 7}\n",
      "best score\n",
      "0.49622637839185435\n"
     ]
    },
    {
     "name": "stderr",
     "output_type": "stream",
     "text": [
      "[Parallel(n_jobs=6)]: Done 351 out of 351 | elapsed:    1.6s finished\n"
     ]
    }
   ],
   "source": [
    " param_grid = {\n",
    "              \"min_samples_leaf\": range(1,10,1),\n",
    "              \"max_leaf_nodes\": range(2,15,1)\n",
    "              }\n",
    "    \n",
    "clf = RandomForestRegressor(\n",
    "            criterion ='mse', \n",
    "            n_estimators = 30,\n",
    "            max_depth = 2,\n",
    "            min_samples_split = 2,\n",
    "            random_state = 42\n",
    ")\n",
    "\n",
    "gsearch = GridSearchCV(estimator = clf, param_grid = param_grid, n_jobs=6,iid=False, verbose=10,scoring='r2')\n",
    "\n",
    "gsearch.fit(X_train,np.sqrt(y_train))\n",
    "\n",
    "print('best params')\n",
    "print (gsearch.best_params_)\n",
    "print('best score')\n",
    "print (gsearch.best_score_)"
   ]
  },
  {
   "cell_type": "code",
   "execution_count": 56,
   "metadata": {},
   "outputs": [],
   "source": [
    "clf = RandomForestRegressor( \n",
    "            criterion ='mse', \n",
    "            n_estimators = 30,\n",
    "            max_depth = 2,\n",
    "            min_samples_split = 2,\n",
    "            max_leaf_nodes = 4,\n",
    "            min_samples_leaf =7,\n",
    "            random_state = 42) \n",
    "#給予max_depth 可以避免過度擬和\n",
    "\n",
    "# 訓練模型\n",
    "clf.fit(X_train,np.sqrt(y_train))\n",
    "\n",
    "# 預測測試集\n",
    "y_pred = clf.predict(X_test)"
   ]
  },
  {
   "cell_type": "code",
   "execution_count": 57,
   "metadata": {},
   "outputs": [
    {
     "name": "stdout",
     "output_type": "stream",
     "text": [
      "Feature importance:  [0.58121865 0.33453078 0.0682771  0.01597347]\n"
     ]
    }
   ],
   "source": [
    "print(\"Feature importance: \", clf.feature_importances_)"
   ]
  },
  {
   "cell_type": "code",
   "execution_count": 58,
   "metadata": {},
   "outputs": [
    {
     "name": "stdout",
     "output_type": "stream",
     "text": [
      "R2 score: 0.4846\n"
     ]
    }
   ],
   "source": [
    "# 預測值與實際值的差距，使用 r2_score ([0,1] 越大越好 )\n",
    "print(\"R2 score: %.4f\"\n",
    "      % r2_score(y_test, pow(y_pred,2)))"
   ]
  },
  {
   "cell_type": "code",
   "execution_count": 59,
   "metadata": {
    "scrolled": true
   },
   "outputs": [
    {
     "name": "stdout",
     "output_type": "stream",
     "text": [
      "Percentage rmse score: inf\n"
     ]
    }
   ],
   "source": [
    "print(\"Percentage rmse score: %.2f\"\n",
    "      % pMSE(y_test,pow(y_pred,2)))"
   ]
  },
  {
   "cell_type": "code",
   "execution_count": 60,
   "metadata": {},
   "outputs": [
    {
     "name": "stdout",
     "output_type": "stream",
     "text": [
      "Root mean squared error: 0.554377\n"
     ]
    }
   ],
   "source": [
    "# 預測值與實際值的差距，使用 RMSE\n",
    "print(\"Root mean squared error: %.6f\"\n",
    "      % math.sqrt(mean_squared_error(y_test,pow(y_pred,2))))"
   ]
  },
  {
   "cell_type": "code",
   "execution_count": 61,
   "metadata": {},
   "outputs": [
    {
     "data": {
      "text/plain": [
       "count    104.000000\n",
       "mean            inf\n",
       "std             NaN\n",
       "min        0.186775\n",
       "10%        0.186775\n",
       "20%        0.717864\n",
       "30%       29.632956\n",
       "40%       29.632956\n",
       "50%       40.734088\n",
       "60%       40.734088\n",
       "70%       58.736838\n",
       "80%       87.508622\n",
       "90%             inf\n",
       "max             inf\n",
       "Name: Predict, dtype: float64"
      ]
     },
     "execution_count": 61,
     "metadata": {},
     "output_type": "execute_result"
    }
   ],
   "source": [
    "p = [0.1, 0.2, 0.3, 0.4, 0.5, 0.6, 0.7, 0.8, 0.9]\n",
    "abs((y_test - pow(y_pred,2))/y_test*100).describe(percentiles = p)"
   ]
  },
  {
   "cell_type": "code",
   "execution_count": null,
   "metadata": {},
   "outputs": [],
   "source": [
    "# X = pd.concat([df[title], con1,con2], axis=1).to_numpy() "
   ]
  }
 ],
 "metadata": {
  "kernelspec": {
   "display_name": "Python 3",
   "language": "python",
   "name": "python3"
  },
  "language_info": {
   "codemirror_mode": {
    "name": "ipython",
    "version": 3
   },
   "file_extension": ".py",
   "mimetype": "text/x-python",
   "name": "python",
   "nbconvert_exporter": "python",
   "pygments_lexer": "ipython3",
   "version": "3.7.4"
  }
 },
 "nbformat": 4,
 "nbformat_minor": 2
}
