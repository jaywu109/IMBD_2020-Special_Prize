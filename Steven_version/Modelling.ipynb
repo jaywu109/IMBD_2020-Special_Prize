{
 "cells": [
  {
   "cell_type": "code",
   "execution_count": 1,
   "metadata": {
    "scrolled": true
   },
   "outputs": [
    {
     "name": "stdout",
     "output_type": "stream",
     "text": [
      "Requirement already satisfied: xgboost in c:\\users\\rubio\\anaconda3\\lib\\site-packages (1.1.1)\n",
      "Requirement already satisfied: scipy in c:\\users\\rubio\\anaconda3\\lib\\site-packages (from xgboost) (1.3.1)\n",
      "Requirement already satisfied: numpy in c:\\users\\rubio\\anaconda3\\lib\\site-packages (from xgboost) (1.16.5)\n"
     ]
    }
   ],
   "source": [
    "!pip install xgboost"
   ]
  },
  {
   "cell_type": "code",
   "execution_count": 2,
   "metadata": {},
   "outputs": [],
   "source": [
    "# model 套件\n",
    "from sklearn.linear_model import LinearRegression, RidgeCV, LassoCV\n",
    "from sklearn.model_selection import train_test_split\n",
    "from sklearn.metrics import r2_score, mean_squared_error"
   ]
  },
  {
   "cell_type": "markdown",
   "metadata": {},
   "source": [
    "# Second Preprocessing"
   ]
  },
  {
   "cell_type": "code",
   "execution_count": 3,
   "metadata": {},
   "outputs": [],
   "source": [
    "from sklearn import preprocessing\n",
    "from sklearn.preprocessing import Normalizer, MinMaxScaler, RobustScaler"
   ]
  },
  {
   "cell_type": "code",
   "execution_count": 4,
   "metadata": {},
   "outputs": [],
   "source": [
    "# 處理 data 套件\n",
    "import numpy as np\n",
    "import pandas as pd"
   ]
  },
  {
   "cell_type": "code",
   "execution_count": 5,
   "metadata": {},
   "outputs": [],
   "source": [
    "# let column can show all\n",
    "pd.set_option('display.max_columns', None)\n",
    "pd.set_option('display.max_rows', None)"
   ]
  },
  {
   "cell_type": "code",
   "execution_count": 6,
   "metadata": {},
   "outputs": [],
   "source": [
    "df = pd.read_csv('Input_C_058.csv')\n",
    "df1 = pd.read_csv('Input_C_057.csv')\n",
    "df2 = pd.read_csv('Input_C_050.csv')"
   ]
  },
  {
   "cell_type": "code",
   "execution_count": 7,
   "metadata": {},
   "outputs": [],
   "source": [
    "title = ['Input_C_054','Input_C_052','Input_C_055','Input_C_135','Input_C_056','Input_C_059',\n",
    "         'Input_C_060']\n",
    "\n",
    "\"\"\"\n",
    "         ,'Input_A4_011','Input_A1_011','Input_A2_011','Input_C_053','Input_A3_011',\n",
    "         'Input_A5_011','Input_A2_012','Input_A6_012','Input_C_051','Input_A1_012','Input_A5_012',\n",
    "         'Input_A3_012','Input_A4_012']\n",
    "\"\"\"\n",
    "\n",
    "X = df[title].to_numpy()\n",
    "\n",
    "y = df['Predict']"
   ]
  },
  {
   "cell_type": "code",
   "execution_count": 8,
   "metadata": {},
   "outputs": [],
   "source": [
    "scaler = RobustScaler()\n",
    "X = scaler.fit_transform(X)"
   ]
  },
  {
   "cell_type": "markdown",
   "metadata": {},
   "source": [
    "# model selecting"
   ]
  },
  {
   "cell_type": "code",
   "execution_count": 9,
   "metadata": {},
   "outputs": [],
   "source": [
    "X_train, X_test, y_train, y_test = train_test_split(X, y, test_size=0.3, random_state=42)"
   ]
  },
  {
   "cell_type": "markdown",
   "metadata": {},
   "source": [
    "# Linear regresssion"
   ]
  },
  {
   "cell_type": "code",
   "execution_count": 10,
   "metadata": {},
   "outputs": [],
   "source": [
    "import math"
   ]
  },
  {
   "cell_type": "code",
   "execution_count": 11,
   "metadata": {},
   "outputs": [],
   "source": [
    "def pMSE(ans,predict):\n",
    "    pmse = math.sqrt(sum(pow((ans - predict)/ans*100,2)/len(ans)))\n",
    "    return pmse"
   ]
  },
  {
   "cell_type": "code",
   "execution_count": 12,
   "metadata": {},
   "outputs": [],
   "source": [
    "def pNumber(ans,predict,num):\n",
    "    return sum(abs((ans-predict)/ans*100) < num)"
   ]
  },
  {
   "cell_type": "code",
   "execution_count": 13,
   "metadata": {},
   "outputs": [],
   "source": [
    "# 建立一個線性回歸模型\n",
    "regr = LinearRegression()\n",
    "\n",
    "# 將訓練資料丟進去模型訓練\n",
    "regr.fit(X_train, y_train)\n",
    "\n",
    "# 將測試資料丟進模型得到預測結果\n",
    "y_pred = regr.predict(X_test)"
   ]
  },
  {
   "cell_type": "code",
   "execution_count": 14,
   "metadata": {},
   "outputs": [
    {
     "name": "stdout",
     "output_type": "stream",
     "text": [
      "Mean squared error: 0.000004\n"
     ]
    }
   ],
   "source": [
    "# 預測值與實際值的差距，使用 MSE\n",
    "print(\"Mean squared error: %.6f\"\n",
    "      % mean_squared_error(y_test, y_pred))"
   ]
  },
  {
   "cell_type": "code",
   "execution_count": 15,
   "metadata": {},
   "outputs": [
    {
     "name": "stdout",
     "output_type": "stream",
     "text": [
      "Root mean squared error: 0.002012\n"
     ]
    }
   ],
   "source": [
    "# 預測值與實際值的差距，使用 RMSE\n",
    "print(\"Root mean squared error: %.6f\"\n",
    "      % math.sqrt(mean_squared_error(y_test, y_pred)))"
   ]
  },
  {
   "cell_type": "code",
   "execution_count": 16,
   "metadata": {
    "scrolled": true
   },
   "outputs": [
    {
     "name": "stdout",
     "output_type": "stream",
     "text": [
      "R2 score: 0.8735\n"
     ]
    }
   ],
   "source": [
    "# 預測值與實際值的差距，使用 r2_score ([0,1] 越大越好 )\n",
    "print(\"R2 score: %.4f\"\n",
    "      % r2_score(y_test, y_pred))"
   ]
  },
  {
   "cell_type": "code",
   "execution_count": 17,
   "metadata": {},
   "outputs": [
    {
     "name": "stdout",
     "output_type": "stream",
     "text": [
      "Linear regression score: 0.8985\n"
     ]
    }
   ],
   "source": [
    "# the score function displays the accuracy of the model which translates to how well the model \n",
    "# can accurately predict for a new datapoint.\n",
    "print(\"Linear regression score: %.4f\"\n",
    "      % regr.score(X_train,y_train))"
   ]
  },
  {
   "cell_type": "code",
   "execution_count": 18,
   "metadata": {},
   "outputs": [
    {
     "name": "stdout",
     "output_type": "stream",
     "text": [
      "Percentage mse score: 28.89\n"
     ]
    }
   ],
   "source": [
    "print(\"Percentage mse score: %.2f\"\n",
    "      % pMSE(y_test, y_pred))"
   ]
  },
  {
   "cell_type": "code",
   "execution_count": 19,
   "metadata": {
    "scrolled": true
   },
   "outputs": [
    {
     "name": "stdout",
     "output_type": "stream",
     "text": [
      "Number lower than error: 22\n"
     ]
    }
   ],
   "source": [
    "print(\"Number lower than error: %d\"\n",
    "      % pNumber(y_test, y_pred, 5))"
   ]
  },
  {
   "cell_type": "code",
   "execution_count": 20,
   "metadata": {
    "scrolled": true
   },
   "outputs": [
    {
     "data": {
      "text/plain": [
       "<matplotlib.axes._subplots.AxesSubplot at 0x23781961a48>"
      ]
     },
     "execution_count": 20,
     "metadata": {},
     "output_type": "execute_result"
    },
    {
     "data": {
      "image/png": "[encoded data removed]",
      "text/plain": [
       "<Figure size 432x288 with 1 Axes>"
      ]
     },
     "metadata": {
      "needs_background": "light"
     },
     "output_type": "display_data"
    }
   ],
   "source": [
    "from matplotlib import pyplot as plt\n",
    "import seaborn as sb\n",
    "%matplotlib inline\n",
    "sb.regplot(y_test, y_pred)"
   ]
  },
  {
   "cell_type": "code",
   "execution_count": 21,
   "metadata": {},
   "outputs": [
    {
     "data": {
      "text/plain": [
       "(1.4806993975391975, 0.0007604763862054008)"
      ]
     },
     "execution_count": 21,
     "metadata": {},
     "output_type": "execute_result"
    }
   ],
   "source": [
    "# p-value: Used to interpret the test, in this case whether the sample was drawn from a Gaussian distribution.\n",
    "# If p-value <= alpha (0.05) : Reject H0 => need Normally distributed\n",
    "# If p-value > alpha (0.05) : Accept H0 \n",
    "from statsmodels.stats.diagnostic import normal_ad\n",
    "normal_ad(y_test - y_pred)"
   ]
  },
  {
   "cell_type": "code",
   "execution_count": 22,
   "metadata": {},
   "outputs": [
    {
     "name": "stdout",
     "output_type": "stream",
     "text": [
      "Linear regression score: 0.9333\n"
     ]
    }
   ],
   "source": [
    "# 對數化(平滑化)，將訓練資料丟進去模型訓練，看是要開根號或是取對數(這邊根號貌似較 better)\n",
    "regr.fit(X_train,np.sqrt(y_train))\n",
    "\n",
    "# 將測試資料丟進模型得到預測結果\n",
    "y_pred = regr.predict(X_test)\n",
    "\n",
    "# the score function displays the accuracy of the model which translates to how well the model \n",
    "# can accurately predict for a new datapoint.\n",
    "print(\"Linear regression score: %.4f\"\n",
    "      % regr.score(X_train,np.sqrt(y_train)))"
   ]
  },
  {
   "cell_type": "code",
   "execution_count": 23,
   "metadata": {
    "scrolled": true
   },
   "outputs": [
    {
     "data": {
      "text/plain": [
       "<matplotlib.axes._subplots.AxesSubplot at 0x23781dd81c8>"
      ]
     },
     "execution_count": 23,
     "metadata": {},
     "output_type": "execute_result"
    },
    {
     "data": {
      "image/png": "[encoded data removed]",
      "text/plain": [
       "<Figure size 432x288 with 1 Axes>"
      ]
     },
     "metadata": {
      "needs_background": "light"
     },
     "output_type": "display_data"
    }
   ],
   "source": [
    "sb.regplot(np.sqrt(y_test), y_pred)"
   ]
  },
  {
   "cell_type": "code",
   "execution_count": 24,
   "metadata": {
    "scrolled": false
   },
   "outputs": [
    {
     "name": "stdout",
     "output_type": "stream",
     "text": [
      "Percentage mse score: 23.29\n"
     ]
    }
   ],
   "source": [
    "print(\"Percentage mse score: %.2f\"\n",
    "      % pMSE(y_test, pow(y_pred,2)))"
   ]
  },
  {
   "cell_type": "code",
   "execution_count": 25,
   "metadata": {},
   "outputs": [
    {
     "name": "stdout",
     "output_type": "stream",
     "text": [
      "Number lower than error: 22\n"
     ]
    }
   ],
   "source": [
    "print(\"Number lower than error: %d\"\n",
    "      % pNumber(y_test, pow(y_pred,2), 5))"
   ]
  },
  {
   "cell_type": "markdown",
   "metadata": {},
   "source": [
    "# XGBoost regression"
   ]
  },
  {
   "cell_type": "code",
   "execution_count": 26,
   "metadata": {},
   "outputs": [],
   "source": [
    "from xgboost.sklearn import XGBRegressor, XGBRFRegressor\n",
    "from sklearn.model_selection import GridSearchCV"
   ]
  },
  {
   "cell_type": "code",
   "execution_count": 27,
   "metadata": {},
   "outputs": [],
   "source": [
    "# XGBoost\n",
    "xgb = XGBRegressor(booster = 'gblinear')\n",
    "\n",
    "xgb.fit(X_train, np.sqrt(y_train))\n",
    "\n",
    "y_pred = xgb.predict(X_test)"
   ]
  },
  {
   "cell_type": "code",
   "execution_count": 28,
   "metadata": {},
   "outputs": [
    {
     "name": "stdout",
     "output_type": "stream",
     "text": [
      "R2 score: 0.8611\n"
     ]
    }
   ],
   "source": [
    "# 預測值與實際值的差距，使用 r2_score ([0,1] 越大越好 )\n",
    "print(\"R2 score: %.4f\"\n",
    "      % r2_score(y_test, pow(y_pred,2)))"
   ]
  },
  {
   "cell_type": "code",
   "execution_count": 29,
   "metadata": {},
   "outputs": [
    {
     "name": "stdout",
     "output_type": "stream",
     "text": [
      "Percentage mse score: 24.09\n"
     ]
    }
   ],
   "source": [
    "print(\"Percentage mse score: %.2f\"\n",
    "      % pMSE(y_test,pow(y_pred,2)))"
   ]
  },
  {
   "cell_type": "code",
   "execution_count": 30,
   "metadata": {
    "scrolled": true
   },
   "outputs": [
    {
     "name": "stdout",
     "output_type": "stream",
     "text": [
      "Number lower than error: 19\n"
     ]
    }
   ],
   "source": [
    "print(\"Number lower than error: %d\"\n",
    "      % pNumber(y_test, pow(y_pred,2), 5))"
   ]
  },
  {
   "cell_type": "code",
   "execution_count": 31,
   "metadata": {
    "scrolled": true
   },
   "outputs": [
    {
     "name": "stdout",
     "output_type": "stream",
     "text": [
      "XGBoost regression score: 0.9326\n"
     ]
    }
   ],
   "source": [
    "# the score function displays the accuracy of the model which translates to how well the model \n",
    "# can accurately predict for a new datapoint.\n",
    "print(\"XGBoost regression score: %.4f\"\n",
    "      % xgb.score(X_train,np.sqrt(y_train)))"
   ]
  },
  {
   "cell_type": "code",
   "execution_count": 32,
   "metadata": {},
   "outputs": [
    {
     "name": "stdout",
     "output_type": "stream",
     "text": [
      "[12:38:33] WARNING: C:\\Users\\Administrator\\workspace\\xgboost-win64_release_1.1.0\\src\\learner.cc:480: \n",
      "Parameters: { colsample_bynode, num_parallel_tree, subsample } might not be used.\n",
      "\n",
      "  This may not be accurate due to some parameters are only used in language bindings but\n",
      "  passed down to XGBoost core.  Or some parameters are not used but slip through this\n",
      "  verification. Please open an issue if you find above cases.\n",
      "\n",
      "\n"
     ]
    }
   ],
   "source": [
    "#  XGBoost Random Forest regressor\n",
    "xgbrf = XGBRFRegressor(booster = 'gblinear')\n",
    "\n",
    "xgbrf.fit(X_train, np.sqrt(y_train))\n",
    "\n",
    "y_pred = xgb.predict(X_test)"
   ]
  },
  {
   "cell_type": "code",
   "execution_count": 33,
   "metadata": {},
   "outputs": [
    {
     "name": "stdout",
     "output_type": "stream",
     "text": [
      "R2 score: 0.8611\n"
     ]
    }
   ],
   "source": [
    "# 預測值與實際值的差距，使用 r2_score ([0,1] 越大越好 )\n",
    "print(\"R2 score: %.4f\"\n",
    "      % r2_score(y_test, pow(y_pred,2)))"
   ]
  },
  {
   "cell_type": "code",
   "execution_count": 34,
   "metadata": {
    "scrolled": true
   },
   "outputs": [
    {
     "name": "stdout",
     "output_type": "stream",
     "text": [
      "Percentage mse score: 24.09\n"
     ]
    }
   ],
   "source": [
    "print(\"Percentage mse score: %.2f\"\n",
    "      % pMSE(y_test,pow(y_pred,2)))"
   ]
  },
  {
   "cell_type": "code",
   "execution_count": 35,
   "metadata": {},
   "outputs": [
    {
     "name": "stdout",
     "output_type": "stream",
     "text": [
      "Number lower than error: 19\n"
     ]
    }
   ],
   "source": [
    "print(\"Number lower than error: %d\"\n",
    "      % pNumber(y_test, pow(y_pred,2), 5))"
   ]
  },
  {
   "cell_type": "markdown",
   "metadata": {},
   "source": [
    "# RidgeCV"
   ]
  },
  {
   "cell_type": "code",
   "execution_count": 36,
   "metadata": {},
   "outputs": [
    {
     "name": "stdout",
     "output_type": "stream",
     "text": [
      "first best alpha 1.0\n",
      "second best alpha 1.0\n",
      "final best alpha 1.2\n"
     ]
    }
   ],
   "source": [
    "ridge = RidgeCV(alphas = [0.01, 0.1, 1, 10, 20, 30, 40], scoring=\"neg_mean_squared_error\")\n",
    "ridge.fit(X_train, np.sqrt(y_train))\n",
    "alpha = ridge.alpha_\n",
    "print(\"first best alpha\", alpha)\n",
    "ridge = RidgeCV(alphas = [0.4, 0.8, 1, 4])\n",
    "ridge.fit(X_train, np.sqrt(y_train))\n",
    "alpha = ridge.alpha_\n",
    "print(\"second best alpha\", alpha)\n",
    "ridge = RidgeCV(alphas = [i/10 for i in range(1, 20)])\n",
    "ridge.fit(X_train, np.sqrt(y_train))\n",
    "alpha = ridge.alpha_\n",
    "print(\"final best alpha\", alpha)"
   ]
  },
  {
   "cell_type": "code",
   "execution_count": 37,
   "metadata": {},
   "outputs": [],
   "source": [
    "y_pred = ridge.predict(X_test)"
   ]
  },
  {
   "cell_type": "code",
   "execution_count": 38,
   "metadata": {},
   "outputs": [
    {
     "name": "stdout",
     "output_type": "stream",
     "text": [
      "R2 score: 0.8681\n"
     ]
    }
   ],
   "source": [
    "# 預測值與實際值的差距，使用 r2_score ([0,1] 越大越好 )\n",
    "print(\"R2 score: %.4f\"\n",
    "      % r2_score(y_test, pow(y_pred,2)))"
   ]
  },
  {
   "cell_type": "code",
   "execution_count": 39,
   "metadata": {},
   "outputs": [
    {
     "name": "stdout",
     "output_type": "stream",
     "text": [
      "Percentage mse score: 23.03\n"
     ]
    }
   ],
   "source": [
    "print(\"Percentage mse score: %.2f\"\n",
    "      % pMSE(y_test,pow(y_pred,2)))"
   ]
  },
  {
   "cell_type": "code",
   "execution_count": 40,
   "metadata": {
    "scrolled": true
   },
   "outputs": [
    {
     "name": "stdout",
     "output_type": "stream",
     "text": [
      "Number lower than error: 22\n"
     ]
    }
   ],
   "source": [
    "print(\"Number lower than error: %d\"\n",
    "      % pNumber(y_test, pow(y_pred,2), 5))"
   ]
  },
  {
   "cell_type": "markdown",
   "metadata": {},
   "source": [
    "# LassoCV"
   ]
  },
  {
   "cell_type": "code",
   "execution_count": 41,
   "metadata": {},
   "outputs": [
    {
     "name": "stdout",
     "output_type": "stream",
     "text": [
      "first best alpha: 1e-05\n",
      "second best alpha: 4e-05\n",
      "final best alpha: 0.00011\n"
     ]
    },
    {
     "name": "stderr",
     "output_type": "stream",
     "text": [
      "C:\\Users\\Rubio\\Anaconda3\\lib\\site-packages\\sklearn\\model_selection\\_split.py:1978: FutureWarning: The default value of cv will change from 3 to 5 in version 0.22. Specify it explicitly to silence this warning.\n",
      "  warnings.warn(CV_WARNING, FutureWarning)\n",
      "C:\\Users\\Rubio\\Anaconda3\\lib\\site-packages\\sklearn\\model_selection\\_split.py:1978: FutureWarning: The default value of cv will change from 3 to 5 in version 0.22. Specify it explicitly to silence this warning.\n",
      "  warnings.warn(CV_WARNING, FutureWarning)\n",
      "C:\\Users\\Rubio\\Anaconda3\\lib\\site-packages\\sklearn\\model_selection\\_split.py:1978: FutureWarning: The default value of cv will change from 3 to 5 in version 0.22. Specify it explicitly to silence this warning.\n",
      "  warnings.warn(CV_WARNING, FutureWarning)\n"
     ]
    }
   ],
   "source": [
    "lasso = LassoCV(alphas=[0.00001, 0.0001, 0.001, 0.01, 0.1, 1, 10, 20, 30], normalize=True)\n",
    "lasso.fit(X_train, np.sqrt(y_train))\n",
    "alpha = lasso.alpha_\n",
    "print(\"first best alpha:\", alpha)\n",
    "lasso = LassoCV(alphas=[0.00004, 0.00008, 0.0001, 0.0003, 0.0006], normalize=True)\n",
    "lasso.fit(X_train, np.sqrt(y_train))\n",
    "alpha = lasso.alpha_\n",
    "print(\"second best alpha:\", alpha)\n",
    "lasso = LassoCV(alphas=[0.0001 + i/100000 for i in range(1, 20)], normalize=True)\n",
    "lasso.fit(X_train, np.sqrt(y_train))\n",
    "alpha = lasso.alpha_\n",
    "print(\"final best alpha:\", alpha)"
   ]
  },
  {
   "cell_type": "code",
   "execution_count": 42,
   "metadata": {},
   "outputs": [],
   "source": [
    "y_pred = lasso.predict(X_test)"
   ]
  },
  {
   "cell_type": "code",
   "execution_count": 43,
   "metadata": {},
   "outputs": [
    {
     "name": "stdout",
     "output_type": "stream",
     "text": [
      "R2 score: 0.8718\n"
     ]
    }
   ],
   "source": [
    "# 預測值與實際值的差距，使用 r2_score ([0,1] 越大越好 )\n",
    "print(\"R2 score: %.4f\"\n",
    "      % r2_score(y_test, pow(y_pred,2)))"
   ]
  },
  {
   "cell_type": "code",
   "execution_count": 44,
   "metadata": {
    "scrolled": true
   },
   "outputs": [
    {
     "name": "stdout",
     "output_type": "stream",
     "text": [
      "Percentage mse score: 25.65\n"
     ]
    }
   ],
   "source": [
    "print(\"Percentage mse score: %.2f\"\n",
    "      % pMSE(y_test,pow(y_pred,2)))"
   ]
  },
  {
   "cell_type": "code",
   "execution_count": 45,
   "metadata": {},
   "outputs": [
    {
     "name": "stdout",
     "output_type": "stream",
     "text": [
      "Number lower than error: 27\n"
     ]
    }
   ],
   "source": [
    "print(\"Number lower than error: %d\"\n",
    "      % pNumber(y_test, pow(y_pred,2), 5))"
   ]
  },
  {
   "cell_type": "code",
   "execution_count": 46,
   "metadata": {},
   "outputs": [],
   "source": [
    "# X = pd.concat([df[title], con1,con2], axis=1).to_numpy() "
   ]
  }
 ],
 "metadata": {
  "kernelspec": {
   "display_name": "Python 3",
   "language": "python",
   "name": "python3"
  },
  "language_info": {
   "codemirror_mode": {
    "name": "ipython",
    "version": 3
   },
   "file_extension": ".py",
   "mimetype": "text/x-python",
   "name": "python",
   "nbconvert_exporter": "python",
   "pygments_lexer": "ipython3",
   "version": "3.7.4"
  }
 },
 "nbformat": 4,
 "nbformat_minor": 2
}
