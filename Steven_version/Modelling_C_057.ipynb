{
 "cells": [
  {
   "cell_type": "code",
   "execution_count": 1,
   "metadata": {},
   "outputs": [],
   "source": [
    "# model 套件\n",
    "from sklearn.linear_model import LinearRegression, LassoCV\n",
    "from sklearn.model_selection import train_test_split\n",
    "from sklearn.metrics import r2_score, mean_squared_error\n",
    "from sklearn.preprocessing import PowerTransformer\n",
    "import math\n",
    "import warnings\n",
    "warnings.filterwarnings('ignore')\n"
   ]
  },
  {
   "cell_type": "markdown",
   "metadata": {},
   "source": [
    "# Second Preprocessing"
   ]
  },
  {
   "cell_type": "code",
   "execution_count": 2,
   "metadata": {},
   "outputs": [],
   "source": [
    "from sklearn import preprocessing\n",
    "from sklearn.preprocessing import MinMaxScaler, RobustScaler, StandardScaler"
   ]
  },
  {
   "cell_type": "code",
   "execution_count": 3,
   "metadata": {},
   "outputs": [],
   "source": [
    "# 處理 data 套件\n",
    "import numpy as np\n",
    "import pandas as pd"
   ]
  },
  {
   "cell_type": "code",
   "execution_count": 4,
   "metadata": {},
   "outputs": [],
   "source": [
    "# let column can show all\n",
    "pd.set_option('display.max_columns', None)\n",
    "pd.set_option('display.max_rows', None)"
   ]
  },
  {
   "cell_type": "code",
   "execution_count": 5,
   "metadata": {},
   "outputs": [],
   "source": [
    "df = pd.read_csv('Data/BayesianRidge_Pre_3/Input_C_057.csv')\n",
    "# df1 = pd.read_csv('Input_C_057.csv')\n",
    "# df2 = pd.read_csv('Input_C_050.csv')"
   ]
  },
  {
   "cell_type": "code",
   "execution_count": 6,
   "metadata": {},
   "outputs": [],
   "source": [
    "title = ['Input_C_055','Input_C_135','Input_C_056','Input_C_052','Input_C_054','Input_C_059','Input_C_053']\n",
    "\n",
    "# title = ['Input_C_055','Input_C_135','Input_C_056','Input_C_052',\n",
    "#         'Input_C_054','Input_C_059','Input_C_053']"
   ]
  },
  {
   "cell_type": "code",
   "execution_count": 7,
   "metadata": {},
   "outputs": [
    {
     "name": "stdout",
     "output_type": "stream",
     "text": [
      "Input_C_135\n",
      "Input_C_056\n"
     ]
    }
   ],
   "source": [
    "# 直接執行轉換拉到最下面會發現 Wraninig\n",
    "for col in title: # Predict 不做轉換\n",
    "    if abs(df[col].skew()) >= 0.7: # 取偏態絕對值大於 0.5的項\n",
    "        print(col)\n",
    "        pt = PowerTransformer() # PowerTransformer 預設為 Yeo-Johson 轉換可轉正負數，不同於另一種 Box-Cox 只能用於正數\n",
    "        d = pt.fit_transform(df[col].values.reshape(-1, 1)).flatten()\n",
    "        df[col]=d"
   ]
  },
  {
   "cell_type": "code",
   "execution_count": 8,
   "metadata": {},
   "outputs": [],
   "source": [
    "X = df[title]\n",
    "scaler = RobustScaler()\n",
    "df[title] = scaler.fit_transform(X)\n",
    "y = df['Predict']"
   ]
  },
  {
   "cell_type": "code",
   "execution_count": 9,
   "metadata": {},
   "outputs": [],
   "source": [
    "def pMSE(ans,predict):\n",
    "    pmse = math.sqrt(sum(pow((ans - predict)/ans*100,2)/len(ans)))\n",
    "    return pmse"
   ]
  },
  {
   "cell_type": "code",
   "execution_count": 10,
   "metadata": {},
   "outputs": [],
   "source": [
    "def pNumber(ans,predict,num):\n",
    "    return sum(abs((ans-predict)/ans*100) < num)"
   ]
  },
  {
   "cell_type": "markdown",
   "metadata": {},
   "source": [
    "# Split data"
   ]
  },
  {
   "cell_type": "code",
   "execution_count": 11,
   "metadata": {},
   "outputs": [],
   "source": [
    "X_train, X_test, y_train, y_test = train_test_split(X, y, test_size=0.3, random_state=42)"
   ]
  },
  {
   "cell_type": "markdown",
   "metadata": {},
   "source": [
    "# LassoCV"
   ]
  },
  {
   "cell_type": "code",
   "execution_count": 12,
   "metadata": {},
   "outputs": [
    {
     "name": "stdout",
     "output_type": "stream",
     "text": [
      "first best alpha: 1e-05\n",
      "second best alpha: 4e-05\n",
      "final best alpha: 0.00014000000000000001\n"
     ]
    }
   ],
   "source": [
    "lasso = LassoCV(alphas=[0.00001, 0.0001, 0.001, 0.01, 0.1, 1, 10, 20, 30],random_state = 42)\n",
    "lasso.fit(X_train, np.sqrt(y_train))\n",
    "alpha = lasso.alpha_\n",
    "print(\"first best alpha:\", alpha)\n",
    "lasso = LassoCV(alphas=[0.00004, 0.00008, 0.0001, 0.0003, 0.0006],random_state = 42)\n",
    "lasso.fit(X_train, np.sqrt(y_train))\n",
    "alpha = lasso.alpha_\n",
    "print(\"second best alpha:\", alpha)\n",
    "lasso = LassoCV(alphas=[0.0001 + i/100000 for i in range(1, 20)], random_state = 42)\n",
    "lasso.fit(X_train, np.sqrt(y_train))\n",
    "alpha = lasso.alpha_\n",
    "print(\"final best alpha:\", alpha)"
   ]
  },
  {
   "cell_type": "code",
   "execution_count": 13,
   "metadata": {},
   "outputs": [],
   "source": [
    "y_pred = lasso.predict(X_test)"
   ]
  },
  {
   "cell_type": "code",
   "execution_count": 14,
   "metadata": {},
   "outputs": [
    {
     "name": "stdout",
     "output_type": "stream",
     "text": [
      "R2 score: 0.5215\n"
     ]
    }
   ],
   "source": [
    "# 預測值與實際值的差距，使用 r2_score ([0,1] 越大越好 )\n",
    "print(\"R2 score: %.4f\"\n",
    "      % r2_score(y_test, pow(y_pred,2)))"
   ]
  },
  {
   "cell_type": "code",
   "execution_count": 15,
   "metadata": {
    "scrolled": true
   },
   "outputs": [
    {
     "name": "stdout",
     "output_type": "stream",
     "text": [
      "Percentage mse score: 50.15\n"
     ]
    }
   ],
   "source": [
    "print(\"Percentage mse score: %.2f\"\n",
    "      % pMSE(y_test,pow(y_pred,2)))"
   ]
  },
  {
   "cell_type": "code",
   "execution_count": 16,
   "metadata": {},
   "outputs": [
    {
     "name": "stdout",
     "output_type": "stream",
     "text": [
      "Number lower than error: 29\n"
     ]
    }
   ],
   "source": [
    "print(\"Number lower than error: %d\"\n",
    "      % pNumber(y_test, pow(y_pred,2), 15))"
   ]
  },
  {
   "cell_type": "code",
   "execution_count": 17,
   "metadata": {
    "scrolled": true
   },
   "outputs": [
    {
     "name": "stdout",
     "output_type": "stream",
     "text": [
      "Root mean squared error: 0.005367\n"
     ]
    }
   ],
   "source": [
    "# 預測值與實際值的差距，使用 RMSE\n",
    "print(\"Root mean squared error: %.6f\"\n",
    "      % math.sqrt(mean_squared_error(y_test, pow(y_pred,2))))"
   ]
  },
  {
   "cell_type": "code",
   "execution_count": 18,
   "metadata": {},
   "outputs": [
    {
     "data": {
      "text/plain": [
       "count    103.000000\n",
       "mean      36.715159\n",
       "std       34.328302\n",
       "min        0.289180\n",
       "10%        5.809392\n",
       "20%       11.264350\n",
       "30%       15.689932\n",
       "40%       24.144411\n",
       "50%       31.402762\n",
       "60%       37.584981\n",
       "70%       41.813398\n",
       "80%       46.654610\n",
       "90%       68.398783\n",
       "max      191.246628\n",
       "Name: Predict, dtype: float64"
      ]
     },
     "execution_count": 18,
     "metadata": {},
     "output_type": "execute_result"
    }
   ],
   "source": [
    "p = [0.1, 0.2, 0.3, 0.4, 0.5, 0.6, 0.7, 0.8, 0.9]\n",
    "abs((y_test - pow(y_pred,2))/y_test*100).describe(percentiles = p)"
   ]
  },
  {
   "cell_type": "code",
   "execution_count": 19,
   "metadata": {
    "scrolled": true
   },
   "outputs": [
    {
     "data": {
      "text/plain": [
       "array([ 0.        ,  0.02793327,  0.01173078,  0.        ,  0.        ,\n",
       "       -0.        ,  0.        ])"
      ]
     },
     "execution_count": 19,
     "metadata": {},
     "output_type": "execute_result"
    }
   ],
   "source": [
    "lasso.coef_"
   ]
  },
  {
   "cell_type": "markdown",
   "metadata": {},
   "source": [
    "# Linear regresssion"
   ]
  },
  {
   "cell_type": "code",
   "execution_count": 19,
   "metadata": {},
   "outputs": [],
   "source": [
    "# 建立一個線性回歸模型\n",
    "regr = LinearRegression()\n",
    "\n",
    "# 將訓練資料丟進去模型訓練\n",
    "regr.fit(X_train, np.sqrt(y_train))\n",
    "\n",
    "# 將測試資料丟進模型得到預測結果\n",
    "y_pred = regr.predict(X_test)"
   ]
  },
  {
   "cell_type": "code",
   "execution_count": 20,
   "metadata": {
    "scrolled": true
   },
   "outputs": [
    {
     "name": "stdout",
     "output_type": "stream",
     "text": [
      "Mean squared error: 0.000020\n"
     ]
    }
   ],
   "source": [
    "# 預測值與實際值的差距，使用 MSE\n",
    "print(\"Mean squared error: %.6f\"\n",
    "      % mean_squared_error(y_test, pow(y_pred,2)))"
   ]
  },
  {
   "cell_type": "code",
   "execution_count": 21,
   "metadata": {},
   "outputs": [
    {
     "name": "stdout",
     "output_type": "stream",
     "text": [
      "Root mean squared error: 0.004450\n"
     ]
    }
   ],
   "source": [
    "# 預測值與實際值的差距，使用 RMSE\n",
    "print(\"Root mean squared error: %.6f\"\n",
    "      % math.sqrt(mean_squared_error(y_test, pow(y_pred,2))))"
   ]
  },
  {
   "cell_type": "code",
   "execution_count": 22,
   "metadata": {
    "scrolled": true
   },
   "outputs": [
    {
     "name": "stdout",
     "output_type": "stream",
     "text": [
      "R2 score: 0.6710\n"
     ]
    }
   ],
   "source": [
    "# 預測值與實際值的差距，使用 r2_score ([0,1] 越大越好 )\n",
    "print(\"R2 score: %.4f\"\n",
    "      % r2_score(y_test,pow(y_pred,2)))"
   ]
  },
  {
   "cell_type": "code",
   "execution_count": 23,
   "metadata": {},
   "outputs": [
    {
     "name": "stdout",
     "output_type": "stream",
     "text": [
      "Linear regression score: 0.8540\n"
     ]
    }
   ],
   "source": [
    "# the score function displays the accuracy of the model which translates to how well the model \n",
    "# can accurately predict for a new datapoint.\n",
    "print(\"Linear regression score: %.4f\"\n",
    "      % regr.score(X_train,np.sqrt(y_train)))"
   ]
  },
  {
   "cell_type": "code",
   "execution_count": 24,
   "metadata": {},
   "outputs": [
    {
     "name": "stdout",
     "output_type": "stream",
     "text": [
      "Percentage mse score: 46.49\n"
     ]
    }
   ],
   "source": [
    "print(\"Percentage mse score: %.2f\"\n",
    "      % pMSE(y_test, pow(y_pred,2)))"
   ]
  },
  {
   "cell_type": "code",
   "execution_count": 25,
   "metadata": {
    "scrolled": true
   },
   "outputs": [
    {
     "name": "stdout",
     "output_type": "stream",
     "text": [
      "Number lower than error: 26\n"
     ]
    }
   ],
   "source": [
    "# y_test : len 103\n",
    "print(\"Number lower than error: %d\"   \n",
    "      % pNumber(y_test, pow(y_pred,2), 15))"
   ]
  },
  {
   "cell_type": "code",
   "execution_count": 26,
   "metadata": {},
   "outputs": [
    {
     "data": {
      "text/plain": [
       "count    103.000000\n",
       "mean      33.564968\n",
       "std       32.327068\n",
       "min        0.139240\n",
       "10%        6.206295\n",
       "20%       13.540811\n",
       "30%       16.495904\n",
       "40%       20.999648\n",
       "50%       26.657785\n",
       "60%       32.094238\n",
       "70%       38.481643\n",
       "80%       43.706999\n",
       "90%       54.651789\n",
       "max      212.995872\n",
       "Name: Predict, dtype: float64"
      ]
     },
     "execution_count": 26,
     "metadata": {},
     "output_type": "execute_result"
    }
   ],
   "source": [
    "p = [0.1, 0.2, 0.3, 0.4, 0.5, 0.6, 0.7, 0.8, 0.9]\n",
    "abs((y_test - pow(y_pred,2))/y_test*100).describe(percentiles = p)"
   ]
  },
  {
   "cell_type": "code",
   "execution_count": 27,
   "metadata": {
    "scrolled": true
   },
   "outputs": [
    {
     "data": {
      "text/plain": [
       "<matplotlib.axes._subplots.AxesSubplot at 0x27e05120e88>"
      ]
     },
     "execution_count": 27,
     "metadata": {},
     "output_type": "execute_result"
    },
    {
     "data": {
      "image/png": "[encoded data removed]",
      "text/plain": [
       "<Figure size 432x288 with 1 Axes>"
      ]
     },
     "metadata": {
      "needs_background": "light"
     },
     "output_type": "display_data"
    }
   ],
   "source": [
    "from matplotlib import pyplot as plt\n",
    "import seaborn as sb\n",
    "%matplotlib inline\n",
    "sb.regplot(y_test, pow(y_pred,2))"
   ]
  },
  {
   "cell_type": "code",
   "execution_count": 28,
   "metadata": {},
   "outputs": [
    {
     "data": {
      "text/plain": [
       "(0.6295949107318819, 0.0982629339186437)"
      ]
     },
     "execution_count": 28,
     "metadata": {},
     "output_type": "execute_result"
    }
   ],
   "source": [
    "# p-value: Used to interpret the test, in this case whether the sample was drawn from a Gaussian distribution.\n",
    "# If p-value <= alpha (0.05) : Reject H0 => need Normally distributed\n",
    "# If p-value > alpha (0.05) : Accept H0 \n",
    "from statsmodels.stats.diagnostic import normal_ad\n",
    "normal_ad(y_test - pow(y_pred,2))"
   ]
  },
  {
   "cell_type": "markdown",
   "metadata": {},
   "source": [
    "# XGBoost regression"
   ]
  },
  {
   "cell_type": "code",
   "execution_count": 29,
   "metadata": {},
   "outputs": [],
   "source": [
    "from xgboost.sklearn import XGBRegressor\n",
    "from sklearn.model_selection import GridSearchCV\n",
    "from sklearn.model_selection import cross_val_score,KFold\n",
    "from scipy.stats import skew\n"
   ]
  },
  {
   "cell_type": "markdown",
   "metadata": {},
   "source": [
    "# 先調 booster / n_estimators"
   ]
  },
  {
   "cell_type": "code",
   "execution_count": 30,
   "metadata": {
    "scrolled": true
   },
   "outputs": [
    {
     "name": "stdout",
     "output_type": "stream",
     "text": [
      "Fitting 3 folds for each of 60 candidates, totalling 180 fits\n"
     ]
    },
    {
     "name": "stderr",
     "output_type": "stream",
     "text": [
      "[Parallel(n_jobs=6)]: Using backend LokyBackend with 6 concurrent workers.\n",
      "[Parallel(n_jobs=6)]: Done   1 tasks      | elapsed:    3.3s\n",
      "[Parallel(n_jobs=6)]: Done   6 tasks      | elapsed:    3.3s\n",
      "[Parallel(n_jobs=6)]: Done  13 tasks      | elapsed:    3.4s\n",
      "[Parallel(n_jobs=6)]: Done  20 tasks      | elapsed:    3.4s\n",
      "[Parallel(n_jobs=6)]: Batch computation too fast (0.1794s.) Setting batch_size=2.\n",
      "[Parallel(n_jobs=6)]: Done  29 tasks      | elapsed:    3.5s\n",
      "[Parallel(n_jobs=6)]: Done  38 tasks      | elapsed:    3.5s\n",
      "[Parallel(n_jobs=6)]: Batch computation too fast (0.1306s.) Setting batch_size=6.\n",
      "[Parallel(n_jobs=6)]: Batch computation too fast (0.1245s.) Setting batch_size=18.\n",
      "[Parallel(n_jobs=6)]: Done  64 tasks      | elapsed:    3.8s\n"
     ]
    },
    {
     "name": "stdout",
     "output_type": "stream",
     "text": [
      "best params\n",
      "{'booster': 'dart', 'n_estimators': 50}\n",
      "best score\n",
      "0.8163489635857947\n"
     ]
    },
    {
     "name": "stderr",
     "output_type": "stream",
     "text": [
      "[Parallel(n_jobs=6)]: Done 180 out of 180 | elapsed:    6.0s finished\n"
     ]
    }
   ],
   "source": [
    "#for tuning parameters\n",
    "parameters_for_testing = {\n",
    "    'booster':['gbtree','gblinear','dart'],\n",
    "    'n_estimators':range(10,201,10),\n",
    "}\n",
    "\n",
    "other_params = {'learning_rate': 0.1, 'n_estimators': 90, 'max_depth': 5, 'min_child_weight': 1, 'seed': 42,\n",
    "'subsample': 0.8, 'colsample_bytree': 0.8, 'gamma': 0, 'reg_alpha': 0, 'reg_lambda': 1}\n",
    "\n",
    "xgb_model = XGBRegressor(**other_params)\n",
    "gsearch = GridSearchCV(estimator = xgb_model, param_grid = parameters_for_testing, n_jobs=6,iid=False, verbose=10,scoring='r2')\n",
    "\n",
    "gsearch.fit(X_train,np.sqrt(y_train))\n",
    "\n",
    "#print (gsearch1.cv_results_)\n",
    "print('best params')\n",
    "print (gsearch.best_params_)\n",
    "print('best score')\n",
    "print (gsearch.best_score_)"
   ]
  },
  {
   "cell_type": "markdown",
   "metadata": {},
   "source": [
    "# 調 max_depth / min_child_weight"
   ]
  },
  {
   "cell_type": "code",
   "execution_count": 31,
   "metadata": {
    "scrolled": false
   },
   "outputs": [
    {
     "name": "stdout",
     "output_type": "stream",
     "text": [
      "Fitting 3 folds for each of 60 candidates, totalling 180 fits\n"
     ]
    },
    {
     "name": "stderr",
     "output_type": "stream",
     "text": [
      "[Parallel(n_jobs=6)]: Using backend LokyBackend with 6 concurrent workers.\n",
      "[Parallel(n_jobs=6)]: Done   1 tasks      | elapsed:    0.0s\n",
      "[Parallel(n_jobs=6)]: Batch computation too fast (0.0259s.) Setting batch_size=14.\n",
      "[Parallel(n_jobs=6)]: Done   6 tasks      | elapsed:    0.0s\n",
      "[Parallel(n_jobs=6)]: Done  26 tasks      | elapsed:    0.2s\n"
     ]
    },
    {
     "name": "stdout",
     "output_type": "stream",
     "text": [
      "best params\n",
      "{'max_depth': 7, 'min_child_weight': 6}\n",
      "best score\n",
      "0.8256780897985557\n"
     ]
    },
    {
     "name": "stderr",
     "output_type": "stream",
     "text": [
      "[Parallel(n_jobs=6)]: Done 180 out of 180 | elapsed:    0.6s finished\n"
     ]
    }
   ],
   "source": [
    "#for tuning parameters\n",
    "parameters_for_testing = {\n",
    "    'max_depth': [1,2,3, 4, 5, 6, 7, 8, 9, 10], \n",
    "    'min_child_weight': [1, 2, 3, 4, 5, 6]\n",
    "}\n",
    "\n",
    "other_params = {'booster':'dart','learning_rate': 0.1, 'n_estimators': 50, 'seed': 42,\n",
    "'subsample': 0.8, 'colsample_bytree': 0.8, 'gamma': 0, 'reg_alpha': 0, 'reg_lambda': 1}\n",
    "\n",
    "xgb_model = XGBRegressor(**other_params)\n",
    "gsearch = GridSearchCV(estimator = xgb_model, param_grid = parameters_for_testing, n_jobs=6,iid=False, verbose=10,scoring='r2')\n",
    "\n",
    "gsearch.fit(X_train,np.sqrt(y_train))\n",
    "\n",
    "#print (gsearch1.cv_results_)\n",
    "print('best params')\n",
    "print (gsearch.best_params_)\n",
    "print('best score')\n",
    "print (gsearch.best_score_)"
   ]
  },
  {
   "cell_type": "markdown",
   "metadata": {},
   "source": [
    "# 調 gamma"
   ]
  },
  {
   "cell_type": "code",
   "execution_count": 32,
   "metadata": {
    "scrolled": false
   },
   "outputs": [
    {
     "name": "stdout",
     "output_type": "stream",
     "text": [
      "Fitting 3 folds for each of 7 candidates, totalling 21 fits\n",
      "best params\n",
      "{'gamma': 0}\n",
      "best score\n",
      "0.8256780897985557\n"
     ]
    },
    {
     "name": "stderr",
     "output_type": "stream",
     "text": [
      "[Parallel(n_jobs=6)]: Using backend LokyBackend with 6 concurrent workers.\n",
      "[Parallel(n_jobs=6)]: Done   1 tasks      | elapsed:    0.0s\n",
      "[Parallel(n_jobs=6)]: Batch computation too fast (0.0349s.) Setting batch_size=10.\n",
      "[Parallel(n_jobs=6)]: Done   4 out of  21 | elapsed:    0.0s remaining:    0.1s\n",
      "[Parallel(n_jobs=6)]: Done   7 out of  21 | elapsed:    0.0s remaining:    0.0s\n",
      "[Parallel(n_jobs=6)]: Done  10 out of  21 | elapsed:    0.0s remaining:    0.0s\n",
      "[Parallel(n_jobs=6)]: Done  21 out of  21 | elapsed:    0.1s finished\n"
     ]
    }
   ],
   "source": [
    "#for tuning parameters\n",
    "parameters_for_testing = {\n",
    "    'gamma': [0,0.1, 0.2, 0.3, 0.4, 0.5, 0.6]\n",
    "}\n",
    "\n",
    "other_params = {'booster':'dart','learning_rate': 0.1, 'n_estimators': 50, 'max_depth': 7, 'min_child_weight': 6, 'seed': 42,\n",
    "'subsample': 0.8, 'colsample_bytree': 0.8, 'reg_alpha': 0, 'reg_lambda': 1}\n",
    "\n",
    "xgb_model = XGBRegressor(**other_params)\n",
    "gsearch = GridSearchCV(estimator = xgb_model, param_grid = parameters_for_testing, n_jobs=6,iid=False, verbose=10,scoring='r2')\n",
    "\n",
    "gsearch.fit(X_train,np.sqrt(y_train))\n",
    "\n",
    "#print (gsearch1.cv_results_)\n",
    "print('best params')\n",
    "print (gsearch.best_params_)\n",
    "print('best score')\n",
    "print (gsearch.best_score_)"
   ]
  },
  {
   "cell_type": "markdown",
   "metadata": {},
   "source": [
    "# 調 subsample / colsample_bytree"
   ]
  },
  {
   "cell_type": "code",
   "execution_count": 33,
   "metadata": {
    "scrolled": false
   },
   "outputs": [
    {
     "name": "stdout",
     "output_type": "stream",
     "text": [
      "Fitting 3 folds for each of 64 candidates, totalling 192 fits\n"
     ]
    },
    {
     "name": "stderr",
     "output_type": "stream",
     "text": [
      "[Parallel(n_jobs=6)]: Using backend LokyBackend with 6 concurrent workers.\n",
      "[Parallel(n_jobs=6)]: Done   1 tasks      | elapsed:    0.0s\n",
      "[Parallel(n_jobs=6)]: Batch computation too fast (0.0279s.) Setting batch_size=14.\n",
      "[Parallel(n_jobs=6)]: Done   6 tasks      | elapsed:    0.0s\n",
      "[Parallel(n_jobs=6)]: Done  26 tasks      | elapsed:    0.2s\n"
     ]
    },
    {
     "name": "stdout",
     "output_type": "stream",
     "text": [
      "best params\n",
      "{'colsample_bytree': 0.8, 'subsample': 0.8}\n",
      "best score\n",
      "0.8256780897985557\n"
     ]
    },
    {
     "name": "stderr",
     "output_type": "stream",
     "text": [
      "[Parallel(n_jobs=6)]: Done 192 out of 192 | elapsed:    0.6s finished\n"
     ]
    }
   ],
   "source": [
    "#for tuning parameters\n",
    "parameters_for_testing = {\n",
    "    'subsample': [0.2, 0.3, 0.4, 0.5, 0.6, 0.7, 0.8, 0.9], 'colsample_bytree': [0.2, 0.3, 0.4, 0.5, 0.6, 0.7, 0.8, 0.9]\n",
    "}\n",
    "\n",
    "other_params = {'booster':'dart','learning_rate': 0.1, 'n_estimators': 50, 'max_depth': 7, 'min_child_weight': 6, 'seed': 42,\n",
    " 'reg_alpha': 0, 'reg_lambda': 1, 'gamma':0}\n",
    "\n",
    "xgb_model = XGBRegressor(**other_params)\n",
    "gsearch = GridSearchCV(estimator = xgb_model, param_grid = parameters_for_testing, n_jobs=6,iid=False, verbose=10,scoring='r2')\n",
    "\n",
    "gsearch.fit(X_train,np.sqrt(y_train))\n",
    "\n",
    "#print (gsearch1.cv_results_)\n",
    "print('best params')\n",
    "print (gsearch.best_params_)\n",
    "print('best score')\n",
    "print (gsearch.best_score_)"
   ]
  },
  {
   "cell_type": "markdown",
   "metadata": {},
   "source": [
    "# reg_alpha / reg_lambda"
   ]
  },
  {
   "cell_type": "code",
   "execution_count": 34,
   "metadata": {
    "scrolled": false
   },
   "outputs": [
    {
     "name": "stdout",
     "output_type": "stream",
     "text": [
      "Fitting 3 folds for each of 42 candidates, totalling 126 fits\n"
     ]
    },
    {
     "name": "stderr",
     "output_type": "stream",
     "text": [
      "[Parallel(n_jobs=6)]: Using backend LokyBackend with 6 concurrent workers.\n",
      "[Parallel(n_jobs=6)]: Done   1 tasks      | elapsed:    0.0s\n",
      "[Parallel(n_jobs=6)]: Batch computation too fast (0.0379s.) Setting batch_size=10.\n",
      "[Parallel(n_jobs=6)]: Done   6 tasks      | elapsed:    0.0s\n"
     ]
    },
    {
     "name": "stdout",
     "output_type": "stream",
     "text": [
      "best params\n",
      "{'reg_alpha': 0, 'reg_lambda': 1}\n",
      "best score\n",
      "0.8256780897985557\n"
     ]
    },
    {
     "name": "stderr",
     "output_type": "stream",
     "text": [
      "[Parallel(n_jobs=6)]: Done  22 tasks      | elapsed:    0.1s\n",
      "[Parallel(n_jobs=6)]: Batch computation too fast (0.1578s.) Setting batch_size=24.\n",
      "[Parallel(n_jobs=6)]: Done  76 out of 126 | elapsed:    0.2s remaining:    0.1s\n",
      "[Parallel(n_jobs=6)]: Done 126 out of 126 | elapsed:    0.3s finished\n"
     ]
    }
   ],
   "source": [
    "#for tuning parameters\n",
    "parameters_for_testing = {\n",
    "    'reg_alpha': [0,0.05, 0.1, 0.5 , 1, 2, 3], 'reg_lambda': [0.05, 0.1, 0.5 , 1, 2, 3]\n",
    "}\n",
    "\n",
    "other_params = {'booster':'dart','learning_rate': 0.1, 'n_estimators': 50, 'max_depth': 7, 'min_child_weight': 6, 'seed': 42,\n",
    " 'gamma':0,'subsample':0.8,'colsample_bytree': 0.8}\n",
    "\n",
    "xgb_model = XGBRegressor(**other_params)\n",
    "gsearch = GridSearchCV(estimator = xgb_model, param_grid = parameters_for_testing, n_jobs=6,iid=False, verbose=10,scoring='r2')\n",
    "\n",
    "gsearch.fit(X_train,np.sqrt(y_train))\n",
    "\n",
    "#print (gsearch1.cv_results_)\n",
    "print('best params')\n",
    "print (gsearch.best_params_)\n",
    "print('best score')\n",
    "print (gsearch.best_score_)"
   ]
  },
  {
   "cell_type": "markdown",
   "metadata": {},
   "source": [
    "# learning_rate"
   ]
  },
  {
   "cell_type": "code",
   "execution_count": 35,
   "metadata": {},
   "outputs": [
    {
     "name": "stdout",
     "output_type": "stream",
     "text": [
      "Fitting 3 folds for each of 5 candidates, totalling 15 fits\n",
      "best params\n",
      "{'learning_rate': 0.1}\n",
      "best score\n",
      "0.8256780897985557\n"
     ]
    },
    {
     "name": "stderr",
     "output_type": "stream",
     "text": [
      "[Parallel(n_jobs=6)]: Using backend LokyBackend with 6 concurrent workers.\n",
      "[Parallel(n_jobs=6)]: Done   1 tasks      | elapsed:    0.0s\n",
      "[Parallel(n_jobs=6)]: Batch computation too fast (0.0299s.) Setting batch_size=12.\n",
      "[Parallel(n_jobs=6)]: Done   4 out of  15 | elapsed:    0.0s remaining:    0.1s\n",
      "[Parallel(n_jobs=6)]: Done   6 out of  15 | elapsed:    0.0s remaining:    0.0s\n",
      "[Parallel(n_jobs=6)]: Done   8 out of  15 | elapsed:    0.0s remaining:    0.0s\n",
      "[Parallel(n_jobs=6)]: Done  10 out of  15 | elapsed:    0.0s remaining:    0.0s\n",
      "[Parallel(n_jobs=6)]: Done  12 out of  15 | elapsed:    0.0s remaining:    0.0s\n",
      "[Parallel(n_jobs=6)]: Done  15 out of  15 | elapsed:    0.0s finished\n"
     ]
    }
   ],
   "source": [
    "#for tuning parameters\n",
    "parameters_for_testing = {\n",
    "   'learning_rate': [0.01, 0.05, 0.07, 0.1, 0.2]\n",
    "}\n",
    "\n",
    "other_params = {'booster':'dart', 'n_estimators': 50, 'max_depth': 7, 'min_child_weight': 6, 'seed': 42,\n",
    " 'gamma':0,'subsample':0.8,'colsample_bytree': 0.8,'reg_alpha': 0, 'reg_lambda': 1}\n",
    "\n",
    "xgb_model = XGBRegressor(**other_params)\n",
    "gsearch = GridSearchCV(estimator = xgb_model, param_grid = parameters_for_testing, n_jobs=6,iid=False, verbose=10,scoring='r2')\n",
    "\n",
    "gsearch.fit(X_train,np.sqrt(y_train))\n",
    "\n",
    "#print (gsearch1.cv_results_)\n",
    "print('best params')\n",
    "print (gsearch.best_params_)\n",
    "print('best score')\n",
    "print (gsearch.best_score_)"
   ]
  },
  {
   "cell_type": "code",
   "execution_count": 36,
   "metadata": {
    "scrolled": false
   },
   "outputs": [
    {
     "data": {
      "text/plain": [
       "XGBRegressor(base_score=0.5, booster='dart', colsample_bylevel=1,\n",
       "             colsample_bynode=1, colsample_bytree=0.8, gamma=0, gpu_id=-1,\n",
       "             importance_type='gain', interaction_constraints='',\n",
       "             learning_rate=0.1, max_delta_step=0, max_depth=7,\n",
       "             min_child_weight=6, missing=nan, monotone_constraints='()',\n",
       "             n_estimators=50, n_jobs=0, num_parallel_tree=1,\n",
       "             objective='reg:squarederror', random_state=42, reg_alpha=0,\n",
       "             reg_lambda=1, scale_pos_weight=1, seed=42, subsample=0.8,\n",
       "             tree_method='exact', validate_parameters=1, verbosity=None)"
      ]
     },
     "execution_count": 36,
     "metadata": {},
     "output_type": "execute_result"
    }
   ],
   "source": [
    "best_xgb_model = XGBRegressor(\n",
    "              learning_rate = 0.1,\n",
    "              booster = 'dart', \n",
    "              n_estimators = 50, \n",
    "              max_depth = 7, \n",
    "              min_child_weight = 6,\n",
    "              seed = 42,\n",
    "              gamma = 0,\n",
    "              subsample = 0.8,\n",
    "              colsample_bytree = 0.8,\n",
    "              reg_alpha =  0,\n",
    "              reg_lambda = 1)\n",
    "\n",
    "best_xgb_model.fit(X_train,np.sqrt(y_train))"
   ]
  },
  {
   "cell_type": "code",
   "execution_count": 37,
   "metadata": {},
   "outputs": [],
   "source": [
    "y_pred = best_xgb_model.predict(X_test)"
   ]
  },
  {
   "cell_type": "code",
   "execution_count": 38,
   "metadata": {},
   "outputs": [
    {
     "name": "stdout",
     "output_type": "stream",
     "text": [
      "R2 score: 0.6884\n"
     ]
    }
   ],
   "source": [
    "# 預測值與實際值的差距，使用 r2_score ([0,1] 越大越好 )\n",
    "print(\"R2 score: %.4f\"\n",
    "      % r2_score(y_test, pow(y_pred,2)))"
   ]
  },
  {
   "cell_type": "code",
   "execution_count": 39,
   "metadata": {
    "scrolled": true
   },
   "outputs": [
    {
     "name": "stdout",
     "output_type": "stream",
     "text": [
      "Percentage rmse score: 48.42\n"
     ]
    }
   ],
   "source": [
    "print(\"Percentage rmse score: %.2f\"\n",
    "      % pMSE(y_test,pow(y_pred,2)))"
   ]
  },
  {
   "cell_type": "code",
   "execution_count": 40,
   "metadata": {
    "scrolled": true
   },
   "outputs": [
    {
     "name": "stdout",
     "output_type": "stream",
     "text": [
      "Number lower than error: 22\n"
     ]
    }
   ],
   "source": [
    "print(\"Number lower than error: %d\"\n",
    "      % pNumber(y_test, pow(y_pred,2), 15))"
   ]
  },
  {
   "cell_type": "code",
   "execution_count": 41,
   "metadata": {
    "scrolled": false
   },
   "outputs": [
    {
     "name": "stdout",
     "output_type": "stream",
     "text": [
      "Root mean squared error: 0.004331\n"
     ]
    }
   ],
   "source": [
    "# 預測值與實際值的差距，使用 RMSE\n",
    "print(\"Root mean squared error: %.6f\"\n",
    "      % math.sqrt(mean_squared_error(y_test,pow(y_pred,2))))"
   ]
  },
  {
   "cell_type": "code",
   "execution_count": 42,
   "metadata": {},
   "outputs": [
    {
     "data": {
      "text/plain": [
       "count    103.000000\n",
       "mean      34.219411\n",
       "std       34.421764\n",
       "min        0.072660\n",
       "10%        8.622763\n",
       "20%       13.490572\n",
       "30%       16.980985\n",
       "40%       20.232158\n",
       "50%       24.711503\n",
       "60%       28.978510\n",
       "70%       34.841273\n",
       "80%       46.005019\n",
       "90%       63.960310\n",
       "99%      152.676542\n",
       "max      226.959145\n",
       "Name: Predict, dtype: float64"
      ]
     },
     "execution_count": 42,
     "metadata": {},
     "output_type": "execute_result"
    }
   ],
   "source": [
    "p = [0.1, 0.2, 0.3, 0.4, 0.5, 0.6, 0.7, 0.8, 0.9, 0.99]\n",
    "abs((y_test - pow(y_pred,2))/y_test*100).describe(percentiles = p)"
   ]
  },
  {
   "cell_type": "code",
   "execution_count": 43,
   "metadata": {
    "scrolled": true
   },
   "outputs": [
    {
     "name": "stdout",
     "output_type": "stream",
     "text": [
      "XGBoost regression score: 0.9211\n"
     ]
    }
   ],
   "source": [
    "# the score function displays the accuracy of the model which translates to how well the model \n",
    "# can accurately predict for a new datapoint.\n",
    "print(\"XGBoost regression score: %.4f\"\n",
    "      % best_xgb_model.score(X_train,np.sqrt(y_train)))"
   ]
  },
  {
   "cell_type": "markdown",
   "metadata": {},
   "source": [
    "# DecisionTree"
   ]
  },
  {
   "cell_type": "code",
   "execution_count": 44,
   "metadata": {},
   "outputs": [],
   "source": [
    "from sklearn.tree import DecisionTreeRegressor\n",
    "clf = DecisionTreeRegressor(\n",
    "            criterion ='mse', \n",
    "            random_state = 42\n",
    ")"
   ]
  },
  {
   "cell_type": "code",
   "execution_count": 45,
   "metadata": {
    "scrolled": false
   },
   "outputs": [
    {
     "name": "stdout",
     "output_type": "stream",
     "text": [
      "Fitting 3 folds for each of 63 candidates, totalling 189 fits\n"
     ]
    },
    {
     "name": "stderr",
     "output_type": "stream",
     "text": [
      "[Parallel(n_jobs=6)]: Using backend LokyBackend with 6 concurrent workers.\n",
      "[Parallel(n_jobs=6)]: Done   1 tasks      | elapsed:    0.0s\n",
      "[Parallel(n_jobs=6)]: Batch computation too fast (0.0987s.) Setting batch_size=4.\n",
      "[Parallel(n_jobs=6)]: Done   6 tasks      | elapsed:    0.0s\n",
      "[Parallel(n_jobs=6)]: Done  16 tasks      | elapsed:    0.1s\n",
      "[Parallel(n_jobs=6)]: Batch computation too fast (0.0648s.) Setting batch_size=24.\n"
     ]
    },
    {
     "name": "stdout",
     "output_type": "stream",
     "text": [
      "best params\n",
      "{'max_depth': 4, 'min_samples_split': 10}\n",
      "best score\n",
      "0.8152834603932976\n"
     ]
    },
    {
     "name": "stderr",
     "output_type": "stream",
     "text": [
      "[Parallel(n_jobs=6)]: Done 189 out of 189 | elapsed:    0.2s finished\n"
     ]
    }
   ],
   "source": [
    "param_grid = {'max_depth': range(1,10,1),\n",
    "              'min_samples_split': range(2,16,2)}\n",
    "\n",
    "gsearch = GridSearchCV(estimator = clf, param_grid = param_grid, n_jobs=6,iid=False, verbose=10,scoring='r2')\n",
    "\n",
    "gsearch.fit(X_train,np.sqrt(y_train))\n",
    "\n",
    "print('best params')\n",
    "print (gsearch.best_params_)\n",
    "print('best score')\n",
    "print (gsearch.best_score_)"
   ]
  },
  {
   "cell_type": "code",
   "execution_count": 46,
   "metadata": {
    "scrolled": true
   },
   "outputs": [
    {
     "name": "stdout",
     "output_type": "stream",
     "text": [
      "Fitting 3 folds for each of 72 candidates, totalling 216 fits\n"
     ]
    },
    {
     "name": "stderr",
     "output_type": "stream",
     "text": [
      "[Parallel(n_jobs=6)]: Using backend LokyBackend with 6 concurrent workers.\n",
      "[Parallel(n_jobs=6)]: Done   1 tasks      | elapsed:    0.0s\n",
      "[Parallel(n_jobs=6)]: Batch computation too fast (0.0220s.) Setting batch_size=18.\n",
      "[Parallel(n_jobs=6)]: Done   6 tasks      | elapsed:    0.0s\n",
      "[Parallel(n_jobs=6)]: Done  30 tasks      | elapsed:    0.0s\n",
      "[Parallel(n_jobs=6)]: Batch computation too fast (0.1009s.) Setting batch_size=70.\n"
     ]
    },
    {
     "name": "stdout",
     "output_type": "stream",
     "text": [
      "best params\n",
      "{'max_leaf_nodes': 4, 'min_samples_leaf': 1}\n",
      "best score\n",
      "0.816638668970708\n"
     ]
    },
    {
     "name": "stderr",
     "output_type": "stream",
     "text": [
      "[Parallel(n_jobs=6)]: Done 216 out of 216 | elapsed:    0.1s finished\n"
     ]
    }
   ],
   "source": [
    " param_grid = {\n",
    "              \"min_samples_leaf\": range(1,10,1),\n",
    "              \"max_leaf_nodes\": range(2,10,1)\n",
    "              }\n",
    "    \n",
    "clf = DecisionTreeRegressor(\n",
    "            criterion ='mse', \n",
    "            max_depth = 4,\n",
    "            min_samples_split = 10,\n",
    "            random_state = 42\n",
    ")\n",
    "\n",
    "gsearch = GridSearchCV(estimator = clf, param_grid = param_grid, n_jobs=6,iid=False, verbose=10,scoring='r2')\n",
    "\n",
    "gsearch.fit(X_train,np.sqrt(y_train))\n",
    "\n",
    "print('best params')\n",
    "print (gsearch.best_params_)\n",
    "print('best score')\n",
    "print (gsearch.best_score_)"
   ]
  },
  {
   "cell_type": "code",
   "execution_count": 47,
   "metadata": {},
   "outputs": [],
   "source": [
    "clf = DecisionTreeRegressor(\n",
    "            criterion ='mse', \n",
    "            max_depth = 4,\n",
    "            min_samples_split = 10,\n",
    "            max_leaf_nodes = 4,\n",
    "            min_samples_leaf = 1,\n",
    "            random_state = 42\n",
    ")\n",
    "# 訓練模型\n",
    "clf.fit(X_train,np.sqrt(y_train))\n",
    "\n",
    "# 預測測試集\n",
    "y_pred = clf.predict(X_test)"
   ]
  },
  {
   "cell_type": "code",
   "execution_count": 48,
   "metadata": {},
   "outputs": [
    {
     "name": "stdout",
     "output_type": "stream",
     "text": [
      "Feature importance:  [0.        0.        0.        0.9315009 0.0684991 0.        0.       ]\n"
     ]
    }
   ],
   "source": [
    "print(\"Feature importance: \", clf.feature_importances_)"
   ]
  },
  {
   "cell_type": "code",
   "execution_count": 49,
   "metadata": {},
   "outputs": [
    {
     "name": "stdout",
     "output_type": "stream",
     "text": [
      "R2 score: 0.6187\n"
     ]
    }
   ],
   "source": [
    "# 預測值與實際值的差距，使用 r2_score ([0,1] 越大越好 )\n",
    "print(\"R2 score: %.4f\"\n",
    "      % r2_score(y_test, pow(y_pred,2)))"
   ]
  },
  {
   "cell_type": "code",
   "execution_count": 50,
   "metadata": {
    "scrolled": true
   },
   "outputs": [
    {
     "name": "stdout",
     "output_type": "stream",
     "text": [
      "Percentage rmse score: 48.93\n"
     ]
    }
   ],
   "source": [
    "print(\"Percentage rmse score: %.2f\"\n",
    "      % pMSE(y_test,pow(y_pred,2)))"
   ]
  },
  {
   "cell_type": "code",
   "execution_count": 51,
   "metadata": {},
   "outputs": [
    {
     "name": "stdout",
     "output_type": "stream",
     "text": [
      "Root mean squared error: 0.004791\n"
     ]
    }
   ],
   "source": [
    "# 預測值與實際值的差距，使用 RMSE\n",
    "print(\"Root mean squared error: %.6f\"\n",
    "      % math.sqrt(mean_squared_error(y_test,pow(y_pred,2))))"
   ]
  },
  {
   "cell_type": "code",
   "execution_count": 52,
   "metadata": {},
   "outputs": [
    {
     "data": {
      "text/plain": [
       "count    103.000000\n",
       "mean      36.190161\n",
       "std       33.092510\n",
       "min        2.223476\n",
       "10%        6.998068\n",
       "20%       11.070992\n",
       "30%       16.420128\n",
       "40%       21.336173\n",
       "50%       26.983231\n",
       "60%       34.330917\n",
       "70%       44.690530\n",
       "80%       49.984927\n",
       "90%       69.781747\n",
       "max      179.005797\n",
       "Name: Predict, dtype: float64"
      ]
     },
     "execution_count": 52,
     "metadata": {},
     "output_type": "execute_result"
    }
   ],
   "source": [
    "p = [0.1, 0.2, 0.3, 0.4, 0.5, 0.6, 0.7, 0.8, 0.9]\n",
    "abs((y_test - pow(y_pred,2))/y_test*100).describe(percentiles = p)"
   ]
  },
  {
   "cell_type": "markdown",
   "metadata": {},
   "source": [
    "#  RandomForest"
   ]
  },
  {
   "cell_type": "code",
   "execution_count": 53,
   "metadata": {},
   "outputs": [],
   "source": [
    "from sklearn.ensemble import RandomForestRegressor\n",
    "clf = RandomForestRegressor(\n",
    "          criterion ='mse', \n",
    "          random_state = 42\n",
    ")"
   ]
  },
  {
   "cell_type": "code",
   "execution_count": 54,
   "metadata": {
    "scrolled": false
   },
   "outputs": [
    {
     "name": "stdout",
     "output_type": "stream",
     "text": [
      "Fitting 3 folds for each of 720 candidates, totalling 2160 fits\n"
     ]
    },
    {
     "name": "stderr",
     "output_type": "stream",
     "text": [
      "[Parallel(n_jobs=6)]: Using backend LokyBackend with 6 concurrent workers.\n",
      "[Parallel(n_jobs=6)]: Done   1 tasks      | elapsed:    0.0s\n",
      "[Parallel(n_jobs=6)]: Batch computation too fast (0.0376s.) Setting batch_size=10.\n",
      "[Parallel(n_jobs=6)]: Done   6 tasks      | elapsed:    0.0s\n",
      "[Parallel(n_jobs=6)]: Done  22 tasks      | elapsed:    0.2s\n",
      "[Parallel(n_jobs=6)]: Batch computation too fast (0.1966s.) Setting batch_size=20.\n",
      "[Parallel(n_jobs=6)]: Done  92 tasks      | elapsed:    0.5s\n",
      "[Parallel(n_jobs=6)]: Done 232 tasks      | elapsed:    1.1s\n",
      "[Parallel(n_jobs=6)]: Done 412 tasks      | elapsed:    2.0s\n",
      "[Parallel(n_jobs=6)]: Done 632 tasks      | elapsed:    3.1s\n",
      "[Parallel(n_jobs=6)]: Done 852 tasks      | elapsed:    4.0s\n",
      "[Parallel(n_jobs=6)]: Done 1112 tasks      | elapsed:    5.5s\n",
      "[Parallel(n_jobs=6)]: Done 1372 tasks      | elapsed:    6.8s\n",
      "[Parallel(n_jobs=6)]: Done 1672 tasks      | elapsed:    8.2s\n"
     ]
    },
    {
     "name": "stdout",
     "output_type": "stream",
     "text": [
      "best params\n",
      "{'max_depth': 4, 'min_samples_split': 8, 'n_estimators': 40}\n",
      "best score\n",
      "0.8279756431901796\n"
     ]
    },
    {
     "name": "stderr",
     "output_type": "stream",
     "text": [
      "[Parallel(n_jobs=6)]: Done 2160 out of 2160 | elapsed:   10.8s finished\n"
     ]
    }
   ],
   "source": [
    "param_grid = {\n",
    "              'n_estimators': range(5,51,5),\n",
    "              'max_depth': range(1,10,1),\n",
    "              'min_samples_split': range(2,10,1)}\n",
    "\n",
    "gsearch = GridSearchCV(estimator = clf, param_grid = param_grid, n_jobs=6,iid=False, verbose=10,scoring='r2')\n",
    "\n",
    "gsearch.fit(X_train,np.sqrt(y_train))\n",
    "\n",
    "print('best params')\n",
    "print (gsearch.best_params_)\n",
    "print('best score')\n",
    "print (gsearch.best_score_)"
   ]
  },
  {
   "cell_type": "code",
   "execution_count": 55,
   "metadata": {
    "scrolled": false
   },
   "outputs": [
    {
     "name": "stdout",
     "output_type": "stream",
     "text": [
      "Fitting 3 folds for each of 117 candidates, totalling 351 fits\n"
     ]
    },
    {
     "name": "stderr",
     "output_type": "stream",
     "text": [
      "[Parallel(n_jobs=6)]: Using backend LokyBackend with 6 concurrent workers.\n",
      "[Parallel(n_jobs=6)]: Done   1 tasks      | elapsed:    0.0s\n",
      "[Parallel(n_jobs=6)]: Batch computation too fast (0.0429s.) Setting batch_size=8.\n",
      "[Parallel(n_jobs=6)]: Done   6 tasks      | elapsed:    0.0s\n",
      "[Parallel(n_jobs=6)]: Done  20 tasks      | elapsed:    0.3s\n",
      "[Parallel(n_jobs=6)]: Done  76 tasks      | elapsed:    0.6s\n",
      "[Parallel(n_jobs=6)]: Done 148 tasks      | elapsed:    1.0s\n",
      "[Parallel(n_jobs=6)]: Done 220 tasks      | elapsed:    1.5s\n"
     ]
    },
    {
     "name": "stdout",
     "output_type": "stream",
     "text": [
      "best params\n",
      "{'max_leaf_nodes': 12, 'min_samples_leaf': 4}\n",
      "best score\n",
      "0.8316107890304377\n"
     ]
    },
    {
     "name": "stderr",
     "output_type": "stream",
     "text": [
      "[Parallel(n_jobs=6)]: Done 340 out of 351 | elapsed:    2.1s remaining:    0.0s\n",
      "[Parallel(n_jobs=6)]: Done 351 out of 351 | elapsed:    2.2s finished\n"
     ]
    }
   ],
   "source": [
    " param_grid = {\n",
    "              \"min_samples_leaf\": range(1,10,1),\n",
    "              \"max_leaf_nodes\": range(2,15,1)\n",
    "              }\n",
    "    \n",
    "clf = RandomForestRegressor(\n",
    "            criterion ='mse', \n",
    "            n_estimators = 40,\n",
    "            max_depth = 4,\n",
    "            min_samples_split = 8,\n",
    "            random_state = 42\n",
    ")\n",
    "\n",
    "gsearch = GridSearchCV(estimator = clf, param_grid = param_grid, n_jobs=6,iid=False, verbose=10,scoring='r2')\n",
    "\n",
    "gsearch.fit(X_train,np.sqrt(y_train))\n",
    "\n",
    "print('best params')\n",
    "print (gsearch.best_params_)\n",
    "print('best score')\n",
    "print (gsearch.best_score_)"
   ]
  },
  {
   "cell_type": "code",
   "execution_count": 56,
   "metadata": {},
   "outputs": [],
   "source": [
    "clf = RandomForestRegressor( \n",
    "            criterion ='mse', \n",
    "            n_estimators = 40,\n",
    "            max_depth = 4,\n",
    "            min_samples_split = 8,\n",
    "            max_leaf_nodes = 12,\n",
    "            min_samples_leaf = 4,\n",
    "            random_state = 42) \n",
    "#給予max_depth 可以避免過度擬和\n",
    "\n",
    "# 訓練模型\n",
    "clf.fit(X_train,np.sqrt(y_train))\n",
    "\n",
    "# 預測測試集\n",
    "y_pred = clf.predict(X_test)"
   ]
  },
  {
   "cell_type": "code",
   "execution_count": 57,
   "metadata": {},
   "outputs": [
    {
     "name": "stdout",
     "output_type": "stream",
     "text": [
      "Feature importance:  [0.12449003 0.07445102 0.05899307 0.49372136 0.13090211 0.09029851\n",
      " 0.0271439 ]\n"
     ]
    }
   ],
   "source": [
    "print(\"Feature importance: \", clf.feature_importances_)"
   ]
  },
  {
   "cell_type": "code",
   "execution_count": 58,
   "metadata": {},
   "outputs": [
    {
     "name": "stdout",
     "output_type": "stream",
     "text": [
      "R2 score: 0.6754\n"
     ]
    }
   ],
   "source": [
    "# 預測值與實際值的差距，使用 r2_score ([0,1] 越大越好 )\n",
    "print(\"R2 score: %.4f\"\n",
    "      % r2_score(y_test, pow(y_pred,2)))"
   ]
  },
  {
   "cell_type": "code",
   "execution_count": 59,
   "metadata": {
    "scrolled": true
   },
   "outputs": [
    {
     "name": "stdout",
     "output_type": "stream",
     "text": [
      "Percentage rmse score: 43.05\n"
     ]
    }
   ],
   "source": [
    "print(\"Percentage rmse score: %.2f\"\n",
    "      % pMSE(y_test,pow(y_pred,2)))"
   ]
  },
  {
   "cell_type": "code",
   "execution_count": 60,
   "metadata": {},
   "outputs": [
    {
     "name": "stdout",
     "output_type": "stream",
     "text": [
      "Root mean squared error: 0.004420\n"
     ]
    }
   ],
   "source": [
    "# 預測值與實際值的差距，使用 RMSE\n",
    "print(\"Root mean squared error: %.6f\"\n",
    "      % math.sqrt(mean_squared_error(y_test,pow(y_pred,2))))"
   ]
  },
  {
   "cell_type": "code",
   "execution_count": 61,
   "metadata": {},
   "outputs": [
    {
     "data": {
      "text/plain": [
       "count    103.000000\n",
       "mean      31.733578\n",
       "std       29.226542\n",
       "min        0.406399\n",
       "10%        5.839398\n",
       "20%       10.992948\n",
       "30%       15.777040\n",
       "40%       19.835545\n",
       "50%       24.786077\n",
       "60%       29.568376\n",
       "70%       34.055997\n",
       "80%       44.554946\n",
       "90%       61.821113\n",
       "max      141.690613\n",
       "Name: Predict, dtype: float64"
      ]
     },
     "execution_count": 61,
     "metadata": {},
     "output_type": "execute_result"
    }
   ],
   "source": [
    "p = [0.1, 0.2, 0.3, 0.4, 0.5, 0.6, 0.7, 0.8, 0.9]\n",
    "abs((y_test - pow(y_pred,2))/y_test*100).describe(percentiles = p)"
   ]
  },
  {
   "cell_type": "code",
   "execution_count": null,
   "metadata": {},
   "outputs": [],
   "source": [
    "# X = pd.concat([df[title], con1,con2], axis=1).to_numpy() "
   ]
  }
 ],
 "metadata": {
  "kernelspec": {
   "display_name": "Python 3",
   "language": "python",
   "name": "python3"
  },
  "language_info": {
   "codemirror_mode": {
    "name": "ipython",
    "version": 3
   },
   "file_extension": ".py",
   "mimetype": "text/x-python",
   "name": "python",
   "nbconvert_exporter": "python",
   "pygments_lexer": "ipython3",
   "version": "3.7.4"
  }
 },
 "nbformat": 4,
 "nbformat_minor": 2
}
