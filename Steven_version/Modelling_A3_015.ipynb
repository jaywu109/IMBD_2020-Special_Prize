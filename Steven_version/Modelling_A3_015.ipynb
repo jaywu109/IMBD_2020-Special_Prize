{
 "cells": [
  {
   "cell_type": "code",
   "execution_count": 70,
   "metadata": {},
   "outputs": [],
   "source": [
    "# model 套件\n",
    "from sklearn.linear_model import LinearRegression, LassoCV\n",
    "from sklearn.model_selection import train_test_split\n",
    "from sklearn.metrics import r2_score, mean_squared_error\n",
    "from sklearn.preprocessing import PowerTransformer\n",
    "import math\n",
    "import warnings\n",
    "warnings.filterwarnings('ignore')\n"
   ]
  },
  {
   "cell_type": "markdown",
   "metadata": {},
   "source": [
    "# Second Preprocessing"
   ]
  },
  {
   "cell_type": "code",
   "execution_count": 71,
   "metadata": {},
   "outputs": [],
   "source": [
    "from sklearn import preprocessing\n",
    "from sklearn.preprocessing import MinMaxScaler, RobustScaler, StandardScaler"
   ]
  },
  {
   "cell_type": "code",
   "execution_count": 72,
   "metadata": {},
   "outputs": [],
   "source": [
    "# 處理 data 套件\n",
    "import numpy as np\n",
    "import pandas as pd"
   ]
  },
  {
   "cell_type": "code",
   "execution_count": 73,
   "metadata": {},
   "outputs": [],
   "source": [
    "# let column can show all\n",
    "pd.set_option('display.max_columns', None)\n",
    "pd.set_option('display.max_rows', None)"
   ]
  },
  {
   "cell_type": "code",
   "execution_count": 74,
   "metadata": {},
   "outputs": [],
   "source": [
    "df = pd.read_csv('Data/BayesianRidge_Pre_2/Input_A3_015.csv')\n",
    "# df1 = pd.read_csv('Input_C_057.csv')\n",
    "# df2 = pd.read_csv('Input_C_050.csv')"
   ]
  },
  {
   "cell_type": "code",
   "execution_count": 75,
   "metadata": {},
   "outputs": [],
   "source": [
    "title = ['Input_A2_015','Input_A6_015','Input_A1_015','Input_A4_015','Input_A5_015']\n",
    "# title = ['Input_A2_015','Input_A6_015','Input_A1_015','Input_A4_015','Input_A5_015']"
   ]
  },
  {
   "cell_type": "code",
   "execution_count": 76,
   "metadata": {},
   "outputs": [],
   "source": [
    "# 直接執行轉換拉到最下面會發現 Wraninig\n",
    "for col in title: # Predict 不做轉換\n",
    "    if abs(df[col].skew()) >= 0.7: # 取偏態絕對值大於 0.5的項\n",
    "        print(col)\n",
    "        pt = PowerTransformer() # PowerTransformer 預設為 Yeo-Johson 轉換可轉正負數，不同於另一種 Box-Cox 只能用於正數\n",
    "        d = pt.fit_transform(df[col].values.reshape(-1, 1)).flatten()\n",
    "        df[col]=d"
   ]
  },
  {
   "cell_type": "code",
   "execution_count": 77,
   "metadata": {},
   "outputs": [],
   "source": [
    "X = df[title]\n",
    "scaler = RobustScaler()\n",
    "df[title] = scaler.fit_transform(X)\n",
    "y = df['Predict']"
   ]
  },
  {
   "cell_type": "code",
   "execution_count": 78,
   "metadata": {},
   "outputs": [],
   "source": [
    "def pMSE(ans,predict):\n",
    "    pmse = math.sqrt(sum(pow((ans - predict)/ans*100,2)/len(ans)))\n",
    "    return pmse"
   ]
  },
  {
   "cell_type": "code",
   "execution_count": 79,
   "metadata": {},
   "outputs": [],
   "source": [
    "def pNumber(ans,predict,num):\n",
    "    return sum(abs((ans-predict)/ans*100) < num)"
   ]
  },
  {
   "cell_type": "markdown",
   "metadata": {},
   "source": [
    "# Split data"
   ]
  },
  {
   "cell_type": "code",
   "execution_count": 80,
   "metadata": {},
   "outputs": [],
   "source": [
    "X_train, X_test, y_train, y_test = train_test_split(X, y, test_size=0.3, random_state=42)"
   ]
  },
  {
   "cell_type": "markdown",
   "metadata": {},
   "source": [
    "# LassoCV"
   ]
  },
  {
   "cell_type": "code",
   "execution_count": 81,
   "metadata": {},
   "outputs": [
    {
     "name": "stdout",
     "output_type": "stream",
     "text": [
      "first best alpha: 1e-05\n",
      "second best alpha: 4e-05\n",
      "final best alpha: 0.00011\n"
     ]
    }
   ],
   "source": [
    "lasso = LassoCV(alphas=[0.00001, 0.0001, 0.001, 0.01, 0.1, 1, 10, 20, 30],random_state = 42)\n",
    "lasso.fit(X_train,y_train)\n",
    "alpha = lasso.alpha_\n",
    "print(\"first best alpha:\", alpha)\n",
    "lasso = LassoCV(alphas=[0.00004, 0.00008, 0.0001, 0.0003, 0.0006],random_state = 42)\n",
    "lasso.fit(X_train, y_train)\n",
    "alpha = lasso.alpha_\n",
    "print(\"second best alpha:\", alpha)\n",
    "lasso = LassoCV(alphas=[0.0001 + i/100000 for i in range(1, 20)], random_state = 42)\n",
    "lasso.fit(X_train, y_train)\n",
    "alpha = lasso.alpha_\n",
    "print(\"final best alpha:\", alpha)"
   ]
  },
  {
   "cell_type": "code",
   "execution_count": 82,
   "metadata": {},
   "outputs": [],
   "source": [
    "y_pred = lasso.predict(X_test)"
   ]
  },
  {
   "cell_type": "code",
   "execution_count": 83,
   "metadata": {},
   "outputs": [
    {
     "name": "stdout",
     "output_type": "stream",
     "text": [
      "R2 score: 0.5838\n"
     ]
    }
   ],
   "source": [
    "# 預測值與實際值的差距，使用 r2_score ([0,1] 越大越好 )\n",
    "print(\"R2 score: %.4f\"\n",
    "      % r2_score(y_test, y_pred))"
   ]
  },
  {
   "cell_type": "code",
   "execution_count": 84,
   "metadata": {
    "scrolled": true
   },
   "outputs": [
    {
     "name": "stdout",
     "output_type": "stream",
     "text": [
      "Percentage mse score: inf\n"
     ]
    }
   ],
   "source": [
    "print(\"Percentage mse score: %.2f\"\n",
    "      % pMSE(y_test, y_pred))"
   ]
  },
  {
   "cell_type": "code",
   "execution_count": 85,
   "metadata": {},
   "outputs": [
    {
     "name": "stdout",
     "output_type": "stream",
     "text": [
      "Number lower than error: 8\n"
     ]
    }
   ],
   "source": [
    "print(\"Number lower than error: %d\"\n",
    "      % pNumber(y_test, y_pred, 15))"
   ]
  },
  {
   "cell_type": "code",
   "execution_count": 86,
   "metadata": {
    "scrolled": true
   },
   "outputs": [
    {
     "name": "stdout",
     "output_type": "stream",
     "text": [
      "Root mean squared error: 0.020796\n"
     ]
    }
   ],
   "source": [
    "# 預測值與實際值的差距，使用 RMSE\n",
    "print(\"Root mean squared error: %.6f\"\n",
    "      % math.sqrt(mean_squared_error(y_test, y_pred)))"
   ]
  },
  {
   "cell_type": "code",
   "execution_count": 87,
   "metadata": {},
   "outputs": [
    {
     "data": {
      "text/plain": [
       "count    104.000000\n",
       "mean            inf\n",
       "std             NaN\n",
       "min        0.089577\n",
       "10%       21.075036\n",
       "20%       33.778551\n",
       "30%       33.778551\n",
       "40%       34.680130\n",
       "50%       39.400523\n",
       "60%       64.866395\n",
       "70%       94.859328\n",
       "80%      118.849118\n",
       "90%      175.367654\n",
       "max             inf\n",
       "Name: Predict, dtype: float64"
      ]
     },
     "execution_count": 87,
     "metadata": {},
     "output_type": "execute_result"
    }
   ],
   "source": [
    "p = [0.1, 0.2, 0.3, 0.4, 0.5, 0.6, 0.7, 0.8, 0.9]\n",
    "abs((y_test - y_pred)/y_test*100).describe(percentiles = p)"
   ]
  },
  {
   "cell_type": "code",
   "execution_count": 88,
   "metadata": {
    "scrolled": true
   },
   "outputs": [
    {
     "data": {
      "text/plain": [
       "array([0.38217709, 0.20727281, 0.04465473, 0.        , 0.        ])"
      ]
     },
     "execution_count": 88,
     "metadata": {},
     "output_type": "execute_result"
    }
   ],
   "source": [
    "lasso.coef_"
   ]
  },
  {
   "cell_type": "markdown",
   "metadata": {},
   "source": [
    "# Linear regresssion"
   ]
  },
  {
   "cell_type": "code",
   "execution_count": 89,
   "metadata": {},
   "outputs": [],
   "source": [
    "# 建立一個線性回歸模型\n",
    "regr = LinearRegression()\n",
    "\n",
    "# 將訓練資料丟進去模型訓練\n",
    "regr.fit(X_train, y_train)\n",
    "\n",
    "# 將測試資料丟進模型得到預測結果\n",
    "y_pred = regr.predict(X_test)"
   ]
  },
  {
   "cell_type": "code",
   "execution_count": 90,
   "metadata": {
    "scrolled": true
   },
   "outputs": [
    {
     "name": "stdout",
     "output_type": "stream",
     "text": [
      "Mean squared error: 0.000375\n"
     ]
    }
   ],
   "source": [
    "# 預測值與實際值的差距，使用 MSE\n",
    "print(\"Mean squared error: %.6f\"\n",
    "      % mean_squared_error(y_test, y_pred))"
   ]
  },
  {
   "cell_type": "code",
   "execution_count": 91,
   "metadata": {},
   "outputs": [
    {
     "name": "stdout",
     "output_type": "stream",
     "text": [
      "Root mean squared error: 0.019362\n"
     ]
    }
   ],
   "source": [
    "# 預測值與實際值的差距，使用 RMSE\n",
    "print(\"Root mean squared error: %.6f\"\n",
    "      % math.sqrt(mean_squared_error(y_test, y_pred)))"
   ]
  },
  {
   "cell_type": "code",
   "execution_count": 92,
   "metadata": {
    "scrolled": true
   },
   "outputs": [
    {
     "name": "stdout",
     "output_type": "stream",
     "text": [
      "R2 score: 0.6392\n"
     ]
    }
   ],
   "source": [
    "# 預測值與實際值的差距，使用 r2_score ([0,1] 越大越好 )\n",
    "print(\"R2 score: %.4f\"\n",
    "      % r2_score(y_test, y_pred))"
   ]
  },
  {
   "cell_type": "code",
   "execution_count": 93,
   "metadata": {},
   "outputs": [
    {
     "name": "stdout",
     "output_type": "stream",
     "text": [
      "Percentage mse score: inf\n"
     ]
    }
   ],
   "source": [
    "print(\"Percentage mse score: %.2f\"\n",
    "      % pMSE(y_test, y_pred))"
   ]
  },
  {
   "cell_type": "code",
   "execution_count": 94,
   "metadata": {
    "scrolled": true
   },
   "outputs": [
    {
     "name": "stdout",
     "output_type": "stream",
     "text": [
      "Number lower than error: 12\n"
     ]
    }
   ],
   "source": [
    "# y_test : len 103\n",
    "print(\"Number lower than error: %d\"   \n",
    "      % pNumber(y_test, y_pred, 15))"
   ]
  },
  {
   "cell_type": "code",
   "execution_count": 95,
   "metadata": {},
   "outputs": [
    {
     "data": {
      "text/plain": [
       "count    104.000000\n",
       "mean            inf\n",
       "std             NaN\n",
       "min        1.226060\n",
       "10%       12.914183\n",
       "20%       16.255030\n",
       "30%       16.255030\n",
       "40%       17.204299\n",
       "50%       35.137909\n",
       "60%       57.701257\n",
       "70%       95.940228\n",
       "80%      129.875379\n",
       "90%      195.503694\n",
       "max             inf\n",
       "Name: Predict, dtype: float64"
      ]
     },
     "execution_count": 95,
     "metadata": {},
     "output_type": "execute_result"
    }
   ],
   "source": [
    "p = [0.1, 0.2, 0.3, 0.4, 0.5, 0.6, 0.7, 0.8, 0.9]\n",
    "abs((y_test - y_pred)/y_test*100).describe(percentiles = p)"
   ]
  },
  {
   "cell_type": "code",
   "execution_count": 96,
   "metadata": {
    "scrolled": true
   },
   "outputs": [
    {
     "data": {
      "text/plain": [
       "<matplotlib.axes._subplots.AxesSubplot at 0x16c50e4fbc8>"
      ]
     },
     "execution_count": 96,
     "metadata": {},
     "output_type": "execute_result"
    },
    {
     "data": {
      "image/png": "[encoded data removed]",
      "text/plain": [
       "<Figure size 432x288 with 1 Axes>"
      ]
     },
     "metadata": {
      "needs_background": "light"
     },
     "output_type": "display_data"
    }
   ],
   "source": [
    "from matplotlib import pyplot as plt\n",
    "import seaborn as sb\n",
    "%matplotlib inline\n",
    "sb.regplot(y_test, y_pred)"
   ]
  },
  {
   "cell_type": "code",
   "execution_count": 97,
   "metadata": {},
   "outputs": [
    {
     "data": {
      "text/plain": [
       "(1.7923115641975187, 0.00012923401109619183)"
      ]
     },
     "execution_count": 97,
     "metadata": {},
     "output_type": "execute_result"
    }
   ],
   "source": [
    "# p-value: Used to interpret the test, in this case whether the sample was drawn from a Gaussian distribution.\n",
    "# If p-value <= alpha (0.05) : Reject H0 => need Normally distributed\n",
    "# If p-value > alpha (0.05) : Accept H0 \n",
    "from statsmodels.stats.diagnostic import normal_ad\n",
    "normal_ad(y_test - y_pred)"
   ]
  },
  {
   "cell_type": "markdown",
   "metadata": {},
   "source": [
    "# XGBoost regression"
   ]
  },
  {
   "cell_type": "code",
   "execution_count": 98,
   "metadata": {},
   "outputs": [],
   "source": [
    "from xgboost.sklearn import XGBRegressor\n",
    "from sklearn.model_selection import GridSearchCV\n",
    "from sklearn.model_selection import cross_val_score,KFold\n",
    "from scipy.stats import skew\n"
   ]
  },
  {
   "cell_type": "markdown",
   "metadata": {},
   "source": [
    "# 先調 booster / n_estimators"
   ]
  },
  {
   "cell_type": "code",
   "execution_count": 99,
   "metadata": {
    "scrolled": true
   },
   "outputs": [
    {
     "name": "stdout",
     "output_type": "stream",
     "text": [
      "Fitting 3 folds for each of 60 candidates, totalling 180 fits\n"
     ]
    },
    {
     "name": "stderr",
     "output_type": "stream",
     "text": [
      "[Parallel(n_jobs=6)]: Using backend LokyBackend with 6 concurrent workers.\n",
      "[Parallel(n_jobs=6)]: Done   1 tasks      | elapsed:    3.0s\n",
      "[Parallel(n_jobs=6)]: Done   6 tasks      | elapsed:    3.1s\n",
      "[Parallel(n_jobs=6)]: Done  13 tasks      | elapsed:    3.1s\n",
      "[Parallel(n_jobs=6)]: Done  20 tasks      | elapsed:    3.2s\n",
      "[Parallel(n_jobs=6)]: Batch computation too fast (0.1920s.) Setting batch_size=2.\n",
      "[Parallel(n_jobs=6)]: Done  29 tasks      | elapsed:    3.2s\n",
      "[Parallel(n_jobs=6)]: Done  39 tasks      | elapsed:    3.3s\n",
      "[Parallel(n_jobs=6)]: Batch computation too fast (0.1164s.) Setting batch_size=6.\n",
      "[Parallel(n_jobs=6)]: Batch computation too fast (0.1257s.) Setting batch_size=18.\n",
      "[Parallel(n_jobs=6)]: Done  69 tasks      | elapsed:    3.5s\n"
     ]
    },
    {
     "name": "stdout",
     "output_type": "stream",
     "text": [
      "best params\n",
      "{'booster': 'gbtree', 'n_estimators': 50}\n",
      "best score\n",
      "0.4671498501582129\n"
     ]
    },
    {
     "name": "stderr",
     "output_type": "stream",
     "text": [
      "[Parallel(n_jobs=6)]: Done 180 out of 180 | elapsed:    5.3s finished\n"
     ]
    }
   ],
   "source": [
    "#for tuning parameters\n",
    "parameters_for_testing = {\n",
    "    'booster':['gbtree','gblinear','dart'],\n",
    "    'n_estimators':range(10,201,10),\n",
    "}\n",
    "\n",
    "other_params = {'learning_rate': 0.1, 'n_estimators': 90, 'max_depth': 5, 'min_child_weight': 1, 'seed': 42,\n",
    "'subsample': 0.8, 'colsample_bytree': 0.8, 'gamma': 0, 'reg_alpha': 0, 'reg_lambda': 1}\n",
    "\n",
    "xgb_model = XGBRegressor(**other_params)\n",
    "gsearch = GridSearchCV(estimator = xgb_model, param_grid = parameters_for_testing, n_jobs=6,iid=False, verbose=10,scoring='r2')\n",
    "\n",
    "gsearch.fit(X_train, y_train)\n",
    "\n",
    "#print (gsearch1.cv_results_)\n",
    "print('best params')\n",
    "print (gsearch.best_params_)\n",
    "print('best score')\n",
    "print (gsearch.best_score_)"
   ]
  },
  {
   "cell_type": "markdown",
   "metadata": {},
   "source": [
    "# 調 max_depth / min_child_weight"
   ]
  },
  {
   "cell_type": "code",
   "execution_count": 100,
   "metadata": {
    "scrolled": false
   },
   "outputs": [
    {
     "name": "stdout",
     "output_type": "stream",
     "text": [
      "Fitting 3 folds for each of 60 candidates, totalling 180 fits\n"
     ]
    },
    {
     "name": "stderr",
     "output_type": "stream",
     "text": [
      "[Parallel(n_jobs=6)]: Using backend LokyBackend with 6 concurrent workers.\n",
      "[Parallel(n_jobs=6)]: Done   1 tasks      | elapsed:    0.0s\n",
      "[Parallel(n_jobs=6)]: Batch computation too fast (0.0249s.) Setting batch_size=16.\n",
      "[Parallel(n_jobs=6)]: Done   6 tasks      | elapsed:    0.0s\n"
     ]
    },
    {
     "name": "stdout",
     "output_type": "stream",
     "text": [
      "best params\n",
      "{'max_depth': 5, 'min_child_weight': 2}\n",
      "best score\n",
      "0.4964873785736243\n"
     ]
    },
    {
     "name": "stderr",
     "output_type": "stream",
     "text": [
      "[Parallel(n_jobs=6)]: Done 180 out of 180 | elapsed:    0.4s finished\n"
     ]
    }
   ],
   "source": [
    "#for tuning parameters\n",
    "parameters_for_testing = {\n",
    "    'max_depth': [1,2,3, 4, 5, 6, 7, 8, 9, 10], \n",
    "    'min_child_weight': [1, 2, 3, 4, 5, 6]\n",
    "}\n",
    "\n",
    "other_params = {'booster':'gbtree','learning_rate': 0.1, 'n_estimators': 50, 'seed': 42,\n",
    "'subsample': 0.8, 'colsample_bytree': 0.8, 'gamma': 0, 'reg_alpha': 0, 'reg_lambda': 1}\n",
    "\n",
    "xgb_model = XGBRegressor(**other_params)\n",
    "gsearch = GridSearchCV(estimator = xgb_model, param_grid = parameters_for_testing, n_jobs=6,iid=False, verbose=10,scoring='r2')\n",
    "\n",
    "gsearch.fit(X_train, y_train)\n",
    "\n",
    "#print (gsearch1.cv_results_)\n",
    "print('best params')\n",
    "print (gsearch.best_params_)\n",
    "print('best score')\n",
    "print (gsearch.best_score_)"
   ]
  },
  {
   "cell_type": "markdown",
   "metadata": {},
   "source": [
    "# 調 gamma"
   ]
  },
  {
   "cell_type": "code",
   "execution_count": 101,
   "metadata": {
    "scrolled": false
   },
   "outputs": [
    {
     "name": "stdout",
     "output_type": "stream",
     "text": [
      "Fitting 3 folds for each of 7 candidates, totalling 21 fits\n",
      "best params\n",
      "{'gamma': 0}\n",
      "best score\n",
      "0.4964873785736243\n"
     ]
    },
    {
     "name": "stderr",
     "output_type": "stream",
     "text": [
      "[Parallel(n_jobs=6)]: Using backend LokyBackend with 6 concurrent workers.\n",
      "[Parallel(n_jobs=6)]: Done   1 tasks      | elapsed:    0.0s\n",
      "[Parallel(n_jobs=6)]: Batch computation too fast (0.0249s.) Setting batch_size=16.\n",
      "[Parallel(n_jobs=6)]: Done   4 out of  21 | elapsed:    0.0s remaining:    0.1s\n",
      "[Parallel(n_jobs=6)]: Done   7 out of  21 | elapsed:    0.0s remaining:    0.0s\n",
      "[Parallel(n_jobs=6)]: Done  10 out of  21 | elapsed:    0.0s remaining:    0.0s\n",
      "[Parallel(n_jobs=6)]: Done  21 out of  21 | elapsed:    0.0s finished\n"
     ]
    }
   ],
   "source": [
    "#for tuning parameters\n",
    "parameters_for_testing = {\n",
    "    'gamma': [0,0.1, 0.2, 0.3, 0.4, 0.5, 0.6]\n",
    "}\n",
    "\n",
    "other_params = {'booster':'gbtree','learning_rate': 0.1, 'n_estimators': 50, 'max_depth': 5, 'min_child_weight': 2, 'seed': 42,\n",
    "'subsample': 0.8, 'colsample_bytree': 0.8, 'reg_alpha': 0, 'reg_lambda': 1}\n",
    "\n",
    "xgb_model = XGBRegressor(**other_params)\n",
    "gsearch = GridSearchCV(estimator = xgb_model, param_grid = parameters_for_testing, n_jobs=6,iid=False, verbose=10,scoring='r2')\n",
    "\n",
    "gsearch.fit(X_train, y_train)\n",
    "\n",
    "#print (gsearch1.cv_results_)\n",
    "print('best params')\n",
    "print (gsearch.best_params_)\n",
    "print('best score')\n",
    "print (gsearch.best_score_)"
   ]
  },
  {
   "cell_type": "markdown",
   "metadata": {},
   "source": [
    "# 調 subsample / colsample_bytree"
   ]
  },
  {
   "cell_type": "code",
   "execution_count": 102,
   "metadata": {
    "scrolled": false
   },
   "outputs": [
    {
     "name": "stdout",
     "output_type": "stream",
     "text": [
      "Fitting 3 folds for each of 64 candidates, totalling 192 fits\n"
     ]
    },
    {
     "name": "stderr",
     "output_type": "stream",
     "text": [
      "[Parallel(n_jobs=6)]: Using backend LokyBackend with 6 concurrent workers.\n",
      "[Parallel(n_jobs=6)]: Done   1 tasks      | elapsed:    0.0s\n",
      "[Parallel(n_jobs=6)]: Batch computation too fast (0.0251s.) Setting batch_size=14.\n",
      "[Parallel(n_jobs=6)]: Done   6 tasks      | elapsed:    0.0s\n",
      "[Parallel(n_jobs=6)]: Done  26 tasks      | elapsed:    0.1s\n",
      "[Parallel(n_jobs=6)]: Batch computation too fast (0.1936s.) Setting batch_size=28.\n"
     ]
    },
    {
     "name": "stdout",
     "output_type": "stream",
     "text": [
      "best params\n",
      "{'colsample_bytree': 0.4, 'subsample': 0.5}\n",
      "best score\n",
      "0.5084149697654791\n"
     ]
    },
    {
     "name": "stderr",
     "output_type": "stream",
     "text": [
      "[Parallel(n_jobs=6)]: Done 192 out of 192 | elapsed:    0.4s finished\n"
     ]
    }
   ],
   "source": [
    "#for tuning parameters\n",
    "parameters_for_testing = {\n",
    "    'subsample': [0.2, 0.3, 0.4, 0.5, 0.6, 0.7, 0.8, 0.9], 'colsample_bytree': [0.2, 0.3, 0.4, 0.5, 0.6, 0.7, 0.8, 0.9]\n",
    "}\n",
    "\n",
    "other_params = {'booster':'gbtree','learning_rate': 0.1, 'n_estimators': 50, 'max_depth': 5, 'min_child_weight': 2, 'seed': 42,\n",
    " 'reg_alpha': 0, 'reg_lambda': 1, 'gamma':0}\n",
    "\n",
    "xgb_model = XGBRegressor(**other_params)\n",
    "gsearch = GridSearchCV(estimator = xgb_model, param_grid = parameters_for_testing, n_jobs=6,iid=False, verbose=10,scoring='r2')\n",
    "\n",
    "gsearch.fit(X_train,y_train)\n",
    "\n",
    "#print (gsearch1.cv_results_)\n",
    "print('best params')\n",
    "print (gsearch.best_params_)\n",
    "print('best score')\n",
    "print (gsearch.best_score_)"
   ]
  },
  {
   "cell_type": "markdown",
   "metadata": {},
   "source": [
    "# reg_alpha / reg_lambda"
   ]
  },
  {
   "cell_type": "code",
   "execution_count": 103,
   "metadata": {
    "scrolled": false
   },
   "outputs": [
    {
     "name": "stdout",
     "output_type": "stream",
     "text": [
      "Fitting 3 folds for each of 42 candidates, totalling 126 fits\n"
     ]
    },
    {
     "name": "stderr",
     "output_type": "stream",
     "text": [
      "[Parallel(n_jobs=6)]: Using backend LokyBackend with 6 concurrent workers.\n",
      "[Parallel(n_jobs=6)]: Done   1 tasks      | elapsed:    0.0s\n",
      "[Parallel(n_jobs=6)]: Batch computation too fast (0.0310s.) Setting batch_size=12.\n",
      "[Parallel(n_jobs=6)]: Done   6 tasks      | elapsed:    0.0s\n",
      "[Parallel(n_jobs=6)]: Done  24 out of 126 | elapsed:    0.1s remaining:    0.7s\n"
     ]
    },
    {
     "name": "stdout",
     "output_type": "stream",
     "text": [
      "best params\n",
      "{'reg_alpha': 0, 'reg_lambda': 1}\n",
      "best score\n",
      "0.5084149697654791\n"
     ]
    },
    {
     "name": "stderr",
     "output_type": "stream",
     "text": [
      "[Parallel(n_jobs=6)]: Done 102 out of 126 | elapsed:    0.2s remaining:    0.0s\n",
      "[Parallel(n_jobs=6)]: Done 126 out of 126 | elapsed:    0.2s finished\n"
     ]
    }
   ],
   "source": [
    "#for tuning parameters\n",
    "parameters_for_testing = {\n",
    "    'reg_alpha': [0,0.05, 0.1, 0.5 , 1, 2, 3], 'reg_lambda': [0.05, 0.1, 0.5 , 1, 2, 3]\n",
    "}\n",
    "\n",
    "other_params = {'booster':'gbtree','learning_rate': 0.1, 'n_estimators': 50, 'max_depth': 5, 'min_child_weight': 2, 'seed': 42,\n",
    " 'gamma':0,'subsample':0.5,'colsample_bytree': 0.4}\n",
    "\n",
    "xgb_model = XGBRegressor(**other_params)\n",
    "gsearch = GridSearchCV(estimator = xgb_model, param_grid = parameters_for_testing, n_jobs=6,iid=False, verbose=10,scoring='r2')\n",
    "\n",
    "gsearch.fit(X_train, y_train)\n",
    "\n",
    "#print (gsearch1.cv_results_)\n",
    "print('best params')\n",
    "print (gsearch.best_params_)\n",
    "print('best score')\n",
    "print (gsearch.best_score_)"
   ]
  },
  {
   "cell_type": "markdown",
   "metadata": {},
   "source": [
    "# learning_rate"
   ]
  },
  {
   "cell_type": "code",
   "execution_count": 104,
   "metadata": {},
   "outputs": [
    {
     "name": "stdout",
     "output_type": "stream",
     "text": [
      "Fitting 3 folds for each of 5 candidates, totalling 15 fits\n",
      "best params\n",
      "{'learning_rate': 0.1}\n",
      "best score\n",
      "0.5084149697654791\n"
     ]
    },
    {
     "name": "stderr",
     "output_type": "stream",
     "text": [
      "[Parallel(n_jobs=6)]: Using backend LokyBackend with 6 concurrent workers.\n",
      "[Parallel(n_jobs=6)]: Done   1 tasks      | elapsed:    0.0s\n",
      "[Parallel(n_jobs=6)]: Batch computation too fast (0.0209s.) Setting batch_size=18.\n",
      "[Parallel(n_jobs=6)]: Done   4 out of  15 | elapsed:    0.0s remaining:    0.0s\n",
      "[Parallel(n_jobs=6)]: Done   6 out of  15 | elapsed:    0.0s remaining:    0.0s\n",
      "[Parallel(n_jobs=6)]: Done   8 out of  15 | elapsed:    0.0s remaining:    0.0s\n",
      "[Parallel(n_jobs=6)]: Done  10 out of  15 | elapsed:    0.0s remaining:    0.0s\n",
      "[Parallel(n_jobs=6)]: Done  12 out of  15 | elapsed:    0.0s remaining:    0.0s\n",
      "[Parallel(n_jobs=6)]: Done  15 out of  15 | elapsed:    0.0s finished\n"
     ]
    }
   ],
   "source": [
    "#for tuning parameters\n",
    "parameters_for_testing = {\n",
    "   'learning_rate': [0.01, 0.05, 0.07, 0.1, 0.2]\n",
    "}\n",
    "\n",
    "other_params = {'booster':'gbtree', 'n_estimators':50, 'max_depth': 5, 'min_child_weight': 2, 'seed': 42,\n",
    " 'gamma':0,'subsample':0.5,'colsample_bytree': 0.4,'reg_alpha': 0, 'reg_lambda': 1}\n",
    "\n",
    "xgb_model = XGBRegressor(**other_params)\n",
    "gsearch = GridSearchCV(estimator = xgb_model, param_grid = parameters_for_testing, n_jobs=6,iid=False, verbose=10,scoring='r2')\n",
    "\n",
    "gsearch.fit(X_train, y_train)\n",
    "\n",
    "#print (gsearch1.cv_results_)\n",
    "print('best params')\n",
    "print (gsearch.best_params_)\n",
    "print('best score')\n",
    "print (gsearch.best_score_)"
   ]
  },
  {
   "cell_type": "code",
   "execution_count": 105,
   "metadata": {
    "scrolled": false
   },
   "outputs": [
    {
     "data": {
      "text/plain": [
       "XGBRegressor(base_score=0.5, booster='gbtree', colsample_bylevel=1,\n",
       "             colsample_bynode=1, colsample_bytree=0.4, gamma=0, gpu_id=-1,\n",
       "             importance_type='gain', interaction_constraints='',\n",
       "             learning_rate=0.1, max_delta_step=0, max_depth=5,\n",
       "             min_child_weight=2, missing=nan, monotone_constraints='()',\n",
       "             n_estimators=50, n_jobs=0, num_parallel_tree=1,\n",
       "             objective='reg:squarederror', random_state=42, reg_alpha=0,\n",
       "             reg_lambda=1, scale_pos_weight=1, seed=42, subsample=0.5,\n",
       "             tree_method='exact', validate_parameters=1, verbosity=None)"
      ]
     },
     "execution_count": 105,
     "metadata": {},
     "output_type": "execute_result"
    }
   ],
   "source": [
    "best_xgb_model = XGBRegressor(\n",
    "              learning_rate = 0.1,\n",
    "              booster = 'gbtree', \n",
    "              n_estimators = 50, \n",
    "              max_depth = 5, \n",
    "              min_child_weight = 2,\n",
    "              seed = 42,\n",
    "              gamma = 0,\n",
    "              subsample = 0.5,\n",
    "              colsample_bytree = 0.4,\n",
    "              reg_alpha =  0,\n",
    "              reg_lambda = 1)\n",
    "\n",
    "best_xgb_model.fit(X_train, y_train)"
   ]
  },
  {
   "cell_type": "code",
   "execution_count": 106,
   "metadata": {},
   "outputs": [],
   "source": [
    "y_pred = best_xgb_model.predict(X_test)"
   ]
  },
  {
   "cell_type": "code",
   "execution_count": 107,
   "metadata": {},
   "outputs": [
    {
     "name": "stdout",
     "output_type": "stream",
     "text": [
      "R2 score: 0.6999\n"
     ]
    }
   ],
   "source": [
    "# 預測值與實際值的差距，使用 r2_score ([0,1] 越大越好 )\n",
    "print(\"R2 score: %.4f\"\n",
    "      % r2_score(y_test,y_pred))"
   ]
  },
  {
   "cell_type": "code",
   "execution_count": 108,
   "metadata": {
    "scrolled": true
   },
   "outputs": [
    {
     "name": "stdout",
     "output_type": "stream",
     "text": [
      "Percentage rmse score: inf\n"
     ]
    }
   ],
   "source": [
    "print(\"Percentage rmse score: %.2f\"\n",
    "      % pMSE(y_test,y_pred))"
   ]
  },
  {
   "cell_type": "code",
   "execution_count": 109,
   "metadata": {
    "scrolled": true
   },
   "outputs": [
    {
     "name": "stdout",
     "output_type": "stream",
     "text": [
      "Number lower than error: 32\n"
     ]
    }
   ],
   "source": [
    "print(\"Number lower than error: %d\"\n",
    "      % pNumber(y_test, y_pred, 15))"
   ]
  },
  {
   "cell_type": "code",
   "execution_count": 110,
   "metadata": {
    "scrolled": false
   },
   "outputs": [
    {
     "name": "stdout",
     "output_type": "stream",
     "text": [
      "Root mean squared error: 0.017658\n"
     ]
    }
   ],
   "source": [
    "# 預測值與實際值的差距，使用 RMSE\n",
    "print(\"Root mean squared error: %.6f\"\n",
    "      % math.sqrt(mean_squared_error(y_test,y_pred)))"
   ]
  },
  {
   "cell_type": "code",
   "execution_count": 111,
   "metadata": {},
   "outputs": [
    {
     "data": {
      "text/plain": [
       "count    104.000000\n",
       "mean            inf\n",
       "std             NaN\n",
       "min        1.486892\n",
       "10%        3.181183\n",
       "20%        3.181183\n",
       "30%       10.974205\n",
       "40%       21.468413\n",
       "50%       40.060824\n",
       "60%       56.802249\n",
       "70%       93.680191\n",
       "80%      122.572398\n",
       "90%      175.398535\n",
       "max             inf\n",
       "Name: Predict, dtype: float64"
      ]
     },
     "execution_count": 111,
     "metadata": {},
     "output_type": "execute_result"
    }
   ],
   "source": [
    "p = [0.1, 0.2, 0.3, 0.4, 0.5, 0.6, 0.7, 0.8, 0.9]\n",
    "abs((y_test - y_pred)/y_test*100).describe(percentiles = p)"
   ]
  },
  {
   "cell_type": "code",
   "execution_count": 112,
   "metadata": {
    "scrolled": true
   },
   "outputs": [
    {
     "name": "stdout",
     "output_type": "stream",
     "text": [
      "XGBoost regression score: 0.6891\n"
     ]
    }
   ],
   "source": [
    "# the score function displays the accuracy of the model which translates to how well the model \n",
    "# can accurately predict for a new datapoint.\n",
    "print(\"XGBoost regression score: %.4f\"\n",
    "      % best_xgb_model.score(X_train,y_train))"
   ]
  },
  {
   "cell_type": "markdown",
   "metadata": {},
   "source": [
    "# DecisionTree"
   ]
  },
  {
   "cell_type": "code",
   "execution_count": 113,
   "metadata": {},
   "outputs": [],
   "source": [
    "from sklearn.tree import DecisionTreeRegressor\n",
    "clf = DecisionTreeRegressor(\n",
    "            criterion ='mse', \n",
    "            random_state = 42\n",
    ")"
   ]
  },
  {
   "cell_type": "code",
   "execution_count": 114,
   "metadata": {
    "scrolled": false
   },
   "outputs": [
    {
     "name": "stdout",
     "output_type": "stream",
     "text": [
      "Fitting 3 folds for each of 63 candidates, totalling 189 fits\n"
     ]
    },
    {
     "name": "stderr",
     "output_type": "stream",
     "text": [
      "[Parallel(n_jobs=6)]: Using backend LokyBackend with 6 concurrent workers.\n",
      "[Parallel(n_jobs=6)]: Done   1 tasks      | elapsed:    0.0s\n",
      "[Parallel(n_jobs=6)]: Batch computation too fast (0.1018s.) Setting batch_size=2.\n",
      "[Parallel(n_jobs=6)]: Done   6 tasks      | elapsed:    0.0s\n",
      "[Parallel(n_jobs=6)]: Done  14 tasks      | elapsed:    0.0s\n",
      "[Parallel(n_jobs=6)]: Batch computation too fast (0.0409s.) Setting batch_size=18.\n",
      "[Parallel(n_jobs=6)]: Done  28 tasks      | elapsed:    0.1s\n"
     ]
    },
    {
     "name": "stdout",
     "output_type": "stream",
     "text": [
      "best params\n",
      "{'max_depth': 3, 'min_samples_split': 2}\n",
      "best score\n",
      "0.4532609539367775\n"
     ]
    },
    {
     "name": "stderr",
     "output_type": "stream",
     "text": [
      "[Parallel(n_jobs=6)]: Done 189 out of 189 | elapsed:    0.2s finished\n"
     ]
    }
   ],
   "source": [
    "param_grid = {'max_depth': range(1,10,1),\n",
    "              'min_samples_split': range(2,16,2)}\n",
    "\n",
    "gsearch = GridSearchCV(estimator = clf, param_grid = param_grid, n_jobs=6,iid=False, verbose=10,scoring='r2')\n",
    "\n",
    "gsearch.fit(X_train, y_train)\n",
    "\n",
    "print('best params')\n",
    "print (gsearch.best_params_)\n",
    "print('best score')\n",
    "print (gsearch.best_score_)"
   ]
  },
  {
   "cell_type": "code",
   "execution_count": 53,
   "metadata": {
    "scrolled": true
   },
   "outputs": [
    {
     "name": "stdout",
     "output_type": "stream",
     "text": [
      "Fitting 3 folds for each of 72 candidates, totalling 216 fits\n"
     ]
    },
    {
     "name": "stderr",
     "output_type": "stream",
     "text": [
      "[Parallel(n_jobs=6)]: Using backend LokyBackend with 6 concurrent workers.\n",
      "[Parallel(n_jobs=6)]: Done   1 tasks      | elapsed:    0.0s\n",
      "[Parallel(n_jobs=6)]: Batch computation too fast (0.0170s.) Setting batch_size=22.\n",
      "[Parallel(n_jobs=6)]: Done   6 tasks      | elapsed:    0.0s\n"
     ]
    },
    {
     "name": "stdout",
     "output_type": "stream",
     "text": [
      "best params\n",
      "{'max_leaf_nodes': 6, 'min_samples_leaf': 1}\n",
      "best score\n",
      "0.4575905314445712\n"
     ]
    },
    {
     "name": "stderr",
     "output_type": "stream",
     "text": [
      "[Parallel(n_jobs=6)]: Done 216 out of 216 | elapsed:    0.1s finished\n"
     ]
    }
   ],
   "source": [
    " param_grid = {\n",
    "              \"min_samples_leaf\": range(1,10,1),\n",
    "              \"max_leaf_nodes\": range(2,10,1)\n",
    "              }\n",
    "    \n",
    "clf = DecisionTreeRegressor(\n",
    "            criterion ='mse', \n",
    "            max_depth = 3,\n",
    "            min_samples_split = 2,\n",
    "            random_state = 42\n",
    ")\n",
    "\n",
    "gsearch = GridSearchCV(estimator = clf, param_grid = param_grid, n_jobs=6,iid=False, verbose=10,scoring='r2')\n",
    "\n",
    "gsearch.fit(X_train, y_train)\n",
    "\n",
    "print('best params')\n",
    "print (gsearch.best_params_)\n",
    "print('best score')\n",
    "print (gsearch.best_score_)"
   ]
  },
  {
   "cell_type": "code",
   "execution_count": 54,
   "metadata": {},
   "outputs": [],
   "source": [
    "clf = DecisionTreeRegressor(\n",
    "            criterion ='mse', \n",
    "            max_depth = 3,\n",
    "            min_samples_split = 2,\n",
    "            max_leaf_nodes = 6,\n",
    "            min_samples_leaf = 1,\n",
    "            random_state = 42\n",
    ")\n",
    "# 訓練模型\n",
    "clf.fit(X_train, y_train)\n",
    "\n",
    "# 預測測試集\n",
    "y_pred = clf.predict(X_test)"
   ]
  },
  {
   "cell_type": "code",
   "execution_count": 55,
   "metadata": {},
   "outputs": [
    {
     "name": "stdout",
     "output_type": "stream",
     "text": [
      "Feature importance:  [8.60611581e-01 7.14180276e-05 4.55681384e-02 0.00000000e+00\n",
      " 9.37488627e-02]\n"
     ]
    }
   ],
   "source": [
    "print(\"Feature importance: \", clf.feature_importances_)"
   ]
  },
  {
   "cell_type": "code",
   "execution_count": 56,
   "metadata": {},
   "outputs": [
    {
     "name": "stdout",
     "output_type": "stream",
     "text": [
      "R2 score: 0.6069\n"
     ]
    }
   ],
   "source": [
    "# 預測值與實際值的差距，使用 r2_score ([0,1] 越大越好 )\n",
    "print(\"R2 score: %.4f\"\n",
    "      % r2_score(y_test, y_pred))"
   ]
  },
  {
   "cell_type": "code",
   "execution_count": 57,
   "metadata": {
    "scrolled": true
   },
   "outputs": [
    {
     "name": "stdout",
     "output_type": "stream",
     "text": [
      "Percentage rmse score: inf\n"
     ]
    }
   ],
   "source": [
    "print(\"Percentage rmse score: %.2f\"\n",
    "      % pMSE(y_test, y_pred))"
   ]
  },
  {
   "cell_type": "code",
   "execution_count": 58,
   "metadata": {},
   "outputs": [
    {
     "name": "stdout",
     "output_type": "stream",
     "text": [
      "Root mean squared error: 0.020211\n"
     ]
    }
   ],
   "source": [
    "# 預測值與實際值的差距，使用 RMSE\n",
    "print(\"Root mean squared error: %.6f\"\n",
    "      % math.sqrt(mean_squared_error(y_test, y_pred)))"
   ]
  },
  {
   "cell_type": "code",
   "execution_count": 59,
   "metadata": {},
   "outputs": [
    {
     "data": {
      "text/plain": [
       "count    104.000000\n",
       "mean            inf\n",
       "std             NaN\n",
       "min        0.137931\n",
       "10%        0.137931\n",
       "20%        0.137931\n",
       "30%        3.225806\n",
       "40%       12.000000\n",
       "50%       51.612903\n",
       "60%       54.166667\n",
       "70%       84.146341\n",
       "80%      141.354839\n",
       "90%      196.774194\n",
       "max             inf\n",
       "Name: Predict, dtype: float64"
      ]
     },
     "execution_count": 59,
     "metadata": {},
     "output_type": "execute_result"
    }
   ],
   "source": [
    "p = [0.1, 0.2, 0.3, 0.4, 0.5, 0.6, 0.7, 0.8, 0.9]\n",
    "abs((y_test - y_pred)/y_test*100).describe(percentiles = p)"
   ]
  },
  {
   "cell_type": "markdown",
   "metadata": {},
   "source": [
    "#  RandomForest"
   ]
  },
  {
   "cell_type": "code",
   "execution_count": 60,
   "metadata": {},
   "outputs": [],
   "source": [
    "from sklearn.ensemble import RandomForestRegressor\n",
    "clf = RandomForestRegressor(\n",
    "          criterion ='mse', \n",
    "          random_state = 42\n",
    ")"
   ]
  },
  {
   "cell_type": "code",
   "execution_count": 61,
   "metadata": {
    "scrolled": true
   },
   "outputs": [
    {
     "name": "stdout",
     "output_type": "stream",
     "text": [
      "Fitting 3 folds for each of 720 candidates, totalling 2160 fits\n"
     ]
    },
    {
     "name": "stderr",
     "output_type": "stream",
     "text": [
      "[Parallel(n_jobs=6)]: Using backend LokyBackend with 6 concurrent workers.\n",
      "[Parallel(n_jobs=6)]: Done   1 tasks      | elapsed:    0.0s\n",
      "[Parallel(n_jobs=6)]: Batch computation too fast (0.0379s.) Setting batch_size=10.\n",
      "[Parallel(n_jobs=6)]: Done   6 tasks      | elapsed:    0.0s\n",
      "[Parallel(n_jobs=6)]: Done  22 tasks      | elapsed:    0.1s\n",
      "[Parallel(n_jobs=6)]: Batch computation too fast (0.1776s.) Setting batch_size=22.\n",
      "[Parallel(n_jobs=6)]: Done  92 tasks      | elapsed:    0.4s\n",
      "[Parallel(n_jobs=6)]: Done 242 tasks      | elapsed:    1.2s\n",
      "[Parallel(n_jobs=6)]: Done 440 tasks      | elapsed:    2.0s\n",
      "[Parallel(n_jobs=6)]: Done 682 tasks      | elapsed:    3.2s\n",
      "[Parallel(n_jobs=6)]: Done 924 tasks      | elapsed:    4.3s\n",
      "[Parallel(n_jobs=6)]: Done 1210 tasks      | elapsed:    5.7s\n",
      "[Parallel(n_jobs=6)]: Done 1496 tasks      | elapsed:    7.1s\n",
      "[Parallel(n_jobs=6)]: Done 1826 tasks      | elapsed:    8.8s\n"
     ]
    },
    {
     "name": "stdout",
     "output_type": "stream",
     "text": [
      "best params\n",
      "{'max_depth': 6, 'min_samples_split': 6, 'n_estimators': 35}\n",
      "best score\n",
      "0.534492825053312\n"
     ]
    },
    {
     "name": "stderr",
     "output_type": "stream",
     "text": [
      "[Parallel(n_jobs=6)]: Done 2160 out of 2160 | elapsed:   10.3s finished\n"
     ]
    }
   ],
   "source": [
    "param_grid = {\n",
    "              'n_estimators': range(5,51,5),\n",
    "              'max_depth': range(1,10,1),\n",
    "              'min_samples_split': range(2,10,1)}\n",
    "\n",
    "gsearch = GridSearchCV(estimator = clf, param_grid = param_grid, n_jobs=6,iid=False, verbose=10,scoring='r2')\n",
    "\n",
    "gsearch.fit(X_train, y_train)\n",
    "\n",
    "print('best params')\n",
    "print (gsearch.best_params_)\n",
    "print('best score')\n",
    "print (gsearch.best_score_)"
   ]
  },
  {
   "cell_type": "code",
   "execution_count": 63,
   "metadata": {
    "scrolled": false
   },
   "outputs": [
    {
     "name": "stdout",
     "output_type": "stream",
     "text": [
      "Fitting 3 folds for each of 117 candidates, totalling 351 fits\n"
     ]
    },
    {
     "name": "stderr",
     "output_type": "stream",
     "text": [
      "[Parallel(n_jobs=6)]: Using backend LokyBackend with 6 concurrent workers.\n",
      "[Parallel(n_jobs=6)]: Done   1 tasks      | elapsed:    0.0s\n",
      "[Parallel(n_jobs=6)]: Batch computation too fast (0.0309s.) Setting batch_size=12.\n",
      "[Parallel(n_jobs=6)]: Done   6 tasks      | elapsed:    0.0s\n",
      "[Parallel(n_jobs=6)]: Done  24 tasks      | elapsed:    0.4s\n",
      "[Parallel(n_jobs=6)]: Done 108 tasks      | elapsed:    0.9s\n",
      "[Parallel(n_jobs=6)]: Done 216 tasks      | elapsed:    1.3s\n"
     ]
    },
    {
     "name": "stdout",
     "output_type": "stream",
     "text": [
      "best params\n",
      "{'max_leaf_nodes': 14, 'min_samples_leaf': 2}\n",
      "best score\n",
      "0.5291139933779037\n"
     ]
    },
    {
     "name": "stderr",
     "output_type": "stream",
     "text": [
      "[Parallel(n_jobs=6)]: Done 351 out of 351 | elapsed:    2.1s finished\n"
     ]
    }
   ],
   "source": [
    " param_grid = {\n",
    "              \"min_samples_leaf\": range(1,10,1),\n",
    "              \"max_leaf_nodes\": range(2,15,1)\n",
    "              }\n",
    "    \n",
    "clf = RandomForestRegressor(\n",
    "            criterion ='mse', \n",
    "            n_estimators = 35,\n",
    "            max_depth = 6,\n",
    "            min_samples_split = 6,\n",
    "            random_state = 42\n",
    ")\n",
    "\n",
    "gsearch = GridSearchCV(estimator = clf, param_grid = param_grid, n_jobs=6,iid=False, verbose=10,scoring='r2')\n",
    "\n",
    "gsearch.fit(X_train, y_train)\n",
    "\n",
    "print('best params')\n",
    "print (gsearch.best_params_)\n",
    "print('best score')\n",
    "print (gsearch.best_score_)"
   ]
  },
  {
   "cell_type": "code",
   "execution_count": 64,
   "metadata": {},
   "outputs": [],
   "source": [
    "clf = RandomForestRegressor( \n",
    "            criterion ='mse', \n",
    "            n_estimators = 35,\n",
    "            max_depth = 6,\n",
    "            min_samples_split = 6,\n",
    "            max_leaf_nodes = 14,\n",
    "            min_samples_leaf =2,\n",
    "            random_state = 42) \n",
    "#給予max_depth 可以避免過度擬和\n",
    "\n",
    "# 訓練模型\n",
    "clf.fit(X_train, y_train)\n",
    "\n",
    "# 預測測試集\n",
    "y_pred = clf.predict(X_test)"
   ]
  },
  {
   "cell_type": "code",
   "execution_count": 65,
   "metadata": {},
   "outputs": [
    {
     "name": "stdout",
     "output_type": "stream",
     "text": [
      "Feature importance:  [0.54020821 0.14602044 0.06007912 0.13802509 0.11566715]\n"
     ]
    }
   ],
   "source": [
    "print(\"Feature importance: \", clf.feature_importances_)"
   ]
  },
  {
   "cell_type": "code",
   "execution_count": 66,
   "metadata": {},
   "outputs": [
    {
     "name": "stdout",
     "output_type": "stream",
     "text": [
      "R2 score: 0.6876\n"
     ]
    }
   ],
   "source": [
    "# 預測值與實際值的差距，使用 r2_score ([0,1] 越大越好 )\n",
    "print(\"R2 score: %.4f\"\n",
    "      % r2_score(y_test, y_pred))"
   ]
  },
  {
   "cell_type": "code",
   "execution_count": 67,
   "metadata": {
    "scrolled": true
   },
   "outputs": [
    {
     "name": "stdout",
     "output_type": "stream",
     "text": [
      "Percentage rmse score: inf\n"
     ]
    }
   ],
   "source": [
    "print(\"Percentage rmse score: %.2f\"\n",
    "      % pMSE(y_test, y_pred))"
   ]
  },
  {
   "cell_type": "code",
   "execution_count": 68,
   "metadata": {},
   "outputs": [
    {
     "name": "stdout",
     "output_type": "stream",
     "text": [
      "Root mean squared error: 0.018017\n"
     ]
    }
   ],
   "source": [
    "# 預測值與實際值的差距，使用 RMSE\n",
    "print(\"Root mean squared error: %.6f\"\n",
    "      % math.sqrt(mean_squared_error(y_test, y_pred)))"
   ]
  },
  {
   "cell_type": "code",
   "execution_count": 69,
   "metadata": {},
   "outputs": [
    {
     "data": {
      "text/plain": [
       "count    104.000000\n",
       "mean            inf\n",
       "std             NaN\n",
       "min        0.261964\n",
       "10%        0.377892\n",
       "20%        0.377892\n",
       "30%        2.220480\n",
       "40%       11.693412\n",
       "50%       34.499616\n",
       "60%       67.788362\n",
       "70%       90.029265\n",
       "80%      130.007070\n",
       "90%      183.609029\n",
       "max             inf\n",
       "Name: Predict, dtype: float64"
      ]
     },
     "execution_count": 69,
     "metadata": {},
     "output_type": "execute_result"
    }
   ],
   "source": [
    "p = [0.1, 0.2, 0.3, 0.4, 0.5, 0.6, 0.7, 0.8, 0.9]\n",
    "abs((y_test - y_pred)/y_test*100).describe(percentiles = p)"
   ]
  },
  {
   "cell_type": "code",
   "execution_count": null,
   "metadata": {},
   "outputs": [],
   "source": [
    "# X = pd.concat([df[title], con1,con2], axis=1).to_numpy() "
   ]
  }
 ],
 "metadata": {
  "kernelspec": {
   "display_name": "Python 3",
   "language": "python",
   "name": "python3"
  },
  "language_info": {
   "codemirror_mode": {
    "name": "ipython",
    "version": 3
   },
   "file_extension": ".py",
   "mimetype": "text/x-python",
   "name": "python",
   "nbconvert_exporter": "python",
   "pygments_lexer": "ipython3",
   "version": "3.7.4"
  }
 },
 "nbformat": 4,
 "nbformat_minor": 2
}
