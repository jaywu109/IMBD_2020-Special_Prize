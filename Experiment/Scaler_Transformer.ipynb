{
 "cells": [
  {
   "cell_type": "code",
   "execution_count": 1,
   "metadata": {},
   "outputs": [],
   "source": [
    "import numpy as np\n",
    "import math\n",
    "import pandas as pd\n",
    "import math\n",
    "\n",
    "import matplotlib.pyplot as plt\n",
    "import seaborn as sns\n",
    "\n",
    "from scipy import stats\n",
    "from scipy.stats import norm, skew #for some statistics\n",
    "from sklearn.preprocessing import PowerTransformer\n",
    "\n",
    "from sklearn.linear_model import LinearRegression\n",
    "from sklearn.model_selection import train_test_split\n",
    "from sklearn.metrics import mean_squared_error\n",
    "from sklearn.preprocessing import PolynomialFeatures\n",
    "from sklearn.ensemble import RandomForestRegressor\n",
    "from sklearn.datasets import make_regression\n",
    "from sklearn.preprocessing import RobustScaler\n",
    "from sklearn.preprocessing import MinMaxScaler"
   ]
  },
  {
   "cell_type": "code",
   "execution_count": 2,
   "metadata": {},
   "outputs": [],
   "source": [
    "# Linear Regression Baseline -> 印出 Train&Test 的 Rmse\n",
    "def lr_rmse(data):\n",
    "    x = data.drop(['Predict'], axis = 1)\n",
    "    y = data.Predict\n",
    "\n",
    "    x_train,x_test,y_train,y_test = train_test_split(x,y, random_state = 0)\n",
    "\n",
    "\n",
    "    lr = LinearRegression().fit(x_train,y_train)\n",
    "\n",
    "    y_train_pred = lr.predict(x_train)\n",
    "    y_test_pred = lr.predict(x_test)\n",
    "    train_rmse=mean_squared_error(y_train, y_train_pred,squared=False)\n",
    "    test_rmse=mean_squared_error(y_test, y_test_pred,squared=False)\n",
    "    print('train_rmse:',train_rmse)\n",
    "    print('test_rmse:',test_rmse)"
   ]
  },
  {
   "cell_type": "code",
   "execution_count": 3,
   "metadata": {},
   "outputs": [],
   "source": [
    "# 同上 但取切 5 個 Train&Test 的平均結果\n",
    "def lr_rmse_ave(data):\n",
    "\n",
    "    x = data.drop(['Predict'], axis = 1)\n",
    "    y = data.Predict\n",
    "    \n",
    "    train_rmse=[]\n",
    "    test_rmse=[]\n",
    "    \n",
    "    for i in np.arange(10):\n",
    "        x_train,x_test,y_train,y_test = train_test_split(x,y, random_state = i)\n",
    "        lr = LinearRegression().fit(x_train,y_train)\n",
    "\n",
    "        y_train_pred = lr.predict(x_train)\n",
    "        y_test_pred = lr.predict(x_test)\n",
    "        train_rmse.append(mean_squared_error(y_train, y_train_pred,squared=False))\n",
    "        test_rmse.append(mean_squared_error(y_test, y_test_pred,squared=False))\n",
    "    \n",
    "    print('train_rmse:',np.array(train_rmse).mean())\n",
    "    print('test_rmse:',np.array(test_rmse).mean())"
   ]
  },
  {
   "cell_type": "code",
   "execution_count": 19,
   "metadata": {},
   "outputs": [],
   "source": [
    "data=pd.read_csv('./BayesianRidge_Pre_0/Input_A1_020.csv',index_col=0).drop(['Number'], axis=1)\n",
    "# 取前 5 項目重要的\n",
    "data_5f=data[['Input_A4_020', 'Input_A3_020', 'Input_A5_020', 'Input_A2_020', 'Input_A6_020', 'Predict']]"
   ]
  },
  {
   "cell_type": "code",
   "execution_count": 20,
   "metadata": {},
   "outputs": [
    {
     "name": "stdout",
     "output_type": "stream",
     "text": [
      "all\n",
      "train_rmse: 0.10764017567778413\n",
      "test_rmse: 34.77036693971699\n",
      "5 features\n",
      "train_rmse: 0.5420244934323615\n",
      "test_rmse: 0.6154357997692957\n"
     ]
    }
   ],
   "source": [
    "print('all')\n",
    "lr_rmse_ave(data)\n",
    "print('5 features')\n",
    "lr_rmse_ave(data_5f)"
   ]
  },
  {
   "cell_type": "code",
   "execution_count": 21,
   "metadata": {},
   "outputs": [
    {
     "data": {
      "text/plain": [
       "2.391580902274799"
      ]
     },
     "execution_count": 21,
     "metadata": {},
     "output_type": "execute_result"
    }
   ],
   "source": [
    "data['Input_A4_020'].skew()"
   ]
  },
  {
   "cell_type": "code",
   "execution_count": 22,
   "metadata": {},
   "outputs": [],
   "source": [
    "data_skew=data.copy()"
   ]
  },
  {
   "cell_type": "code",
   "execution_count": 23,
   "metadata": {},
   "outputs": [
    {
     "name": "stdout",
     "output_type": "stream",
     "text": [
      "Input_A1_001\n",
      "Input_A1_002\n",
      "Input_A1_003\n",
      "Input_A1_004\n",
      "Input_A1_005\n",
      "Input_A1_006\n",
      "Input_A1_011\n",
      "Input_A1_021\n",
      "Input_A1_022\n",
      "Input_A1_023\n",
      "Input_A1_024\n",
      "Input_A2_001\n",
      "Input_A2_002\n",
      "Input_A2_003\n",
      "Input_A2_004\n",
      "Input_A2_005\n",
      "Input_A2_006\n",
      "Input_A2_011\n",
      "Input_A2_013\n",
      "Input_A2_020\n",
      "Input_A2_021\n",
      "Input_A2_022\n",
      "Input_A2_023\n",
      "Input_A3_001\n",
      "Input_A3_002\n",
      "Input_A3_003\n",
      "Input_A3_004\n",
      "Input_A3_005\n",
      "Input_A3_006\n",
      "Input_A3_007\n",
      "Input_A3_011\n",
      "Input_A3_020\n",
      "Input_A3_021\n",
      "Input_A3_022\n",
      "Input_A3_023\n",
      "Input_A3_024\n",
      "Input_A4_001\n",
      "Input_A4_002\n",
      "Input_A4_003\n",
      "Input_A4_004\n",
      "Input_A4_005\n",
      "Input_A4_006\n",
      "Input_A4_007\n",
      "Input_A4_011\n",
      "Input_A4_020\n",
      "Input_A4_021\n",
      "Input_A4_022\n",
      "Input_A4_023\n",
      "Input_A4_024\n",
      "Input_A5_001\n",
      "Input_A5_002\n",
      "Input_A5_003\n",
      "Input_A5_004\n",
      "Input_A5_005\n",
      "Input_A5_006\n",
      "Input_A5_007\n",
      "Input_A5_011\n",
      "Input_A5_020\n",
      "Input_A5_021\n",
      "Input_A5_022\n",
      "Input_A5_023\n",
      "Input_A5_024\n",
      "Input_A6_002\n",
      "Input_A6_003\n",
      "Input_A6_004\n",
      "Input_A6_005\n",
      "Input_A6_006\n",
      "Input_A6_007\n",
      "Input_A6_020\n",
      "Input_A6_021\n",
      "Input_C_005\n",
      "Input_C_011\n",
      "Input_C_012\n",
      "Input_C_039\n",
      "Input_C_047\n",
      "Input_C_048\n",
      "Input_C_051\n",
      "Input_C_056\n",
      "Input_C_061\n",
      "Input_C_062\n",
      "Input_C_092\n",
      "Input_C_104\n",
      "Input_C_105\n",
      "Input_C_106\n",
      "Input_C_107\n",
      "Input_C_108\n",
      "Input_C_109\n",
      "Input_C_110\n",
      "Input_C_111\n",
      "Input_C_112\n",
      "Input_C_113\n",
      "Input_C_135\n",
      "Input_C_022_X\n",
      "Input_C_023_X\n",
      "Input_C_025_X\n",
      "Input_C_026_X\n",
      "Input_C_028_X\n",
      "Input_C_030_X\n",
      "Input_C_032_X\n",
      "Input_C_033_X\n",
      "Input_C_034_X\n",
      "Input_C_036_X\n"
     ]
    },
    {
     "name": "stderr",
     "output_type": "stream",
     "text": [
      "C:\\Users\\user\\anaconda3\\envs\\imbd2020\\lib\\site-packages\\sklearn\\preprocessing\\_data.py:2995: RuntimeWarning: divide by zero encountered in log\n",
      "  loglike = -n_samples / 2 * np.log(x_trans.var())\n",
      "C:\\Users\\user\\anaconda3\\envs\\imbd2020\\lib\\site-packages\\sklearn\\preprocessing\\_data.py:2995: RuntimeWarning: divide by zero encountered in log\n",
      "  loglike = -n_samples / 2 * np.log(x_trans.var())\n",
      "C:\\Users\\user\\anaconda3\\envs\\imbd2020\\lib\\site-packages\\sklearn\\preprocessing\\_data.py:2960: RuntimeWarning: overflow encountered in power\n",
      "  out[pos] = (np.power(x[pos] + 1, lmbda) - 1) / lmbda\n",
      "C:\\Users\\user\\anaconda3\\envs\\imbd2020\\lib\\site-packages\\numpy\\core\\_methods.py:205: RuntimeWarning: overflow encountered in multiply\n",
      "  x = um.multiply(x, x, out=x)\n",
      "C:\\Users\\user\\anaconda3\\envs\\imbd2020\\lib\\site-packages\\numpy\\core\\_methods.py:216: RuntimeWarning: overflow encountered in reduce\n",
      "  ret = umr_sum(x, axis, dtype, out, keepdims)\n",
      "C:\\Users\\user\\anaconda3\\envs\\imbd2020\\lib\\site-packages\\sklearn\\preprocessing\\_data.py:2960: RuntimeWarning: overflow encountered in power\n",
      "  out[pos] = (np.power(x[pos] + 1, lmbda) - 1) / lmbda\n",
      "C:\\Users\\user\\anaconda3\\envs\\imbd2020\\lib\\site-packages\\numpy\\core\\_methods.py:205: RuntimeWarning: overflow encountered in multiply\n",
      "  x = um.multiply(x, x, out=x)\n",
      "C:\\Users\\user\\anaconda3\\envs\\imbd2020\\lib\\site-packages\\numpy\\core\\_methods.py:216: RuntimeWarning: overflow encountered in reduce\n",
      "  ret = umr_sum(x, axis, dtype, out, keepdims)\n"
     ]
    }
   ],
   "source": [
    "# 直接執行轉換拉到最下面會發現 Wraninig\n",
    "for col in data_skew.drop(['Predict'], axis=1).columns: # Predict 不做轉換\n",
    "    if abs(data_skew[col].skew()) > 0.7: # 取偏態絕對值大於 0.7的項\n",
    "        print(col)\n",
    "        pt = PowerTransformer() # PowerTransformer 預設為 Yeo-Johson 轉換可轉正負數，不同於另一種 Box-Cox 只能用於正數\n",
    "        d = pt.fit_transform(data_skew[col].values.reshape(-1, 1)).flatten()\n",
    "        data_skew[col]=d\n"
   ]
  },
  {
   "cell_type": "code",
   "execution_count": 25,
   "metadata": {},
   "outputs": [
    {
     "name": "stdout",
     "output_type": "stream",
     "text": [
      "all_before\n",
      "train_rmse: 0.10764017567778413\n",
      "test_rmse: 34.77036693971699\n",
      "transform\n",
      "train_rmse: 0.11687946176802602\n",
      "test_rmse: 2.299214077911787\n",
      "5f_before\n",
      "train_rmse: 0.5420244934323615\n",
      "test_rmse: 0.6154357997692957\n",
      "transform_5f\n",
      "train_rmse: 0.5824025653306407\n",
      "test_rmse: 0.659466246032736\n"
     ]
    }
   ],
   "source": [
    "# 轉換比較\n",
    "print('all_before')\n",
    "lr_rmse_ave(data)\n",
    "print('transform')\n",
    "lr_rmse_ave(data_skew)\n",
    "\n",
    "data_skew_5f=data_skew[['Input_A4_020', 'Input_A3_020', 'Input_A5_020', 'Input_A2_020', 'Input_A6_020', 'Predict']]\n",
    "print('5f_before')\n",
    "lr_rmse_ave(data_5f)\n",
    "print('transform_5f')\n",
    "lr_rmse_ave(data_skew_5f)"
   ]
  },
  {
   "cell_type": "code",
   "execution_count": 29,
   "metadata": {},
   "outputs": [],
   "source": [
    "min_max=data.drop(['Predict'], axis=1).copy()\n",
    "min_max[min_max.columns]=MinMaxScaler().fit_transform(min_max)\n",
    "min_max=pd.concat([min_max, data.Predict], axis=1)\n",
    "\n",
    "robust=data.drop(['Predict'], axis=1).copy()\n",
    "robust[robust.columns]=RobustScaler().fit_transform(robust)\n",
    "robust=pd.concat([robust, data.Predict], axis=1)"
   ]
  },
  {
   "cell_type": "code",
   "execution_count": 31,
   "metadata": {},
   "outputs": [
    {
     "name": "stdout",
     "output_type": "stream",
     "text": [
      "original\n",
      "train_rmse: 0.10764017567778413\n",
      "test_rmse: 34.77036693971699\n",
      "min_max\n",
      "train_rmse: 0.10764017567778583\n",
      "test_rmse: 34.77036693973432\n",
      "robust\n",
      "train_rmse: 0.10764017567778579\n",
      "test_rmse: 34.77036693972756\n",
      "\n",
      "\n",
      "5f\n",
      "train_rmse: 0.10764017567778413\n",
      "test_rmse: 34.77036693971699\n",
      "robust_5f\n",
      "train_rmse: 0.10764017567778583\n",
      "test_rmse: 34.77036693973432\n",
      "min_max_5f\n",
      "train_rmse: 0.10764017567778579\n",
      "test_rmse: 34.77036693972756\n"
     ]
    }
   ],
   "source": [
    "# 單純採用 Scaling 對於結果影響不大\n",
    "print('original')\n",
    "lr_rmse_ave(data)\n",
    "print('min_max')\n",
    "lr_rmse_ave(min_max)\n",
    "print('robust')\n",
    "lr_rmse_ave(robust)\n",
    "print('\\n')\n",
    "data_5f=data[['Input_A4_020', 'Input_A3_020', 'Input_A5_020', 'Input_A2_020', 'Input_A6_020', 'Predict']]\n",
    "robust_5f=robust[['Input_A4_020', 'Input_A3_020', 'Input_A5_020', 'Input_A2_020', 'Input_A6_020', 'Predict']]\n",
    "min_max_5f=min_max[['Input_A4_020', 'Input_A3_020', 'Input_A5_020', 'Input_A2_020', 'Input_A6_020', 'Predict']]\n",
    "print('5f')\n",
    "lr_rmse_ave(data)\n",
    "print('robust_5f')\n",
    "lr_rmse_ave(min_max)\n",
    "print('min_max_5f')\n",
    "lr_rmse_ave(robust)"
   ]
  },
  {
   "cell_type": "code",
   "execution_count": 35,
   "metadata": {},
   "outputs": [],
   "source": [
    "# 看先 Scaling 再轉換後的比較\n",
    "min_max_skew=min_max.copy()\n",
    "robust_skew=robust.copy()"
   ]
  },
  {
   "cell_type": "code",
   "execution_count": 36,
   "metadata": {},
   "outputs": [],
   "source": [
    "for col in min_max_skew.drop(['Predict'], axis=1).columns:\n",
    "    if abs(min_max_skew[col].skew()) > 0.7: \n",
    "#         print(col)\n",
    "        pt = PowerTransformer() \n",
    "        d = pt.fit_transform(min_max_skew[col].values.reshape(-1, 1)).flatten()\n",
    "        min_max_skew[col]=d"
   ]
  },
  {
   "cell_type": "code",
   "execution_count": 37,
   "metadata": {},
   "outputs": [],
   "source": [
    "for col in robust_skew.drop(['Predict'], axis=1).columns:\n",
    "    if abs(robust_skew[col].skew()) > 0.7: \n",
    "#         print(col)\n",
    "        pt = PowerTransformer() \n",
    "        d = pt.fit_transform(robust_skew[col].values.reshape(-1, 1)).flatten()\n",
    "        robust_skew[col]=d"
   ]
  },
  {
   "cell_type": "code",
   "execution_count": 38,
   "metadata": {},
   "outputs": [
    {
     "name": "stdout",
     "output_type": "stream",
     "text": [
      "all_before\n",
      "train_rmse: 0.10764017567778413\n",
      "test_rmse: 34.77036693971699\n",
      "transform\n",
      "train_rmse: 0.11687946176802602\n",
      "test_rmse: 2.299214077911787\n",
      "min_max_transform\n",
      "train_rmse: 0.10916496765814734\n",
      "test_rmse: 2.5631512231520235\n",
      "robust_transform\n",
      "train_rmse: 0.11497115625211737\n",
      "test_rmse: 2.550341232670152\n",
      "\n",
      "\n",
      "5f_before\n",
      "train_rmse: 0.5420244934323615\n",
      "test_rmse: 0.6154357997692957\n",
      "transform_5f\n",
      "train_rmse: 0.5824025653306407\n",
      "test_rmse: 0.659466246032736\n",
      "min_max_transform_5f\n",
      "train_rmse: 0.5733670660490613\n",
      "test_rmse: 0.6496999797411799\n",
      "robust_transform_5f\n",
      "train_rmse: 0.5834209069270334\n",
      "test_rmse: 0.6603160931814597\n"
     ]
    }
   ],
   "source": [
    "print('all_before')\n",
    "lr_rmse_ave(data)\n",
    "print('transform') # 沒有 Scaling\n",
    "lr_rmse_ave(data_skew)\n",
    "print('min_max_transform')\n",
    "lr_rmse_ave(min_max_skew)\n",
    "print('robust_transform')\n",
    "lr_rmse_ave(robust_skew)\n",
    "\n",
    "print('\\n')\n",
    "\n",
    "min_max_skew_5f=min_max_skew[['Input_A4_020', 'Input_A3_020', 'Input_A5_020', 'Input_A2_020', 'Input_A6_020', 'Predict']]\n",
    "robust_skew_5f=robust_skew[['Input_A4_020', 'Input_A3_020', 'Input_A5_020', 'Input_A2_020', 'Input_A6_020', 'Predict']]\n",
    "print('5f_before')\n",
    "lr_rmse_ave(data_5f)\n",
    "print('transform_5f')  # 沒有 Scaling\n",
    "lr_rmse_ave(data_skew_5f)\n",
    "print('min_max_transform_5f')\n",
    "lr_rmse_ave(min_max_skew_5f)\n",
    "print('robust_transform_5f')\n",
    "lr_rmse_ave(robust_skew_5f)"
   ]
  },
  {
   "cell_type": "code",
   "execution_count": 42,
   "metadata": {},
   "outputs": [],
   "source": [
    "# 看先轉換再 Scaling\n",
    "skew_minmax=data_skew.drop(['Predict'], axis=1).copy()\n",
    "skew_minmax[skew_minmax.columns]=MinMaxScaler().fit_transform(skew_minmax)\n",
    "skew_minmax=pd.concat([skew_minmax, data.Predict], axis=1)\n",
    "\n",
    "skew_robust=data_skew.drop(['Predict'], axis=1).copy()\n",
    "skew_robust[skew_robust.columns]=RobustScaler().fit_transform(skew_robust)\n",
    "skew_robust=pd.concat([skew_robust, data.Predict], axis=1)"
   ]
  },
  {
   "cell_type": "code",
   "execution_count": 43,
   "metadata": {},
   "outputs": [
    {
     "name": "stdout",
     "output_type": "stream",
     "text": [
      "all_before\n",
      "train_rmse: 0.10764017567778413\n",
      "test_rmse: 34.77036693971699\n",
      "transform\n",
      "train_rmse: 0.11687946176802602\n",
      "test_rmse: 2.299214077911787\n",
      "transform_minmax\n",
      "train_rmse: 0.11687946176802604\n",
      "test_rmse: 2.29921407791193\n",
      "transform_robust\n",
      "train_rmse: 0.11688704970628017\n",
      "test_rmse: 2.2994614662616706\n",
      "\n",
      "\n",
      "5f_before\n",
      "train_rmse: 0.5420244934323615\n",
      "test_rmse: 0.6154357997692957\n",
      "transform_5f\n",
      "train_rmse: 0.5824025653306407\n",
      "test_rmse: 0.659466246032736\n",
      "transform_minmax_5f\n",
      "train_rmse: 0.5824025653306407\n",
      "test_rmse: 0.659466246032736\n",
      "transform_robust_5f\n",
      "train_rmse: 0.5824025653306407\n",
      "test_rmse: 0.6594662460327358\n"
     ]
    }
   ],
   "source": [
    "print('all_before')\n",
    "lr_rmse_ave(data)\n",
    "print('transform') # 沒有 Scaling\n",
    "lr_rmse_ave(data_skew)\n",
    "print('transform_minmax')\n",
    "lr_rmse_ave(skew_minmax)\n",
    "print('transform_robust') \n",
    "lr_rmse_ave(skew_robust)\n",
    "\n",
    "print('\\n')\n",
    "\n",
    "skew_minmax_5f=skew_minmax[['Input_A4_020', 'Input_A3_020', 'Input_A5_020', 'Input_A2_020', 'Input_A6_020', 'Predict']]\n",
    "skew_robust_5f=skew_robust[['Input_A4_020', 'Input_A3_020', 'Input_A5_020', 'Input_A2_020', 'Input_A6_020', 'Predict']]\n",
    "print('5f_before')\n",
    "lr_rmse_ave(data_5f)\n",
    "print('transform_5f')  # 沒有 Scaling\n",
    "lr_rmse_ave(data_skew_5f)\n",
    "print('transform_minmax_5f')\n",
    "lr_rmse_ave(skew_minmax_5f)\n",
    "print('transform_robust_5f') \n",
    "lr_rmse_ave(skew_robust_5f)\n"
   ]
  },
  {
   "cell_type": "code",
   "execution_count": null,
   "metadata": {},
   "outputs": [],
   "source": []
  }
 ],
 "metadata": {
  "kernelspec": {
   "display_name": "Python 3",
   "language": "python",
   "name": "python3"
  },
  "language_info": {
   "codemirror_mode": {
    "name": "ipython",
    "version": 3
   },
   "file_extension": ".py",
   "mimetype": "text/x-python",
   "name": "python",
   "nbconvert_exporter": "python",
   "pygments_lexer": "ipython3",
   "version": "3.7.7"
  }
 },
 "nbformat": 4,
 "nbformat_minor": 4
}
