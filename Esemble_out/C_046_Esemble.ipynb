{
 "cells": [
  {
   "cell_type": "code",
   "execution_count": 1,
   "metadata": {},
   "outputs": [],
   "source": [
    "from sklearn import preprocessing\n",
    "from sklearn.preprocessing import MinMaxScaler, RobustScaler, StandardScaler\n",
    "from sklearn.linear_model import LinearRegression, LassoCV\n",
    "from sklearn.model_selection import train_test_split\n",
    "from sklearn.metrics import r2_score, mean_squared_error\n",
    "from sklearn.preprocessing import PowerTransformer\n",
    "import math\n",
    "import warnings\n",
    "warnings.filterwarnings('ignore')\n",
    "\n",
    "# 處理 data 套件\n",
    "import numpy as np\n",
    "import pandas as pd\n",
    "from xgboost.sklearn import XGBRegressor\n",
    "from sklearn.model_selection import GridSearchCV\n",
    "from sklearn.model_selection import cross_val_score,KFold\n",
    "from scipy.stats import skew\n",
    "from sklearn.ensemble import RandomForestRegressor\n",
    "from sklearn.linear_model import ElasticNet\n",
    "from sklearn.linear_model import Lasso\n",
    "from mlxtend.regressor import StackingRegressor\n",
    "from sklearn.ensemble import VotingRegressor\n",
    "from sklearn.svm import SVR"
   ]
  },
  {
   "cell_type": "code",
   "execution_count": 2,
   "metadata": {},
   "outputs": [],
   "source": [
    "from imbdpack import skew_pro,lr_rmse_ave,lr_rmse_ave_fea,laso_rmse_ave,ElasticNet_rmse_ave,xgb_ave,svr_rmse_ave,rand_ave\n",
    "from imbdpack import voting_ave,stack_ave,ave"
   ]
  },
  {
   "cell_type": "code",
   "execution_count": 3,
   "metadata": {},
   "outputs": [
    {
     "data": {
      "text/plain": [
       "array(['Input_C_043', 'Input_C_044', 'Input_C_041', 'Input_C_045',\n",
       "       'Input_C_047', 'Input_C_042', 'Input_A4_005', 'Input_C_098',\n",
       "       'Input_A4_004', 'Input_A6_009', 'Output_A5', 'Input_C_109',\n",
       "       'Input_C_061', 'Output_A4', 'Input_C_108', 'Input_C_134'],\n",
       "      dtype=object)"
      ]
     },
     "execution_count": 3,
     "metadata": {},
     "output_type": "execute_result"
    }
   ],
   "source": [
    "fea_number=16\n",
    "data=pd.read_csv('./BayesianRidge_Pre_0/Input_C_046.csv',index_col=0).drop(['Number'], axis=1) ## 改路徑\n",
    "y=data.Predict\n",
    "skew_data=skew_pro(data)\n",
    "num=skew_data.select_dtypes(exclude='object')\n",
    "numcorr=num.corr()\n",
    "title=abs(numcorr['Predict']).sort_values(ascending=False).head(fea_number+1).to_frame().index.to_numpy()[1:]\n",
    "skew_x=skew_data.drop(['Predict'], axis=1)\n",
    "title"
   ]
  },
  {
   "cell_type": "markdown",
   "metadata": {},
   "source": [
    "## Linear Regression Baseline"
   ]
  },
  {
   "cell_type": "code",
   "execution_count": 4,
   "metadata": {},
   "outputs": [
    {
     "name": "stdout",
     "output_type": "stream",
     "text": [
      "train_rmse: 0.00024638849647603324\n",
      "test_rmse: 0.0002672612705032694\n",
      "test_r2: 0.35916233971462896\n"
     ]
    }
   ],
   "source": [
    "lr_rmse_ave_fea(skew_data,16)"
   ]
  },
  {
   "cell_type": "markdown",
   "metadata": {},
   "source": [
    "## Lasso"
   ]
  },
  {
   "cell_type": "code",
   "execution_count": 5,
   "metadata": {},
   "outputs": [
    {
     "name": "stdout",
     "output_type": "stream",
     "text": [
      "test_rmse_ave: 0.0002642850509281665\n",
      "[0.00027097383936093485, 0.00031886849895088927, 0.0002550965733229793, 0.00024486634466860854, 0.00024093355243655855, 0.0002555353974679931, 0.00029177361706486855, 0.0003048328870649025, 0.00023510298004375183, 0.0002248668189001782]\n",
      "\n",
      "\n",
      "test_r2_ave: 0.38474826414165114\n",
      "[0.3989872129365518, 0.17131476560185022, 0.45941764367971494, 0.509674842213582, 0.444323672953874, 0.3254526260874956, 0.27052174606463075, 0.31486274716295537, 0.5030653545502292, 0.4498620301656273]\n"
     ]
    }
   ],
   "source": [
    "laso_rmse_ave(skew_data[title],y,9e-06)"
   ]
  },
  {
   "cell_type": "markdown",
   "metadata": {},
   "source": [
    "## ElasticNet"
   ]
  },
  {
   "cell_type": "code",
   "execution_count": 6,
   "metadata": {},
   "outputs": [
    {
     "name": "stdout",
     "output_type": "stream",
     "text": [
      "test_rmse_ave: 0.0002814134872676714\n",
      "[0.00029075191314107145, 0.00031907460094731706, 0.00028597286228006723, 0.00028000854591054734, 0.0002656054607267945, 0.00026008158501571773, 0.00029488495348064186, 0.00031821139991168416, 0.0002682924071140668, 0.00023125114414880636]\n",
      "\n",
      "\n",
      "test_r2_ave: 0.3063021151850678\n",
      "[0.3080509066256667, 0.17024317102045283, 0.32063641895122263, 0.3588368514040312, 0.3246928833924372, 0.30123760340028827, 0.25488117149713174, 0.253404424741836, 0.3528577241117127, 0.4181799967058991]\n"
     ]
    }
   ],
   "source": [
    "ElasticNet_rmse_ave(skew_data[title],y,[0.005],0.01)"
   ]
  },
  {
   "cell_type": "markdown",
   "metadata": {},
   "source": [
    "## SVR"
   ]
  },
  {
   "cell_type": "code",
   "execution_count": 7,
   "metadata": {},
   "outputs": [
    {
     "name": "stdout",
     "output_type": "stream",
     "text": [
      "train_rmse: 0.00026912186154754635\n",
      "test_rmse: 0.00028086127254813096\n",
      "test_r2: 0.29523303291210157\n"
     ]
    }
   ],
   "source": [
    "model=SVR(kernel='rbf', C=1.25, gamma= 5e-06, epsilon= 0)\n",
    "svr_rmse_ave(skew_data,16,model)"
   ]
  },
  {
   "cell_type": "markdown",
   "metadata": {},
   "source": [
    "## XGB"
   ]
  },
  {
   "cell_type": "code",
   "execution_count": 8,
   "metadata": {},
   "outputs": [
    {
     "name": "stdout",
     "output_type": "stream",
     "text": [
      "test_rmse_ave: 0.00027155172419481076\n",
      "[0.0002751923002569586, 0.00032564713585421805, 0.00027400394096301994, 0.00027277623111693583, 0.00025345674006030735, 0.0002483625613728319, 0.00028341774067188846, 0.00030909210711893516, 0.00025226024782844134, 0.00022130823670457142]\n",
      "\n",
      "\n",
      "test_r2_ave: 0.3533839982354746\n",
      "[0.38012868532006794, 0.13570720726212948, 0.3763136548073528, 0.39153019779956044, 0.38505678150757316, 0.362790004846688, 0.31170538051383545, 0.29558308867183014, 0.42788854412588606, 0.4671364374998227]\n"
     ]
    }
   ],
   "source": [
    "best_xgb_model =  XGBRegressor(\n",
    "                objective ='reg:squarederror',\n",
    "              learning_rate = 0.15,\n",
    "              booster = 'gbtree', \n",
    "              n_estimators = 190, \n",
    "              max_depth = 1, \n",
    "              min_child_weight = 2,\n",
    "              seed = 42,\n",
    "              gamma = 0,\n",
    "              subsample = 0.6,\n",
    "              colsample_bytree = 0.6,\n",
    "              reg_alpha =  0,\n",
    "              reg_lambda = 1.5)\n",
    "xgb_ave(skew_data[title], y,best_xgb_model)"
   ]
  },
  {
   "cell_type": "markdown",
   "metadata": {},
   "source": [
    "## RandomForest"
   ]
  },
  {
   "cell_type": "code",
   "execution_count": 9,
   "metadata": {},
   "outputs": [
    {
     "name": "stdout",
     "output_type": "stream",
     "text": [
      "test_rmse_ave: 0.00027348901382709347\n",
      "[0.00026959501974372854, 0.0003497377986352029, 0.00025531020122186525, 0.00025706192554026227, 0.00025761516679060953, 0.0002561238011519452, 0.00030277165255769144, 0.0003119771575063276, 0.00025589713890538475, 0.00021880027621791703]\n",
      "\n",
      "\n",
      "test_r2_ave: 0.34006544866855765\n",
      "[0.4050880223724711, 0.003100197158012241, 0.4585118547335867, 0.4596172301770748, 0.36471268582436167, 0.3223425824072269, 0.2144917804003349, 0.2823717330389788, 0.4112731156478622, 0.4791452849256669]\n"
     ]
    }
   ],
   "source": [
    "rand_model = RandomForestRegressor( \n",
    "            criterion ='mse', \n",
    "            n_estimators = 40,\n",
    "            max_depth = 9,\n",
    "            min_samples_split = 6,\n",
    "            max_leaf_nodes = 12,\n",
    "            min_samples_leaf =1,\n",
    "            random_state = 42)  \n",
    "rand_ave(skew_x[title], y,rand_model)"
   ]
  },
  {
   "cell_type": "code",
   "execution_count": 10,
   "metadata": {},
   "outputs": [
    {
     "name": "stdout",
     "output_type": "stream",
     "text": [
      "test_rmse_ave: 0.00026554687815052606\n",
      "[0.0002734959553475034, 0.000323770495004905, 0.0002570423222882673, 0.0002557150222743339, 0.00024399669136703365, 0.00024874626879148526, 0.0002828996151707377, 0.0003034894977868982, 0.0002440739124173999, 0.00022223900105669618]\n",
      "\n",
      "\n",
      "test_r2_ave: 0.38028870809444354\n",
      "[0.3877471736532291, 0.14564000532821708, 0.45113961005581404, 0.46526518064512357, 0.43010453418014893, 0.36081957039224466, 0.3142196692564687, 0.32088819899349763, 0.46441829489585895, 0.4626448435438323]\n"
     ]
    }
   ],
   "source": [
    "lr = LinearRegression()\n",
    "lasso_mod=Lasso(alpha=9e-06)\n",
    "elastic_mod=ElasticNet(alpha=[0.005], l1_ratio=0.01)\n",
    "svr_mod=SVR(kernel='rbf', C=1.25, gamma= 5e-06, epsilon= 0)\n",
    "\n",
    "xgb_mod =  XGBRegressor(\n",
    "                objective ='reg:squarederror',\n",
    "              learning_rate = 0.15,\n",
    "              booster = 'gbtree', \n",
    "              n_estimators = 190, \n",
    "              max_depth = 1, \n",
    "              min_child_weight = 2,\n",
    "              seed = 42,\n",
    "              gamma = 0,\n",
    "              subsample = 0.6,\n",
    "              colsample_bytree = 0.6,\n",
    "              reg_alpha =  0,\n",
    "              reg_lambda = 1.5)\n",
    "\n",
    "random_mod = RandomForestRegressor( \n",
    "            criterion ='mse', \n",
    "            n_estimators = 40,\n",
    "            max_depth = 9,\n",
    "            min_samples_split = 6,\n",
    "            max_leaf_nodes = 12,\n",
    "            min_samples_leaf =1,\n",
    "            random_state = 42) \n",
    "vote_mod = VotingRegressor([ ('Lasso', lasso_mod), ('SVR', svr_mod),('Elastic', elastic_mod), ('Linear', lr),\n",
    "                            ('XGBRegressor', xgb_mod),('RandomForest', random_mod)])\n",
    "# \n",
    "# vote_mod = VotingRegressor([ ('SVR', svr_mod), ('Linear', lr)\n",
    "#                             ,('RandomForest', random_mod)])\n",
    "voting_ave(skew_data[title], y,vote_mod)\n"
   ]
  },
  {
   "cell_type": "code",
   "execution_count": 11,
   "metadata": {},
   "outputs": [
    {
     "name": "stdout",
     "output_type": "stream",
     "text": [
      "test_rmse_ave: 0.0002642850509281665\n",
      "[0.0002709738393609348, 0.0003188684989508893, 0.0002550965733229793, 0.0002448663446686086, 0.00024093355243655855, 0.0002555353974679931, 0.00029177361706486855, 0.0003048328870649025, 0.0002351029800437518, 0.0002248668189001782]\n",
      "\n",
      "\n",
      "test_r2_ave: 0.3847482641416512\n",
      "[0.3989872129365519, 0.1713147656018501, 0.45941764367971494, 0.509674842213582, 0.444323672953874, 0.3254526260874956, 0.27052174606463075, 0.31486274716295537, 0.5030653545502293, 0.4498620301656273]\n"
     ]
    }
   ],
   "source": [
    "\n",
    "stack_mod = StackingRegressor(regressors=[vote_mod, lr], \n",
    "                           meta_regressor=lasso_mod, use_features_in_secondary=True\n",
    "                          )\n",
    "\n",
    "stack_ave(skew_data[title], y,stack_mod)"
   ]
  },
  {
   "cell_type": "code",
   "execution_count": 12,
   "metadata": {},
   "outputs": [
    {
     "name": "stdout",
     "output_type": "stream",
     "text": [
      "test_rmse_ave: 0.0002639627425567798\n",
      "[0.00027131853441880337, 0.00031979423367046523, 0.00025499915447651383, 0.000247477217732414, 0.00024131045777406527, 0.0002523806337329762, 0.0002882026631548633, 0.0003038993207704863, 0.0002371471038013746, 0.00022309810603583557]\n",
      "\n",
      "\n",
      "test_r2_ave: 0.3867725856821011\n",
      "[0.3974571914273699, 0.16649612547425663, 0.45983045090143126, 0.499162971719338, 0.442583764264909, 0.3420053350686799, 0.2882683308539391, 0.3190528568087775, 0.49438650344850443, 0.45848232685380486]\n"
     ]
    }
   ],
   "source": [
    "ave(skew_data[title],y,0.4,stack_mod,0.3,vote_mod,0.3,lasso_mod)"
   ]
  }
 ],
 "metadata": {
  "kernelspec": {
   "display_name": "Python 3",
   "language": "python",
   "name": "python3"
  },
  "language_info": {
   "codemirror_mode": {
    "name": "ipython",
    "version": 3
   },
   "file_extension": ".py",
   "mimetype": "text/x-python",
   "name": "python",
   "nbconvert_exporter": "python",
   "pygments_lexer": "ipython3",
   "version": "3.7.7"
  }
 },
 "nbformat": 4,
 "nbformat_minor": 4
}
