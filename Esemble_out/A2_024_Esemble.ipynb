{
 "cells": [
  {
   "cell_type": "code",
   "execution_count": 1,
   "metadata": {},
   "outputs": [],
   "source": [
    "from sklearn import preprocessing\n",
    "from sklearn.preprocessing import MinMaxScaler, RobustScaler, StandardScaler\n",
    "from sklearn.linear_model import LinearRegression, LassoCV\n",
    "from sklearn.model_selection import train_test_split\n",
    "from sklearn.metrics import r2_score, mean_squared_error\n",
    "from sklearn.preprocessing import PowerTransformer\n",
    "import math\n",
    "import warnings\n",
    "warnings.filterwarnings('ignore')\n",
    "\n",
    "# 處理 data 套件\n",
    "import numpy as np\n",
    "import pandas as pd\n",
    "from xgboost.sklearn import XGBRegressor\n",
    "from sklearn.model_selection import GridSearchCV\n",
    "from sklearn.model_selection import cross_val_score,KFold\n",
    "from scipy.stats import skew\n",
    "from sklearn.ensemble import RandomForestRegressor\n",
    "from sklearn.linear_model import ElasticNet\n",
    "from sklearn.linear_model import Lasso\n",
    "from mlxtend.regressor import StackingRegressor\n",
    "from sklearn.ensemble import VotingRegressor\n",
    "from sklearn.svm import SVR"
   ]
  },
  {
   "cell_type": "code",
   "execution_count": 2,
   "metadata": {},
   "outputs": [],
   "source": [
    "from imbdpack import skew_pro,lr_rmse_ave,lr_rmse_ave_fea,laso_rmse_ave,ElasticNet_rmse_ave,xgb_ave,svr_rmse_ave,rand_ave\n",
    "from imbdpack import voting_ave,stack_ave,ave"
   ]
  },
  {
   "cell_type": "code",
   "execution_count": 3,
   "metadata": {},
   "outputs": [
    {
     "data": {
      "text/plain": [
       "array(['Input_A2_022', 'Input_A2_023', 'Input_A3_024', 'Input_A3_022'],\n",
       "      dtype=object)"
      ]
     },
     "execution_count": 3,
     "metadata": {},
     "output_type": "execute_result"
    }
   ],
   "source": [
    "fea_number=4\n",
    "data=pd.read_csv('./BayesianRidge_Pre_0/Input_A2_024.csv',index_col=0).drop(['Number'], axis=1) ## 改路徑\n",
    "y=data.Predict\n",
    "skew_data=skew_pro(data)\n",
    "num=skew_data.select_dtypes(exclude='object')\n",
    "numcorr=num.corr()\n",
    "title=abs(numcorr['Predict']).sort_values(ascending=False).head(fea_number+1).to_frame().index.to_numpy()[1:]\n",
    "skew_x=skew_data.drop(['Predict'], axis=1)\n",
    "title"
   ]
  },
  {
   "cell_type": "markdown",
   "metadata": {},
   "source": [
    "## Linear Regression Baseline"
   ]
  },
  {
   "cell_type": "code",
   "execution_count": 4,
   "metadata": {},
   "outputs": [
    {
     "name": "stdout",
     "output_type": "stream",
     "text": [
      "train_rmse: 0.003489222998819841\n",
      "test_rmse: 0.003417772033754501\n",
      "test_r2: 0.9344141176272135\n"
     ]
    }
   ],
   "source": [
    "lr_rmse_ave_fea(skew_data,4)"
   ]
  },
  {
   "cell_type": "markdown",
   "metadata": {},
   "source": [
    "## Lasso"
   ]
  },
  {
   "cell_type": "code",
   "execution_count": 5,
   "metadata": {},
   "outputs": [
    {
     "name": "stdout",
     "output_type": "stream",
     "text": [
      "test_rmse_ave: 0.003512979588446882\n",
      "[0.003065687255470588, 0.003840134616679227, 0.0036056611113197906, 0.003302259540611516, 0.004082868698577859, 0.002855172819991618, 0.004039278998293442, 0.0031952380903410224, 0.003991219327767872, 0.0031522754254158874]\n",
      "\n",
      "\n",
      "test_r2_ave: 0.9323147289206691\n",
      "[0.9483080616152897, 0.9155957178090541, 0.9383013258659071, 0.9307848464242967, 0.9256150602238853, 0.9493149879750126, 0.9180951781091415, 0.9269575447153832, 0.925347957689839, 0.9448266087788821]\n"
     ]
    }
   ],
   "source": [
    "laso_rmse_ave(skew_data[title],y,9e-06)"
   ]
  },
  {
   "cell_type": "markdown",
   "metadata": {},
   "source": [
    "## ElasticNet"
   ]
  },
  {
   "cell_type": "code",
   "execution_count": 6,
   "metadata": {},
   "outputs": [
    {
     "name": "stdout",
     "output_type": "stream",
     "text": [
      "test_rmse_ave: 0.003848843260393845\n",
      "[0.003285500750275861, 0.003975328275404609, 0.0037687809934287275, 0.003882227465814085, 0.004265407321435517, 0.003431537304458486, 0.004950556204171342, 0.00294131832076943, 0.004712132370766483, 0.0032756435974139104]\n",
      "\n",
      "\n",
      "test_r2_ave: 0.9184153072310712\n",
      "[0.9406295606888428, 0.9095481240550942, 0.9325925618745713, 0.9043377183005517, 0.9188151096193398, 0.9267863259329248, 0.8769703585900718, 0.9381053701648998, 0.8959443972358797, 0.9404235458485373]\n"
     ]
    }
   ],
   "source": [
    "ElasticNet_rmse_ave(skew_data[title],y,[0.005],0.01)"
   ]
  },
  {
   "cell_type": "markdown",
   "metadata": {},
   "source": [
    "## SVR"
   ]
  },
  {
   "cell_type": "code",
   "execution_count": 7,
   "metadata": {},
   "outputs": [
    {
     "name": "stdout",
     "output_type": "stream",
     "text": [
      "train_rmse: 0.0037200815263964634\n",
      "test_rmse: 0.0038325352436332483\n",
      "test_r2: 0.9172259700493901\n"
     ]
    }
   ],
   "source": [
    "model=SVR(kernel='linear', C=1.3, gamma= 1e-07, epsilon= 0)\n",
    "svr_rmse_ave(skew_data,4,model)"
   ]
  },
  {
   "cell_type": "markdown",
   "metadata": {},
   "source": [
    "## XGB"
   ]
  },
  {
   "cell_type": "code",
   "execution_count": 8,
   "metadata": {},
   "outputs": [
    {
     "name": "stdout",
     "output_type": "stream",
     "text": [
      "test_rmse_ave: 0.002610116594444569\n",
      "[0.0020382978556536995, 0.0033939927210324184, 0.002543914919394047, 0.0027353326101223485, 0.001879888575991442, 0.002163334986991561, 0.0035740546294240664, 0.0021585374608674305, 0.00312541664734467, 0.002488395537624009]\n",
      "\n",
      "\n",
      "test_r2_ave: 0.9610531636955469\n",
      "[0.9771491470120371, 0.9340684332518828, 0.9692877818170784, 0.9525103393896454, 0.9842304824834702, 0.9709020562071885, 0.9358754781055965, 0.966665949112508, 0.9542231033133646, 0.9656188662626983]\n"
     ]
    }
   ],
   "source": [
    "best_xgb_model = XGBRegressor(\n",
    "                objective ='reg:squarederror',\n",
    "              learning_rate = 0.1,\n",
    "              booster = 'dart', \n",
    "              n_estimators = 160, \n",
    "              max_depth = 3, \n",
    "              min_child_weight = 2,\n",
    "              seed = 42,\n",
    "              gamma = 0,\n",
    "              subsample = 0.7,\n",
    "              colsample_bytree = 0.9,\n",
    "              reg_alpha =  0,\n",
    "              reg_lambda = 1)\n",
    "xgb_ave(skew_data[title], y,best_xgb_model)"
   ]
  },
  {
   "cell_type": "markdown",
   "metadata": {},
   "source": [
    "## RandomForest"
   ]
  },
  {
   "cell_type": "code",
   "execution_count": 9,
   "metadata": {},
   "outputs": [
    {
     "name": "stdout",
     "output_type": "stream",
     "text": [
      "test_rmse_ave: 0.002786821328318193\n",
      "[0.0020348403991184327, 0.0032690581491539206, 0.0026473960863721453, 0.0028936434983259924, 0.0024657709055810953, 0.0023529392579429874, 0.0039783915667526565, 0.0022150893975997755, 0.0035232157973223415, 0.00248786822501258]\n",
      "\n",
      "\n",
      "test_r2_ave: 0.956100391487311\n",
      "[0.9772266026440297, 0.9388330431088736, 0.9667383442257832, 0.9468542147571489, 0.9728693851396321, 0.9655779933476849, 0.920545807451898, 0.9648964183196689, 0.9418286698383145, 0.9656334360400753]\n"
     ]
    }
   ],
   "source": [
    "rand_model = RandomForestRegressor( \n",
    "            criterion ='mse', \n",
    "            n_estimators = 50,\n",
    "            max_depth = 4,\n",
    "            min_samples_split = 3,\n",
    "            max_leaf_nodes = 8,\n",
    "            min_samples_leaf =1,\n",
    "            random_state = 42) \n",
    "rand_ave(skew_x[title], y,rand_model)"
   ]
  },
  {
   "cell_type": "code",
   "execution_count": 10,
   "metadata": {},
   "outputs": [
    {
     "name": "stdout",
     "output_type": "stream",
     "text": [
      "test_rmse_ave: 0.002704185938555188\n",
      "[0.002403256029862572, 0.0031465461103375434, 0.0027604054750586227, 0.0025236863276772836, 0.0030222629042488025, 0.0022757347704848345, 0.0034929978993235586, 0.0017121457242294537, 0.003400568026729827, 0.0023042561175993822]\n",
      "\n",
      "\n",
      "test_r2_ave: 0.9596125554043088\n",
      "[0.9682336583557672, 0.9433317522719851, 0.9638380551138066, 0.959575046457933, 0.9592414552356323, 0.9677998390389431, 0.9387510826852514, 0.9790274921785862, 0.9458082170699653, 0.9705189556352165]\n"
     ]
    }
   ],
   "source": [
    "lr = LinearRegression()\n",
    "lasso_mod=Lasso(alpha=9e-06)\n",
    "elastic_mod=ElasticNet(alpha=[0.005], l1_ratio=0.01)\n",
    "svr_mod=SVR(kernel='linear', C=1.3, gamma= 1e-07, epsilon= 0)\n",
    "\n",
    "xgb_mod =  XGBRegressor(\n",
    "                objective ='reg:squarederror',\n",
    "              learning_rate = 0.1,\n",
    "              booster = 'dart', \n",
    "              n_estimators = 160, \n",
    "              max_depth = 3, \n",
    "              min_child_weight = 2,\n",
    "              seed = 42,\n",
    "              gamma = 0,\n",
    "              subsample = 0.7,\n",
    "              colsample_bytree = 0.9,\n",
    "              reg_alpha =  0,\n",
    "              reg_lambda = 1)\n",
    "\n",
    "random_mod = RandomForestRegressor( \n",
    "            criterion ='mse', \n",
    "            n_estimators = 50,\n",
    "            max_depth = 4,\n",
    "            min_samples_split = 3,\n",
    "            max_leaf_nodes = 8,\n",
    "            min_samples_leaf =1,\n",
    "            random_state = 42)  \n",
    "# vote_mod = VotingRegressor([ ('Lasso', lasso_mod),('SVR', svr_mod), ('Elastic', elastic_mod), \n",
    "#                             ('XGBRegressor', xgb_mod),('RandomForest', random_mod)])\n",
    "vote_mod = VotingRegressor([ ('Lasso', lasso_mod),('Linear', lr),  \n",
    "                            ('XGBRegressor', xgb_mod),('RandomForest', random_mod)])\n",
    "\n",
    "voting_ave(skew_data[title], y,vote_mod)\n"
   ]
  },
  {
   "cell_type": "code",
   "execution_count": 11,
   "metadata": {},
   "outputs": [
    {
     "name": "stdout",
     "output_type": "stream",
     "text": [
      "test_rmse_ave: 0.002062440518825733\n",
      "[0.0019272740524785895, 0.002201285424402552, 0.0019408354246244596, 0.0024018026784924586, 0.0012008198404014916, 0.0016561831779749998, 0.0034569198409398565, 0.0009680251503574542, 0.0027353257542928216, 0.0021359338442926436]\n",
      "\n",
      "\n",
      "test_r2_ave: 0.9746767651103913\n",
      "[0.97957067253401, 0.9722652472299184, 0.982123461004515, 0.9633854728997068, 0.9935655727013941, 0.9829457945398603, 0.9400097895146503, 0.9932958735735868, 0.9649370369048602, 0.9746687302014115]\n"
     ]
    }
   ],
   "source": [
    "\n",
    "stack_mod = StackingRegressor(regressors=[lasso_mod, random_mod,  vote_mod], \n",
    "                           meta_regressor=xgb_mod, use_features_in_secondary=True\n",
    "                          )\n",
    "\n",
    "stack_ave(skew_data[title], y,stack_mod)"
   ]
  },
  {
   "cell_type": "code",
   "execution_count": 12,
   "metadata": {},
   "outputs": [
    {
     "name": "stdout",
     "output_type": "stream",
     "text": [
      "test_rmse_ave: 0.002128845528386522\n",
      "[0.001925993213121663, 0.0023464606050558226, 0.002033955155151941, 0.002339150175661986, 0.001520240053397548, 0.0017761784715235236, 0.003388466601896847, 0.0010359320576917143, 0.0028203277451966328, 0.0021017512051675416]\n",
      "\n",
      "\n",
      "test_r2_ave: 0.9736675452888643\n",
      "[0.9795978176010164, 0.9684863928065801, 0.9803669050764854, 0.9652707832032804, 0.98968715406814, 0.9803850160928209, 0.9423620951033349, 0.9923222943233295, 0.9627239689244481, 0.9754730256892082]\n"
     ]
    }
   ],
   "source": [
    "ave(skew_data[title],y,0.7,stack_mod,0.15,vote_mod,0.15,xgb_mod)"
   ]
  }
 ],
 "metadata": {
  "kernelspec": {
   "display_name": "Python 3",
   "language": "python",
   "name": "python3"
  },
  "language_info": {
   "codemirror_mode": {
    "name": "ipython",
    "version": 3
   },
   "file_extension": ".py",
   "mimetype": "text/x-python",
   "name": "python",
   "nbconvert_exporter": "python",
   "pygments_lexer": "ipython3",
   "version": "3.7.7"
  }
 },
 "nbformat": 4,
 "nbformat_minor": 4
}
