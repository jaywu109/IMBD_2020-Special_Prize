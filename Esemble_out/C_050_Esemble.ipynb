{
 "cells": [
  {
   "cell_type": "code",
   "execution_count": 1,
   "metadata": {},
   "outputs": [],
   "source": [
    "from sklearn import preprocessing\n",
    "from sklearn.preprocessing import MinMaxScaler, RobustScaler, StandardScaler\n",
    "from sklearn.linear_model import LinearRegression, LassoCV\n",
    "from sklearn.model_selection import train_test_split\n",
    "from sklearn.metrics import r2_score, mean_squared_error\n",
    "from sklearn.preprocessing import PowerTransformer\n",
    "import math\n",
    "import warnings\n",
    "warnings.filterwarnings('ignore')\n",
    "\n",
    "# 處理 data 套件\n",
    "import numpy as np\n",
    "import pandas as pd\n",
    "from xgboost.sklearn import XGBRegressor\n",
    "from sklearn.model_selection import GridSearchCV\n",
    "from sklearn.model_selection import cross_val_score,KFold\n",
    "from scipy.stats import skew\n",
    "from sklearn.ensemble import RandomForestRegressor\n",
    "from sklearn.linear_model import ElasticNet\n",
    "from sklearn.linear_model import Lasso\n",
    "from mlxtend.regressor import StackingRegressor\n",
    "from sklearn.ensemble import VotingRegressor\n",
    "from sklearn.svm import SVR"
   ]
  },
  {
   "cell_type": "code",
   "execution_count": 2,
   "metadata": {},
   "outputs": [],
   "source": [
    "from imbdpack import skew_pro,lr_rmse_ave,lr_rmse_ave_fea,laso_rmse_ave,ElasticNet_rmse_ave,xgb_ave,svr_rmse_ave,rand_ave\n",
    "from imbdpack import voting_ave,stack_ave,ave"
   ]
  },
  {
   "cell_type": "code",
   "execution_count": 3,
   "metadata": {},
   "outputs": [
    {
     "data": {
      "text/plain": [
       "array(['Input_C_135', 'Input_C_051', 'Input_C_059', 'Input_A3_011',\n",
       "       'Input_A1_011'], dtype=object)"
      ]
     },
     "execution_count": 3,
     "metadata": {},
     "output_type": "execute_result"
    }
   ],
   "source": [
    "fea_number=5\n",
    "data=pd.read_csv('./BayesianRidge_Pre_0/Input_C_050.csv',index_col=0).drop(['Number'], axis=1) ## 改路徑\n",
    "y=data.Predict\n",
    "skew_data=skew_pro(data)\n",
    "num=skew_data.select_dtypes(exclude='object')\n",
    "numcorr=num.corr()\n",
    "title=abs(numcorr['Predict']).sort_values(ascending=False).head(fea_number+1).to_frame().index.to_numpy()[1:]\n",
    "skew_x=skew_data.drop(['Predict'], axis=1)\n",
    "title"
   ]
  },
  {
   "cell_type": "markdown",
   "metadata": {},
   "source": [
    "## Linear Regression Baseline"
   ]
  },
  {
   "cell_type": "code",
   "execution_count": 4,
   "metadata": {},
   "outputs": [
    {
     "name": "stdout",
     "output_type": "stream",
     "text": [
      "train_rmse: 0.001598742846204608\n",
      "test_rmse: 0.0016368865585057665\n",
      "test_r2: 0.6739558186643463\n"
     ]
    }
   ],
   "source": [
    "lr_rmse_ave_fea(skew_data,5)"
   ]
  },
  {
   "cell_type": "markdown",
   "metadata": {},
   "source": [
    "## Lasso"
   ]
  },
  {
   "cell_type": "code",
   "execution_count": 5,
   "metadata": {},
   "outputs": [
    {
     "name": "stdout",
     "output_type": "stream",
     "text": [
      "test_rmse_ave: 0.001653277153495793\n",
      "[0.0018432419396380883, 0.002139548504724436, 0.0016060562940453538, 0.0014310739995660026, 0.001919131896262804, 0.0014257646272036475, 0.0015523792626167046, 0.0013231634655798928, 0.0018787134259488723, 0.0014136981193721295]\n",
      "\n",
      "\n",
      "test_r2_ave: 0.669154073126158\n",
      "[0.5921262945490694, 0.6157478203799795, 0.6368748084425747, 0.7462982270268697, 0.6271249501444753, 0.7271725280976655, 0.6131627705821467, 0.7388972666990549, 0.6705471834309576, 0.7235888819087881]\n"
     ]
    }
   ],
   "source": [
    "laso_rmse_ave(skew_data[title],y,3e-06)"
   ]
  },
  {
   "cell_type": "markdown",
   "metadata": {},
   "source": [
    "## ElasticNet"
   ]
  },
  {
   "cell_type": "code",
   "execution_count": 6,
   "metadata": {},
   "outputs": [
    {
     "name": "stdout",
     "output_type": "stream",
     "text": [
      "test_rmse_ave: 0.001672192147622186\n",
      "[0.0018393379491441232, 0.00214889625275986, 0.0016613586286280042, 0.0014598881129249247, 0.0019627202550741617, 0.0014310601012175678, 0.0015967360662696186, 0.0013059375873835622, 0.0019265078451148716, 0.0013894786777051687]\n",
      "\n",
      "\n",
      "test_r2_ave: 0.6611729746986525\n",
      "[0.5938522196704747, 0.6123828682983828, 0.6114368294112068, 0.73597900444578, 0.6099947205041225, 0.7251421315572284, 0.590740406080121, 0.7456514534959171, 0.6535714224920555, 0.732978691031236]\n"
     ]
    }
   ],
   "source": [
    "ElasticNet_rmse_ave(skew_data[title],y,[0.013],0.01)"
   ]
  },
  {
   "cell_type": "markdown",
   "metadata": {},
   "source": [
    "## SVR"
   ]
  },
  {
   "cell_type": "code",
   "execution_count": 7,
   "metadata": {},
   "outputs": [
    {
     "name": "stdout",
     "output_type": "stream",
     "text": [
      "train_rmse: 0.0016559259509810347\n",
      "test_rmse: 0.0016674821328741534\n",
      "test_r2: 0.6605401454753362\n"
     ]
    }
   ],
   "source": [
    "model=SVR(kernel='linear', C=1.2, gamma= 1e-07, epsilon= 0)\n",
    "svr_rmse_ave(skew_data,5,model)"
   ]
  },
  {
   "cell_type": "markdown",
   "metadata": {},
   "source": [
    "## XGB"
   ]
  },
  {
   "cell_type": "code",
   "execution_count": 8,
   "metadata": {},
   "outputs": [
    {
     "name": "stdout",
     "output_type": "stream",
     "text": [
      "test_rmse_ave: 0.0017249584657416945\n",
      "[0.0018900468674391774, 0.0022477277761675882, 0.0016769848396203108, 0.001494395217894074, 0.0019049639899098973, 0.0016517990946208364, 0.0015597700180762651, 0.0015504143587999695, 0.0018549847128041285, 0.0014184977820847018]\n",
      "\n",
      "\n",
      "test_r2_ave: 0.6392424692605247\n",
      "[0.5711492553672783, 0.5759085750664341, 0.6040930511905016, 0.7233502654198286, 0.6326100953418972, 0.6338096675322179, 0.6094705991941927, 0.641507577733811, 0.6788168031007594, 0.7217088026583274]\n"
     ]
    }
   ],
   "source": [
    "best_xgb_model =  XGBRegressor(\n",
    "                objective ='reg:squarederror',\n",
    "              learning_rate = 0.07,\n",
    "              booster = 'dart', \n",
    "              n_estimators = 170, \n",
    "              max_depth = 5, \n",
    "              min_child_weight = 4,\n",
    "              seed = 42,\n",
    "              gamma = 0,\n",
    "              subsample = 0.85,\n",
    "              colsample_bytree = 0.4,\n",
    "              reg_alpha =  0,\n",
    "              reg_lambda = 2)\n",
    "xgb_ave(skew_data[title], y,best_xgb_model)"
   ]
  },
  {
   "cell_type": "markdown",
   "metadata": {},
   "source": [
    "## RandomForest"
   ]
  },
  {
   "cell_type": "code",
   "execution_count": 9,
   "metadata": {},
   "outputs": [
    {
     "name": "stdout",
     "output_type": "stream",
     "text": [
      "test_rmse_ave: 0.0016849014741070509\n",
      "[0.001888973196614534, 0.0021990619892660055, 0.001631892128356759, 0.001453129213155308, 0.0019092101193301195, 0.0015064130850039818, 0.0015604734103623398, 0.0013848494807546985, 0.0019593385732920464, 0.0013556735449347175]\n",
      "\n",
      "\n",
      "test_r2_ave: 0.656621110126059\n",
      "[0.5716363477872521, 0.5940738683450824, 0.6250980092840726, 0.7384180414735526, 0.6309704594432144, 0.6954345846127532, 0.609118294299242, 0.7139845052749471, 0.6416634370785695, 0.7458135536619043]\n"
     ]
    }
   ],
   "source": [
    "rand_model = RandomForestRegressor( \n",
    "            criterion ='mse', \n",
    "            n_estimators = 50,\n",
    "            max_depth = 3,\n",
    "            min_samples_split = 9,\n",
    "            max_leaf_nodes = 7,\n",
    "            min_samples_leaf =6,\n",
    "            random_state = 42) \n",
    "rand_ave(skew_x[title], y,rand_model)"
   ]
  },
  {
   "cell_type": "code",
   "execution_count": 11,
   "metadata": {},
   "outputs": [
    {
     "name": "stdout",
     "output_type": "stream",
     "text": [
      "test_rmse_ave: 0.001652875347587239\n",
      "[0.0018343453785490604, 0.0021565506148572234, 0.0016470508927777486, 0.0014282207234883096, 0.0019264512063572382, 0.0014172775671241374, 0.0015356674025094337, 0.0013135906809372945, 0.0019046499620647406, 0.0013649490472072026]\n",
      "\n",
      "\n",
      "test_r2_ave: 0.6693586161970859\n",
      "[0.5960540657351762, 0.6096165681272214, 0.618100676561619, 0.7473088799526546, 0.6242753362129874, 0.7304109468742636, 0.6214467926106177, 0.7426616370383703, 0.661387885661654, 0.742323373196295]\n"
     ]
    }
   ],
   "source": [
    "lr = LinearRegression()\n",
    "lasso_mod=Lasso(alpha=3e-06)\n",
    "elastic_mod=ElasticNet(alpha=[0.013], l1_ratio=0.01)\n",
    "svr_mod=SVR(kernel='linear', C=1.2, gamma= 1e-07, epsilon= 0)\n",
    "\n",
    "xgb_mod =  XGBRegressor(\n",
    "                objective ='reg:squarederror',\n",
    "              learning_rate = 0.07,\n",
    "              booster = 'dart', \n",
    "              n_estimators = 170, \n",
    "              max_depth = 5, \n",
    "              min_child_weight = 4,\n",
    "              seed = 42,\n",
    "              gamma = 0,\n",
    "              subsample = 0.85,\n",
    "              colsample_bytree = 0.4,\n",
    "              reg_alpha =  0,\n",
    "              reg_lambda = 2)\n",
    "\n",
    "random_mod = RandomForestRegressor( \n",
    "            criterion ='mse', \n",
    "            n_estimators = 50,\n",
    "            max_depth = 3,\n",
    "            min_samples_split = 9,\n",
    "            max_leaf_nodes = 7,\n",
    "            min_samples_leaf =6,\n",
    "            random_state = 42) \n",
    "vote_mod = VotingRegressor([ ('Lasso', lasso_mod), ('SVR', svr_mod),('Elastic', elastic_mod), ('Linear', lr),\n",
    "                            ('RandomForest', random_mod)])\n",
    "# \n",
    "# vote_mod = VotingRegressor([ ('SVR', svr_mod), ('Linear', lr)\n",
    "#                             ,('RandomForest', random_mod)])\n",
    "voting_ave(skew_data[title], y,vote_mod)\n"
   ]
  },
  {
   "cell_type": "code",
   "execution_count": 15,
   "metadata": {},
   "outputs": [
    {
     "name": "stdout",
     "output_type": "stream",
     "text": [
      "test_rmse_ave: 0.001653277153495793\n",
      "[0.0018432419396380883, 0.002139548504724436, 0.0016060562940453538, 0.0014310739995660024, 0.001919131896262804, 0.0014257646272036475, 0.0015523792626167046, 0.0013231634655798928, 0.001878713425948872, 0.0014136981193721295]\n",
      "\n",
      "\n",
      "test_r2_ave: 0.669154073126158\n",
      "[0.5921262945490694, 0.6157478203799795, 0.6368748084425747, 0.7462982270268698, 0.6271249501444753, 0.7271725280976655, 0.6131627705821467, 0.7388972666990549, 0.6705471834309578, 0.7235888819087881]\n"
     ]
    }
   ],
   "source": [
    "\n",
    "stack_mod = StackingRegressor(regressors=[vote_mod, lr, elastic_mod, svr_mod], \n",
    "                           meta_regressor=lasso_mod, use_features_in_secondary=True\n",
    "                          )\n",
    "\n",
    "stack_ave(skew_data[title], y,stack_mod)"
   ]
  },
  {
   "cell_type": "code",
   "execution_count": 16,
   "metadata": {},
   "outputs": [
    {
     "name": "stdout",
     "output_type": "stream",
     "text": [
      "test_rmse_ave: 0.0016512793756847898\n",
      "[0.0018382501187289323, 0.0021428947197185706, 0.0016157309525255841, 0.001428603538887442, 0.0019200110680620912, 0.0014214163677405951, 0.0015460251499481532, 0.001318776336435138, 0.001883629349073639, 0.0013974561557277521]\n",
      "\n",
      "\n",
      "test_r2_ave: 0.6699828459665742\n",
      "[0.5943324894947823, 0.6145449536269709, 0.632486801029318, 0.7471734008708583, 0.6267832369791901, 0.7288341145938391, 0.616323050946034, 0.7406258398106846, 0.6688208066363108, 0.7299037656777538]\n"
     ]
    }
   ],
   "source": [
    "ave(skew_data[title],y,0.3,stack_mod,0.3,vote_mod,0.4,lr)"
   ]
  }
 ],
 "metadata": {
  "kernelspec": {
   "display_name": "Python 3",
   "language": "python",
   "name": "python3"
  },
  "language_info": {
   "codemirror_mode": {
    "name": "ipython",
    "version": 3
   },
   "file_extension": ".py",
   "mimetype": "text/x-python",
   "name": "python",
   "nbconvert_exporter": "python",
   "pygments_lexer": "ipython3",
   "version": "3.7.7"
  }
 },
 "nbformat": 4,
 "nbformat_minor": 4
}
