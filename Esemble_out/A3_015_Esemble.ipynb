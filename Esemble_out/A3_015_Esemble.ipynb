{
 "cells": [
  {
   "cell_type": "code",
   "execution_count": 1,
   "metadata": {},
   "outputs": [],
   "source": [
    "from sklearn import preprocessing\n",
    "from sklearn.preprocessing import MinMaxScaler, RobustScaler, StandardScaler\n",
    "from sklearn.linear_model import LinearRegression, LassoCV\n",
    "from sklearn.model_selection import train_test_split\n",
    "from sklearn.metrics import r2_score, mean_squared_error\n",
    "from sklearn.preprocessing import PowerTransformer\n",
    "import math\n",
    "import warnings\n",
    "warnings.filterwarnings('ignore')\n",
    "\n",
    "# 處理 data 套件\n",
    "import numpy as np\n",
    "import pandas as pd\n",
    "from xgboost.sklearn import XGBRegressor\n",
    "from sklearn.model_selection import GridSearchCV\n",
    "from sklearn.model_selection import cross_val_score,KFold\n",
    "from scipy.stats import skew\n",
    "from sklearn.ensemble import RandomForestRegressor\n",
    "from sklearn.linear_model import ElasticNet\n",
    "from sklearn.linear_model import Lasso\n",
    "from mlxtend.regressor import StackingRegressor\n",
    "from sklearn.ensemble import VotingRegressor\n",
    "from sklearn.svm import SVR"
   ]
  },
  {
   "cell_type": "code",
   "execution_count": 2,
   "metadata": {},
   "outputs": [],
   "source": [
    "from imbdpack import skew_pro,lr_rmse_ave,lr_rmse_ave_fea,laso_rmse_ave,ElasticNet_rmse_ave,xgb_ave,svr_rmse_ave,rand_ave\n",
    "from imbdpack import voting_ave,stack_ave,ave"
   ]
  },
  {
   "cell_type": "code",
   "execution_count": 3,
   "metadata": {},
   "outputs": [
    {
     "data": {
      "text/plain": [
       "array(['Input_A2_015', 'Input_A6_015', 'Input_A1_015', 'Input_A4_015',\n",
       "       'Input_A5_015', 'Input_C_137', 'Input_A4_012'], dtype=object)"
      ]
     },
     "execution_count": 3,
     "metadata": {},
     "output_type": "execute_result"
    }
   ],
   "source": [
    "fea_number=7\n",
    "data=pd.read_csv('./BayesianRidge_Pre_0/Input_A3_015.csv',index_col=0).drop(['Number'], axis=1) ## 改路徑\n",
    "y=data.Predict\n",
    "skew_data=skew_pro(data)\n",
    "num=skew_data.select_dtypes(exclude='object')\n",
    "numcorr=num.corr()\n",
    "title=abs(numcorr['Predict']).sort_values(ascending=False).head(fea_number+1).to_frame().index.to_numpy()[1:]\n",
    "skew_x=skew_data.drop(['Predict'], axis=1)\n",
    "title"
   ]
  },
  {
   "cell_type": "markdown",
   "metadata": {},
   "source": [
    "## Linear Regression Baseline"
   ]
  },
  {
   "cell_type": "code",
   "execution_count": 4,
   "metadata": {},
   "outputs": [
    {
     "name": "stdout",
     "output_type": "stream",
     "text": [
      "train_rmse: 0.019713512282696334\n",
      "test_rmse: 0.020504559214319984\n",
      "test_r2: 0.5508460551254092\n"
     ]
    }
   ],
   "source": [
    "lr_rmse_ave_fea(skew_data,7)"
   ]
  },
  {
   "cell_type": "markdown",
   "metadata": {},
   "source": [
    "## Lasso"
   ]
  },
  {
   "cell_type": "code",
   "execution_count": 5,
   "metadata": {},
   "outputs": [
    {
     "name": "stdout",
     "output_type": "stream",
     "text": [
      "test_rmse_ave: 0.020376659127956644\n",
      "[0.019595678141870715, 0.025034946710217745, 0.019748459743782903, 0.01722057450847281, 0.020191466306880998, 0.021051460347164982, 0.02180145803923424, 0.019527462811933516, 0.02008410499501116, 0.01951097967499735]\n",
      "\n",
      "\n",
      "test_r2_ave: 0.5575229992804258\n",
      "[0.6053347859044851, 0.36444092037359566, 0.5740507629884186, 0.663328425348323, 0.5561314020965205, 0.4690986943095694, 0.5482718725913468, 0.6300992037017203, 0.6350340872484874, 0.5294398382417908]\n"
     ]
    }
   ],
   "source": [
    "laso_rmse_ave(skew_data[title],y,9e-05)"
   ]
  },
  {
   "cell_type": "markdown",
   "metadata": {},
   "source": [
    "## ElasticNet"
   ]
  },
  {
   "cell_type": "code",
   "execution_count": 6,
   "metadata": {},
   "outputs": [
    {
     "name": "stdout",
     "output_type": "stream",
     "text": [
      "test_rmse_ave: 0.020383014180187543\n",
      "[0.019430199078172623, 0.024928376107396625, 0.0197436588685917, 0.01727244446105894, 0.020326660624560632, 0.02100937256195339, 0.021813599767353902, 0.01967778643424961, 0.020049446569995463, 0.019578597328542547]\n",
      "\n",
      "\n",
      "test_r2_ave: 0.5573370734154943\n",
      "[0.611972277480483, 0.369840392713519, 0.5742578353969808, 0.6612971993988458, 0.550167554962861, 0.47121941404366585, 0.5477685771336773, 0.624382244684153, 0.6362926177764856, 0.5261726205642723]\n"
     ]
    }
   ],
   "source": [
    "ElasticNet_rmse_ave(skew_data[title],y,[0.02],0.015)"
   ]
  },
  {
   "cell_type": "markdown",
   "metadata": {},
   "source": [
    "## SVR"
   ]
  },
  {
   "cell_type": "code",
   "execution_count": 7,
   "metadata": {},
   "outputs": [
    {
     "name": "stdout",
     "output_type": "stream",
     "text": [
      "train_rmse: 0.020459710392575232\n",
      "test_rmse: 0.021243930263697586\n",
      "test_r2: 0.5175633683687253\n"
     ]
    }
   ],
   "source": [
    "model=SVR(kernel='linear', C=1.2, gamma= 1e-07, epsilon= 0)\n",
    "svr_rmse_ave(skew_data,7,model)"
   ]
  },
  {
   "cell_type": "markdown",
   "metadata": {},
   "source": [
    "## XGB"
   ]
  },
  {
   "cell_type": "code",
   "execution_count": 8,
   "metadata": {},
   "outputs": [
    {
     "name": "stdout",
     "output_type": "stream",
     "text": [
      "test_rmse_ave: 0.019314022878319733\n",
      "[0.018708557406221512, 0.022736903489053748, 0.016826896137625908, 0.020037382268678624, 0.019020752525853828, 0.019519288363624935, 0.018230421629519142, 0.019578933496952357, 0.019179014945796907, 0.01930207851987036]\n",
      "\n",
      "\n",
      "test_r2_ave: 0.6019573658397293\n",
      "[0.6402598960205762, 0.47576595508667463, 0.6907573296716079, 0.5441802431251226, 0.6061107807272861, 0.5435667261781567, 0.6841364728605484, 0.6281466572582409, 0.6671872674572534, 0.5394623300118255]\n"
     ]
    }
   ],
   "source": [
    "best_xgb_model =  XGBRegressor(\n",
    "                objective ='reg:squarederror',\n",
    "              learning_rate = 0.1,\n",
    "              booster = 'dart', \n",
    "              n_estimators = 80, \n",
    "              max_depth = 4, \n",
    "              min_child_weight = 2,\n",
    "              seed = 42,\n",
    "              gamma = 0,\n",
    "              subsample = 0.8,\n",
    "              colsample_bytree = 0.6,\n",
    "              reg_alpha =  0,\n",
    "              reg_lambda = 0.5)\n",
    "xgb_ave(skew_data[title], y,best_xgb_model)"
   ]
  },
  {
   "cell_type": "markdown",
   "metadata": {},
   "source": [
    "## RandomForest"
   ]
  },
  {
   "cell_type": "code",
   "execution_count": 9,
   "metadata": {},
   "outputs": [
    {
     "name": "stdout",
     "output_type": "stream",
     "text": [
      "test_rmse_ave: 0.01900400321155791\n",
      "[0.017769769914259874, 0.02212374567080392, 0.016477233385604258, 0.01862246715672049, 0.019188050881242875, 0.018992173620575408, 0.018509244524834073, 0.01962633862027239, 0.019840737294604338, 0.01889027104666146]\n",
      "\n",
      "\n",
      "test_r2_ave: 0.6159384823977577\n",
      "[0.6754572863688693, 0.503659287912025, 0.7034759160791153, 0.6062816903429231, 0.5991513484533801, 0.5678856585919713, 0.6744007165937668, 0.6263437915398141, 0.6438253950419099, 0.5589037330538018]\n"
     ]
    }
   ],
   "source": [
    "rand_model = RandomForestRegressor( \n",
    "            criterion ='mse', \n",
    "            n_estimators = 50,\n",
    "            max_depth = 9,\n",
    "            min_samples_split = 7,\n",
    "            max_leaf_nodes = 14,\n",
    "            min_samples_leaf =4,\n",
    "            random_state = 42) \n",
    "rand_ave(skew_x[title], y,rand_model)"
   ]
  },
  {
   "cell_type": "code",
   "execution_count": 11,
   "metadata": {},
   "outputs": [
    {
     "name": "stdout",
     "output_type": "stream",
     "text": [
      "test_rmse_ave: 0.019121331073299556\n",
      "[0.01808578387518276, 0.02309159552351408, 0.017651042416506307, 0.017348823090511938, 0.019056933664170262, 0.01947798980066772, 0.019543061384357602, 0.018987729283709894, 0.019161108115153296, 0.01880924357922171]\n",
      "\n",
      "\n",
      "test_r2_ave: 0.6108984825740356\n",
      "[0.6638114426435127, 0.4592824466933929, 0.6597233851093135, 0.6582950935325698, 0.6046108490372127, 0.5454961097351929, 0.6370128534399709, 0.6502645225313216, 0.6678084504638873, 0.5626796725539802]\n"
     ]
    }
   ],
   "source": [
    "lr = LinearRegression()\n",
    "lasso_mod=Lasso(alpha=9e-05)\n",
    "elastic_mod=ElasticNet(alpha=[0.02], l1_ratio=0.015)\n",
    "svr_mod=SVR(kernel='linear', C=1.2, gamma= 1e-07, epsilon= 0)\n",
    "\n",
    "xgb_mod =  XGBRegressor(\n",
    "                objective ='reg:squarederror',\n",
    "              learning_rate = 0.1,\n",
    "              booster = 'dart', \n",
    "              n_estimators = 80, \n",
    "              max_depth = 4, \n",
    "              min_child_weight = 2,\n",
    "              seed = 42,\n",
    "              gamma = 0,\n",
    "              subsample = 0.8,\n",
    "              colsample_bytree = 0.6,\n",
    "              reg_alpha =  0,\n",
    "              reg_lambda = 0.5)\n",
    "\n",
    "random_mod = RandomForestRegressor( \n",
    "            criterion ='mse', \n",
    "            n_estimators = 50,\n",
    "            max_depth = 9,\n",
    "            min_samples_split = 7,\n",
    "            max_leaf_nodes = 14,\n",
    "            min_samples_leaf =4,\n",
    "            random_state = 42)     \n",
    "vote_mod = VotingRegressor([ ('Lasso', lasso_mod), ('Elastic', elastic_mod),\n",
    "                            ('XGBRegressor', xgb_mod),('RandomForest', random_mod)])\n",
    "\n",
    "# vote_mod = VotingRegressor([ ('SVR', svr_mod), ('Linear', lr)\n",
    "#                             ,('RandomForest', random_mod)])\n",
    "voting_ave(skew_data[title], y,vote_mod)\n"
   ]
  },
  {
   "cell_type": "code",
   "execution_count": 12,
   "metadata": {},
   "outputs": [
    {
     "name": "stdout",
     "output_type": "stream",
     "text": [
      "test_rmse_ave: 0.020301861871143405\n",
      "[0.019728520669154394, 0.02348232321661313, 0.015852470248127866, 0.02161461772786086, 0.02106521977155073, 0.01940856985984515, 0.01934385583695409, 0.02033667467012044, 0.021129441979667554, 0.021056924731539844]\n",
      "\n",
      "\n",
      "test_r2_ave: 0.5592694268479294\n",
      "[0.5999656392509881, 0.4408289122736502, 0.7255360684209037, 0.4695966040103652, 0.5168848096416677, 0.5487300582243196, 0.644375110862109, 0.5988068494834895, 0.5960539245971594, 0.45191629171464187]\n"
     ]
    }
   ],
   "source": [
    "\n",
    "stack_mod = StackingRegressor(regressors=[lasso_mod,elastic_mod,  vote_mod], \n",
    "                           meta_regressor=random_mod, use_features_in_secondary=True\n",
    "                          )\n",
    "\n",
    "stack_ave(skew_data[title], y,stack_mod)"
   ]
  },
  {
   "cell_type": "code",
   "execution_count": 13,
   "metadata": {},
   "outputs": [
    {
     "name": "stdout",
     "output_type": "stream",
     "text": [
      "test_rmse_ave: 0.018977701458031473\n",
      "[0.01801583695122956, 0.022447430466346105, 0.0164791271044795, 0.01839496990068782, 0.019063308681771078, 0.018996135808670635, 0.01872955518845954, 0.01908806572848755, 0.019519079763813823, 0.019043504986369135]\n",
      "\n",
      "\n",
      "test_r2_ave: 0.6166899166438329\n",
      "[0.6664068383087564, 0.48902946804008274, 0.7034077534804692, 0.6158424783197323, 0.6043462698090138, 0.5677053425390104, 0.6666035422059273, 0.646558557508691, 0.6552803696983681, 0.5517185465282769]\n"
     ]
    }
   ],
   "source": [
    "ave(skew_data[title],y,0.2,stack_mod,0.4,vote_mod,0.4,random_mod)"
   ]
  }
 ],
 "metadata": {
  "kernelspec": {
   "display_name": "Python 3",
   "language": "python",
   "name": "python3"
  },
  "language_info": {
   "codemirror_mode": {
    "name": "ipython",
    "version": 3
   },
   "file_extension": ".py",
   "mimetype": "text/x-python",
   "name": "python",
   "nbconvert_exporter": "python",
   "pygments_lexer": "ipython3",
   "version": "3.7.7"
  }
 },
 "nbformat": 4,
 "nbformat_minor": 4
}
