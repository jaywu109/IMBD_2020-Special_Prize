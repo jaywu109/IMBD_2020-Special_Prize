{
 "cells": [
  {
   "cell_type": "code",
   "execution_count": 1,
   "metadata": {},
   "outputs": [],
   "source": [
    "from sklearn import preprocessing\n",
    "from sklearn.preprocessing import MinMaxScaler, RobustScaler, StandardScaler\n",
    "from sklearn.linear_model import LinearRegression, LassoCV\n",
    "from sklearn.model_selection import train_test_split\n",
    "from sklearn.metrics import r2_score, mean_squared_error\n",
    "from sklearn.preprocessing import PowerTransformer\n",
    "import math\n",
    "import warnings\n",
    "warnings.filterwarnings('ignore')\n",
    "\n",
    "# 處理 data 套件\n",
    "import numpy as np\n",
    "import pandas as pd\n",
    "from xgboost.sklearn import XGBRegressor\n",
    "from sklearn.model_selection import GridSearchCV\n",
    "from sklearn.model_selection import cross_val_score,KFold\n",
    "from scipy.stats import skew\n",
    "from sklearn.ensemble import RandomForestRegressor\n",
    "from sklearn.linear_model import ElasticNet\n",
    "from sklearn.linear_model import Lasso\n",
    "from mlxtend.regressor import StackingRegressor\n",
    "from sklearn.ensemble import VotingRegressor\n",
    "from sklearn.svm import SVR"
   ]
  },
  {
   "cell_type": "code",
   "execution_count": 2,
   "metadata": {},
   "outputs": [],
   "source": [
    "from imbdpack import skew_pro,lr_rmse_ave,lr_rmse_ave_fea,laso_rmse_ave,ElasticNet_rmse_ave,xgb_ave,svr_rmse_ave,rand_ave\n",
    "from imbdpack import voting_ave,stack_ave,ave"
   ]
  },
  {
   "cell_type": "code",
   "execution_count": 3,
   "metadata": {},
   "outputs": [
    {
     "data": {
      "text/plain": [
       "array(['Input_A3_019', 'Input_A1_016', 'Input_A4_016', 'Input_A2_019',\n",
       "       'Input_A1_018'], dtype=object)"
      ]
     },
     "execution_count": 3,
     "metadata": {},
     "output_type": "execute_result"
    }
   ],
   "source": [
    "fea_number=5\n",
    "data=pd.read_csv('./BayesianRidge_Pre_0/Input_A3_017.csv',index_col=0).drop(['Number'], axis=1) ## 改路徑\n",
    "y=data.Predict\n",
    "skew_data=skew_pro(data)\n",
    "num=skew_data.select_dtypes(exclude='object')\n",
    "numcorr=num.corr()\n",
    "title=abs(numcorr['Predict']).sort_values(ascending=False).head(fea_number+1).to_frame().index.to_numpy()[1:]\n",
    "skew_x=skew_data.drop(['Predict'], axis=1)\n",
    "title"
   ]
  },
  {
   "cell_type": "markdown",
   "metadata": {},
   "source": [
    "## Linear Regression Baseline"
   ]
  },
  {
   "cell_type": "code",
   "execution_count": 4,
   "metadata": {},
   "outputs": [
    {
     "name": "stdout",
     "output_type": "stream",
     "text": [
      "train_rmse: 0.009021544601542492\n",
      "test_rmse: 0.009185245312196517\n",
      "test_r2: 0.5194517040383431\n"
     ]
    }
   ],
   "source": [
    "lr_rmse_ave_fea(skew_data,5)"
   ]
  },
  {
   "cell_type": "markdown",
   "metadata": {},
   "source": [
    "## Lasso"
   ]
  },
  {
   "cell_type": "code",
   "execution_count": 5,
   "metadata": {},
   "outputs": [
    {
     "name": "stdout",
     "output_type": "stream",
     "text": [
      "test_rmse_ave: 0.00915265946598786\n",
      "[0.01062750198763127, 0.008673317787159884, 0.00994386176369197, 0.008939578064045368, 0.009945566589734396, 0.008430424097449754, 0.009745321367017846, 0.009006018749580881, 0.008403021442409763, 0.007811982811157472]\n",
      "\n",
      "\n",
      "test_r2_ave: 0.5127135025130259\n",
      "[0.42341258348195965, 0.5712795215682764, 0.5171594651920497, 0.5584025737690227, 0.4772080844813562, 0.4659500753571916, 0.4325322480300323, 0.46678132108470427, 0.6080015474223772, 0.6064076047432891]\n"
     ]
    }
   ],
   "source": [
    "laso_rmse_ave(skew_data[title],y,3e-07)"
   ]
  },
  {
   "cell_type": "markdown",
   "metadata": {},
   "source": [
    "## ElasticNet"
   ]
  },
  {
   "cell_type": "code",
   "execution_count": 6,
   "metadata": {},
   "outputs": [
    {
     "name": "stdout",
     "output_type": "stream",
     "text": [
      "test_rmse_ave: 0.009230097048787068\n",
      "[0.010712850925479455, 0.008792130351253567, 0.010074765589108081, 0.009202803075028248, 0.009927527433509496, 0.008270915189682867, 0.009711517230252325, 0.009112071378092598, 0.008554092848794324, 0.007942296466669701]\n",
      "\n",
      "\n",
      "test_r2_ave: 0.5052574206935073\n",
      "[0.41411430630033175, 0.5594533054152979, 0.504363289356982, 0.532014120812297, 0.4791028327153405, 0.48596800935175777, 0.43646223384147165, 0.4541492804609195, 0.5937799746249461, 0.5931668540557293]\n"
     ]
    }
   ],
   "source": [
    "ElasticNet_rmse_ave(skew_data[title],y,[0.04],0.01)"
   ]
  },
  {
   "cell_type": "markdown",
   "metadata": {},
   "source": [
    "## SVR"
   ]
  },
  {
   "cell_type": "code",
   "execution_count": 7,
   "metadata": {},
   "outputs": [
    {
     "name": "stdout",
     "output_type": "stream",
     "text": [
      "train_rmse: 0.009154731992021709\n",
      "test_rmse: 0.009323699506015254\n",
      "test_r2: 0.5042389568202571\n"
     ]
    }
   ],
   "source": [
    "model=SVR(kernel='linear', C=1.3, gamma= 1e-07, epsilon= 0)\n",
    "svr_rmse_ave(skew_data,5,model)"
   ]
  },
  {
   "cell_type": "markdown",
   "metadata": {},
   "source": [
    "## XGB"
   ]
  },
  {
   "cell_type": "code",
   "execution_count": 8,
   "metadata": {},
   "outputs": [
    {
     "name": "stdout",
     "output_type": "stream",
     "text": [
      "test_rmse_ave: 0.009313335268602781\n",
      "[0.010598929677171258, 0.00884100326981116, 0.010250998065664861, 0.009141604843163866, 0.010236671587176564, 0.008094949510017158, 0.010105390019861934, 0.009481101702687733, 0.008478444859080529, 0.007904259151392748]\n",
      "\n",
      "\n",
      "test_r2_ave: 0.4956756506473011\n",
      "[0.42650875579453085, 0.5545419486391667, 0.48687181646100275, 0.5382175962211698, 0.44615614063095754, 0.5076076448240685, 0.38982414861165493, 0.4090411084039933, 0.600933006489341, 0.5970543403971253]\n"
     ]
    }
   ],
   "source": [
    "best_xgb_model =  XGBRegressor(\n",
    "                objective ='reg:squarederror',\n",
    "              learning_rate = 0.08,\n",
    "              booster = 'gbtree', \n",
    "              n_estimators = 100, \n",
    "              max_depth = 2, \n",
    "              min_child_weight = 4,\n",
    "              seed = 42,\n",
    "              gamma = 0,\n",
    "              subsample = 0.8,\n",
    "              colsample_bytree = 0.4,\n",
    "              reg_alpha =  0.05,\n",
    "              reg_lambda = 2)\n",
    "xgb_ave(skew_data[title], y,best_xgb_model)"
   ]
  },
  {
   "cell_type": "markdown",
   "metadata": {},
   "source": [
    "## RandomForest"
   ]
  },
  {
   "cell_type": "code",
   "execution_count": 9,
   "metadata": {},
   "outputs": [
    {
     "name": "stdout",
     "output_type": "stream",
     "text": [
      "test_rmse_ave: 0.00926927863567096\n",
      "[0.009960376687364077, 0.009191904829756122, 0.01024475199640912, 0.008475154918851924, 0.010505539986227328, 0.00874404108960199, 0.00997960197902898, 0.00966823117286096, 0.008206411067431944, 0.007716772629177148]\n",
      "\n",
      "\n",
      "test_r2_ave: 0.4977234188693435\n",
      "[0.49352933414788924, 0.5184795359647612, 0.48749693758891477, 0.6030938921449063, 0.4166804068772473, 0.4254770359226312, 0.40492007856865697, 0.38548326679016476, 0.6261305802295773, 0.6159431204586858]\n"
     ]
    }
   ],
   "source": [
    "rand_model = RandomForestRegressor( \n",
    "            criterion ='mse', \n",
    "            n_estimators = 70,\n",
    "            max_depth = 3,\n",
    "            min_samples_split = 3,\n",
    "            max_leaf_nodes = 8,\n",
    "            min_samples_leaf =3,\n",
    "            random_state = 42)\n",
    "rand_ave(skew_x[title], y,rand_model)"
   ]
  },
  {
   "cell_type": "code",
   "execution_count": 10,
   "metadata": {},
   "outputs": [
    {
     "name": "stdout",
     "output_type": "stream",
     "text": [
      "test_rmse_ave: 0.009104355407628452\n",
      "[0.010483049531019405, 0.008627783272018668, 0.009941242706720622, 0.00884722320360092, 0.009934263113868823, 0.008327059602393827, 0.009715926268739957, 0.009149322641056218, 0.00825889974371062, 0.007758783993155452]\n",
      "\n",
      "\n",
      "test_r2_ave: 0.5175714803995206\n",
      "[0.4389803848555146, 0.5757692303286177, 0.5174137769197524, 0.5674797360600665, 0.4783957508950366, 0.47896564576786405, 0.4359504242734521, 0.4496771487077116, 0.6213327048578658, 0.6117500013293257]\n"
     ]
    }
   ],
   "source": [
    "lr = LinearRegression()\n",
    "lasso_mod=Lasso(alpha=3e-07)\n",
    "elastic_mod=ElasticNet(alpha=[0.04], l1_ratio=0.01)\n",
    "svr_mod=SVR(kernel='linear', C=1.3, gamma= 1e-07, epsilon= 0)\n",
    "\n",
    "xgb_mod =  XGBRegressor(\n",
    "                objective ='reg:squarederror',\n",
    "              learning_rate = 0.08,\n",
    "              booster = 'gbtree', \n",
    "              n_estimators = 100, \n",
    "              max_depth = 2, \n",
    "              min_child_weight = 4,\n",
    "              seed = 42,\n",
    "              gamma = 0,\n",
    "              subsample = 0.8,\n",
    "              colsample_bytree = 0.4,\n",
    "              reg_alpha =  0.05,\n",
    "              reg_lambda = 2)\n",
    "\n",
    "random_mod = RandomForestRegressor( \n",
    "            criterion ='mse', \n",
    "            n_estimators = 70,\n",
    "            max_depth = 3,\n",
    "            min_samples_split = 3,\n",
    "            max_leaf_nodes = 8,\n",
    "            min_samples_leaf =3,\n",
    "            random_state = 42)\n",
    "vote_mod = VotingRegressor([ ('Lasso', lasso_mod), ('SVR', svr_mod),('Elastic', elastic_mod), ('Linear', lr),\n",
    "                            ('XGBRegressor', xgb_mod),('RandomForest', random_mod)])\n",
    "\n",
    "# vote_mod = VotingRegressor([ ('SVR', svr_mod), ('Linear', lr)\n",
    "#                             ,('RandomForest', random_mod)])\n",
    "voting_ave(skew_data[title], y,vote_mod)\n"
   ]
  },
  {
   "cell_type": "code",
   "execution_count": 11,
   "metadata": {},
   "outputs": [
    {
     "name": "stdout",
     "output_type": "stream",
     "text": [
      "test_rmse_ave: 0.009160998502595682\n",
      "[0.01015171410528812, 0.008958218975610926, 0.009952785483466167, 0.008526303370969136, 0.01012662833610381, 0.00874921382014681, 0.009828726457629217, 0.009404142280400743, 0.008020042679115229, 0.007892209517226667]\n",
      "\n",
      "\n",
      "test_r2_ave: 0.5096487867124677\n",
      "[0.47388397828577855, 0.5426517107606004, 0.5162924646080213, 0.5982886955472839, 0.45799967635486094, 0.4247970913782281, 0.4227773651464035, 0.41859596250354947, 0.6429189789403398, 0.5982819435996115]\n"
     ]
    }
   ],
   "source": [
    "\n",
    "stack_mod = StackingRegressor(regressors=[lasso_mod,elastic_mod,lr, random_mod ], \n",
    "                           meta_regressor=vote_mod, use_features_in_secondary=True\n",
    "                          )\n",
    "\n",
    "stack_ave(skew_data[title], y,stack_mod)"
   ]
  },
  {
   "cell_type": "code",
   "execution_count": 12,
   "metadata": {},
   "outputs": [
    {
     "name": "stdout",
     "output_type": "stream",
     "text": [
      "test_rmse_ave: 0.00909336052693416\n",
      "[0.010383408086083472, 0.008691989247842216, 0.009908442064011945, 0.008729699910615901, 0.009963212170153278, 0.00842478937556498, 0.009722808421473005, 0.009179199976317533, 0.0081649865470234, 0.007765069470255859]\n",
      "\n",
      "\n",
      "test_r2_ave: 0.5182773176647133\n",
      "[0.4495946886784411, 0.5694316811110809, 0.5205930624503275, 0.5788942992333936, 0.4753513475634973, 0.4666637327276617, 0.4351510665878856, 0.44607709498882975, 0.6298955080509083, 0.6111206952551071]\n"
     ]
    }
   ],
   "source": [
    "ave(skew_data[title],y,0.3,stack_mod,0.6,vote_mod,0.1,lasso_mod)"
   ]
  }
 ],
 "metadata": {
  "kernelspec": {
   "display_name": "Python 3",
   "language": "python",
   "name": "python3"
  },
  "language_info": {
   "codemirror_mode": {
    "name": "ipython",
    "version": 3
   },
   "file_extension": ".py",
   "mimetype": "text/x-python",
   "name": "python",
   "nbconvert_exporter": "python",
   "pygments_lexer": "ipython3",
   "version": "3.7.7"
  }
 },
 "nbformat": 4,
 "nbformat_minor": 4
}
