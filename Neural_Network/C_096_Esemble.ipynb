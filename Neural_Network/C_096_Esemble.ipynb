{
 "cells": [
  {
   "cell_type": "code",
   "execution_count": 1,
   "metadata": {},
   "outputs": [],
   "source": [
    "import pandas as pd\n",
    "import tensorflow as tf\n",
    "tf.config.set_visible_devices([], 'GPU')"
   ]
  },
  {
   "cell_type": "code",
   "execution_count": 2,
   "metadata": {},
   "outputs": [],
   "source": [
    "\n",
    "import NeuralNetwork.pretrained_models as pre_models\n",
    "from NeuralNetwork.tools import predict, predict_mul\n",
    "from NeuralNetwork.preprocessing import skewness_pure, min_max_normalization_pure\n",
    "\n",
    "\n",
    "def predict_df(X_df):\n",
    "\n",
    "\tmodel_C_096, input_features_C_096 = pre_models.Input_C_096('weights/')\n",
    "\n",
    "\toutputs = ['Input_C_096']\n",
    "\n",
    "\tpreprocessings = ['skewness']\n",
    "\n",
    "\tmodels = [model_C_096]\n",
    "\n",
    "\tinput_features = [ input_features_C_096]\n",
    "\n",
    "\tresult = {}\n",
    "\tfor i in range(len(outputs)):\n",
    "\n",
    "\t\tif preprocessings[i] == 'skewness':\n",
    "\t\t\tX = skewness_pure(X_df, input_features[i])\n",
    "\t\telif preprocessings[i] == 'min_max_normalization':\n",
    "\t\t\tX = min_max_normalization_pure(X_df, input_features[i])\n",
    "\n",
    "\t\tresult[outputs[i]] = predict_mul(models[i], X)\n",
    "    \n",
    "\tresult_df = pd.DataFrame(result, columns = outputs)\n",
    "\treturn result_df\n",
    "\n"
   ]
  },
  {
   "cell_type": "code",
   "execution_count": 3,
   "metadata": {},
   "outputs": [],
   "source": [
    "def nn_ave(x, y):\n",
    "\n",
    "    rmse = []\n",
    "    r2 = []\n",
    "    for i in np.arange(10):\n",
    "        X_train, X_test, y_train, y_test = train_test_split(\n",
    "            x, y, test_size=0.2, random_state=i)\n",
    "\n",
    "        nn_pred = predict_df(X_test)\n",
    "\n",
    "        rmse.append(math.sqrt(mean_squared_error(y_test, nn_pred)))\n",
    "        r2.append(r2_score(y_test, nn_pred))\n",
    "\n",
    "    test_rmse = np.array(rmse).mean()\n",
    "    print('test_rmse_ave:', test_rmse)\n",
    "    print(rmse)\n",
    "    print('\\n')\n",
    "    test_r2 = np.array(r2).mean()\n",
    "    print('test_r2_ave:', test_r2)\n",
    "    print(r2)"
   ]
  },
  {
   "cell_type": "code",
   "execution_count": 4,
   "metadata": {},
   "outputs": [],
   "source": [
    "from sklearn import preprocessing\n",
    "from sklearn.preprocessing import MinMaxScaler, RobustScaler, StandardScaler\n",
    "from sklearn.linear_model import LinearRegression, LassoCV\n",
    "from sklearn.model_selection import train_test_split\n",
    "from sklearn.metrics import r2_score, mean_squared_error\n",
    "from sklearn.preprocessing import PowerTransformer\n",
    "import math\n",
    "import warnings\n",
    "warnings.filterwarnings('ignore')\n",
    "\n",
    "# 處理 data 套件\n",
    "import numpy as np\n",
    "import pandas as pd\n",
    "from xgboost.sklearn import XGBRegressor\n",
    "from sklearn.model_selection import GridSearchCV\n",
    "from sklearn.model_selection import cross_val_score,KFold\n",
    "from scipy.stats import skew\n",
    "from sklearn.ensemble import RandomForestRegressor\n",
    "from sklearn.linear_model import ElasticNet\n",
    "from sklearn.linear_model import Lasso\n",
    "from mlxtend.regressor import StackingRegressor\n",
    "from sklearn.ensemble import VotingRegressor\n",
    "from sklearn.svm import SVR"
   ]
  },
  {
   "cell_type": "code",
   "execution_count": 5,
   "metadata": {},
   "outputs": [],
   "source": [
    "from imbdpack import skew_pro,lr_rmse_ave,lr_rmse_ave_fea,laso_rmse_ave,ElasticNet_rmse_ave,xgb_ave,svr_rmse_ave,rand_ave\n",
    "from imbdpack import voting_ave,stack_ave,ave"
   ]
  },
  {
   "cell_type": "code",
   "execution_count": 6,
   "metadata": {},
   "outputs": [
    {
     "data": {
      "text/plain": [
       "array(['Input_C_094', 'Input_C_099', 'Input_C_098', 'Input_C_044',\n",
       "       'Input_A2_014', 'Input_C_137', 'Input_C_121', 'Input_C_056',\n",
       "       'Input_C_101', 'Input_A4_019', 'Input_C_031_Y', 'Input_C_093'],\n",
       "      dtype=object)"
      ]
     },
     "execution_count": 6,
     "metadata": {},
     "output_type": "execute_result"
    }
   ],
   "source": [
    "fea_number=12\n",
    "data=pd.read_csv('./BayesianRidge_Pre_0/Input_C_096.csv',index_col=0).drop(['Number'], axis=1) ## 改路徑\n",
    "nn=data.drop(['Predict'], axis=1)\n",
    "y=data.Predict\n",
    "skew_data=skew_pro(data)\n",
    "num=skew_data.select_dtypes(exclude='object')\n",
    "numcorr=num.corr()\n",
    "title=abs(numcorr['Predict']).sort_values(ascending=False).head(fea_number+1).to_frame().index.to_numpy()[1:]\n",
    "skew_x=skew_data.drop(['Predict'], axis=1)\n",
    "title"
   ]
  },
  {
   "cell_type": "code",
   "execution_count": 7,
   "metadata": {},
   "outputs": [],
   "source": [
    "test=pd.read_csv('./final_testX.csv',index_col=0).drop(['Number'], axis=1)[title] ## 改路徑"
   ]
  },
  {
   "cell_type": "code",
   "execution_count": 56,
   "metadata": {},
   "outputs": [
    {
     "name": "stdout",
     "output_type": "stream",
     "text": [
      "test_rmse_ave: 0.007427233982483053\n",
      "[0.006681846529997053, 0.011844938531856267, 0.007041727865877138, 0.007187415155773952, 0.006926349531619511, 0.007263675185310165, 0.00881269357530182, 0.006010358468748524, 0.00586764280942508, 0.00663569217092102]\n",
      "\n",
      "\n",
      "test_r2_ave: -0.23402689328426002\n",
      "[-0.008371512301302841, -2.0925024544836153, -0.008882987588859192, 0.007472973144797779, -0.01694446664498428, -0.1007669256713637, -0.7023768300937492, 0.1667232999916537, 0.28669462918290367, 0.12868534162191858]\n"
     ]
    }
   ],
   "source": [
    "nn_ave(nn, y)"
   ]
  },
  {
   "cell_type": "markdown",
   "metadata": {},
   "source": [
    "## Linear Regression Baseline"
   ]
  },
  {
   "cell_type": "code",
   "execution_count": 57,
   "metadata": {},
   "outputs": [
    {
     "name": "stdout",
     "output_type": "stream",
     "text": [
      "train_rmse: 0.006143586064844172\n",
      "test_rmse: 0.0063764056586489825\n",
      "test_r2: 0.1687728929586918\n"
     ]
    }
   ],
   "source": [
    "lr_rmse_ave_fea(skew_data,12)"
   ]
  },
  {
   "cell_type": "markdown",
   "metadata": {},
   "source": [
    "## Lasso"
   ]
  },
  {
   "cell_type": "code",
   "execution_count": 58,
   "metadata": {},
   "outputs": [
    {
     "name": "stdout",
     "output_type": "stream",
     "text": [
      "test_rmse_ave: 0.006292975925823191\n",
      "[0.006338504676476967, 0.006062411531315351, 0.006756448502576744, 0.006159655198779472, 0.006777498442074015, 0.005943017246401346, 0.006384401133030058, 0.0058201665761850995, 0.006100849185901555, 0.0065868067654912986]\n",
      "\n",
      "\n",
      "test_r2_ave: 0.16096551814725918\n",
      "[0.09259492247607826, 0.1899062932838167, 0.07120628928242556, 0.27102995290097476, 0.026295263958347692, 0.26312041870611547, 0.10653263795386536, 0.2186253495261854, 0.22886798208450976, 0.14147607130027273]\n"
     ]
    }
   ],
   "source": [
    "laso_rmse_ave(skew_data[title],y,5e-05)"
   ]
  },
  {
   "cell_type": "markdown",
   "metadata": {},
   "source": [
    "## ElasticNet"
   ]
  },
  {
   "cell_type": "code",
   "execution_count": 59,
   "metadata": {},
   "outputs": [
    {
     "name": "stdout",
     "output_type": "stream",
     "text": [
      "test_rmse_ave: 0.006289273290400697\n",
      "[0.006309869575024675, 0.006067455378125738, 0.0067317150049022376, 0.00623161448908959, 0.00675453300122084, 0.005966898073577268, 0.006331983949333754, 0.005779588843976547, 0.0061072339791669854, 0.006611840609589328]\n",
      "\n",
      "\n",
      "test_r2_ave: 0.16241116069293454\n",
      "[0.10077506759844945, 0.18855775787606954, 0.0779939586952878, 0.2538982884239481, 0.03288284869335634, 0.2571865138211631, 0.1211434957756572, 0.22948273088664783, 0.2272530938293067, 0.13493785132945957]\n"
     ]
    }
   ],
   "source": [
    "ElasticNet_rmse_ave(skew_data[title],y,[0.01],0.01)"
   ]
  },
  {
   "cell_type": "markdown",
   "metadata": {},
   "source": [
    "## SVR"
   ]
  },
  {
   "cell_type": "code",
   "execution_count": 60,
   "metadata": {},
   "outputs": [
    {
     "name": "stdout",
     "output_type": "stream",
     "text": [
      "train_rmse: 0.006294405985045472\n",
      "test_rmse: 0.006587524105666151\n",
      "test_r2: 0.1105445248595451\n"
     ]
    }
   ],
   "source": [
    "model=SVR(kernel='linear', C=1.2, gamma= 1e-07, epsilon= 0)\n",
    "svr_rmse_ave(skew_data,12,model)"
   ]
  },
  {
   "cell_type": "markdown",
   "metadata": {},
   "source": [
    "## XGB"
   ]
  },
  {
   "cell_type": "code",
   "execution_count": 61,
   "metadata": {},
   "outputs": [
    {
     "name": "stdout",
     "output_type": "stream",
     "text": [
      "test_rmse_ave: 0.006418931640769529\n",
      "[0.006252188009250737, 0.006621446162239365, 0.0066363919088872105, 0.006649586531495434, 0.006642294653586028, 0.005336185116075906, 0.0061808889490985635, 0.006762445119202418, 0.006279821163890022, 0.006828068793969611]\n",
      "\n",
      "\n",
      "test_r2_ave: 0.1243925504114165\n",
      "[0.11714042128428848, 0.033615101299133476, 0.10392084562870063, 0.15045544006979705, 0.06475648878032503, 0.4059208428816128, 0.16258595200099646, -0.05486284523962848, 0.18296114672780794, 0.07743211068113176]\n"
     ]
    }
   ],
   "source": [
    "best_xgb_model =  XGBRegressor(\n",
    "                objective ='reg:squarederror',\n",
    "              learning_rate = 0.15,\n",
    "              booster = 'gbtree', \n",
    "              n_estimators = 80, \n",
    "              max_depth = 7, \n",
    "              min_child_weight = 3,\n",
    "              seed = 42,\n",
    "              gamma = 0,\n",
    "              subsample = 0.6,\n",
    "              colsample_bytree = 0.2,\n",
    "              reg_alpha =  0,\n",
    "              reg_lambda = 0.07)\n",
    "xgb_ave(skew_data[title], y,best_xgb_model)"
   ]
  },
  {
   "cell_type": "markdown",
   "metadata": {},
   "source": [
    "## RandomForest"
   ]
  },
  {
   "cell_type": "code",
   "execution_count": 62,
   "metadata": {},
   "outputs": [
    {
     "name": "stdout",
     "output_type": "stream",
     "text": [
      "test_rmse_ave: 0.00627877481303907\n",
      "[0.006270561187322562, 0.0063954843652325455, 0.0063529031646757375, 0.0065320570710004685, 0.006338191133403963, 0.005798670049022241, 0.006055455500053276, 0.006164245252022048, 0.006212951229945163, 0.006667229177712691]\n",
      "\n",
      "\n",
      "test_r2_ave: 0.1656756548571546\n",
      "[0.1119439139827555, 0.09844689497170656, 0.1788418734674554, 0.18022094041686376, 0.14843247176227892, 0.29848116380152157, 0.19622962618881012, 0.1235072923042122, 0.20026878775105006, 0.12038358392489201]\n"
     ]
    }
   ],
   "source": [
    "rand_model = RandomForestRegressor( \n",
    "            criterion ='mse', \n",
    "            n_estimators = 50,\n",
    "            max_depth = 9,\n",
    "            min_samples_split = 3,\n",
    "            max_leaf_nodes = 5,\n",
    "            min_samples_leaf =6,\n",
    "            random_state = 42) \n",
    "rand_ave(skew_x[title], y,rand_model)"
   ]
  },
  {
   "cell_type": "code",
   "execution_count": 8,
   "metadata": {},
   "outputs": [
    {
     "name": "stdout",
     "output_type": "stream",
     "text": [
      "test_rmse_ave: 0.006160079158792075\n",
      "[0.006168037660969958, 0.006010256316085925, 0.006563955183147977, 0.006126051860887441, 0.00656389672902168, 0.005686212550318213, 0.006130923643478388, 0.005913415118646483, 0.005971820692390839, 0.006466221832973842]\n",
      "\n",
      "\n",
      "test_r2_ave: 0.19622194168112364\n",
      "[0.1407459090920713, 0.2037848857878397, 0.12337563288721243, 0.27896189351789, 0.08670325724864592, 0.32542736332176136, 0.17607026748519883, 0.19338698886703176, 0.2611408164446348, 0.1726224021589503]\n"
     ]
    }
   ],
   "source": [
    "lr = LinearRegression()\n",
    "lasso_mod=Lasso(alpha=5e-05)\n",
    "elastic_mod=ElasticNet(alpha=[0.01], l1_ratio=0.01)\n",
    "svr_mod=SVR(kernel='linear', C=1.2, gamma= 1e-07, epsilon= 0)\n",
    "\n",
    "xgb_mod =  XGBRegressor(\n",
    "                objective ='reg:squarederror',\n",
    "              learning_rate = 0.15,\n",
    "              booster = 'gbtree', \n",
    "              n_estimators = 80, \n",
    "              max_depth = 7, \n",
    "              min_child_weight = 3,\n",
    "              seed = 42,\n",
    "              gamma = 0,\n",
    "              subsample = 0.6,\n",
    "              colsample_bytree = 0.2,\n",
    "              reg_alpha =  0,\n",
    "              reg_lambda = 0.07)\n",
    "\n",
    "random_mod = RandomForestRegressor( \n",
    "            criterion ='mse', \n",
    "            n_estimators = 50,\n",
    "            max_depth = 9,\n",
    "            min_samples_split = 3,\n",
    "            max_leaf_nodes = 5,\n",
    "            min_samples_leaf =6,\n",
    "            random_state = 42)  \n",
    "vote_mod = VotingRegressor([ ('Lasso', lasso_mod), ('SVR', svr_mod),('Elastic', elastic_mod), ('Linear', lr),\n",
    "                            ('RandomForest', random_mod),('XGB', xgb_mod)])\n",
    "# \n",
    "# vote_mod = VotingRegressor([ ('SVR', svr_mod), ('Linear', lr)\n",
    "#                             ,('RandomForest', random_mod)])\n",
    "voting_ave(skew_data[title], y,vote_mod)\n"
   ]
  },
  {
   "cell_type": "code",
   "execution_count": 9,
   "metadata": {},
   "outputs": [
    {
     "name": "stdout",
     "output_type": "stream",
     "text": [
      "test_rmse_ave: 0.00626836405684231\n",
      "[0.006148222667274274, 0.006343514415524706, 0.006680359995351421, 0.0062963078291076455, 0.006644221155881704, 0.005327559932974666, 0.006129424247842146, 0.006438249435326548, 0.006152622478137891, 0.006523158411002094]\n",
      "\n",
      "\n",
      "test_r2_ave: 0.16557251598209724\n",
      "[0.14625779695464958, 0.11303947295650008, 0.0920079263806508, 0.23832660718418786, 0.06421390217402267, 0.4078397794454002, 0.17647322327174086, 0.043854279926120454, 0.2157244197138397, 0.15798775181386004]\n"
     ]
    }
   ],
   "source": [
    "\n",
    "stack_mod = StackingRegressor(regressors=[lasso_mod, random_mod, elastic_mod, xgb_mod], \n",
    "                           meta_regressor=vote_mod, use_features_in_secondary=True\n",
    "                          )\n",
    "\n",
    "stack_ave(skew_data[title], y,stack_mod)"
   ]
  },
  {
   "cell_type": "code",
   "execution_count": 10,
   "metadata": {
    "scrolled": false
   },
   "outputs": [
    {
     "name": "stdout",
     "output_type": "stream",
     "text": [
      "test_rmse_ave: 0.006117997670088208\n",
      "[0.006090297125564393, 0.006070846441091593, 0.006457454234426359, 0.006169351941355025, 0.0064511285047046795, 0.0055603960363582935, 0.006029500080220046, 0.005984683134084379, 0.0059367766767179095, 0.006429542526359402]\n",
      "\n",
      "\n",
      "test_r2_ave: 0.20717097583544844\n",
      "[0.16226909616352336, 0.18765048439644405, 0.15159152556318944, 0.26873300655944654, 0.1178147024762276, 0.3549490910151162, 0.20310524002801345, 0.17382735572921038, 0.26978696384158074, 0.1819822925817327]\n"
     ]
    }
   ],
   "source": [
    "ave(skew_data[title],y,0.2,stack_mod,0.6,vote_mod,0.2,random_mod)"
   ]
  },
  {
   "cell_type": "code",
   "execution_count": 12,
   "metadata": {},
   "outputs": [],
   "source": [
    "name='Input_C_096'\n",
    "test_pred=[]\n",
    "seed=[0,1,3,5,6,7,8,2,9]\n",
    "stack_w=0.2\n",
    "vote_w=0.6\n",
    "model_w=0.2\n",
    "model=random_mod\n",
    "for i in seed:\n",
    "    X_train, X_test, y_train, y_test = train_test_split(skew_data[title], y, test_size=0.2, random_state=i)\n",
    "\n",
    "    stack = stack_mod.fit(X_train, y_train)\n",
    "    stack_pred = stack.predict(test)\n",
    "    vote = vote_mod.fit(X_train, y_train)\n",
    "    vote_pred = vote.predict(test)\n",
    "    mod = model.fit(X_train, y_train)\n",
    "    mod_pred = mod.predict(test)\n",
    "\n",
    "    ###\n",
    "    final_test = (vote_w*vote_pred+stack_w*stack_pred + model_w*mod_pred)\n",
    "    ###\n",
    "    test_pred.append(final_test)\n",
    "\n",
    "\n",
    "final_test = pd.DataFrame(np.mean(test_pred, axis=0), columns=[name])\n",
    "final_test.to_csv(('./output/'+name+'.csv'))\n"
   ]
  },
  {
   "cell_type": "code",
   "execution_count": null,
   "metadata": {},
   "outputs": [],
   "source": []
  }
 ],
 "metadata": {
  "kernelspec": {
   "display_name": "Python 3",
   "language": "python",
   "name": "python3"
  },
  "language_info": {
   "codemirror_mode": {
    "name": "ipython",
    "version": 3
   },
   "file_extension": ".py",
   "mimetype": "text/x-python",
   "name": "python",
   "nbconvert_exporter": "python",
   "pygments_lexer": "ipython3",
   "version": "3.7.7"
  }
 },
 "nbformat": 4,
 "nbformat_minor": 4
}
