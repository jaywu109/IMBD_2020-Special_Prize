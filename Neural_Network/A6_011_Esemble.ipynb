{
 "cells": [
  {
   "cell_type": "code",
   "execution_count": 1,
   "metadata": {},
   "outputs": [],
   "source": [
    "import pandas as pd\n",
    "import tensorflow as tf\n",
    "tf.config.set_visible_devices([], 'GPU')"
   ]
  },
  {
   "cell_type": "code",
   "execution_count": 2,
   "metadata": {},
   "outputs": [],
   "source": [
    "\n",
    "import NeuralNetwork.pretrained_models as pre_models\n",
    "from NeuralNetwork.tools import predict, predict_mul\n",
    "from NeuralNetwork.preprocessing import skewness_pure, min_max_normalization_pure\n",
    "\n",
    "\n",
    "def predict_df(X_df):\n",
    "\n",
    "    model_A6_011, input_features_A6_011 = pre_models.Input_A6_011('weights/')\n",
    "    \n",
    "    outputs = ['Input_A6_011']\n",
    "\n",
    "    preprocessings = ['min_max_normalization']\n",
    "\n",
    "    models = [model_A6_011]\n",
    "\n",
    "    input_features = [input_features_A6_011]\n",
    "\n",
    "    result = {}\n",
    "\n",
    "    for i in range(len(outputs)):\n",
    "\n",
    "            if preprocessings[i] == 'skewness':\n",
    "                X = skewness_pure(X_df, input_features[i])\n",
    "            elif preprocessings[i] == 'min_max_normalization':\n",
    "                X = min_max_normalization_pure(X_df, input_features[i])\n",
    "\n",
    "            result[outputs[i]] = predict_mul(models[i], X)\n",
    "    \n",
    "    result_df = pd.DataFrame(result, columns = outputs)\n",
    "    return result_df\n"
   ]
  },
  {
   "cell_type": "code",
   "execution_count": 3,
   "metadata": {},
   "outputs": [],
   "source": [
    "def nn_ave(x, y):\n",
    "\n",
    "    rmse = []\n",
    "    r2 = []\n",
    "    for i in np.arange(10):\n",
    "        X_train, X_test, y_train, y_test = train_test_split(\n",
    "            x, y, test_size=0.2, random_state=i)\n",
    "\n",
    "        nn_pred = predict_df(X_test)\n",
    "\n",
    "        rmse.append(math.sqrt(mean_squared_error(y_test, nn_pred)))\n",
    "        r2.append(r2_score(y_test, nn_pred))\n",
    "\n",
    "    test_rmse = np.array(rmse).mean()\n",
    "    print('test_rmse_ave:', test_rmse)\n",
    "    print(rmse)\n",
    "    print('\\n')\n",
    "    test_r2 = np.array(r2).mean()\n",
    "    print('test_r2_ave:', test_r2)\n",
    "    print(r2)"
   ]
  },
  {
   "cell_type": "code",
   "execution_count": 4,
   "metadata": {},
   "outputs": [],
   "source": [
    "from sklearn import preprocessing\n",
    "from sklearn.preprocessing import MinMaxScaler, RobustScaler, StandardScaler\n",
    "from sklearn.linear_model import LinearRegression, LassoCV\n",
    "from sklearn.model_selection import train_test_split\n",
    "from sklearn.metrics import r2_score, mean_squared_error\n",
    "from sklearn.preprocessing import PowerTransformer\n",
    "import math\n",
    "import warnings\n",
    "warnings.filterwarnings('ignore')\n",
    "\n",
    "# 處理 data 套件\n",
    "import numpy as np\n",
    "import pandas as pd\n",
    "from xgboost.sklearn import XGBRegressor\n",
    "from sklearn.model_selection import GridSearchCV\n",
    "from sklearn.model_selection import cross_val_score,KFold\n",
    "from scipy.stats import skew\n",
    "from sklearn.ensemble import RandomForestRegressor\n",
    "from sklearn.linear_model import ElasticNet\n",
    "from sklearn.linear_model import Lasso\n",
    "from mlxtend.regressor import StackingRegressor\n",
    "from sklearn.ensemble import VotingRegressor\n",
    "from sklearn.svm import SVR"
   ]
  },
  {
   "cell_type": "code",
   "execution_count": 5,
   "metadata": {},
   "outputs": [],
   "source": [
    "from imbdpack import skew_pro,lr_rmse_ave,lr_rmse_ave_fea,laso_rmse_ave,ElasticNet_rmse_ave,xgb_ave,svr_rmse_ave,rand_ave\n",
    "from imbdpack import voting_ave,stack_ave,ave"
   ]
  },
  {
   "cell_type": "code",
   "execution_count": 6,
   "metadata": {},
   "outputs": [
    {
     "data": {
      "text/plain": [
       "array(['Input_C_135', 'Input_C_059', 'Input_A5_011', 'Input_C_056',\n",
       "       'Input_C_053', 'Input_A3_011', 'Input_A2_011'], dtype=object)"
      ]
     },
     "execution_count": 6,
     "metadata": {},
     "output_type": "execute_result"
    }
   ],
   "source": [
    "fea_number=7\n",
    "data=pd.read_csv('./BayesianRidge_Pre_0/Input_A6_011.csv',index_col=0).drop(['Number'], axis=1) ## 改路徑\n",
    "y=data.Predict\n",
    "nn=data.drop(['Predict'], axis=1)\n",
    "skew_data=skew_pro(data)\n",
    "num=skew_data.select_dtypes(exclude='object')\n",
    "numcorr=num.corr()\n",
    "title=abs(numcorr['Predict']).sort_values(ascending=False).head(fea_number+1).to_frame().index.to_numpy()[1:]\n",
    "skew_x=skew_data.drop(['Predict'], axis=1)\n",
    "title"
   ]
  },
  {
   "cell_type": "code",
   "execution_count": 7,
   "metadata": {},
   "outputs": [],
   "source": [
    "test=pd.read_csv('./final_testX.csv',index_col=0).drop(['Number'], axis=1)[title] ## 改路徑"
   ]
  },
  {
   "cell_type": "code",
   "execution_count": 8,
   "metadata": {},
   "outputs": [
    {
     "name": "stdout",
     "output_type": "stream",
     "text": [
      "test_rmse_ave: 0.004319068447480295\n",
      "[0.006094242301827042, 0.001665057363213684, 0.0013048397852114865, 0.011905717529131285, 0.0013036474479977123, 0.001434631512299441, 0.0014329224592242156, 0.012416037844995814, 0.0009611172825076823, 0.0046724709483945805]\n",
      "\n",
      "\n",
      "test_r2_ave: -5.016577302074985\n",
      "[-6.2550218164388856, 0.4884456050730035, 0.7433308626985382, -20.276679893057636, 0.7314478481573852, 0.653149638093113, 0.4975776682481423, -24.415503491302612, 0.8228847428939872, -3.155404185114887]\n"
     ]
    }
   ],
   "source": [
    "nn_ave(nn, y)"
   ]
  },
  {
   "cell_type": "markdown",
   "metadata": {},
   "source": [
    "## Linear Regression Baseline"
   ]
  },
  {
   "cell_type": "code",
   "execution_count": 14,
   "metadata": {},
   "outputs": [
    {
     "name": "stdout",
     "output_type": "stream",
     "text": [
      "train_rmse: 0.0011348670130296502\n",
      "test_rmse: 0.0011442370831728332\n",
      "test_r2: 0.762888913734182\n"
     ]
    }
   ],
   "source": [
    "lr_rmse_ave_fea(skew_data,7)"
   ]
  },
  {
   "cell_type": "markdown",
   "metadata": {},
   "source": [
    "## Lasso"
   ]
  },
  {
   "cell_type": "code",
   "execution_count": 15,
   "metadata": {},
   "outputs": [
    {
     "name": "stdout",
     "output_type": "stream",
     "text": [
      "test_rmse_ave: 0.0011455083316005306\n",
      "[0.0009891828415996768, 0.0011267510198912306, 0.0012831399439415872, 0.0010615718659504148, 0.0011672294627778493, 0.001278031888481265, 0.0011002660021856895, 0.0013052211561260792, 0.0010858966368036843, 0.001057792498247831]\n",
      "\n",
      "\n",
      "test_r2_ave: 0.7650543173640052\n",
      "[0.8088596236180619, 0.7657447462702572, 0.7517968321708633, 0.8308424013530976, 0.7847115149793393, 0.7247389259500123, 0.7037768863784355, 0.7191328991165982, 0.7739106128296445, 0.7870287309737416]\n"
     ]
    }
   ],
   "source": [
    "laso_rmse_ave(skew_data[title],y,5e-06)"
   ]
  },
  {
   "cell_type": "markdown",
   "metadata": {},
   "source": [
    "## ElasticNet"
   ]
  },
  {
   "cell_type": "code",
   "execution_count": 16,
   "metadata": {},
   "outputs": [
    {
     "name": "stdout",
     "output_type": "stream",
     "text": [
      "test_rmse_ave: 0.0011619151531082903\n",
      "[0.0010200766420792506, 0.001127882071265642, 0.0013253486056828926, 0.0011113942618323368, 0.0011871222124048221, 0.0012780009522357948, 0.0010978636817376476, 0.0013228313688907894, 0.0010926846618543723, 0.001055947073099355]\n",
      "\n",
      "\n",
      "test_r2_ave: 0.758928016399344\n",
      "[0.7967339282807036, 0.7652742116002362, 0.7351990604150449, 0.8145917686053841, 0.7773107865069462, 0.7247522518163972, 0.7050690211223541, 0.7115027802040559, 0.7710751731791423, 0.7877711822631773]\n"
     ]
    }
   ],
   "source": [
    "ElasticNet_rmse_ave(skew_data[title],y,[0.008],0.01)"
   ]
  },
  {
   "cell_type": "markdown",
   "metadata": {},
   "source": [
    "## SVR"
   ]
  },
  {
   "cell_type": "code",
   "execution_count": 17,
   "metadata": {},
   "outputs": [
    {
     "name": "stdout",
     "output_type": "stream",
     "text": [
      "train_rmse: 0.0011552584765401213\n",
      "test_rmse: 0.0011443004043795043\n",
      "test_r2: 0.7636970298066595\n"
     ]
    }
   ],
   "source": [
    "model=SVR(kernel='rbf', C=1.25, gamma= 5e-06, epsilon= 0)\n",
    "svr_rmse_ave(skew_data,7,model)"
   ]
  },
  {
   "cell_type": "markdown",
   "metadata": {},
   "source": [
    "## XGB"
   ]
  },
  {
   "cell_type": "code",
   "execution_count": 18,
   "metadata": {},
   "outputs": [
    {
     "name": "stdout",
     "output_type": "stream",
     "text": [
      "test_rmse_ave: 0.0011255591644585131\n",
      "[0.0009460494864920952, 0.0010964265120617356, 0.0012739661243948664, 0.0010336909052578648, 0.0011823387412066568, 0.0012736759726907337, 0.0010680446743271046, 0.0013530920585090418, 0.001002408079341646, 0.0010258990903033853]\n",
      "\n",
      "\n",
      "test_r2_ave: 0.7730050673049105\n",
      "[0.8251655560767585, 0.7781842004773261, 0.7553332063155976, 0.8396111766541221, 0.7791018089943276, 0.726612072888036, 0.7208726497300073, 0.6981526603370963, 0.8073396622361051, 0.7996776793397282]\n"
     ]
    }
   ],
   "source": [
    "best_xgb_model =  XGBRegressor(\n",
    "                objective ='reg:squarederror',\n",
    "              learning_rate = 0.08,\n",
    "              booster = 'gbtree', \n",
    "              n_estimators = 100, \n",
    "              max_depth = 4, \n",
    "              min_child_weight = 3,\n",
    "              seed = 42,\n",
    "              gamma = 0,\n",
    "              subsample = 0.65,\n",
    "              colsample_bytree = 0.4,\n",
    "              reg_alpha =  0,\n",
    "              reg_lambda = 1)\n",
    "xgb_ave(skew_data[title], y,best_xgb_model)"
   ]
  },
  {
   "cell_type": "markdown",
   "metadata": {},
   "source": [
    "## RandomForest"
   ]
  },
  {
   "cell_type": "code",
   "execution_count": 19,
   "metadata": {},
   "outputs": [
    {
     "name": "stdout",
     "output_type": "stream",
     "text": [
      "test_rmse_ave: 0.001118916309689132\n",
      "[0.0009605490362739144, 0.0011150928649105627, 0.001338740331599537, 0.0010678791429009514, 0.0011567087653269292, 0.0012317033203886045, 0.0010273334403260274, 0.0012864929526926194, 0.00099859973453773, 0.0010060635079344434]\n",
      "\n",
      "\n",
      "test_r2_ave: 0.7766919809511834\n",
      "[0.8197653161248184, 0.7705672060123969, 0.7298207663761055, 0.8288263468683351, 0.7885749839678051, 0.7443336070870843, 0.7417463876005321, 0.7271352183672792, 0.8088007901818656, 0.8073491869256116]\n"
     ]
    }
   ],
   "source": [
    "rand_model = RandomForestRegressor( \n",
    "            criterion ='mse', \n",
    "            n_estimators = 40,\n",
    "            max_depth = 3,\n",
    "            min_samples_split = 3,\n",
    "            max_leaf_nodes = 3,\n",
    "            min_samples_leaf =7,\n",
    "            random_state = 42) \n",
    "rand_ave(skew_x[title], y,rand_model)"
   ]
  },
  {
   "cell_type": "code",
   "execution_count": 9,
   "metadata": {},
   "outputs": [
    {
     "name": "stdout",
     "output_type": "stream",
     "text": [
      "test_rmse_ave: 0.0011196107795710072\n",
      "[0.0009585864595784774, 0.0010903903942567315, 0.0012923656153281254, 0.0010573076054636193, 0.00115350043889805, 0.001250044627694648, 0.0010493655795137092, 0.0012890907365861624, 0.0010390287685438212, 0.0010164275698467272]\n",
      "\n",
      "\n",
      "test_r2_ave: 0.7760891241448983\n",
      "[0.8205010683149705, 0.7806197869314648, 0.7482148803210689, 0.83219866053183, 0.7897462031527566, 0.7366626530809454, 0.7305506224522398, 0.7260321273494819, 0.7930057195522665, 0.8033595197619575]\n"
     ]
    }
   ],
   "source": [
    "lr = LinearRegression()\n",
    "lasso_mod=Lasso(alpha=5e-06)\n",
    "elastic_mod=ElasticNet(alpha=[0.008], l1_ratio=0.01)\n",
    "svr_mod=SVR(kernel='rbf', C=1.25, gamma= 5e-06, epsilon= 0)\n",
    "\n",
    "xgb_mod =  XGBRegressor(\n",
    "                objective ='reg:squarederror',\n",
    "              learning_rate = 0.08,\n",
    "              booster = 'gbtree', \n",
    "              n_estimators = 100, \n",
    "              max_depth = 4, \n",
    "              min_child_weight = 3,\n",
    "              seed = 42,\n",
    "              gamma = 0,\n",
    "              subsample = 0.65,\n",
    "              colsample_bytree = 0.4,\n",
    "              reg_alpha =  0,\n",
    "              reg_lambda = 1)\n",
    "\n",
    "random_mod = RandomForestRegressor( \n",
    "            criterion ='mse', \n",
    "            n_estimators = 40,\n",
    "            max_depth = 3,\n",
    "            min_samples_split = 3,\n",
    "            max_leaf_nodes = 3,\n",
    "            min_samples_leaf =7,\n",
    "            random_state = 42) \n",
    "vote_mod = VotingRegressor([ ('Lasso', lasso_mod), ('SVR', svr_mod),('Elastic', elastic_mod), ('Linear', lr),\n",
    "                            ('XGBRegressor', xgb_mod),('RandomForest', random_mod)])\n",
    "# \n",
    "# vote_mod = VotingRegressor([ ('SVR', svr_mod), ('Linear', lr)\n",
    "#                             ,('RandomForest', random_mod)])\n",
    "voting_ave(skew_data[title], y,vote_mod)\n"
   ]
  },
  {
   "cell_type": "code",
   "execution_count": 10,
   "metadata": {},
   "outputs": [
    {
     "name": "stdout",
     "output_type": "stream",
     "text": [
      "test_rmse_ave: 0.001183250381056081\n",
      "[0.0009948293478069332, 0.0011536926539622645, 0.0013251097816936773, 0.0010977457257476887, 0.0011895795993575856, 0.0013800037291015607, 0.0011322454749689195, 0.0014033723356070935, 0.0010872395846201267, 0.001068685577694962]\n",
      "\n",
      "\n",
      "test_r2_ave: 0.7488521733309715\n",
      "[0.8066712401066798, 0.7544083060305837, 0.7352944845450622, 0.8191176380300556, 0.776387882430327, 0.6790614103577641, 0.6863070613543465, 0.6753028441000701, 0.7733510494448179, 0.782619816910008]\n"
     ]
    }
   ],
   "source": [
    "\n",
    "stack_mod = StackingRegressor(regressors=[svr_mod,random_mod,lasso_mod, vote_mod], \n",
    "                           meta_regressor=xgb_mod, use_features_in_secondary=True\n",
    "                          )\n",
    "\n",
    "stack_ave(skew_data[title], y,stack_mod)"
   ]
  },
  {
   "cell_type": "code",
   "execution_count": 11,
   "metadata": {},
   "outputs": [
    {
     "name": "stdout",
     "output_type": "stream",
     "text": [
      "test_rmse_ave: 0.0011132137596788598\n",
      "[0.000947339090470658, 0.0010861907835099471, 0.001299732520310997, 0.0010503637838153866, 0.0011461361296933265, 0.0012481361994454107, 0.0010398785253714457, 0.001287742738442437, 0.0010222919473399385, 0.001004325878389051]\n",
      "\n",
      "\n",
      "test_r2_ave: 0.7786255181467501\n",
      "[0.8246885813093808, 0.7823064072491501, 0.7453361844900787, 0.8343954789878758, 0.7924222859117305, 0.7374661072845794, 0.7354006490441651, 0.7266048024623999, 0.7996205961253401, 0.8080140886028006]\n"
     ]
    }
   ],
   "source": [
    "ave(skew_data[title],y,0.1,stack_mod,0.6,vote_mod,0.3,random_mod)"
   ]
  },
  {
   "cell_type": "code",
   "execution_count": 13,
   "metadata": {},
   "outputs": [],
   "source": [
    "name='Input_A6_011'\n",
    "test_pred=[]\n",
    "seed=[0,1,3,8,9,6,2,5]\n",
    "stack_w=0.1\n",
    "vote_w=0.6\n",
    "model_w=0.3\n",
    "model=random_mod\n",
    "for i in seed:\n",
    "    X_train, X_test, y_train, y_test = train_test_split(skew_data[title], y, test_size=0.2, random_state=i)\n",
    "\n",
    "    stack = stack_mod.fit(X_train, y_train)\n",
    "    stack_pred = stack.predict(test)\n",
    "    vote = vote_mod.fit(X_train, y_train)\n",
    "    vote_pred = vote.predict(test)\n",
    "    mod = model.fit(X_train, y_train)\n",
    "    mod_pred = mod.predict(test)\n",
    "\n",
    "    ###\n",
    "    final_test = (vote_w*vote_pred+stack_w*stack_pred + model_w*mod_pred)\n",
    "    ###\n",
    "    test_pred.append(final_test)\n",
    "\n",
    "\n",
    "final_test = pd.DataFrame(np.mean(test_pred, axis=0), columns=[name])\n",
    "final_test.to_csv(('./output/'+name+'.csv'))\n"
   ]
  },
  {
   "cell_type": "code",
   "execution_count": null,
   "metadata": {},
   "outputs": [],
   "source": []
  }
 ],
 "metadata": {
  "kernelspec": {
   "display_name": "Python 3",
   "language": "python",
   "name": "python3"
  },
  "language_info": {
   "codemirror_mode": {
    "name": "ipython",
    "version": 3
   },
   "file_extension": ".py",
   "mimetype": "text/x-python",
   "name": "python",
   "nbconvert_exporter": "python",
   "pygments_lexer": "ipython3",
   "version": "3.7.7"
  }
 },
 "nbformat": 4,
 "nbformat_minor": 4
}
