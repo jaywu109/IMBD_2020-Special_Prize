{
 "cells": [
  {
   "cell_type": "code",
   "execution_count": 1,
   "metadata": {},
   "outputs": [],
   "source": [
    "import pandas as pd\n",
    "import tensorflow as tf\n",
    "tf.config.set_visible_devices([], 'GPU')"
   ]
  },
  {
   "cell_type": "code",
   "execution_count": 2,
   "metadata": {},
   "outputs": [],
   "source": [
    "\n",
    "import NeuralNetwork.pretrained_models as pre_models\n",
    "from NeuralNetwork.tools import predict, predict_mul\n",
    "from NeuralNetwork.preprocessing import skewness_pure, min_max_normalization_pure\n",
    "\n",
    "\n",
    "def predict_df(X_df):\n",
    "\n",
    "    model_A2_024, input_features_A2_024 = pre_models.Input_A2_024('weights/')\n",
    "    \n",
    "    outputs = ['Input_A2_024']\n",
    "\n",
    "    preprocessings = ['skewness']\n",
    "\n",
    "    models = [model_A2_024]\n",
    "\n",
    "    input_features = [input_features_A2_024]\n",
    "\n",
    "    result = {}\n",
    "\n",
    "    for i in range(len(outputs)):\n",
    "\n",
    "            if preprocessings[i] == 'skewness':\n",
    "                X = skewness_pure(X_df, input_features[i])\n",
    "            elif preprocessings[i] == 'min_max_normalization':\n",
    "                X = min_max_normalization_pure(X_df, input_features[i])\n",
    "\n",
    "            result[outputs[i]] = predict_mul(models[i], X)\n",
    "    \n",
    "    result_df = pd.DataFrame(result, columns = outputs)\n",
    "    return result_df\n"
   ]
  },
  {
   "cell_type": "code",
   "execution_count": 3,
   "metadata": {},
   "outputs": [],
   "source": [
    "def nn_ave(x, y):\n",
    "\n",
    "    rmse = []\n",
    "    r2 = []\n",
    "    for i in np.arange(10):\n",
    "        X_train, X_test, y_train, y_test = train_test_split(\n",
    "            x, y, test_size=0.2, random_state=i)\n",
    "\n",
    "        nn_pred = predict_df(X_test)\n",
    "\n",
    "        rmse.append(math.sqrt(mean_squared_error(y_test, nn_pred)))\n",
    "        r2.append(r2_score(y_test, nn_pred))\n",
    "\n",
    "    test_rmse = np.array(rmse).mean()\n",
    "    print('test_rmse_ave:', test_rmse)\n",
    "    print(rmse)\n",
    "    print('\\n')\n",
    "    test_r2 = np.array(r2).mean()\n",
    "    print('test_r2_ave:', test_r2)\n",
    "    print(r2)"
   ]
  },
  {
   "cell_type": "code",
   "execution_count": 4,
   "metadata": {},
   "outputs": [],
   "source": [
    "from sklearn import preprocessing\n",
    "from sklearn.preprocessing import MinMaxScaler, RobustScaler, StandardScaler\n",
    "from sklearn.linear_model import LinearRegression, LassoCV\n",
    "from sklearn.model_selection import train_test_split\n",
    "from sklearn.metrics import r2_score, mean_squared_error\n",
    "from sklearn.preprocessing import PowerTransformer\n",
    "import math\n",
    "import warnings\n",
    "warnings.filterwarnings('ignore')\n",
    "\n",
    "# 處理 data 套件\n",
    "import numpy as np\n",
    "import pandas as pd\n",
    "from xgboost.sklearn import XGBRegressor\n",
    "from sklearn.model_selection import GridSearchCV\n",
    "from sklearn.model_selection import cross_val_score,KFold\n",
    "from scipy.stats import skew\n",
    "from sklearn.ensemble import RandomForestRegressor\n",
    "from sklearn.linear_model import ElasticNet\n",
    "from sklearn.linear_model import Lasso\n",
    "from mlxtend.regressor import StackingRegressor\n",
    "from sklearn.ensemble import VotingRegressor\n",
    "from sklearn.svm import SVR"
   ]
  },
  {
   "cell_type": "code",
   "execution_count": 5,
   "metadata": {},
   "outputs": [],
   "source": [
    "from imbdpack import skew_pro,lr_rmse_ave,lr_rmse_ave_fea,laso_rmse_ave,ElasticNet_rmse_ave,xgb_ave,svr_rmse_ave,rand_ave\n",
    "from imbdpack import voting_ave,stack_ave,ave"
   ]
  },
  {
   "cell_type": "code",
   "execution_count": 6,
   "metadata": {},
   "outputs": [
    {
     "data": {
      "text/plain": [
       "array(['Input_A2_022', 'Input_A2_023', 'Input_A3_024', 'Input_A3_022'],\n",
       "      dtype=object)"
      ]
     },
     "execution_count": 6,
     "metadata": {},
     "output_type": "execute_result"
    }
   ],
   "source": [
    "fea_number=4\n",
    "data=pd.read_csv('./BayesianRidge_Pre_0/Input_A2_024.csv',index_col=0).drop(['Number'], axis=1) ## 改路徑\n",
    "y=data.Predict\n",
    "nn=data.drop(['Predict'], axis=1)\n",
    "skew_data=skew_pro(data)\n",
    "num=skew_data.select_dtypes(exclude='object')\n",
    "numcorr=num.corr()\n",
    "title=abs(numcorr['Predict']).sort_values(ascending=False).head(fea_number+1).to_frame().index.to_numpy()[1:]\n",
    "skew_x=skew_data.drop(['Predict'], axis=1)\n",
    "title"
   ]
  },
  {
   "cell_type": "code",
   "execution_count": 7,
   "metadata": {},
   "outputs": [],
   "source": [
    "test=pd.read_csv('./final_testX.csv',index_col=0).drop(['Number'], axis=1)[title] ## 改路徑"
   ]
  },
  {
   "cell_type": "code",
   "execution_count": 8,
   "metadata": {},
   "outputs": [
    {
     "name": "stdout",
     "output_type": "stream",
     "text": [
      "test_rmse_ave: 0.01259847935796932\n",
      "[0.006410197507050793, 0.012935488222901463, 0.0026527501289165083, 0.02718487499929699, 0.021028255419797102, 0.018732117544320925, 0.006170239543577961, 0.019571503768959223, 0.0041902039164528155, 0.007109162528419401]\n",
      "\n",
      "\n",
      "test_r2_ave: -0.3357030632012184\n",
      "[0.7739992174328645, 0.04228291990698507, 0.9666036727286333, -3.690654664202424, -0.9731526066852825, -1.1816671941401515, 0.8088801408429951, -1.740421116825941, 0.9177187610738936, 0.7193802378562444]\n"
     ]
    }
   ],
   "source": [
    "nn_ave(nn, y)"
   ]
  },
  {
   "cell_type": "markdown",
   "metadata": {},
   "source": [
    "## Linear Regression Baseline"
   ]
  },
  {
   "cell_type": "code",
   "execution_count": 4,
   "metadata": {},
   "outputs": [
    {
     "name": "stdout",
     "output_type": "stream",
     "text": [
      "train_rmse: 0.003489222998819841\n",
      "test_rmse: 0.003417772033754501\n",
      "test_r2: 0.9344141176272135\n"
     ]
    }
   ],
   "source": [
    "lr_rmse_ave_fea(skew_data,4)"
   ]
  },
  {
   "cell_type": "markdown",
   "metadata": {},
   "source": [
    "## Lasso"
   ]
  },
  {
   "cell_type": "code",
   "execution_count": 5,
   "metadata": {},
   "outputs": [
    {
     "name": "stdout",
     "output_type": "stream",
     "text": [
      "test_rmse_ave: 0.003512979588446882\n",
      "[0.003065687255470588, 0.003840134616679227, 0.0036056611113197906, 0.003302259540611516, 0.004082868698577859, 0.002855172819991618, 0.004039278998293442, 0.0031952380903410224, 0.003991219327767872, 0.0031522754254158874]\n",
      "\n",
      "\n",
      "test_r2_ave: 0.9323147289206691\n",
      "[0.9483080616152897, 0.9155957178090541, 0.9383013258659071, 0.9307848464242967, 0.9256150602238853, 0.9493149879750126, 0.9180951781091415, 0.9269575447153832, 0.925347957689839, 0.9448266087788821]\n"
     ]
    }
   ],
   "source": [
    "laso_rmse_ave(skew_data[title],y,9e-06)"
   ]
  },
  {
   "cell_type": "markdown",
   "metadata": {},
   "source": [
    "## ElasticNet"
   ]
  },
  {
   "cell_type": "code",
   "execution_count": 6,
   "metadata": {},
   "outputs": [
    {
     "name": "stdout",
     "output_type": "stream",
     "text": [
      "test_rmse_ave: 0.003848843260393845\n",
      "[0.003285500750275861, 0.003975328275404609, 0.0037687809934287275, 0.003882227465814085, 0.004265407321435517, 0.003431537304458486, 0.004950556204171342, 0.00294131832076943, 0.004712132370766483, 0.0032756435974139104]\n",
      "\n",
      "\n",
      "test_r2_ave: 0.9184153072310712\n",
      "[0.9406295606888428, 0.9095481240550942, 0.9325925618745713, 0.9043377183005517, 0.9188151096193398, 0.9267863259329248, 0.8769703585900718, 0.9381053701648998, 0.8959443972358797, 0.9404235458485373]\n"
     ]
    }
   ],
   "source": [
    "ElasticNet_rmse_ave(skew_data[title],y,[0.005],0.01)"
   ]
  },
  {
   "cell_type": "markdown",
   "metadata": {},
   "source": [
    "## SVR"
   ]
  },
  {
   "cell_type": "code",
   "execution_count": 7,
   "metadata": {},
   "outputs": [
    {
     "name": "stdout",
     "output_type": "stream",
     "text": [
      "train_rmse: 0.0037200815263964634\n",
      "test_rmse: 0.0038325352436332483\n",
      "test_r2: 0.9172259700493901\n"
     ]
    }
   ],
   "source": [
    "model=SVR(kernel='linear', C=1.3, gamma= 1e-07, epsilon= 0)\n",
    "svr_rmse_ave(skew_data,4,model)"
   ]
  },
  {
   "cell_type": "markdown",
   "metadata": {},
   "source": [
    "## XGB"
   ]
  },
  {
   "cell_type": "code",
   "execution_count": 8,
   "metadata": {},
   "outputs": [
    {
     "name": "stdout",
     "output_type": "stream",
     "text": [
      "test_rmse_ave: 0.002610116594444569\n",
      "[0.0020382978556536995, 0.0033939927210324184, 0.002543914919394047, 0.0027353326101223485, 0.001879888575991442, 0.002163334986991561, 0.0035740546294240664, 0.0021585374608674305, 0.00312541664734467, 0.002488395537624009]\n",
      "\n",
      "\n",
      "test_r2_ave: 0.9610531636955469\n",
      "[0.9771491470120371, 0.9340684332518828, 0.9692877818170784, 0.9525103393896454, 0.9842304824834702, 0.9709020562071885, 0.9358754781055965, 0.966665949112508, 0.9542231033133646, 0.9656188662626983]\n"
     ]
    }
   ],
   "source": [
    "best_xgb_model = XGBRegressor(\n",
    "                objective ='reg:squarederror',\n",
    "              learning_rate = 0.1,\n",
    "              booster = 'dart', \n",
    "              n_estimators = 160, \n",
    "              max_depth = 3, \n",
    "              min_child_weight = 2,\n",
    "              seed = 42,\n",
    "              gamma = 0,\n",
    "              subsample = 0.7,\n",
    "              colsample_bytree = 0.9,\n",
    "              reg_alpha =  0,\n",
    "              reg_lambda = 1)\n",
    "xgb_ave(skew_data[title], y,best_xgb_model)"
   ]
  },
  {
   "cell_type": "markdown",
   "metadata": {},
   "source": [
    "## RandomForest"
   ]
  },
  {
   "cell_type": "code",
   "execution_count": 9,
   "metadata": {},
   "outputs": [
    {
     "name": "stdout",
     "output_type": "stream",
     "text": [
      "test_rmse_ave: 0.002786821328318193\n",
      "[0.0020348403991184327, 0.0032690581491539206, 0.0026473960863721453, 0.0028936434983259924, 0.0024657709055810953, 0.0023529392579429874, 0.0039783915667526565, 0.0022150893975997755, 0.0035232157973223415, 0.00248786822501258]\n",
      "\n",
      "\n",
      "test_r2_ave: 0.956100391487311\n",
      "[0.9772266026440297, 0.9388330431088736, 0.9667383442257832, 0.9468542147571489, 0.9728693851396321, 0.9655779933476849, 0.920545807451898, 0.9648964183196689, 0.9418286698383145, 0.9656334360400753]\n"
     ]
    }
   ],
   "source": [
    "rand_model = RandomForestRegressor( \n",
    "            criterion ='mse', \n",
    "            n_estimators = 50,\n",
    "            max_depth = 4,\n",
    "            min_samples_split = 3,\n",
    "            max_leaf_nodes = 8,\n",
    "            min_samples_leaf =1,\n",
    "            random_state = 42) \n",
    "rand_ave(skew_x[title], y,rand_model)"
   ]
  },
  {
   "cell_type": "code",
   "execution_count": 9,
   "metadata": {},
   "outputs": [
    {
     "name": "stdout",
     "output_type": "stream",
     "text": [
      "test_rmse_ave: 0.002681406657018221\n",
      "[0.002398476302779021, 0.003134457807140367, 0.00276560258649376, 0.0024733293026977642, 0.003033732797652811, 0.0022565263519979946, 0.0034413633154755153, 0.001713292970075717, 0.003308851561778792, 0.0022884335740904673]\n",
      "\n",
      "\n",
      "test_r2_ave: 0.9603435123811819\n",
      "[0.9683598899792756, 0.9437663285255908, 0.9637017602271547, 0.9611722106036804, 0.9589314998916161, 0.9683411181720838, 0.940548499950217, 0.9789993769507618, 0.948692001316334, 0.9709224381951049]\n"
     ]
    }
   ],
   "source": [
    "lr = LinearRegression()\n",
    "lasso_mod=Lasso(alpha=9e-06)\n",
    "elastic_mod=ElasticNet(alpha=[0.005], l1_ratio=0.01)\n",
    "svr_mod=SVR(kernel='linear', C=1.3, gamma= 1e-07, epsilon= 0)\n",
    "\n",
    "xgb_mod =  XGBRegressor(\n",
    "                objective ='reg:squarederror',\n",
    "              learning_rate = 0.1,\n",
    "              booster = 'dart', \n",
    "              n_estimators = 160, \n",
    "              max_depth = 3, \n",
    "              min_child_weight = 2,\n",
    "              seed = 42,\n",
    "              gamma = 0,\n",
    "              subsample = 0.7,\n",
    "              colsample_bytree = 0.9,\n",
    "              reg_alpha =  0,\n",
    "              reg_lambda = 1)\n",
    "\n",
    "random_mod = RandomForestRegressor( \n",
    "            criterion ='mse', \n",
    "            n_estimators = 50,\n",
    "            max_depth = 4,\n",
    "            min_samples_split = 3,\n",
    "            max_leaf_nodes = 8,\n",
    "            min_samples_leaf =1,\n",
    "            random_state = 42)  \n",
    "# vote_mod = VotingRegressor([ ('Lasso', lasso_mod),('SVR', svr_mod), ('Elastic', elastic_mod), \n",
    "#                             ('XGBRegressor', xgb_mod),('RandomForest', random_mod)])\n",
    "vote_mod = VotingRegressor([ ('Lasso', lasso_mod),('Linear', lr),  \n",
    "                            ('XGBRegressor', xgb_mod),('RandomForest', random_mod)])\n",
    "\n",
    "voting_ave(skew_data[title], y,vote_mod)\n"
   ]
  },
  {
   "cell_type": "code",
   "execution_count": 10,
   "metadata": {},
   "outputs": [
    {
     "name": "stdout",
     "output_type": "stream",
     "text": [
      "test_rmse_ave: 0.00213768385908183\n",
      "[0.0019302008050881589, 0.002224880142713548, 0.0019457755234640838, 0.002639447802868007, 0.001331000991231841, 0.0016023181012437197, 0.0037172369412329207, 0.000944369456023605, 0.002898605440144966, 0.002143003386807453]\n",
      "\n",
      "\n",
      "test_r2_ave: 0.9724502822303123\n",
      "[0.9795085775900566, 0.971667504868285, 0.9820323412108587, 0.9557814053757548, 0.9920948348698345, 0.9840370839257593, 0.930634702040153, 0.9936195284269169, 0.9606260748484831, 0.9745007691470207]\n"
     ]
    }
   ],
   "source": [
    "\n",
    "stack_mod = StackingRegressor(regressors=[lasso_mod, random_mod,  vote_mod], \n",
    "                           meta_regressor=xgb_mod, use_features_in_secondary=True\n",
    "                          )\n",
    "\n",
    "stack_ave(skew_data[title], y,stack_mod)"
   ]
  },
  {
   "cell_type": "code",
   "execution_count": 11,
   "metadata": {},
   "outputs": [
    {
     "name": "stdout",
     "output_type": "stream",
     "text": [
      "test_rmse_ave: 0.0021671210086690257\n",
      "[0.001926632476316881, 0.002358923520776988, 0.0020413675539699004, 0.002476695828243138, 0.0016147019514336396, 0.0017193470757543036, 0.003543077065435885, 0.001030838847179548, 0.0028592703888301067, 0.002100355378749866]\n",
      "\n",
      "\n",
      "test_r2_ave: 0.9725583785114577\n",
      "[0.9795842718328491, 0.9681507430595876, 0.9802235454692831, 0.9610664392414234, 0.988365735615498, 0.9816201542978887, 0.9369822395769624, 0.9923976043635759, 0.9616874588116304, 0.9755055928458775]\n"
     ]
    }
   ],
   "source": [
    "ave(skew_data[title],y,0.7,stack_mod,0.15,vote_mod,0.15,xgb_mod)"
   ]
  },
  {
   "cell_type": "code",
   "execution_count": 12,
   "metadata": {},
   "outputs": [],
   "source": [
    "name='Input_A2_024'\n",
    "test_pred=[]\n",
    "seed=[0,2,4,5,7,1,9]\n",
    "stack_w=0.7\n",
    "vote_w=0.15\n",
    "model_w=0.15\n",
    "model=xgb_mod\n",
    "for i in seed:\n",
    "    X_train, X_test, y_train, y_test = train_test_split(skew_data[title], y, test_size=0.2, random_state=i)\n",
    "\n",
    "    stack = stack_mod.fit(X_train, y_train)\n",
    "    stack_pred = stack.predict(test)\n",
    "    vote = vote_mod.fit(X_train, y_train)\n",
    "    vote_pred = vote.predict(test)\n",
    "    mod = model.fit(X_train, y_train)\n",
    "    mod_pred = mod.predict(test)\n",
    "\n",
    "    ###\n",
    "    final_test = (vote_w*vote_pred+stack_w*stack_pred + model_w*mod_pred)\n",
    "    ###\n",
    "    test_pred.append(final_test)\n",
    "\n",
    "\n",
    "\n",
    "final_test = pd.DataFrame(np.mean(test_pred, axis=0), columns=[name])\n",
    "final_test.to_csv(('./output/'+name+'.csv'))"
   ]
  }
 ],
 "metadata": {
  "kernelspec": {
   "display_name": "Python 3",
   "language": "python",
   "name": "python3"
  },
  "language_info": {
   "codemirror_mode": {
    "name": "ipython",
    "version": 3
   },
   "file_extension": ".py",
   "mimetype": "text/x-python",
   "name": "python",
   "nbconvert_exporter": "python",
   "pygments_lexer": "ipython3",
   "version": "3.7.7"
  }
 },
 "nbformat": 4,
 "nbformat_minor": 4
}
