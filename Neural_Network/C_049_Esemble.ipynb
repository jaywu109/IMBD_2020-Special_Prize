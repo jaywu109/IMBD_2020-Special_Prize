{
 "cells": [
  {
   "cell_type": "code",
   "execution_count": 1,
   "metadata": {},
   "outputs": [],
   "source": [
    "import pandas as pd\n",
    "import tensorflow as tf\n",
    "tf.config.set_visible_devices([], 'GPU')"
   ]
  },
  {
   "cell_type": "code",
   "execution_count": 2,
   "metadata": {},
   "outputs": [],
   "source": [
    "\n",
    "import NeuralNetwork.pretrained_models as pre_models\n",
    "from NeuralNetwork.tools import predict, predict_mul\n",
    "from NeuralNetwork.preprocessing import skewness_pure, min_max_normalization_pure\n",
    "\n",
    "\n",
    "def predict_df(X_df):\n",
    "\n",
    "    model_C_049, input_features_C_049 = pre_models.Input_C_049('weights/')\n",
    "    \n",
    "    outputs = ['Input_C_049']\n",
    "\n",
    "    preprocessings = ['min_max_normalization']\n",
    "\n",
    "    models = [model_C_049]\n",
    "\n",
    "    input_features = [input_features_C_049]\n",
    "\n",
    "    result = {}\n",
    "\n",
    "    for i in range(len(outputs)):\n",
    "\n",
    "            if preprocessings[i] == 'skewness':\n",
    "                X = skewness_pure(X_df, input_features[i])\n",
    "            elif preprocessings[i] == 'min_max_normalization':\n",
    "                X = min_max_normalization_pure(X_df, input_features[i])\n",
    "\n",
    "            result[outputs[i]] = predict_mul(models[i], X)\n",
    "    \n",
    "    result_df = pd.DataFrame(result, columns = outputs)\n",
    "    return result_df\n"
   ]
  },
  {
   "cell_type": "code",
   "execution_count": 3,
   "metadata": {},
   "outputs": [],
   "source": [
    "def nn_ave(x, y):\n",
    "\n",
    "    rmse = []\n",
    "    r2 = []\n",
    "    for i in np.arange(10):\n",
    "        X_train, X_test, y_train, y_test = train_test_split(\n",
    "            x, y, test_size=0.2, random_state=i)\n",
    "\n",
    "        nn_pred = predict_df(X_test)\n",
    "\n",
    "        rmse.append(math.sqrt(mean_squared_error(y_test, nn_pred)))\n",
    "        r2.append(r2_score(y_test, nn_pred))\n",
    "\n",
    "    test_rmse = np.array(rmse).mean()\n",
    "    print('test_rmse_ave:', test_rmse)\n",
    "    print(rmse)\n",
    "    print('\\n')\n",
    "    test_r2 = np.array(r2).mean()\n",
    "    print('test_r2_ave:', test_r2)\n",
    "    print(r2)"
   ]
  },
  {
   "cell_type": "code",
   "execution_count": 4,
   "metadata": {},
   "outputs": [],
   "source": [
    "from sklearn import preprocessing\n",
    "from sklearn.preprocessing import MinMaxScaler, RobustScaler, StandardScaler\n",
    "from sklearn.linear_model import LinearRegression, LassoCV\n",
    "from sklearn.model_selection import train_test_split\n",
    "from sklearn.metrics import r2_score, mean_squared_error\n",
    "from sklearn.preprocessing import PowerTransformer\n",
    "import math\n",
    "import warnings\n",
    "warnings.filterwarnings('ignore')\n",
    "\n",
    "# 處理 data 套件\n",
    "import numpy as np\n",
    "import pandas as pd\n",
    "from xgboost.sklearn import XGBRegressor\n",
    "from sklearn.model_selection import GridSearchCV\n",
    "from sklearn.model_selection import cross_val_score,KFold\n",
    "from scipy.stats import skew\n",
    "from sklearn.ensemble import RandomForestRegressor\n",
    "from sklearn.linear_model import ElasticNet\n",
    "from sklearn.linear_model import Lasso\n",
    "from mlxtend.regressor import StackingRegressor\n",
    "from sklearn.ensemble import VotingRegressor\n",
    "from sklearn.svm import SVR"
   ]
  },
  {
   "cell_type": "code",
   "execution_count": 5,
   "metadata": {},
   "outputs": [],
   "source": [
    "from imbdpack import skew_pro,lr_rmse_ave,lr_rmse_ave_fea,laso_rmse_ave,ElasticNet_rmse_ave,xgb_ave,svr_rmse_ave,rand_ave\n",
    "from imbdpack import voting_ave,stack_ave,ave"
   ]
  },
  {
   "cell_type": "code",
   "execution_count": 6,
   "metadata": {},
   "outputs": [
    {
     "data": {
      "text/plain": [
       "array(['Input_C_047', 'Input_C_048', 'Input_C_137', 'Input_C_044',\n",
       "       'Input_C_041', 'Input_C_136', 'Input_C_043', 'Input_A4_011'],\n",
       "      dtype=object)"
      ]
     },
     "execution_count": 6,
     "metadata": {},
     "output_type": "execute_result"
    }
   ],
   "source": [
    "fea_number=8\n",
    "data=pd.read_csv('./BayesianRidge_Pre_0/Input_C_049.csv',index_col=0).drop(['Number'], axis=1) ## 改路徑\n",
    "y=data.Predict\n",
    "nn=data.drop(['Predict'], axis=1)\n",
    "skew_data=skew_pro(data)\n",
    "num=skew_data.select_dtypes(exclude='object')\n",
    "numcorr=num.corr()\n",
    "title=abs(numcorr['Predict']).sort_values(ascending=False).head(fea_number+1).to_frame().index.to_numpy()[1:]\n",
    "skew_x=skew_data.drop(['Predict'], axis=1)\n",
    "title"
   ]
  },
  {
   "cell_type": "code",
   "execution_count": 7,
   "metadata": {},
   "outputs": [],
   "source": [
    "test=pd.read_csv('./final_testX.csv',index_col=0).drop(['Number'], axis=1)[title] ## 改路徑"
   ]
  },
  {
   "cell_type": "code",
   "execution_count": 8,
   "metadata": {},
   "outputs": [
    {
     "name": "stdout",
     "output_type": "stream",
     "text": [
      "test_rmse_ave: 0.006445387908787211\n",
      "[0.0049702157294444485, 0.014162584831045644, 0.002936556938264458, 0.019685776422847537, 0.003150611296923237, 0.01113212695466879, 0.0058610306080245575, 0.0002610205411221014, 0.0002067632793037513, 0.002087192486227574]\n",
      "\n",
      "\n",
      "test_r2_ave: -856.7262853575033\n",
      "[-297.93044523980836, -2002.011389606389, -155.96531820078272, -4000.7120249776353, -120.20892460224115, -1500.9687307074098, -435.24525865997214, -0.31018310311098984, 0.36844431390266863, -54.2790227915864]\n"
     ]
    }
   ],
   "source": [
    "nn_ave(nn, y)"
   ]
  },
  {
   "cell_type": "markdown",
   "metadata": {},
   "source": [
    "## Linear Regression Baseline"
   ]
  },
  {
   "cell_type": "code",
   "execution_count": 9,
   "metadata": {},
   "outputs": [
    {
     "name": "stdout",
     "output_type": "stream",
     "text": [
      "train_rmse: 0.00022172789652128146\n",
      "test_rmse: 0.00023546602040798217\n",
      "test_r2: 0.3190337509979494\n"
     ]
    }
   ],
   "source": [
    "lr_rmse_ave_fea(skew_data,8)"
   ]
  },
  {
   "cell_type": "markdown",
   "metadata": {},
   "source": [
    "## Lasso"
   ]
  },
  {
   "cell_type": "code",
   "execution_count": 10,
   "metadata": {},
   "outputs": [
    {
     "name": "stdout",
     "output_type": "stream",
     "text": [
      "test_rmse_ave: 0.00022505173779003708\n",
      "[0.00023712937718824043, 0.00024464335206266505, 0.00019398886669105128, 0.0002498756010646379, 0.0002084259236082467, 0.0002213630122603428, 0.00024285143796758351, 0.0002134882864157711, 0.000204171679208436, 0.000234579841433396]\n",
      "\n",
      "\n",
      "test_r2_ave: 0.3328288650927885\n",
      "[0.31955912971793454, 0.402324838111494, 0.3150159413336382, 0.3552543226233065, 0.46954516087787335, 0.406098117201805, 0.25103055637760296, 0.12354277483104381, 0.38417710957315665, 0.30174070028002953]\n"
     ]
    }
   ],
   "source": [
    "laso_rmse_ave(skew_data[title],y,7e-06)"
   ]
  },
  {
   "cell_type": "markdown",
   "metadata": {},
   "source": [
    "## ElasticNet"
   ]
  },
  {
   "cell_type": "code",
   "execution_count": 11,
   "metadata": {},
   "outputs": [
    {
     "name": "stdout",
     "output_type": "stream",
     "text": [
      "test_rmse_ave: 0.0002334562317344059\n",
      "[0.0002474261109276999, 0.0002676054513932509, 0.00019495238154806539, 0.0002684603591224828, 0.00022497666705178292, 0.00023123371853646016, 0.00024082689531972214, 0.00020479139538548885, 0.00021187269274605564, 0.0002424166453130505]\n",
      "\n",
      "\n",
      "test_r2_ave: 0.289004584499655\n",
      "[0.25918336153952937, 0.284864589884112, 0.3081946080047384, 0.25578045893280477, 0.3819552759243223, 0.35195238492842806, 0.26346614377713895, 0.19349691459101115, 0.33684538106087103, 0.25430672635359397]\n"
     ]
    }
   ],
   "source": [
    "ElasticNet_rmse_ave(skew_data[title],y,[0.005],0.01)"
   ]
  },
  {
   "cell_type": "markdown",
   "metadata": {},
   "source": [
    "## SVR"
   ]
  },
  {
   "cell_type": "code",
   "execution_count": 12,
   "metadata": {},
   "outputs": [
    {
     "name": "stdout",
     "output_type": "stream",
     "text": [
      "train_rmse: 0.0002465000900666068\n",
      "test_rmse: 0.000256249934256984\n",
      "test_r2: 0.18580959310929768\n"
     ]
    }
   ],
   "source": [
    "model=SVR(kernel='linear', C=1.2, gamma= 1e-07, epsilon= 0)\n",
    "svr_rmse_ave(skew_data,8,model)"
   ]
  },
  {
   "cell_type": "markdown",
   "metadata": {},
   "source": [
    "## XGB"
   ]
  },
  {
   "cell_type": "code",
   "execution_count": 13,
   "metadata": {},
   "outputs": [
    {
     "name": "stdout",
     "output_type": "stream",
     "text": [
      "test_rmse_ave: 0.00023097241472560143\n",
      "[0.00023497692839814167, 0.0002612631985521791, 0.00018792810101619332, 0.0002620130646339197, 0.0002195300099393976, 0.00024036067581113043, 0.00024365881063029616, 0.0002064596391657435, 0.00020436786283632575, 0.0002491658562726869]\n",
      "\n",
      "\n",
      "test_r2_ave: 0.30313117840520115\n",
      "[0.331855935077917, 0.3183603429246522, 0.35714903023190947, 0.29109730188911265, 0.4115186004568713, 0.2997849789673104, 0.24604229990561377, 0.1803037451337679, 0.38299308235594, 0.21220646710891722]\n"
     ]
    }
   ],
   "source": [
    "best_xgb_model =  XGBRegressor(\n",
    "                objective ='reg:squarederror',\n",
    "              learning_rate = 0.15,\n",
    "              booster = 'gbtree', \n",
    "              n_estimators = 180, \n",
    "              max_depth = 2, \n",
    "              min_child_weight = 4,\n",
    "              seed = 42,\n",
    "              gamma = 0,\n",
    "              subsample = 0.7,\n",
    "              colsample_bytree = 0.6,\n",
    "              reg_alpha =  0,\n",
    "              reg_lambda = 0.1)\n",
    "xgb_ave(skew_data[title], y,best_xgb_model)"
   ]
  },
  {
   "cell_type": "markdown",
   "metadata": {},
   "source": [
    "## RandomForest"
   ]
  },
  {
   "cell_type": "code",
   "execution_count": 14,
   "metadata": {},
   "outputs": [
    {
     "name": "stdout",
     "output_type": "stream",
     "text": [
      "test_rmse_ave: 0.0002320167707026086\n",
      "[0.0002289979038397525, 0.0002522624481159855, 0.00019535913352243056, 0.00025549552284764664, 0.00020496587873325355, 0.0002361910154974464, 0.00025281709670211335, 0.0002283193813180385, 0.0002120616160595685, 0.00025369771038985024]\n",
      "\n",
      "\n",
      "test_r2_ave: 0.2876841704003815\n",
      "[0.36542540091539866, 0.36451751880399363, 0.3053048073402945, 0.3259263913345103, 0.4870109630952959, 0.32386823936672027, 0.1882998608790586, -0.002462604389031009, 0.33566220616670595, 0.1832889204908682]\n"
     ]
    }
   ],
   "source": [
    "rand_model = RandomForestRegressor( \n",
    "            criterion ='mse', \n",
    "            n_estimators = 60,\n",
    "            max_depth = 9,\n",
    "            min_samples_split = 2,\n",
    "            max_leaf_nodes = 10,\n",
    "            min_samples_leaf =5,\n",
    "            random_state = 42) \n",
    "rand_ave(skew_x[title], y,rand_model)"
   ]
  },
  {
   "cell_type": "code",
   "execution_count": 15,
   "metadata": {},
   "outputs": [
    {
     "name": "stdout",
     "output_type": "stream",
     "text": [
      "test_rmse_ave: 0.00022379306308581583\n",
      "[0.00023113348209521405, 0.00024389307423465105, 0.00018616056774863678, 0.0002592490725168511, 0.00021056825777861205, 0.0002208807701764664, 0.00024303047892879775, 0.00020625020799163338, 0.00020237744701812055, 0.000234387272369175]\n",
      "\n",
      "\n",
      "test_r2_ave: 0.3431677956708818\n",
      "[0.35353443817881103, 0.4059851444510997, 0.3691846650742481, 0.3059749305911702, 0.4585844138839622, 0.4086829439150784, 0.24992580162633826, 0.18196588965152827, 0.3949530827722936, 0.3028866465642882]\n"
     ]
    }
   ],
   "source": [
    "lr = LinearRegression()\n",
    "lasso_mod=Lasso(alpha=7e-06)\n",
    "elastic_mod=ElasticNet(alpha=[0.005], l1_ratio=0.01)\n",
    "svr_mod=SVR(kernel='linear', C=1.2, gamma= 1e-07, epsilon= 0)\n",
    "\n",
    "xgb_mod =  XGBRegressor(\n",
    "                objective ='reg:squarederror',\n",
    "              learning_rate = 0.15,\n",
    "              booster = 'gbtree', \n",
    "              n_estimators = 180, \n",
    "              max_depth = 2, \n",
    "              min_child_weight = 4,\n",
    "              seed = 42,\n",
    "              gamma = 0,\n",
    "              subsample = 0.7,\n",
    "              colsample_bytree = 0.6,\n",
    "              reg_alpha =  0,\n",
    "              reg_lambda = 0.1)\n",
    "\n",
    "random_mod = RandomForestRegressor( \n",
    "            criterion ='mse', \n",
    "            n_estimators = 60,\n",
    "            max_depth = 9,\n",
    "            min_samples_split = 2,\n",
    "            max_leaf_nodes = 10,\n",
    "            min_samples_leaf =5,\n",
    "            random_state = 42) \n",
    "vote_mod = VotingRegressor([ ('Lasso', lasso_mod), ('SVR', svr_mod),('Elastic', elastic_mod), ('Linear', lr),\n",
    "                            ('XGBRegressor', xgb_mod),('RandomForest', random_mod)])\n",
    "# \n",
    "# vote_mod = VotingRegressor([ ('SVR', svr_mod), ('Linear', lr)\n",
    "#                             ,('RandomForest', random_mod)])\n",
    "voting_ave(skew_data[title], y,vote_mod)\n"
   ]
  },
  {
   "cell_type": "code",
   "execution_count": 16,
   "metadata": {},
   "outputs": [
    {
     "name": "stdout",
     "output_type": "stream",
     "text": [
      "test_rmse_ave: 0.00022505173779003708\n",
      "[0.00023712937718824043, 0.00024464335206266505, 0.00019398886669105128, 0.0002498756010646379, 0.0002084259236082467, 0.0002213630122603428, 0.00024285143796758351, 0.0002134882864157711, 0.000204171679208436, 0.000234579841433396]\n",
      "\n",
      "\n",
      "test_r2_ave: 0.3328288650927885\n",
      "[0.31955912971793454, 0.402324838111494, 0.3150159413336382, 0.3552543226233065, 0.46954516087787335, 0.406098117201805, 0.25103055637760296, 0.12354277483104381, 0.38417710957315665, 0.30174070028002953]\n"
     ]
    }
   ],
   "source": [
    "\n",
    "stack_mod = StackingRegressor(regressors=[vote_mod, lr, elastic_mod, random_mod], \n",
    "                           meta_regressor=lasso_mod, use_features_in_secondary=True\n",
    "                          )\n",
    "\n",
    "stack_ave(skew_data[title], y,stack_mod)"
   ]
  },
  {
   "cell_type": "code",
   "execution_count": 17,
   "metadata": {},
   "outputs": [
    {
     "name": "stdout",
     "output_type": "stream",
     "text": [
      "test_rmse_ave: 0.00022363495007356036\n",
      "[0.0002325207216233736, 0.0002438343348851036, 0.0001878834481493141, 0.000256100945788478, 0.0002095221543904533, 0.00022007089952867624, 0.00024251406278557886, 0.00020764995157300793, 0.00020250942059391855, 0.00023374356141769954]\n",
      "\n",
      "\n",
      "test_r2_ave: 0.34339756492733287\n",
      "[0.34575111028102057, 0.4062712357608723, 0.35745448458772655, 0.3227280327959531, 0.4639505579072454, 0.4130111829820875, 0.25311008439908533, 0.1708248248220151, 0.39416370389467537, 0.3067104318426479]\n"
     ]
    }
   ],
   "source": [
    "ave(skew_data[title],y,0.15,stack_mod,0.7,vote_mod,0.15,lasso_mod)"
   ]
  },
  {
   "cell_type": "code",
   "execution_count": 18,
   "metadata": {},
   "outputs": [],
   "source": [
    "name='Input_C_049'\n",
    "test_pred=[]\n",
    "seed=[2,4,7,8,3,6,5]\n",
    "stack_w=0.15\n",
    "vote_w=0.7\n",
    "model_w=0.15\n",
    "model=lasso_mod\n",
    "for i in seed:\n",
    "    X_train, X_test, y_train, y_test = train_test_split(skew_data[title], y, test_size=0.2, random_state=i)\n",
    "\n",
    "    stack = stack_mod.fit(X_train, y_train)\n",
    "    stack_pred = stack.predict(test)\n",
    "    vote = vote_mod.fit(X_train, y_train)\n",
    "    vote_pred = vote.predict(test)\n",
    "    mod = model.fit(X_train, y_train)\n",
    "    mod_pred = mod.predict(test)\n",
    "\n",
    "    ###\n",
    "    final_test = (vote_w*vote_pred+stack_w*stack_pred + model_w*mod_pred)\n",
    "    ###\n",
    "    test_pred.append(final_test)\n",
    "\n",
    "\n",
    "final_test = pd.DataFrame(np.mean(test_pred, axis=0), columns=[name])\n",
    "final_test.to_csv(('./output/'+name+'.csv'))\n"
   ]
  }
 ],
 "metadata": {
  "kernelspec": {
   "display_name": "Python 3",
   "language": "python",
   "name": "python3"
  },
  "language_info": {
   "codemirror_mode": {
    "name": "ipython",
    "version": 3
   },
   "file_extension": ".py",
   "mimetype": "text/x-python",
   "name": "python",
   "nbconvert_exporter": "python",
   "pygments_lexer": "ipython3",
   "version": "3.7.7"
  }
 },
 "nbformat": 4,
 "nbformat_minor": 4
}
