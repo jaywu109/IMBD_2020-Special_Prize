{
 "cells": [
  {
   "cell_type": "code",
   "execution_count": 1,
   "metadata": {},
   "outputs": [],
   "source": [
    "import pandas as pd\n",
    "import tensorflow as tf\n",
    "tf.config.set_visible_devices([], 'GPU')"
   ]
  },
  {
   "cell_type": "code",
   "execution_count": 2,
   "metadata": {},
   "outputs": [],
   "source": [
    "\n",
    "import NeuralNetwork.pretrained_models as pre_models\n",
    "from NeuralNetwork.tools import predict, predict_mul\n",
    "from NeuralNetwork.preprocessing import skewness_pure, min_max_normalization_pure\n",
    "\n",
    "\n",
    "def predict_df(X_df):\n",
    "\n",
    "    model_A1_020, input_features_A1_020 = pre_models.Input_A1_020('weights/')\n",
    "\n",
    "    outputs = ['Input_A1_020']\n",
    "\n",
    "    preprocessings = ['skewness']\n",
    "\n",
    "    models = [model_A1_020]\n",
    "\n",
    "    input_features = [input_features_A1_020]\n",
    "\n",
    "    result = {}\n",
    "\n",
    "    for i in range(len(outputs)):\n",
    "\n",
    "            if preprocessings[i] == 'skewness':\n",
    "                X = skewness_pure(X_df, input_features[i])\n",
    "            elif preprocessings[i] == 'min_max_normalization':\n",
    "                X = min_max_normalization_pure(X_df, input_features[i])\n",
    "\n",
    "            result[outputs[i]] = predict_mul(models[i], X)\n",
    "    \n",
    "    result_df = pd.DataFrame(result, columns = outputs)\n",
    "    return result_df\n"
   ]
  },
  {
   "cell_type": "code",
   "execution_count": 3,
   "metadata": {},
   "outputs": [],
   "source": [
    "def nn_ave(x, y):\n",
    "\n",
    "    rmse = []\n",
    "    r2 = []\n",
    "    for i in np.arange(10):\n",
    "        X_train, X_test, y_train, y_test = train_test_split(\n",
    "            x, y, test_size=0.2, random_state=i)\n",
    "\n",
    "        nn_pred = predict_df(X_test)\n",
    "\n",
    "        rmse.append(math.sqrt(mean_squared_error(y_test, nn_pred)))\n",
    "        r2.append(r2_score(y_test, nn_pred))\n",
    "\n",
    "    test_rmse = np.array(rmse).mean()\n",
    "    print('test_rmse_ave:', test_rmse)\n",
    "    print(rmse)\n",
    "    print('\\n')\n",
    "    test_r2 = np.array(r2).mean()\n",
    "    print('test_r2_ave:', test_r2)\n",
    "    print(r2)"
   ]
  },
  {
   "cell_type": "code",
   "execution_count": 4,
   "metadata": {},
   "outputs": [],
   "source": [
    "from sklearn import preprocessing\n",
    "from sklearn.preprocessing import MinMaxScaler, RobustScaler, StandardScaler\n",
    "from sklearn.linear_model import LinearRegression, LassoCV\n",
    "from sklearn.model_selection import train_test_split\n",
    "from sklearn.metrics import r2_score, mean_squared_error\n",
    "from sklearn.preprocessing import PowerTransformer\n",
    "import math\n",
    "import warnings\n",
    "warnings.filterwarnings('ignore')\n",
    "\n",
    "# 處理 data 套件\n",
    "import numpy as np\n",
    "import pandas as pd\n",
    "from xgboost.sklearn import XGBRegressor\n",
    "from sklearn.model_selection import GridSearchCV\n",
    "from sklearn.model_selection import cross_val_score,KFold\n",
    "from scipy.stats import skew\n",
    "from sklearn.ensemble import RandomForestRegressor\n",
    "from sklearn.linear_model import ElasticNet\n",
    "from sklearn.linear_model import Lasso\n",
    "from mlxtend.regressor import StackingRegressor\n",
    "from sklearn.ensemble import VotingRegressor\n",
    "from sklearn.svm import SVR"
   ]
  },
  {
   "cell_type": "code",
   "execution_count": 5,
   "metadata": {},
   "outputs": [],
   "source": [
    "from imbdpack import skew_pro,lr_rmse_ave,lr_rmse_ave_fea,laso_rmse_ave,ElasticNet_rmse_ave,xgb_ave,svr_rmse_ave,rand_ave\n",
    "from imbdpack import voting_ave,stack_ave,ave"
   ]
  },
  {
   "cell_type": "code",
   "execution_count": 6,
   "metadata": {},
   "outputs": [
    {
     "data": {
      "text/plain": [
       "array(['Input_A4_020', 'Input_A3_020', 'Input_A5_020', 'Input_A6_020',\n",
       "       'Input_A2_020', 'Input_A1_021', 'Input_A2_021', 'Input_A2_015',\n",
       "       'Input_C_001', 'Input_A1_016', 'Input_C_060', 'Input_A1_019',\n",
       "       'Input_A4_011', 'Input_A2_019'], dtype=object)"
      ]
     },
     "execution_count": 6,
     "metadata": {},
     "output_type": "execute_result"
    }
   ],
   "source": [
    "fea_number=14\n",
    "data=pd.read_csv('./BayesianRidge_Pre_0/Input_A1_020.csv',index_col=0).drop(['Number'], axis=1)\n",
    "y=data.Predict\n",
    "nn=data.drop(['Predict'], axis=1)\n",
    "skew_data=skew_pro(data)\n",
    "num=skew_data.select_dtypes(exclude='object')\n",
    "numcorr=num.corr()\n",
    "title=abs(numcorr['Predict']).sort_values(ascending=False).head(fea_number+1).to_frame().index.to_numpy()[1:]\n",
    "title"
   ]
  },
  {
   "cell_type": "code",
   "execution_count": 7,
   "metadata": {},
   "outputs": [],
   "source": [
    "test=pd.read_csv('./final_testX.csv',index_col=0).drop(['Number'], axis=1)[title] ## 改路徑"
   ]
  },
  {
   "cell_type": "code",
   "execution_count": 8,
   "metadata": {},
   "outputs": [
    {
     "name": "stdout",
     "output_type": "stream",
     "text": [
      "test_rmse_ave: 0.5931477723335772\n",
      "[0.4638827695854852, 0.6852593228697933, 0.7571204391961399, 0.46834912317470007, 0.6484702205089513, 0.716320830579703, 0.5969708399334597, 0.6133829617720378, 0.47704395532944166, 0.50467726038606]\n",
      "\n",
      "\n",
      "test_r2_ave: 0.40652079086310183\n",
      "[0.5961740744678645, 0.31574746375003804, 0.500546366157193, 0.33318244824160814, 0.5208765190234375, 0.2946117099533606, 0.5137120705909219, 0.32974411800516334, 0.456882438698089, 0.20373069974334224]\n"
     ]
    }
   ],
   "source": [
    "nn_ave(nn, y)"
   ]
  },
  {
   "cell_type": "markdown",
   "metadata": {},
   "source": [
    "## Linear Regression Baseline"
   ]
  },
  {
   "cell_type": "code",
   "execution_count": 55,
   "metadata": {},
   "outputs": [
    {
     "name": "stdout",
     "output_type": "stream",
     "text": [
      "train_rmse: 0.5496703758835424\n",
      "test_rmse: 0.630685153741493\n",
      "test_r2: 0.4021163900449416\n"
     ]
    }
   ],
   "source": [
    "lr_rmse_ave_fea(skew_data,14)"
   ]
  },
  {
   "cell_type": "markdown",
   "metadata": {},
   "source": [
    "## Lasso"
   ]
  },
  {
   "cell_type": "code",
   "execution_count": 56,
   "metadata": {},
   "outputs": [
    {
     "name": "stdout",
     "output_type": "stream",
     "text": [
      "test_rmse_ave: 0.5966543862816749\n",
      "[0.46620984911224955, 0.6741264570147933, 0.8203464865214706, 0.4369860546979481, 0.6401251047894848, 0.7456655545103595, 0.7047084919188028, 0.6229993612177261, 0.4866207589069143, 0.36875574412700046]\n",
      "\n",
      "\n",
      "test_r2_ave: 0.4172470972694066\n",
      "[0.5921123062469382, 0.33779988139965444, 0.41364601517656396, 0.4194992900160419, 0.5331287816228147, 0.23563419886713255, 0.32234871859884107, 0.3085633111767526, 0.4348570496571701, 0.5748814199321561]\n"
     ]
    }
   ],
   "source": [
    "laso_rmse_ave(skew_data[title],y,0.01)"
   ]
  },
  {
   "cell_type": "markdown",
   "metadata": {},
   "source": [
    "## ElasticNet"
   ]
  },
  {
   "cell_type": "code",
   "execution_count": 57,
   "metadata": {},
   "outputs": [
    {
     "name": "stdout",
     "output_type": "stream",
     "text": [
      "test_rmse_ave: 0.5899816492677211\n",
      "[0.471493396911073, 0.6503581355816648, 0.8399015358747844, 0.4255020295801734, 0.643091779783245, 0.7324902145547428, 0.714958298947838, 0.5941570359776989, 0.478868904597491, 0.34899516086850063]\n",
      "\n",
      "\n",
      "test_r2_ave: 0.4338190480252001\n",
      "[0.5828147508562611, 0.3836723310827619, 0.38535834861637475, 0.4496095730017958, 0.5287913022957005, 0.2624070804541806, 0.30249282821691914, 0.3711027346564324, 0.4527190577421931, 0.6192224733293814]\n"
     ]
    }
   ],
   "source": [
    "ElasticNet_rmse_ave(skew_data[title],y,[0.09],0.02)"
   ]
  },
  {
   "cell_type": "markdown",
   "metadata": {},
   "source": [
    "## SVR"
   ]
  },
  {
   "cell_type": "code",
   "execution_count": 58,
   "metadata": {},
   "outputs": [
    {
     "name": "stdout",
     "output_type": "stream",
     "text": [
      "train_rmse: 0.5648260361049923\n",
      "test_rmse: 0.6284314864841181\n",
      "test_r2: 0.409871488238135\n"
     ]
    }
   ],
   "source": [
    "model=SVR(kernel='linear', C=1.3, gamma= 1e-07, epsilon= 0.4)\n",
    "svr_rmse_ave(skew_data,14,model)"
   ]
  },
  {
   "cell_type": "markdown",
   "metadata": {},
   "source": [
    "## XGB"
   ]
  },
  {
   "cell_type": "code",
   "execution_count": 59,
   "metadata": {},
   "outputs": [
    {
     "name": "stdout",
     "output_type": "stream",
     "text": [
      "test_rmse_ave: 0.5538214827832086\n",
      "[0.415311279394196, 0.5479720012596659, 0.8479936716277775, 0.39496177295789897, 0.6421760293128854, 0.6499519208695562, 0.6900304877959511, 0.6119958926029, 0.38985330346548364, 0.3479684685457719]\n",
      "\n",
      "\n",
      "test_r2_ave: 0.5029196661832124\n",
      "[0.6763130676748439, 0.562454473777501, 0.3734576111103507, 0.5257823356859532, 0.5301323312728741, 0.41926828050926446, 0.3502836235533211, 0.3327720472170135, 0.6372733304228446, 0.621459560608157]\n"
     ]
    }
   ],
   "source": [
    "best_xgb_model = XGBRegressor(\n",
    "                objective ='reg:squarederror',\n",
    "              learning_rate = 0.09,\n",
    "              booster = 'gbtree', \n",
    "              n_estimators = 30, \n",
    "              max_depth = 5, \n",
    "              min_child_weight = 4,\n",
    "              seed = 42,\n",
    "              gamma = 0.2,\n",
    "              subsample = 0.4,\n",
    "              colsample_bytree = 0.5,\n",
    "              reg_alpha =  0.5,\n",
    "              reg_lambda = 1.5)\n",
    "xgb_ave(skew_data[title], y,best_xgb_model)"
   ]
  },
  {
   "cell_type": "markdown",
   "metadata": {},
   "source": [
    "## RandomForest"
   ]
  },
  {
   "cell_type": "code",
   "execution_count": 60,
   "metadata": {},
   "outputs": [
    {
     "name": "stdout",
     "output_type": "stream",
     "text": [
      "test_rmse_ave: 0.5992695000065618\n",
      "[0.42449305712875873, 0.6765634229439021, 0.8571850322298274, 0.46536364368303335, 0.6550714383674187, 0.6951032756058838, 0.7247560260997505, 0.6925960420160501, 0.4417597571020723, 0.359803304888921]\n",
      "\n",
      "\n",
      "test_r2_ave: 0.41013784632330685\n",
      "[0.6618425988269516, 0.3330035231537237, 0.35980188048584527, 0.3416565756421902, 0.5110722241981486, 0.3357802960066595, 0.28324468147231285, 0.14545049250183517, 0.5342537657333033, 0.5952724252120978]\n"
     ]
    }
   ],
   "source": [
    "\n",
    "rand_model = RandomForestRegressor( \n",
    "            criterion ='mse', \n",
    "            n_estimators = 500,\n",
    "            max_depth = 2,\n",
    "            min_samples_split = 7,\n",
    "            max_leaf_nodes = 3,\n",
    "            min_samples_leaf =5,\n",
    "            random_state = 42) \n",
    "rand_ave(skew_data[title], y,rand_model)"
   ]
  },
  {
   "cell_type": "code",
   "execution_count": 9,
   "metadata": {},
   "outputs": [
    {
     "name": "stdout",
     "output_type": "stream",
     "text": [
      "test_rmse_ave: 0.5697043721380013\n",
      "[0.4286501110237225, 0.6291318978863927, 0.8294365970140347, 0.40625206292070454, 0.6278240599796704, 0.6909499119036118, 0.6968223198119645, 0.6083275641902436, 0.43798724801766664, 0.34166194863200217]\n",
      "\n",
      "\n",
      "test_r2_ave: 0.4727298865875322\n",
      "[0.6551870283493997, 0.4232469226000336, 0.400579455853711, 0.4982830675388479, 0.5508997553181383, 0.34369423947480204, 0.33743062199981777, 0.3407468579809859, 0.5421744945122011, 0.6350564222473842]\n"
     ]
    }
   ],
   "source": [
    "lasso_mod=Lasso(alpha=0.0009)\n",
    "elastic_mod=ElasticNet(alpha=[0.09], l1_ratio=0.02)\n",
    "svr_mod=SVR(kernel='linear', C=1.3, gamma= 1e-07, epsilon= 0.4)\n",
    "\n",
    "xgb_mod = XGBRegressor(\n",
    "                objective ='reg:squarederror',\n",
    "              learning_rate = 0.09,\n",
    "              booster = 'gbtree', \n",
    "              n_estimators = 30, \n",
    "              max_depth = 5, \n",
    "              min_child_weight = 4,\n",
    "              seed = 42,\n",
    "              gamma = 0.2,\n",
    "              subsample = 0.4,\n",
    "              colsample_bytree = 0.5,\n",
    "              reg_alpha =  0.5,\n",
    "              reg_lambda = 1.5)\n",
    "\n",
    "random_mod = RandomForestRegressor( \n",
    "            criterion ='mse', \n",
    "            n_estimators = 500,\n",
    "            max_depth = 2,\n",
    "            min_samples_split = 7,\n",
    "            max_leaf_nodes = 3,\n",
    "            min_samples_leaf =5,\n",
    "            random_state = 42) \n",
    "vote_mod = VotingRegressor([ ('Lasso', lasso_mod), ('Elastic', elastic_mod), \n",
    "                            ('XGBRegressor', xgb_mod),('RandomForest', random_mod)])\n",
    "\n",
    "voting_ave(skew_data[title], y,vote_mod)\n"
   ]
  },
  {
   "cell_type": "code",
   "execution_count": 10,
   "metadata": {},
   "outputs": [
    {
     "name": "stdout",
     "output_type": "stream",
     "text": [
      "test_rmse_ave: 0.5665450423066548\n",
      "[0.4035687013255988, 0.6001928610971173, 0.7755356746403117, 0.4272796814422853, 0.597367544278411, 0.6941806008946317, 0.6943679906587507, 0.7092528708162772, 0.3894267232899385, 0.37427777462322614]\n",
      "\n",
      "\n",
      "test_r2_ave: 0.4667421413549443\n",
      "[0.6943582562320338, 0.47508599368676374, 0.47595474079876876, 0.4450011515498893, 0.5934156782512514, 0.337542485865689, 0.342089771052698, 0.10385265550950273, 0.6380666921853011, 0.5620539884175444]\n"
     ]
    }
   ],
   "source": [
    "\n",
    "stack_mod = StackingRegressor(regressors=[lasso_mod, elastic_mod, random_mod, vote_mod], \n",
    "                           meta_regressor=xgb_mod, use_features_in_secondary=True\n",
    "                          )\n",
    "\n",
    "stack_ave(skew_data[title], y,stack_mod)"
   ]
  },
  {
   "cell_type": "code",
   "execution_count": 11,
   "metadata": {},
   "outputs": [
    {
     "name": "stdout",
     "output_type": "stream",
     "text": [
      "test_rmse_ave: 0.5561249151803935\n",
      "[0.40511152298313813, 0.5911779107396677, 0.8039008364289766, 0.3996572184821266, 0.6077795401113436, 0.6701689511231701, 0.6869690851310399, 0.640259528389218, 0.3956729716757026, 0.3605515867395523]\n",
      "\n",
      "\n",
      "test_r2_ave: 0.49415165702376884\n",
      "[0.6920168850761728, 0.49073608194496576, 0.43691987646018104, 0.5144399778000259, 0.5791187933258866, 0.3825785819895672, 0.35603592339223267, 0.2697201489817671, 0.6263630479971938, 0.5935872532696951]\n"
     ]
    }
   ],
   "source": [
    "ave(skew_data[title],y,0.5,stack_mod,0.2,vote_mod,0.3,xgb_mod)"
   ]
  },
  {
   "cell_type": "code",
   "execution_count": 12,
   "metadata": {},
   "outputs": [],
   "source": [
    "name='Input_A1_020'\n",
    "test_pred=[]\n",
    "seed=[0,3,8,9,1,7]\n",
    "stack_w=0.5\n",
    "vote_w=0.2\n",
    "model_w=0.3\n",
    "model=xgb_mod\n",
    "for i in seed:\n",
    "    X_train, X_test, y_train, y_test = train_test_split(skew_data[title], y, test_size=0.2, random_state=i)\n",
    "\n",
    "    stack = stack_mod.fit(X_train, y_train)\n",
    "    stack_pred = stack.predict(test)\n",
    "    vote = vote_mod.fit(X_train, y_train)\n",
    "    vote_pred = vote.predict(test)\n",
    "    mod = model.fit(X_train, y_train)\n",
    "    mod_pred = mod.predict(test)\n",
    "\n",
    "    ###\n",
    "    final_test = (vote_w*vote_pred+stack_w*stack_pred + model_w*mod_pred)\n",
    "    ###\n",
    "    test_pred.append(final_test)\n",
    "\n",
    "\n",
    "\n",
    "final_test = pd.DataFrame(np.mean(test_pred, axis=0), columns=[name])\n",
    "final_test.to_csv(('./output/'+name+'.csv'))"
   ]
  },
  {
   "cell_type": "code",
   "execution_count": null,
   "metadata": {},
   "outputs": [],
   "source": []
  }
 ],
 "metadata": {
  "kernelspec": {
   "display_name": "Python 3",
   "language": "python",
   "name": "python3"
  },
  "language_info": {
   "codemirror_mode": {
    "name": "ipython",
    "version": 3
   },
   "file_extension": ".py",
   "mimetype": "text/x-python",
   "name": "python",
   "nbconvert_exporter": "python",
   "pygments_lexer": "ipython3",
   "version": "3.7.7"
  }
 },
 "nbformat": 4,
 "nbformat_minor": 4
}
