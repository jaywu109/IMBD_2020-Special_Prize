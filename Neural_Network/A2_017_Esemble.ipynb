{
 "cells": [
  {
   "cell_type": "code",
   "execution_count": 1,
   "metadata": {},
   "outputs": [],
   "source": [
    "import pandas as pd\n",
    "import tensorflow as tf\n",
    "tf.config.set_visible_devices([], 'GPU')"
   ]
  },
  {
   "cell_type": "code",
   "execution_count": 2,
   "metadata": {},
   "outputs": [],
   "source": [
    "\n",
    "import NeuralNetwork.pretrained_models as pre_models\n",
    "from NeuralNetwork.tools import predict, predict_mul\n",
    "from NeuralNetwork.preprocessing import skewness_pure, min_max_normalization_pure\n",
    "\n",
    "\n",
    "def predict_df(X_df):\n",
    "\n",
    "    model_A2_017, input_features_A2_017 = pre_models.Input_A2_017('weights/')\n",
    "    \n",
    "    outputs = ['Input_A2_017']\n",
    "\n",
    "    preprocessings = ['min_max_normalization']\n",
    "\n",
    "    models = [model_A2_017]\n",
    "\n",
    "    input_features = [input_features_A2_017]\n",
    "\n",
    "    result = {}\n",
    "\n",
    "    for i in range(len(outputs)):\n",
    "\n",
    "            if preprocessings[i] == 'skewness':\n",
    "                X = skewness_pure(X_df, input_features[i])\n",
    "            elif preprocessings[i] == 'min_max_normalization':\n",
    "                X = min_max_normalization_pure(X_df, input_features[i])\n",
    "\n",
    "            result[outputs[i]] = predict_mul(models[i], X)\n",
    "    \n",
    "    result_df = pd.DataFrame(result, columns = outputs)\n",
    "    return result_df\n"
   ]
  },
  {
   "cell_type": "code",
   "execution_count": 3,
   "metadata": {},
   "outputs": [],
   "source": [
    "def nn_ave(x, y):\n",
    "\n",
    "    rmse = []\n",
    "    r2 = []\n",
    "    for i in np.arange(10):\n",
    "        X_train, X_test, y_train, y_test = train_test_split(\n",
    "            x, y, test_size=0.2, random_state=i)\n",
    "\n",
    "        nn_pred = predict_df(X_test)\n",
    "\n",
    "        rmse.append(math.sqrt(mean_squared_error(y_test, nn_pred)))\n",
    "        r2.append(r2_score(y_test, nn_pred))\n",
    "\n",
    "    test_rmse = np.array(rmse).mean()\n",
    "    print('test_rmse_ave:', test_rmse)\n",
    "    print(rmse)\n",
    "    print('\\n')\n",
    "    test_r2 = np.array(r2).mean()\n",
    "    print('test_r2_ave:', test_r2)\n",
    "    print(r2)"
   ]
  },
  {
   "cell_type": "code",
   "execution_count": 4,
   "metadata": {},
   "outputs": [],
   "source": [
    "from sklearn import preprocessing\n",
    "from sklearn.preprocessing import MinMaxScaler, RobustScaler, StandardScaler\n",
    "from sklearn.linear_model import LinearRegression, LassoCV\n",
    "from sklearn.model_selection import train_test_split\n",
    "from sklearn.metrics import r2_score, mean_squared_error\n",
    "from sklearn.preprocessing import PowerTransformer\n",
    "import math\n",
    "import warnings\n",
    "warnings.filterwarnings('ignore')\n",
    "\n",
    "# 處理 data 套件\n",
    "import numpy as np\n",
    "import pandas as pd\n",
    "from xgboost.sklearn import XGBRegressor\n",
    "from sklearn.model_selection import GridSearchCV\n",
    "from sklearn.model_selection import cross_val_score,KFold\n",
    "from scipy.stats import skew\n",
    "from sklearn.ensemble import RandomForestRegressor\n",
    "from sklearn.linear_model import ElasticNet\n",
    "from sklearn.linear_model import Lasso\n",
    "from mlxtend.regressor import StackingRegressor\n",
    "from sklearn.ensemble import VotingRegressor\n",
    "from sklearn.svm import SVR"
   ]
  },
  {
   "cell_type": "code",
   "execution_count": 5,
   "metadata": {},
   "outputs": [],
   "source": [
    "from imbdpack import skew_pro,lr_rmse_ave,lr_rmse_ave_fea,laso_rmse_ave,ElasticNet_rmse_ave,xgb_ave,svr_rmse_ave,rand_ave\n",
    "from imbdpack import voting_ave,stack_ave,ave"
   ]
  },
  {
   "cell_type": "code",
   "execution_count": 6,
   "metadata": {},
   "outputs": [
    {
     "data": {
      "text/plain": [
       "array(['Input_A2_018', 'Input_A2_019', 'Input_A1_019', 'Input_A5_016',\n",
       "       'Input_A6_016'], dtype=object)"
      ]
     },
     "execution_count": 6,
     "metadata": {},
     "output_type": "execute_result"
    }
   ],
   "source": [
    "fea_number=5\n",
    "data=pd.read_csv('./BayesianRidge_Pre_0/Input_A2_017.csv',index_col=0).drop(['Number'], axis=1) ## 改路徑\n",
    "y=data.Predict\n",
    "nn=data.drop(['Predict'], axis=1)\n",
    "skew_data=skew_pro(data)\n",
    "num=skew_data.select_dtypes(exclude='object')\n",
    "numcorr=num.corr()\n",
    "title=abs(numcorr['Predict']).sort_values(ascending=False).head(fea_number+1).to_frame().index.to_numpy()[1:]\n",
    "skew_x=skew_data.drop(['Predict'], axis=1)\n",
    "title"
   ]
  },
  {
   "cell_type": "code",
   "execution_count": 7,
   "metadata": {},
   "outputs": [],
   "source": [
    "test=pd.read_csv('./final_testX.csv',index_col=0).drop(['Number'], axis=1)[title] ## 改路徑"
   ]
  },
  {
   "cell_type": "code",
   "execution_count": 8,
   "metadata": {},
   "outputs": [
    {
     "name": "stdout",
     "output_type": "stream",
     "text": [
      "test_rmse_ave: 0.009059597792077129\n",
      "[0.009665548366707495, 0.009315590474555059, 0.009226198692886016, 0.009615585673579442, 0.008117916347708877, 0.00801494563233244, 0.00895935363062527, 0.009500887420535686, 0.008678624063709426, 0.009501327618131574]\n",
      "\n",
      "\n",
      "test_r2_ave: 0.5742793225799125\n",
      "[0.5843120832560376, 0.572120282248876, 0.5856988589363812, 0.5177480043442706, 0.6153106989835608, 0.6606263182841825, 0.5670983765115472, 0.5179895368734886, 0.60611659385082, 0.5157724725099604]\n"
     ]
    }
   ],
   "source": [
    "nn_ave(nn, y)"
   ]
  },
  {
   "cell_type": "markdown",
   "metadata": {},
   "source": [
    "## Linear Regression Baseline"
   ]
  },
  {
   "cell_type": "code",
   "execution_count": 4,
   "metadata": {},
   "outputs": [
    {
     "name": "stdout",
     "output_type": "stream",
     "text": [
      "train_rmse: 0.008300276103545664\n",
      "test_rmse: 0.009091755270109353\n",
      "test_r2: 0.5710755789644553\n"
     ]
    }
   ],
   "source": [
    "lr_rmse_ave_fea(skew_data,5)"
   ]
  },
  {
   "cell_type": "markdown",
   "metadata": {},
   "source": [
    "## Lasso"
   ]
  },
  {
   "cell_type": "code",
   "execution_count": 5,
   "metadata": {},
   "outputs": [
    {
     "name": "stdout",
     "output_type": "stream",
     "text": [
      "test_rmse_ave: 0.00910124053474811\n",
      "[0.009709733726552277, 0.00903254648332744, 0.009161053196929878, 0.009695957276419859, 0.008002412294902086, 0.008361853381021645, 0.009260446777294633, 0.009609651649654691, 0.008750687838157823, 0.009428062723220764]\n",
      "\n",
      "\n",
      "test_r2_ave: 0.5703366009778013\n",
      "[0.580502821343885, 0.5977265827157261, 0.5915289017398306, 0.5096525327379231, 0.6261797613027048, 0.6306125850546909, 0.5375127791499521, 0.5068904526864819, 0.5995481395999065, 0.5232114534469117]\n"
     ]
    }
   ],
   "source": [
    "laso_rmse_ave(skew_data[title],y,0.0005)"
   ]
  },
  {
   "cell_type": "markdown",
   "metadata": {},
   "source": [
    "## ElasticNet"
   ]
  },
  {
   "cell_type": "code",
   "execution_count": 6,
   "metadata": {},
   "outputs": [
    {
     "name": "stdout",
     "output_type": "stream",
     "text": [
      "test_rmse_ave: 0.009176759491504463\n",
      "[0.009890539087653034, 0.009058458204247498, 0.009167258653892296, 0.009821522348946033, 0.008012159458043138, 0.008452595822201415, 0.009326859337512618, 0.00968870684902373, 0.008904617389020276, 0.009444877764504582]\n",
      "\n",
      "\n",
      "test_r2_ave: 0.5632259881935459\n",
      "[0.5647344142441564, 0.595415263829341, 0.5909753391193253, 0.49687005230578496, 0.625268559586482, 0.6225519343413466, 0.5308554116567579, 0.4987438050981534, 0.5853358789188333, 0.5215092228352775]\n"
     ]
    }
   ],
   "source": [
    "ElasticNet_rmse_ave(skew_data[title],y,[0.04],0.02)"
   ]
  },
  {
   "cell_type": "markdown",
   "metadata": {},
   "source": [
    "## SVR"
   ]
  },
  {
   "cell_type": "code",
   "execution_count": 7,
   "metadata": {},
   "outputs": [
    {
     "name": "stdout",
     "output_type": "stream",
     "text": [
      "train_rmse: 0.008430247727480519\n",
      "test_rmse: 0.009470809390685942\n",
      "test_r2: 0.5339600703664058\n"
     ]
    }
   ],
   "source": [
    "model=SVR(kernel='linear', C=1.2, gamma= 1e-07, epsilon= 0)\n",
    "svr_rmse_ave(skew_data,5,model)"
   ]
  },
  {
   "cell_type": "markdown",
   "metadata": {},
   "source": [
    "## XGB"
   ]
  },
  {
   "cell_type": "code",
   "execution_count": 9,
   "metadata": {},
   "outputs": [
    {
     "name": "stdout",
     "output_type": "stream",
     "text": [
      "test_rmse_ave: 0.008837065003264812\n",
      "[0.009249575666597083, 0.009080898032367389, 0.009076309777001666, 0.009747257208273572, 0.007739830988184788, 0.007863031247109086, 0.00936565923982324, 0.008933484954183593, 0.008048113055456553, 0.009266489863651159]\n",
      "\n",
      "\n",
      "test_r2_ave: 0.5941379546490498\n",
      "[0.6193217862545504, 0.5934082871763435, 0.5990509921904466, 0.5044500888430413, 0.65030943168478, 0.6733693001207957, 0.5269439929358045, 0.573842690147869, 0.6612696823484336, 0.5394132947884347]\n"
     ]
    }
   ],
   "source": [
    "best_xgb_model = XGBRegressor(\n",
    "                objective ='reg:squarederror',\n",
    "              learning_rate = 0.09,\n",
    "              booster = 'gbtree', \n",
    "              n_estimators = 85, \n",
    "              max_depth = 4, \n",
    "              min_child_weight = 4,\n",
    "              seed = 42,\n",
    "              gamma = 0,\n",
    "              subsample = 0.8,\n",
    "              colsample_bytree = 0.55,\n",
    "              reg_alpha =  0,\n",
    "              reg_lambda = 0.7)\n",
    "xgb_ave(skew_data[title], y,best_xgb_model)"
   ]
  },
  {
   "cell_type": "markdown",
   "metadata": {},
   "source": [
    "## RandomForest"
   ]
  },
  {
   "cell_type": "code",
   "execution_count": 10,
   "metadata": {},
   "outputs": [],
   "source": [
    "rand_model = RandomForestRegressor( \n",
    "            criterion ='mse', \n",
    "            n_estimators = 90,\n",
    "            max_depth = 7,\n",
    "            min_samples_split = 9,\n",
    "            max_leaf_nodes = 11,\n",
    "            min_samples_leaf =3,\n",
    "            random_state = 42) \n"
   ]
  },
  {
   "cell_type": "code",
   "execution_count": 11,
   "metadata": {},
   "outputs": [
    {
     "name": "stdout",
     "output_type": "stream",
     "text": [
      "test_rmse_ave: 0.008925843357390223\n",
      "[0.009210125256724678, 0.00913248179150185, 0.00920898732491742, 0.009937240180769243, 0.008075117896793299, 0.007625395239402569, 0.009415627147691322, 0.00915181698445304, 0.008390263020983843, 0.009111378730664966]\n",
      "\n",
      "\n",
      "test_r2_ave: 0.5856896471260756\n",
      "[0.6225621262697759, 0.5887759042016061, 0.5872431652137791, 0.48494438801992423, 0.6193562459621168, 0.6928137895868074, 0.5218828062346494, 0.5527578001899157, 0.6318565454027938, 0.5547037001793874]\n"
     ]
    }
   ],
   "source": [
    "rand_ave(skew_x[title], y,rand_model)"
   ]
  },
  {
   "cell_type": "code",
   "execution_count": 9,
   "metadata": {},
   "outputs": [
    {
     "name": "stdout",
     "output_type": "stream",
     "text": [
      "test_rmse_ave: 0.00889863447687027\n",
      "[0.009427251530600493, 0.008953520780936738, 0.008984486252814462, 0.009615148067597295, 0.007859793921422806, 0.008023409471035517, 0.009133327424095918, 0.00929199756413655, 0.008473821854271079, 0.00922358790179184]\n",
      "\n",
      "\n",
      "test_r2_ave: 0.5890730559732271\n",
      "[0.6045563616482452, 0.6047347668208524, 0.6071226244594108, 0.5177918979901129, 0.6393854189802288, 0.6599091778634315, 0.5501228748437128, 0.5389518367175089, 0.624487332919456, 0.5436682674893123]\n"
     ]
    }
   ],
   "source": [
    "lr = LinearRegression()\n",
    "lasso_mod=Lasso(alpha=0.0005)\n",
    "elastic_mod=ElasticNet(alpha=[0.04], l1_ratio=0.02)\n",
    "svr_mod=SVR(kernel='linear', C=1.2, gamma= 1e-07, epsilon= 0)\n",
    "\n",
    "xgb_mod =  XGBRegressor(\n",
    "                objective ='reg:squarederror',\n",
    "              learning_rate = 0.09,\n",
    "              booster = 'gbtree', \n",
    "              n_estimators = 85, \n",
    "              max_depth = 4, \n",
    "              min_child_weight = 4,\n",
    "              seed = 42,\n",
    "              gamma = 0,\n",
    "              subsample = 0.8,\n",
    "              colsample_bytree = 0.55,\n",
    "              reg_alpha =  0,\n",
    "              reg_lambda = 0.7)\n",
    "\n",
    "random_mod = RandomForestRegressor( \n",
    "            criterion ='mse', \n",
    "            n_estimators = 90,\n",
    "            max_depth = 7,\n",
    "            min_samples_split = 9,\n",
    "            max_leaf_nodes = 11,\n",
    "            min_samples_leaf =3,\n",
    "            random_state = 42) \n",
    "# vote_mod = VotingRegressor([ ('Lasso', lasso_mod),('SVR', svr_mod), ('Elastic', elastic_mod), \n",
    "#                             ('XGBRegressor', xgb_mod),('RandomForest', random_mod)])\n",
    "vote_mod = VotingRegressor([ ('Lasso', lasso_mod),('Linear', lr), ('Elastic', elastic_mod), \n",
    "                            ('XGBRegressor', xgb_mod),('RandomForest', random_mod)])\n",
    "\n",
    "voting_ave(skew_data[title], y,vote_mod)\n"
   ]
  },
  {
   "cell_type": "code",
   "execution_count": 10,
   "metadata": {},
   "outputs": [
    {
     "name": "stdout",
     "output_type": "stream",
     "text": [
      "test_rmse_ave: 0.009061637706291526\n",
      "[0.009320568464478644, 0.009014933038635545, 0.009077167649572828, 0.009878767431130737, 0.00786205492261383, 0.008117294736967007, 0.010015441329449247, 0.009150438558226939, 0.008427488641106746, 0.009752222290733739]\n",
      "\n",
      "\n",
      "test_r2_ave: 0.5724157306538572\n",
      "[0.6134557604285777, 0.5992939175359935, 0.5989751949953306, 0.49098793951818953, 0.639177915506252, 0.6519035219878184, 0.45902644021573336, 0.5528925152856138, 0.6285825670104612, 0.48986153405460153]\n"
     ]
    }
   ],
   "source": [
    "\n",
    "stack_mod = StackingRegressor(regressors=[lasso_mod, elastic_mod,  vote_mod], \n",
    "                           meta_regressor=random_mod, use_features_in_secondary=True\n",
    "                          )\n",
    "\n",
    "stack_ave(skew_data[title], y,stack_mod)"
   ]
  },
  {
   "cell_type": "code",
   "execution_count": 11,
   "metadata": {},
   "outputs": [
    {
     "name": "stdout",
     "output_type": "stream",
     "text": [
      "test_rmse_ave: 0.00883982456524144\n",
      "[0.009296311118682793, 0.008918413337473322, 0.00889626131537468, 0.00962489740788272, 0.007772220058134946, 0.007946935330656388, 0.009255430961187012, 0.009115031383453522, 0.008340705362820068, 0.00923203937674893]\n",
      "\n",
      "\n",
      "test_r2_ave: 0.5942029490732004\n",
      "[0.6154651519836832, 0.607828420426012, 0.6148006146712248, 0.5168135263097005, 0.6473765896845145, 0.6663613492527618, 0.5380136453984807, 0.5563459420202868, 0.6361926303987517, 0.5428316205865871]\n"
     ]
    }
   ],
   "source": [
    "ave(skew_data[title],y,0.2,stack_mod,0.5,vote_mod,0.3,xgb_mod)"
   ]
  },
  {
   "cell_type": "code",
   "execution_count": 12,
   "metadata": {},
   "outputs": [],
   "source": [
    "name='Input_A2_017'\n",
    "test_pred=[]\n",
    "seed=[4,5,2,8,7,9]\n",
    "stack_w=0.2\n",
    "vote_w=0.5\n",
    "model_w=0.3\n",
    "model=xgb_mod\n",
    "for i in seed:\n",
    "    X_train, X_test, y_train, y_test = train_test_split(skew_data[title], y, test_size=0.2, random_state=i)\n",
    "\n",
    "    stack = stack_mod.fit(X_train, y_train)\n",
    "    stack_pred = stack.predict(test)\n",
    "    vote = vote_mod.fit(X_train, y_train)\n",
    "    vote_pred = vote.predict(test)\n",
    "    mod = model.fit(X_train, y_train)\n",
    "    mod_pred = mod.predict(test)\n",
    "\n",
    "    ###\n",
    "    final_test = (vote_w*vote_pred+stack_w*stack_pred + model_w*mod_pred)\n",
    "    ###\n",
    "    test_pred.append(final_test)\n",
    "\n",
    "\n",
    "\n",
    "final_test = pd.DataFrame(np.mean(test_pred, axis=0), columns=[name])\n",
    "final_test.to_csv(('./output/'+name+'.csv'))"
   ]
  }
 ],
 "metadata": {
  "kernelspec": {
   "display_name": "Python 3",
   "language": "python",
   "name": "python3"
  },
  "language_info": {
   "codemirror_mode": {
    "name": "ipython",
    "version": 3
   },
   "file_extension": ".py",
   "mimetype": "text/x-python",
   "name": "python",
   "nbconvert_exporter": "python",
   "pygments_lexer": "ipython3",
   "version": "3.7.7"
  }
 },
 "nbformat": 4,
 "nbformat_minor": 4
}
