{
 "cells": [
  {
   "cell_type": "code",
   "execution_count": 1,
   "metadata": {},
   "outputs": [],
   "source": [
    "import pandas as pd\n",
    "import tensorflow as tf\n",
    "tf.config.set_visible_devices([], 'GPU')"
   ]
  },
  {
   "cell_type": "code",
   "execution_count": 2,
   "metadata": {},
   "outputs": [],
   "source": [
    "\n",
    "import NeuralNetwork.pretrained_models as pre_models\n",
    "from NeuralNetwork.tools import predict, predict_mul\n",
    "from NeuralNetwork.preprocessing import skewness_pure, min_max_normalization_pure\n",
    "\n",
    "\n",
    "def predict_df(X_df):\n",
    "\n",
    "    model_C_057, input_features_C_057 = pre_models.Input_C_057('weights/')\n",
    "    \n",
    "    outputs = ['Input_C_057']\n",
    "\n",
    "    preprocessings = ['min_max_normalization']\n",
    "\n",
    "    models = [model_C_057]\n",
    "\n",
    "    input_features = [input_features_C_057]\n",
    "\n",
    "    result = {}\n",
    "\n",
    "    for i in range(len(outputs)):\n",
    "\n",
    "            if preprocessings[i] == 'skewness':\n",
    "                X = skewness_pure(X_df, input_features[i])\n",
    "            elif preprocessings[i] == 'min_max_normalization':\n",
    "                X = min_max_normalization_pure(X_df, input_features[i])\n",
    "\n",
    "            result[outputs[i]] = predict_mul(models[i], X)\n",
    "    \n",
    "    result_df = pd.DataFrame(result, columns = outputs)\n",
    "    return result_df\n"
   ]
  },
  {
   "cell_type": "code",
   "execution_count": 3,
   "metadata": {},
   "outputs": [],
   "source": [
    "def nn_ave(x, y):\n",
    "\n",
    "    rmse = []\n",
    "    r2 = []\n",
    "    for i in np.arange(10):\n",
    "        X_train, X_test, y_train, y_test = train_test_split(\n",
    "            x, y, test_size=0.2, random_state=i)\n",
    "\n",
    "        nn_pred = predict_df(X_test)\n",
    "\n",
    "        rmse.append(math.sqrt(mean_squared_error(y_test, nn_pred)))\n",
    "        r2.append(r2_score(y_test, nn_pred))\n",
    "\n",
    "    test_rmse = np.array(rmse).mean()\n",
    "    print('test_rmse_ave:', test_rmse)\n",
    "    print(rmse)\n",
    "    print('\\n')\n",
    "    test_r2 = np.array(r2).mean()\n",
    "    print('test_r2_ave:', test_r2)\n",
    "    print(r2)"
   ]
  },
  {
   "cell_type": "code",
   "execution_count": 4,
   "metadata": {},
   "outputs": [],
   "source": [
    "from sklearn import preprocessing\n",
    "from sklearn.preprocessing import MinMaxScaler, RobustScaler, StandardScaler\n",
    "from sklearn.linear_model import LinearRegression, LassoCV\n",
    "from sklearn.model_selection import train_test_split\n",
    "from sklearn.metrics import r2_score, mean_squared_error\n",
    "from sklearn.preprocessing import PowerTransformer\n",
    "import math\n",
    "import warnings\n",
    "warnings.filterwarnings('ignore')\n",
    "\n",
    "# 處理 data 套件\n",
    "import numpy as np\n",
    "import pandas as pd\n",
    "from xgboost.sklearn import XGBRegressor\n",
    "from sklearn.model_selection import GridSearchCV\n",
    "from sklearn.model_selection import cross_val_score,KFold\n",
    "from scipy.stats import skew\n",
    "from sklearn.ensemble import RandomForestRegressor\n",
    "from sklearn.linear_model import ElasticNet\n",
    "from sklearn.linear_model import Lasso\n",
    "from mlxtend.regressor import StackingRegressor\n",
    "from sklearn.ensemble import VotingRegressor\n",
    "from sklearn.svm import SVR"
   ]
  },
  {
   "cell_type": "code",
   "execution_count": 5,
   "metadata": {},
   "outputs": [],
   "source": [
    "from imbdpack import skew_pro,lr_rmse_ave,lr_rmse_ave_fea,laso_rmse_ave,ElasticNet_rmse_ave,xgb_ave,svr_rmse_ave,rand_ave\n",
    "from imbdpack import voting_ave,stack_ave,ave"
   ]
  },
  {
   "cell_type": "code",
   "execution_count": 6,
   "metadata": {},
   "outputs": [
    {
     "data": {
      "text/plain": [
       "array(['Input_C_055', 'Input_C_135', 'Input_C_052', 'Input_C_054',\n",
       "       'Input_C_056', 'Input_C_059', 'Input_C_053'], dtype=object)"
      ]
     },
     "execution_count": 6,
     "metadata": {},
     "output_type": "execute_result"
    }
   ],
   "source": [
    "fea_number=7\n",
    "data=pd.read_csv('./BayesianRidge_Pre_0/Input_C_057.csv',index_col=0).drop(['Number'], axis=1) ## 改路徑\n",
    "y=data.Predict\n",
    "nn=data.drop(['Predict'], axis=1)\n",
    "skew_data=skew_pro(data)\n",
    "num=skew_data.select_dtypes(exclude='object')\n",
    "numcorr=num.corr()\n",
    "title=abs(numcorr['Predict']).sort_values(ascending=False).head(fea_number+1).to_frame().index.to_numpy()[1:]\n",
    "skew_x=skew_data.drop(['Predict'], axis=1)\n",
    "title"
   ]
  },
  {
   "cell_type": "code",
   "execution_count": 7,
   "metadata": {},
   "outputs": [],
   "source": [
    "test=pd.read_csv('./final_testX.csv',index_col=0).drop(['Number'], axis=1)[title] ## 改路徑"
   ]
  },
  {
   "cell_type": "code",
   "execution_count": 8,
   "metadata": {},
   "outputs": [
    {
     "name": "stdout",
     "output_type": "stream",
     "text": [
      "test_rmse_ave: 0.004828187065605178\n",
      "[0.005541502476193872, 0.004351071938119547, 0.005371355274324799, 0.0052931168491350015, 0.0042511358609742065, 0.004562474962971541, 0.005097942475172927, 0.004794913251169597, 0.004946849397535215, 0.004071508170455074]\n",
      "\n",
      "\n",
      "test_r2_ave: 0.5741698281643208\n",
      "[0.3735267610086245, 0.6193109854791077, 0.4790528614262891, 0.5247398835295266, 0.6536907032087198, 0.6446636548364408, 0.5166182079606012, 0.6138813746126164, 0.608341226223212, 0.7078726233580708]\n"
     ]
    }
   ],
   "source": [
    "nn_ave(nn, y)"
   ]
  },
  {
   "cell_type": "markdown",
   "metadata": {},
   "source": [
    "## Linear Regression Baseline"
   ]
  },
  {
   "cell_type": "code",
   "execution_count": 9,
   "metadata": {},
   "outputs": [
    {
     "name": "stdout",
     "output_type": "stream",
     "text": [
      "train_rmse: 0.004042087916713229\n",
      "test_rmse: 0.0042089979115283935\n",
      "test_r2: 0.6829602163837639\n"
     ]
    }
   ],
   "source": [
    "lr_rmse_ave_fea(skew_data,7)"
   ]
  },
  {
   "cell_type": "markdown",
   "metadata": {},
   "source": [
    "## Lasso"
   ]
  },
  {
   "cell_type": "code",
   "execution_count": 10,
   "metadata": {},
   "outputs": [
    {
     "name": "stdout",
     "output_type": "stream",
     "text": [
      "test_rmse_ave: 0.0041904108831711685\n",
      "[0.004287509088716964, 0.003776694510842413, 0.00480016563914731, 0.004305953432606997, 0.0038289321858901337, 0.0041579762023212785, 0.0044878348324749115, 0.004106011221814918, 0.004378551486645267, 0.003774480231251494]\n",
      "\n",
      "\n",
      "test_r2_ave: 0.6815897086733098\n",
      "[0.6249772897576982, 0.7131852174572721, 0.5839568773674868, 0.685480870668556, 0.7190626184048907, 0.7048772824351657, 0.6253944941082511, 0.7168611221161302, 0.6931604028396188, 0.7489409115780302]\n"
     ]
    }
   ],
   "source": [
    "laso_rmse_ave(skew_data[title],y,9e-05)"
   ]
  },
  {
   "cell_type": "markdown",
   "metadata": {},
   "source": [
    "## ElasticNet"
   ]
  },
  {
   "cell_type": "code",
   "execution_count": 11,
   "metadata": {},
   "outputs": [
    {
     "name": "stdout",
     "output_type": "stream",
     "text": [
      "test_rmse_ave: 0.004193702972113819\n",
      "[0.004286462440973182, 0.003775651289664121, 0.004802520122243878, 0.0043315897036147275, 0.0038299855778753163, 0.004159692826994745, 0.004486420957920593, 0.0041066982476830015, 0.004378165143431671, 0.00377984341073695]\n",
      "\n",
      "\n",
      "test_r2_ave: 0.6811157193753848\n",
      "[0.6251603651778102, 0.7133436469672969, 0.5835486386473212, 0.6817246293079218, 0.7189080176546351, 0.7046335487088236, 0.6256304928832274, 0.7167663634820671, 0.6932145486759472, 0.7482269422487982]\n"
     ]
    }
   ],
   "source": [
    "ElasticNet_rmse_ave(skew_data[title],y,[0.006],0.01)"
   ]
  },
  {
   "cell_type": "markdown",
   "metadata": {},
   "source": [
    "## SVR"
   ]
  },
  {
   "cell_type": "code",
   "execution_count": 12,
   "metadata": {},
   "outputs": [
    {
     "name": "stdout",
     "output_type": "stream",
     "text": [
      "train_rmse: 0.004128782634767667\n",
      "test_rmse: 0.00438183520690091\n",
      "test_r2: 0.6562100947605988\n"
     ]
    }
   ],
   "source": [
    "model=SVR(kernel='linear', C=1.25, gamma= 1e-07, epsilon= 0)\n",
    "svr_rmse_ave(skew_data,7,model)"
   ]
  },
  {
   "cell_type": "markdown",
   "metadata": {},
   "source": [
    "## XGB"
   ]
  },
  {
   "cell_type": "code",
   "execution_count": 13,
   "metadata": {},
   "outputs": [
    {
     "name": "stdout",
     "output_type": "stream",
     "text": [
      "test_rmse_ave: 0.00444103519825924\n",
      "[0.004736706282869011, 0.003959719593354398, 0.00516539278603524, 0.004412686053559277, 0.004385561722176456, 0.003929257794959692, 0.004602107848064806, 0.004274736968966771, 0.004975588078611608, 0.003968594853995149]\n",
      "\n",
      "\n",
      "test_r2_ave: 0.6408239641609608\n",
      "[0.542279491476767, 0.6847125512685877, 0.5182379313123588, 0.6696955175513484, 0.6314430236055604, 0.7364520214888184, 0.6060745769827518, 0.6931133214685656, 0.6037773307834808, 0.7224538756713693]\n"
     ]
    }
   ],
   "source": [
    "best_xgb_model =  XGBRegressor(\n",
    "                objective ='reg:squarederror',\n",
    "              learning_rate = 0.08,\n",
    "              booster = 'dart', \n",
    "              n_estimators = 150, \n",
    "              max_depth = 4, \n",
    "              min_child_weight = 3,\n",
    "              seed = 42,\n",
    "              gamma = 0,\n",
    "              subsample = 0.8,\n",
    "              colsample_bytree = 0.7,\n",
    "              reg_alpha =  0,\n",
    "              reg_lambda = 1)\n",
    "xgb_ave(skew_data[title], y,best_xgb_model)"
   ]
  },
  {
   "cell_type": "markdown",
   "metadata": {},
   "source": [
    "## RandomForest"
   ]
  },
  {
   "cell_type": "code",
   "execution_count": 14,
   "metadata": {},
   "outputs": [
    {
     "name": "stdout",
     "output_type": "stream",
     "text": [
      "test_rmse_ave: 0.004210428000843861\n",
      "[0.00450619574494823, 0.0036921869255320053, 0.004845711920871969, 0.004237000178915273, 0.0038846800422618305, 0.003916908995091113, 0.004537172274781583, 0.0040239100765399214, 0.0045645390100714145, 0.0038959748394252766]\n",
      "\n",
      "\n",
      "test_r2_ave: 0.6776289684220653\n",
      "[0.5857451831114955, 0.7258771885721371, 0.5760241857269011, 0.6954733030797475, 0.7108223728018738, 0.7381059659833445, 0.6171126965494411, 0.7280708430104056, 0.6665395527904143, 0.7325183925948928]\n"
     ]
    }
   ],
   "source": [
    "rand_model = RandomForestRegressor( \n",
    "            criterion ='mse', \n",
    "            n_estimators = 60,\n",
    "            max_depth = 7,\n",
    "            min_samples_split = 6,\n",
    "            max_leaf_nodes = 14,\n",
    "            min_samples_leaf =1,\n",
    "            random_state = 42) \n",
    "rand_ave(skew_x[title], y,rand_model)"
   ]
  },
  {
   "cell_type": "code",
   "execution_count": 8,
   "metadata": {},
   "outputs": [
    {
     "name": "stdout",
     "output_type": "stream",
     "text": [
      "test_rmse_ave: 0.004174705783125398\n",
      "[0.0042938758429127396, 0.00373861833345558, 0.004853053530979205, 0.004259099184308161, 0.0038318950438594136, 0.004021453478086896, 0.00445210080119392, 0.004049164323298355, 0.004464168952233626, 0.0037836283409260854]\n",
      "\n",
      "\n",
      "test_r2_ave: 0.6837144643705944\n",
      "[0.6238626797777842, 0.718939328286418, 0.5747385034030223, 0.6922883670193725, 0.718627667055707, 0.7239392010707572, 0.6313362777173668, 0.7246468519893985, 0.6810433013583862, 0.7477224660277317]\n"
     ]
    }
   ],
   "source": [
    "lr = LinearRegression()\n",
    "lasso_mod=Lasso(alpha=9e-05)\n",
    "elastic_mod=ElasticNet(alpha=[0.006], l1_ratio=0.01)\n",
    "svr_mod=SVR(kernel='linear', C=1.25, gamma= 1e-07, epsilon= 0)\n",
    "\n",
    "xgb_mod =  XGBRegressor(\n",
    "                objective ='reg:squarederror',\n",
    "              learning_rate = 0.08,\n",
    "              booster = 'dart', \n",
    "              n_estimators = 150, \n",
    "              max_depth = 4, \n",
    "              min_child_weight = 3,\n",
    "              seed = 42,\n",
    "              gamma = 0,\n",
    "              subsample = 0.8,\n",
    "              colsample_bytree = 0.7,\n",
    "              reg_alpha =  0,\n",
    "              reg_lambda = 1)\n",
    "\n",
    "random_mod = RandomForestRegressor( \n",
    "            criterion ='mse', \n",
    "            n_estimators = 60,\n",
    "            max_depth = 7,\n",
    "            min_samples_split = 6,\n",
    "            max_leaf_nodes = 14,\n",
    "            min_samples_leaf =1,\n",
    "            random_state = 42)  \n",
    "vote_mod = VotingRegressor([ ('Lasso', lasso_mod), ('SVR', svr_mod),('Elastic', elastic_mod), ('Linear', lr),\n",
    "                            ('RandomForest', random_mod),('XGB', xgb_mod)])\n",
    "# \n",
    "# vote_mod = VotingRegressor([ ('SVR', svr_mod), ('Linear', lr)\n",
    "#                             ,('RandomForest', random_mod)])\n",
    "voting_ave(skew_data[title], y,vote_mod)\n"
   ]
  },
  {
   "cell_type": "code",
   "execution_count": 9,
   "metadata": {},
   "outputs": [
    {
     "name": "stdout",
     "output_type": "stream",
     "text": [
      "test_rmse_ave: 0.004178050778123379\n",
      "[0.004327363712691984, 0.0037010497553692217, 0.004836017654954408, 0.004272674847008936, 0.003843871458823368, 0.003948444366646023, 0.004540864054920372, 0.004025299927752684, 0.004459622972275666, 0.0038252990307911226]\n",
      "\n",
      "\n",
      "test_r2_ave: 0.6829512798777285\n",
      "[0.6179728235218878, 0.7245595847746737, 0.5777188894210603, 0.6903236102641319, 0.7168660854316318, 0.7338719271828797, 0.6164893519923327, 0.7278829628980195, 0.6816925744945161, 0.742134988796153]\n"
     ]
    }
   ],
   "source": [
    "\n",
    "stack_mod = StackingRegressor(regressors=[lasso_mod, lr, elastic_mod, random_mod], \n",
    "                           meta_regressor=vote_mod, use_features_in_secondary=True\n",
    "                          )\n",
    "\n",
    "stack_ave(skew_data[title], y,stack_mod)"
   ]
  },
  {
   "cell_type": "code",
   "execution_count": 10,
   "metadata": {},
   "outputs": [
    {
     "name": "stdout",
     "output_type": "stream",
     "text": [
      "test_rmse_ave: 0.004162008155363495\n",
      "[0.0042837736863567686, 0.0037233296536855857, 0.0048351382140715635, 0.0042489977141203115, 0.0038159286303579114, 0.004002692791382166, 0.004456968610771145, 0.0040371213596773845, 0.004444238171146485, 0.0037718927220656267]\n",
      "\n",
      "\n",
      "test_r2_ave: 0.6855941021745885\n",
      "[0.625630466440352, 0.7212333631768832, 0.5778724610296988, 0.6937462592485599, 0.7209675784921068, 0.7265089234709564, 0.6305296626140153, 0.7262823186587359, 0.6838849793105696, 0.749285009304007]\n"
     ]
    }
   ],
   "source": [
    "ave(skew_data[title],y,0.15,stack_mod,0.75,vote_mod,0.1,lasso_mod)"
   ]
  },
  {
   "cell_type": "code",
   "execution_count": 11,
   "metadata": {},
   "outputs": [],
   "source": [
    "name='Input_C_057'\n",
    "test_pred=[]\n",
    "seed=[1,4,5,7,9,6,8]\n",
    "stack_w=0.15\n",
    "vote_w=0.75\n",
    "model_w=0.1\n",
    "model=lasso_mod\n",
    "for i in seed:\n",
    "    X_train, X_test, y_train, y_test = train_test_split(skew_data[title], y, test_size=0.2, random_state=i)\n",
    "\n",
    "    stack = stack_mod.fit(X_train, y_train)\n",
    "    stack_pred = stack.predict(test)\n",
    "    vote = vote_mod.fit(X_train, y_train)\n",
    "    vote_pred = vote.predict(test)\n",
    "    mod = model.fit(X_train, y_train)\n",
    "    mod_pred = mod.predict(test)\n",
    "\n",
    "    ###\n",
    "    final_test = (vote_w*vote_pred+stack_w*stack_pred + model_w*mod_pred)\n",
    "    ###\n",
    "    test_pred.append(final_test)\n",
    "\n",
    "\n",
    "final_test = pd.DataFrame(np.mean(test_pred, axis=0), columns=[name])\n",
    "final_test.to_csv(('./output/'+name+'.csv'))\n"
   ]
  }
 ],
 "metadata": {
  "kernelspec": {
   "display_name": "Python 3",
   "language": "python",
   "name": "python3"
  },
  "language_info": {
   "codemirror_mode": {
    "name": "ipython",
    "version": 3
   },
   "file_extension": ".py",
   "mimetype": "text/x-python",
   "name": "python",
   "nbconvert_exporter": "python",
   "pygments_lexer": "ipython3",
   "version": "3.7.7"
  }
 },
 "nbformat": 4,
 "nbformat_minor": 4
}
