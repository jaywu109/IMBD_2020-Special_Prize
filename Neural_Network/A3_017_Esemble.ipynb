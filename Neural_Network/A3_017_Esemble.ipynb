{
 "cells": [
  {
   "cell_type": "code",
   "execution_count": 1,
   "metadata": {},
   "outputs": [],
   "source": [
    "import pandas as pd\n",
    "import tensorflow as tf\n",
    "tf.config.set_visible_devices([], 'GPU')"
   ]
  },
  {
   "cell_type": "code",
   "execution_count": 2,
   "metadata": {},
   "outputs": [],
   "source": [
    "\n",
    "import NeuralNetwork.pretrained_models as pre_models\n",
    "from NeuralNetwork.tools import predict, predict_mul\n",
    "from NeuralNetwork.preprocessing import skewness_pure, min_max_normalization_pure\n",
    "\n",
    "\n",
    "def predict_df(X_df):\n",
    "\n",
    "    model_A3_017, input_features_A3_017 = pre_models.Input_A3_017('weights/')\n",
    "    \n",
    "    outputs = ['Input_A3_017']\n",
    "\n",
    "    preprocessings = ['min_max_normalization']\n",
    "\n",
    "    models = [model_A3_017]\n",
    "\n",
    "    input_features = [input_features_A3_017]\n",
    "\n",
    "    result = {}\n",
    "\n",
    "    for i in range(len(outputs)):\n",
    "\n",
    "            if preprocessings[i] == 'skewness':\n",
    "                X = skewness_pure(X_df, input_features[i])\n",
    "            elif preprocessings[i] == 'min_max_normalization':\n",
    "                X = min_max_normalization_pure(X_df, input_features[i])\n",
    "\n",
    "            result[outputs[i]] = predict_mul(models[i], X)\n",
    "    \n",
    "    result_df = pd.DataFrame(result, columns = outputs)\n",
    "    return result_df\n"
   ]
  },
  {
   "cell_type": "code",
   "execution_count": 3,
   "metadata": {},
   "outputs": [],
   "source": [
    "def nn_ave(x, y):\n",
    "\n",
    "    rmse = []\n",
    "    r2 = []\n",
    "    for i in np.arange(10):\n",
    "        X_train, X_test, y_train, y_test = train_test_split(\n",
    "            x, y, test_size=0.2, random_state=i)\n",
    "\n",
    "        nn_pred = predict_df(X_test)\n",
    "\n",
    "        rmse.append(math.sqrt(mean_squared_error(y_test, nn_pred)))\n",
    "        r2.append(r2_score(y_test, nn_pred))\n",
    "\n",
    "    test_rmse = np.array(rmse).mean()\n",
    "    print('test_rmse_ave:', test_rmse)\n",
    "    print(rmse)\n",
    "    print('\\n')\n",
    "    test_r2 = np.array(r2).mean()\n",
    "    print('test_r2_ave:', test_r2)\n",
    "    print(r2)"
   ]
  },
  {
   "cell_type": "code",
   "execution_count": 4,
   "metadata": {},
   "outputs": [],
   "source": [
    "from sklearn import preprocessing\n",
    "from sklearn.preprocessing import MinMaxScaler, RobustScaler, StandardScaler\n",
    "from sklearn.linear_model import LinearRegression, LassoCV\n",
    "from sklearn.model_selection import train_test_split\n",
    "from sklearn.metrics import r2_score, mean_squared_error\n",
    "from sklearn.preprocessing import PowerTransformer\n",
    "import math\n",
    "import warnings\n",
    "warnings.filterwarnings('ignore')\n",
    "\n",
    "# 處理 data 套件\n",
    "import numpy as np\n",
    "import pandas as pd\n",
    "from xgboost.sklearn import XGBRegressor\n",
    "from sklearn.model_selection import GridSearchCV\n",
    "from sklearn.model_selection import cross_val_score,KFold\n",
    "from scipy.stats import skew\n",
    "from sklearn.ensemble import RandomForestRegressor\n",
    "from sklearn.linear_model import ElasticNet\n",
    "from sklearn.linear_model import Lasso\n",
    "from mlxtend.regressor import StackingRegressor\n",
    "from sklearn.ensemble import VotingRegressor\n",
    "from sklearn.svm import SVR"
   ]
  },
  {
   "cell_type": "code",
   "execution_count": 5,
   "metadata": {},
   "outputs": [],
   "source": [
    "from imbdpack import skew_pro,lr_rmse_ave,lr_rmse_ave_fea,laso_rmse_ave,ElasticNet_rmse_ave,xgb_ave,svr_rmse_ave,rand_ave\n",
    "from imbdpack import voting_ave,stack_ave,ave"
   ]
  },
  {
   "cell_type": "code",
   "execution_count": 6,
   "metadata": {},
   "outputs": [
    {
     "data": {
      "text/plain": [
       "array(['Input_A3_019', 'Input_A1_016', 'Input_A4_016', 'Input_A2_019',\n",
       "       'Input_A1_018'], dtype=object)"
      ]
     },
     "execution_count": 6,
     "metadata": {},
     "output_type": "execute_result"
    }
   ],
   "source": [
    "fea_number=5\n",
    "data=pd.read_csv('./BayesianRidge_Pre_0/Input_A3_017.csv',index_col=0).drop(['Number'], axis=1) ## 改路徑\n",
    "y=data.Predict\n",
    "nn=data.drop(['Predict'], axis=1)\n",
    "skew_data=skew_pro(data)\n",
    "num=skew_data.select_dtypes(exclude='object')\n",
    "numcorr=num.corr()\n",
    "title=abs(numcorr['Predict']).sort_values(ascending=False).head(fea_number+1).to_frame().index.to_numpy()[1:]\n",
    "skew_x=skew_data.drop(['Predict'], axis=1)\n",
    "title"
   ]
  },
  {
   "cell_type": "code",
   "execution_count": 7,
   "metadata": {},
   "outputs": [],
   "source": [
    "test=pd.read_csv('./final_testX.csv',index_col=0).drop(['Number'], axis=1)[title] ## 改路徑"
   ]
  },
  {
   "cell_type": "code",
   "execution_count": 8,
   "metadata": {},
   "outputs": [
    {
     "name": "stdout",
     "output_type": "stream",
     "text": [
      "test_rmse_ave: 0.009011243794593901\n",
      "[0.010197434089272806, 0.00848800223464646, 0.01002208325952512, 0.008799768658811971, 0.00997705106380258, 0.008371288122635746, 0.009196408361391318, 0.009104648046390799, 0.008256042752416174, 0.007699711357046031]\n",
      "\n",
      "\n",
      "test_r2_ave: 0.5276418274062353\n",
      "[0.46913439973610815, 0.5894040313690869, 0.509533241261001, 0.5721071781060474, 0.47389286224087823, 0.47341608101953925, 0.49465805063476687, 0.45503829465946966, 0.6215946433915412, 0.6176394916439145]\n"
     ]
    }
   ],
   "source": [
    "nn_ave(nn, y)"
   ]
  },
  {
   "cell_type": "markdown",
   "metadata": {},
   "source": [
    "## Linear Regression Baseline"
   ]
  },
  {
   "cell_type": "code",
   "execution_count": 4,
   "metadata": {},
   "outputs": [
    {
     "name": "stdout",
     "output_type": "stream",
     "text": [
      "train_rmse: 0.009021544601542492\n",
      "test_rmse: 0.009185245312196517\n",
      "test_r2: 0.5194517040383431\n"
     ]
    }
   ],
   "source": [
    "lr_rmse_ave_fea(skew_data,5)"
   ]
  },
  {
   "cell_type": "markdown",
   "metadata": {},
   "source": [
    "## Lasso"
   ]
  },
  {
   "cell_type": "code",
   "execution_count": 5,
   "metadata": {},
   "outputs": [
    {
     "name": "stdout",
     "output_type": "stream",
     "text": [
      "test_rmse_ave: 0.00915265946598786\n",
      "[0.01062750198763127, 0.008673317787159884, 0.00994386176369197, 0.008939578064045368, 0.009945566589734396, 0.008430424097449754, 0.009745321367017846, 0.009006018749580881, 0.008403021442409763, 0.007811982811157472]\n",
      "\n",
      "\n",
      "test_r2_ave: 0.5127135025130259\n",
      "[0.42341258348195965, 0.5712795215682764, 0.5171594651920497, 0.5584025737690227, 0.4772080844813562, 0.4659500753571916, 0.4325322480300323, 0.46678132108470427, 0.6080015474223772, 0.6064076047432891]\n"
     ]
    }
   ],
   "source": [
    "laso_rmse_ave(skew_data[title],y,3e-07)"
   ]
  },
  {
   "cell_type": "markdown",
   "metadata": {},
   "source": [
    "## ElasticNet"
   ]
  },
  {
   "cell_type": "code",
   "execution_count": 6,
   "metadata": {},
   "outputs": [
    {
     "name": "stdout",
     "output_type": "stream",
     "text": [
      "test_rmse_ave: 0.009230097048787068\n",
      "[0.010712850925479455, 0.008792130351253567, 0.010074765589108081, 0.009202803075028248, 0.009927527433509496, 0.008270915189682867, 0.009711517230252325, 0.009112071378092598, 0.008554092848794324, 0.007942296466669701]\n",
      "\n",
      "\n",
      "test_r2_ave: 0.5052574206935073\n",
      "[0.41411430630033175, 0.5594533054152979, 0.504363289356982, 0.532014120812297, 0.4791028327153405, 0.48596800935175777, 0.43646223384147165, 0.4541492804609195, 0.5937799746249461, 0.5931668540557293]\n"
     ]
    }
   ],
   "source": [
    "ElasticNet_rmse_ave(skew_data[title],y,[0.04],0.01)"
   ]
  },
  {
   "cell_type": "markdown",
   "metadata": {},
   "source": [
    "## SVR"
   ]
  },
  {
   "cell_type": "code",
   "execution_count": 7,
   "metadata": {},
   "outputs": [
    {
     "name": "stdout",
     "output_type": "stream",
     "text": [
      "train_rmse: 0.009154731992021709\n",
      "test_rmse: 0.009323699506015254\n",
      "test_r2: 0.5042389568202571\n"
     ]
    }
   ],
   "source": [
    "model=SVR(kernel='linear', C=1.3, gamma= 1e-07, epsilon= 0)\n",
    "svr_rmse_ave(skew_data,5,model)"
   ]
  },
  {
   "cell_type": "markdown",
   "metadata": {},
   "source": [
    "## XGB"
   ]
  },
  {
   "cell_type": "code",
   "execution_count": 8,
   "metadata": {},
   "outputs": [
    {
     "name": "stdout",
     "output_type": "stream",
     "text": [
      "test_rmse_ave: 0.009313335268602781\n",
      "[0.010598929677171258, 0.00884100326981116, 0.010250998065664861, 0.009141604843163866, 0.010236671587176564, 0.008094949510017158, 0.010105390019861934, 0.009481101702687733, 0.008478444859080529, 0.007904259151392748]\n",
      "\n",
      "\n",
      "test_r2_ave: 0.4956756506473011\n",
      "[0.42650875579453085, 0.5545419486391667, 0.48687181646100275, 0.5382175962211698, 0.44615614063095754, 0.5076076448240685, 0.38982414861165493, 0.4090411084039933, 0.600933006489341, 0.5970543403971253]\n"
     ]
    }
   ],
   "source": [
    "best_xgb_model =  XGBRegressor(\n",
    "                objective ='reg:squarederror',\n",
    "              learning_rate = 0.08,\n",
    "              booster = 'gbtree', \n",
    "              n_estimators = 100, \n",
    "              max_depth = 2, \n",
    "              min_child_weight = 4,\n",
    "              seed = 42,\n",
    "              gamma = 0,\n",
    "              subsample = 0.8,\n",
    "              colsample_bytree = 0.4,\n",
    "              reg_alpha =  0.05,\n",
    "              reg_lambda = 2)\n",
    "xgb_ave(skew_data[title], y,best_xgb_model)"
   ]
  },
  {
   "cell_type": "markdown",
   "metadata": {},
   "source": [
    "## RandomForest"
   ]
  },
  {
   "cell_type": "code",
   "execution_count": 9,
   "metadata": {},
   "outputs": [
    {
     "name": "stdout",
     "output_type": "stream",
     "text": [
      "test_rmse_ave: 0.00926927863567096\n",
      "[0.009960376687364077, 0.009191904829756122, 0.01024475199640912, 0.008475154918851924, 0.010505539986227328, 0.00874404108960199, 0.00997960197902898, 0.00966823117286096, 0.008206411067431944, 0.007716772629177148]\n",
      "\n",
      "\n",
      "test_r2_ave: 0.4977234188693435\n",
      "[0.49352933414788924, 0.5184795359647612, 0.48749693758891477, 0.6030938921449063, 0.4166804068772473, 0.4254770359226312, 0.40492007856865697, 0.38548326679016476, 0.6261305802295773, 0.6159431204586858]\n"
     ]
    }
   ],
   "source": [
    "rand_model = RandomForestRegressor( \n",
    "            criterion ='mse', \n",
    "            n_estimators = 70,\n",
    "            max_depth = 3,\n",
    "            min_samples_split = 3,\n",
    "            max_leaf_nodes = 8,\n",
    "            min_samples_leaf =3,\n",
    "            random_state = 42)\n",
    "rand_ave(skew_x[title], y,rand_model)"
   ]
  },
  {
   "cell_type": "code",
   "execution_count": 9,
   "metadata": {},
   "outputs": [
    {
     "name": "stdout",
     "output_type": "stream",
     "text": [
      "test_rmse_ave: 0.009111587199217902\n",
      "[0.010493535849133723, 0.00863080060455602, 0.009958997163004192, 0.008846289046533617, 0.00993520073524237, 0.00833247936643075, 0.009716151348488971, 0.00915483693264715, 0.00827206866735412, 0.007775512278788097]\n",
      "\n",
      "\n",
      "test_r2_ave: 0.5168309992130968\n",
      "[0.43785743440725167, 0.5754724520960577, 0.515688498246291, 0.567571068791503, 0.4782972855400115, 0.4782871824522027, 0.43592429035601354, 0.44901359026117327, 0.620124162198968, 0.6100740277814962]\n"
     ]
    }
   ],
   "source": [
    "lr = LinearRegression()\n",
    "lasso_mod=Lasso(alpha=3e-07)\n",
    "elastic_mod=ElasticNet(alpha=[0.04], l1_ratio=0.01)\n",
    "svr_mod=SVR(kernel='linear', C=1.3, gamma= 1e-07, epsilon= 0)\n",
    "\n",
    "xgb_mod =  XGBRegressor(\n",
    "                objective ='reg:squarederror',\n",
    "              learning_rate = 0.08,\n",
    "              booster = 'gbtree', \n",
    "              n_estimators = 100, \n",
    "              max_depth = 2, \n",
    "              min_child_weight = 4,\n",
    "              seed = 42,\n",
    "              gamma = 0,\n",
    "              subsample = 0.8,\n",
    "              colsample_bytree = 0.4,\n",
    "              reg_alpha =  0.05,\n",
    "              reg_lambda = 2)\n",
    "\n",
    "random_mod = RandomForestRegressor( \n",
    "            criterion ='mse', \n",
    "            n_estimators = 70,\n",
    "            max_depth = 3,\n",
    "            min_samples_split = 3,\n",
    "            max_leaf_nodes = 8,\n",
    "            min_samples_leaf =3,\n",
    "            random_state = 42)\n",
    "vote_mod = VotingRegressor([ ('Lasso', lasso_mod), ('SVR', svr_mod),('Elastic', elastic_mod), ('Linear', lr),\n",
    "                            ('XGBRegressor', xgb_mod),('RandomForest', random_mod)])\n",
    "\n",
    "# vote_mod = VotingRegressor([ ('SVR', svr_mod), ('Linear', lr)\n",
    "#                             ,('RandomForest', random_mod)])\n",
    "voting_ave(skew_data[title], y,vote_mod)\n"
   ]
  },
  {
   "cell_type": "code",
   "execution_count": 10,
   "metadata": {},
   "outputs": [
    {
     "name": "stdout",
     "output_type": "stream",
     "text": [
      "test_rmse_ave: 0.009163690737815314\n",
      "[0.01015018384836756, 0.008951775586143596, 0.009969671197119515, 0.008517597416183683, 0.010116073835240458, 0.008756458258043652, 0.009843349740805963, 0.009413360396001139, 0.00802227946802538, 0.007896157632222199]\n",
      "\n",
      "\n",
      "test_r2_ave: 0.5093197188947043\n",
      "[0.4740425784976353, 0.5433093891132332, 0.5146497736099804, 0.5991086276601254, 0.459128889666503, 0.42384414931887227, 0.4210584915355349, 0.41745559771864404, 0.6427197714596238, 0.5978799203668911]\n"
     ]
    }
   ],
   "source": [
    "\n",
    "stack_mod = StackingRegressor(regressors=[lasso_mod,elastic_mod,lr, random_mod ], \n",
    "                           meta_regressor=vote_mod, use_features_in_secondary=True\n",
    "                          )\n",
    "\n",
    "stack_ave(skew_data[title], y,stack_mod)"
   ]
  },
  {
   "cell_type": "code",
   "execution_count": 11,
   "metadata": {
    "scrolled": true
   },
   "outputs": [
    {
     "name": "stdout",
     "output_type": "stream",
     "text": [
      "test_rmse_ave: 0.009097463605925865\n",
      "[0.010389034661647686, 0.008693364570252635, 0.009922861223718637, 0.008726271689202548, 0.00995854859461722, 0.008429047099369355, 0.009724686932684141, 0.009184902647150935, 0.008171895639348838, 0.007774023001266643]\n",
      "\n",
      "\n",
      "test_r2_ave: 0.5178495732701288\n",
      "[0.4489980182741087, 0.5692954137756134, 0.5191967430429572, 0.5792249772934348, 0.47584238718899896, 0.46612452106829994, 0.434932780366171, 0.44538862077905916, 0.6292688890173914, 0.6102233818952523]\n"
     ]
    }
   ],
   "source": [
    "ave(skew_data[title],y,0.3,stack_mod,0.6,vote_mod,0.1,lasso_mod)"
   ]
  },
  {
   "cell_type": "code",
   "execution_count": 46,
   "metadata": {},
   "outputs": [],
   "source": [
    "name='Input_A3_017'\n",
    "test_pred=[]\n",
    "seed=[9,8,5,3,1,7]\n",
    "stack_w=0.3\n",
    "vote_w=0.6\n",
    "model_w=0.1\n",
    "model=lasso_mod\n",
    "for i in seed:\n",
    "    X_train, X_test, y_train, y_test = train_test_split(skew_data[title], y, test_size=0.2, random_state=i)\n",
    "\n",
    "    stack = stack_mod.fit(X_train, y_train)\n",
    "    stack_pred = stack.predict(test)\n",
    "    vote = vote_mod.fit(X_train, y_train)\n",
    "    vote_pred = vote.predict(test)\n",
    "    mod = model.fit(X_train, y_train)\n",
    "    mod_pred = mod.predict(test)\n",
    "\n",
    "    ###\n",
    "    final_test = (vote_w*vote_pred+stack_w*stack_pred + model_w*mod_pred)\n",
    "    ###\n",
    "    test_pred.append(final_test)\n",
    "\n",
    "\n",
    "\n"
   ]
  },
  {
   "cell_type": "code",
   "execution_count": 47,
   "metadata": {},
   "outputs": [],
   "source": [
    "nn_test=pd.read_csv('./final_testX.csv',index_col=0).drop(['Number'], axis=1) ## 改路徑"
   ]
  },
  {
   "cell_type": "code",
   "execution_count": 48,
   "metadata": {},
   "outputs": [],
   "source": [
    "nn_pred = predict_df(nn_test)\n",
    "test_pred.append(nn_pred.to_numpy().reshape(1,95))\n"
   ]
  },
  {
   "cell_type": "code",
   "execution_count": 49,
   "metadata": {},
   "outputs": [],
   "source": [
    "final_test = pd.DataFrame(np.mean(np.array(test_pred), axis=0).reshape(-1, 1), columns=[name])\n",
    "final_test.to_csv(('./output/'+name+'.csv'))"
   ]
  },
  {
   "cell_type": "code",
   "execution_count": 50,
   "metadata": {},
   "outputs": [
    {
     "data": {
      "text/html": [
       "<div>\n",
       "<style scoped>\n",
       "    .dataframe tbody tr th:only-of-type {\n",
       "        vertical-align: middle;\n",
       "    }\n",
       "\n",
       "    .dataframe tbody tr th {\n",
       "        vertical-align: top;\n",
       "    }\n",
       "\n",
       "    .dataframe thead th {\n",
       "        text-align: right;\n",
       "    }\n",
       "</style>\n",
       "<table border=\"1\" class=\"dataframe\">\n",
       "  <thead>\n",
       "    <tr style=\"text-align: right;\">\n",
       "      <th></th>\n",
       "      <th>Input_A3_017</th>\n",
       "    </tr>\n",
       "  </thead>\n",
       "  <tbody>\n",
       "    <tr>\n",
       "      <th>0</th>\n",
       "      <td>-0.037785</td>\n",
       "    </tr>\n",
       "    <tr>\n",
       "      <th>1</th>\n",
       "      <td>-0.026253</td>\n",
       "    </tr>\n",
       "    <tr>\n",
       "      <th>2</th>\n",
       "      <td>-0.044509</td>\n",
       "    </tr>\n",
       "    <tr>\n",
       "      <th>3</th>\n",
       "      <td>-0.045688</td>\n",
       "    </tr>\n",
       "    <tr>\n",
       "      <th>4</th>\n",
       "      <td>-0.018948</td>\n",
       "    </tr>\n",
       "    <tr>\n",
       "      <th>...</th>\n",
       "      <td>...</td>\n",
       "    </tr>\n",
       "    <tr>\n",
       "      <th>90</th>\n",
       "      <td>-0.015150</td>\n",
       "    </tr>\n",
       "    <tr>\n",
       "      <th>91</th>\n",
       "      <td>-0.021981</td>\n",
       "    </tr>\n",
       "    <tr>\n",
       "      <th>92</th>\n",
       "      <td>-0.035962</td>\n",
       "    </tr>\n",
       "    <tr>\n",
       "      <th>93</th>\n",
       "      <td>-0.022403</td>\n",
       "    </tr>\n",
       "    <tr>\n",
       "      <th>94</th>\n",
       "      <td>-0.017694</td>\n",
       "    </tr>\n",
       "  </tbody>\n",
       "</table>\n",
       "<p>95 rows × 1 columns</p>\n",
       "</div>"
      ],
      "text/plain": [
       "    Input_A3_017\n",
       "0      -0.037785\n",
       "1      -0.026253\n",
       "2      -0.044509\n",
       "3      -0.045688\n",
       "4      -0.018948\n",
       "..           ...\n",
       "90     -0.015150\n",
       "91     -0.021981\n",
       "92     -0.035962\n",
       "93     -0.022403\n",
       "94     -0.017694\n",
       "\n",
       "[95 rows x 1 columns]"
      ]
     },
     "execution_count": 50,
     "metadata": {},
     "output_type": "execute_result"
    }
   ],
   "source": [
    "final_test"
   ]
  }
 ],
 "metadata": {
  "kernelspec": {
   "display_name": "Python 3",
   "language": "python",
   "name": "python3"
  },
  "language_info": {
   "codemirror_mode": {
    "name": "ipython",
    "version": 3
   },
   "file_extension": ".py",
   "mimetype": "text/x-python",
   "name": "python",
   "nbconvert_exporter": "python",
   "pygments_lexer": "ipython3",
   "version": "3.7.7"
  }
 },
 "nbformat": 4,
 "nbformat_minor": 4
}
