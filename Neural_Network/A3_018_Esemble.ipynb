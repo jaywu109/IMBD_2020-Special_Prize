{
 "cells": [
  {
   "cell_type": "code",
   "execution_count": 1,
   "metadata": {},
   "outputs": [],
   "source": [
    "import pandas as pd\n",
    "import tensorflow as tf\n",
    "tf.config.set_visible_devices([], 'GPU')"
   ]
  },
  {
   "cell_type": "code",
   "execution_count": 2,
   "metadata": {},
   "outputs": [],
   "source": [
    "\n",
    "import NeuralNetwork.pretrained_models as pre_models\n",
    "from NeuralNetwork.tools import predict, predict_mul\n",
    "from NeuralNetwork.preprocessing import skewness_pure, min_max_normalization_pure\n",
    "\n",
    "\n",
    "def predict_df(X_df):\n",
    "\n",
    "    model_A3_018, input_features_A3_018 = pre_models.Input_A3_018('weights/')\n",
    "    \n",
    "    outputs = ['Input_A3_018']\n",
    "\n",
    "    preprocessings = ['min_max_normalization']\n",
    "\n",
    "    models = [model_A3_018]\n",
    "\n",
    "    input_features = [input_features_A3_018]\n",
    "\n",
    "    result = {}\n",
    "\n",
    "    for i in range(len(outputs)):\n",
    "\n",
    "            if preprocessings[i] == 'skewness':\n",
    "                X = skewness_pure(X_df, input_features[i])\n",
    "            elif preprocessings[i] == 'min_max_normalization':\n",
    "                X = min_max_normalization_pure(X_df, input_features[i])\n",
    "\n",
    "            result[outputs[i]] = predict_mul(models[i], X)\n",
    "    \n",
    "    result_df = pd.DataFrame(result, columns = outputs)\n",
    "    return result_df\n"
   ]
  },
  {
   "cell_type": "code",
   "execution_count": 3,
   "metadata": {},
   "outputs": [],
   "source": [
    "def nn_ave(x, y):\n",
    "\n",
    "    rmse = []\n",
    "    r2 = []\n",
    "    for i in np.arange(10):\n",
    "        X_train, X_test, y_train, y_test = train_test_split(\n",
    "            x, y, test_size=0.2, random_state=i)\n",
    "\n",
    "        nn_pred = predict_df(X_test)\n",
    "\n",
    "        rmse.append(math.sqrt(mean_squared_error(y_test, nn_pred)))\n",
    "        r2.append(r2_score(y_test, nn_pred))\n",
    "\n",
    "    test_rmse = np.array(rmse).mean()\n",
    "    print('test_rmse_ave:', test_rmse)\n",
    "    print(rmse)\n",
    "    print('\\n')\n",
    "    test_r2 = np.array(r2).mean()\n",
    "    print('test_r2_ave:', test_r2)\n",
    "    print(r2)"
   ]
  },
  {
   "cell_type": "code",
   "execution_count": 4,
   "metadata": {},
   "outputs": [],
   "source": [
    "from sklearn import preprocessing\n",
    "from sklearn.preprocessing import MinMaxScaler, RobustScaler, StandardScaler\n",
    "from sklearn.linear_model import LinearRegression, LassoCV\n",
    "from sklearn.model_selection import train_test_split\n",
    "from sklearn.metrics import r2_score, mean_squared_error\n",
    "from sklearn.preprocessing import PowerTransformer\n",
    "import math\n",
    "import warnings\n",
    "warnings.filterwarnings('ignore')\n",
    "\n",
    "# 處理 data 套件\n",
    "import numpy as np\n",
    "import pandas as pd\n",
    "from xgboost.sklearn import XGBRegressor\n",
    "from sklearn.model_selection import GridSearchCV\n",
    "from sklearn.model_selection import cross_val_score,KFold\n",
    "from scipy.stats import skew\n",
    "from sklearn.ensemble import RandomForestRegressor\n",
    "from sklearn.linear_model import ElasticNet\n",
    "from sklearn.linear_model import Lasso\n",
    "from mlxtend.regressor import StackingRegressor\n",
    "from sklearn.ensemble import VotingRegressor\n",
    "from sklearn.svm import SVR"
   ]
  },
  {
   "cell_type": "code",
   "execution_count": 5,
   "metadata": {},
   "outputs": [],
   "source": [
    "from imbdpack import skew_pro,lr_rmse_ave,lr_rmse_ave_fea,laso_rmse_ave,ElasticNet_rmse_ave,xgb_ave,svr_rmse_ave,rand_ave\n",
    "from imbdpack import voting_ave,stack_ave,ave"
   ]
  },
  {
   "cell_type": "code",
   "execution_count": 6,
   "metadata": {},
   "outputs": [
    {
     "data": {
      "text/plain": [
       "array(['Input_A3_019', 'Input_A1_018', 'Input_A2_019', 'Input_A5_019'],\n",
       "      dtype=object)"
      ]
     },
     "execution_count": 6,
     "metadata": {},
     "output_type": "execute_result"
    }
   ],
   "source": [
    "fea_number=4\n",
    "data=pd.read_csv('./BayesianRidge_Pre_0/Input_A3_018.csv',index_col=0).drop(['Number'], axis=1) ## 改路徑\n",
    "y=data.Predict\n",
    "nn=data.drop(['Predict'], axis=1)\n",
    "skew_data=skew_pro(data)\n",
    "num=skew_data.select_dtypes(exclude='object')\n",
    "numcorr=num.corr()\n",
    "title=abs(numcorr['Predict']).sort_values(ascending=False).head(fea_number+1).to_frame().index.to_numpy()[1:]\n",
    "skew_x=skew_data.drop(['Predict'], axis=1)\n",
    "title"
   ]
  },
  {
   "cell_type": "code",
   "execution_count": 7,
   "metadata": {},
   "outputs": [],
   "source": [
    "test=pd.read_csv('./final_testX.csv',index_col=0).drop(['Number'], axis=1)[title] ## 改路徑"
   ]
  },
  {
   "cell_type": "code",
   "execution_count": 8,
   "metadata": {},
   "outputs": [
    {
     "name": "stdout",
     "output_type": "stream",
     "text": [
      "test_rmse_ave: 0.009073277470677316\n",
      "[0.009317862103355057, 0.008138360016520824, 0.009145002760415136, 0.009642481335466217, 0.009143559740722501, 0.009858064735333355, 0.00873608184880011, 0.009595900760155195, 0.007817862753020322, 0.00933759865298445]\n",
      "\n",
      "\n",
      "test_r2_ave: 0.5143196935561831\n",
      "[0.5087209645384301, 0.6400287045727837, 0.5132426034249755, 0.4592406280757133, 0.5242147931988762, 0.37067350735555515, 0.529088440624419, 0.48192020377046263, 0.6231708697522372, 0.49289622024837876]\n"
     ]
    }
   ],
   "source": [
    "nn_ave(nn, y)"
   ]
  },
  {
   "cell_type": "markdown",
   "metadata": {},
   "source": [
    "## Linear Regression Baseline"
   ]
  },
  {
   "cell_type": "code",
   "execution_count": 4,
   "metadata": {},
   "outputs": [
    {
     "name": "stdout",
     "output_type": "stream",
     "text": [
      "train_rmse: 0.00872477114064293\n",
      "test_rmse: 0.008856737530801326\n",
      "test_r2: 0.5399154298217665\n"
     ]
    }
   ],
   "source": [
    "lr_rmse_ave_fea(skew_data,4)"
   ]
  },
  {
   "cell_type": "markdown",
   "metadata": {},
   "source": [
    "## Lasso"
   ]
  },
  {
   "cell_type": "code",
   "execution_count": 5,
   "metadata": {},
   "outputs": [
    {
     "name": "stdout",
     "output_type": "stream",
     "text": [
      "test_rmse_ave: 0.008961732550173195\n",
      "[0.009007021122923667, 0.00847827463379755, 0.008882503469321276, 0.009459867700218932, 0.00959738986945189, 0.009370382468031763, 0.008393444503329482, 0.009263346279254675, 0.007919152454530228, 0.009245943000872505]\n",
      "\n",
      "\n",
      "test_r2_ave: 0.5276465264309236\n",
      "[0.5409520669225529, 0.6093309233020796, 0.5407854401117311, 0.4795289636357467, 0.4758125779702448, 0.431399393593233, 0.5653032341735655, 0.5172070068521097, 0.6133430758579169, 0.5028025818900566]\n"
     ]
    }
   ],
   "source": [
    "laso_rmse_ave(skew_data[title],y,5e-06)"
   ]
  },
  {
   "cell_type": "markdown",
   "metadata": {},
   "source": [
    "## ElasticNet"
   ]
  },
  {
   "cell_type": "code",
   "execution_count": 6,
   "metadata": {},
   "outputs": [
    {
     "name": "stdout",
     "output_type": "stream",
     "text": [
      "test_rmse_ave: 0.00904063613462884\n",
      "[0.00901096281088072, 0.008700562033067225, 0.008974751757352439, 0.00955332661020307, 0.009691015613149412, 0.009329832348639322, 0.00850764185169428, 0.009372831123600349, 0.008034117194118081, 0.00923132000358353]\n",
      "\n",
      "\n",
      "test_r2_ave: 0.519689485578201\n",
      "[0.540550198289544, 0.5885768822944687, 0.5311976636746388, 0.46919415976264345, 0.4655354461060133, 0.43630995804768036, 0.5533941983113413, 0.5057271624488764, 0.6020351552682077, 0.5043740315785965]\n"
     ]
    }
   ],
   "source": [
    "ElasticNet_rmse_ave(skew_data[title],y,[0.035],0.01)"
   ]
  },
  {
   "cell_type": "markdown",
   "metadata": {},
   "source": [
    "## SVR"
   ]
  },
  {
   "cell_type": "code",
   "execution_count": 7,
   "metadata": {},
   "outputs": [
    {
     "name": "stdout",
     "output_type": "stream",
     "text": [
      "train_rmse: 0.008794517024981087\n",
      "test_rmse: 0.008955251354206354\n",
      "test_r2: 0.5294414950675286\n"
     ]
    }
   ],
   "source": [
    "model=SVR(kernel='linear', C=1.3, gamma= 1e-07, epsilon= 0)\n",
    "svr_rmse_ave(skew_data,5,model)"
   ]
  },
  {
   "cell_type": "markdown",
   "metadata": {},
   "source": [
    "## XGB"
   ]
  },
  {
   "cell_type": "code",
   "execution_count": 8,
   "metadata": {},
   "outputs": [
    {
     "name": "stdout",
     "output_type": "stream",
     "text": [
      "test_rmse_ave: 0.009300400944874419\n",
      "[0.009087498586840425, 0.008723248964934743, 0.00940858255489126, 0.01026415927878608, 0.009745186994810529, 0.00939392084996118, 0.008872040747426565, 0.01000530800665835, 0.008055483156951258, 0.00944858030748379]\n",
      "\n",
      "\n",
      "test_r2_ave: 0.491103947356833\n",
      "[0.5327122603709282, 0.5864284929307498, 0.48477933041493415, 0.38726426863048835, 0.45954358619009406, 0.4285391584859469, 0.514316870734511, 0.43676960229866235, 0.5999156421465206, 0.4807702613654944]\n"
     ]
    }
   ],
   "source": [
    "best_xgb_model =  XGBRegressor(\n",
    "                objective ='reg:squarederror',\n",
    "              learning_rate = 0.08,\n",
    "              booster = 'gbtree', \n",
    "              n_estimators = 90, \n",
    "              max_depth = 3, \n",
    "              min_child_weight = 4,\n",
    "              seed = 42,\n",
    "              gamma = 0,\n",
    "              subsample = 0.8,\n",
    "              colsample_bytree = 0.5,\n",
    "              reg_alpha =  0.05,\n",
    "              reg_lambda = 0.1)\n",
    "xgb_ave(skew_data[title], y,best_xgb_model)"
   ]
  },
  {
   "cell_type": "markdown",
   "metadata": {},
   "source": [
    "## RandomForest"
   ]
  },
  {
   "cell_type": "code",
   "execution_count": 9,
   "metadata": {},
   "outputs": [
    {
     "name": "stdout",
     "output_type": "stream",
     "text": [
      "test_rmse_ave: 0.009366969856936084\n",
      "[0.009272163264035575, 0.008726086437317532, 0.009301632127886646, 0.010225171544754072, 0.010111592235196634, 0.009248994583959785, 0.0092456694647097, 0.00987567232585224, 0.008028712088095762, 0.0096340044975529]\n",
      "\n",
      "\n",
      "test_r2_ave: 0.48387783912984456\n",
      "[0.5135280387408299, 0.5861593985622973, 0.49642611844168727, 0.39191030077859057, 0.41813877534716504, 0.4460357565614621, 0.47254830905518685, 0.4512702535938532, 0.6025704520655011, 0.4601909881518721]\n"
     ]
    }
   ],
   "source": [
    "rand_model = RandomForestRegressor( \n",
    "            criterion ='mse', \n",
    "            n_estimators = 70,\n",
    "            max_depth = 6,\n",
    "            min_samples_split = 4,\n",
    "            max_leaf_nodes = 7,\n",
    "            min_samples_leaf =9,\n",
    "            random_state = 42) \n",
    "rand_ave(skew_x[title], y,rand_model)"
   ]
  },
  {
   "cell_type": "code",
   "execution_count": 9,
   "metadata": {},
   "outputs": [
    {
     "name": "stdout",
     "output_type": "stream",
     "text": [
      "test_rmse_ave: 0.00901978215034669\n",
      "[0.009013885756433455, 0.008452497533284824, 0.009009598989647842, 0.009632661044483397, 0.009614518084822986, 0.009268954140745387, 0.008597248943321777, 0.009447626519936948, 0.007870045073212614, 0.009290785417577678]\n",
      "\n",
      "\n",
      "test_r2_ave: 0.5215264326986724\n",
      "[0.5402520804095656, 0.6117028698933381, 0.5275500575840487, 0.460341529395505, 0.4739399007242032, 0.44364223990765694, 0.5439368659898869, 0.4978070707852895, 0.6181235967205524, 0.49796811557667753]\n"
     ]
    }
   ],
   "source": [
    "lr = LinearRegression()\n",
    "lasso_mod=Lasso(alpha=5e-06)\n",
    "elastic_mod=ElasticNet(alpha=[0.035], l1_ratio=0.01)\n",
    "svr_mod=SVR(kernel='linear', C=1.3, gamma= 1e-07, epsilon= 0)\n",
    "\n",
    "xgb_mod =  XGBRegressor(\n",
    "                objective ='reg:squarederror',\n",
    "              learning_rate = 0.08,\n",
    "              booster = 'gbtree', \n",
    "              n_estimators = 90, \n",
    "              max_depth = 3, \n",
    "              min_child_weight = 4,\n",
    "              seed = 42,\n",
    "              gamma = 0,\n",
    "              subsample = 0.8,\n",
    "              colsample_bytree = 0.5,\n",
    "              reg_alpha =  0.05,\n",
    "              reg_lambda = 0.1)\n",
    "\n",
    "random_mod = RandomForestRegressor( \n",
    "            criterion ='mse', \n",
    "            n_estimators = 70,\n",
    "            max_depth = 6,\n",
    "            min_samples_split = 4,\n",
    "            max_leaf_nodes = 7,\n",
    "            min_samples_leaf =9,\n",
    "            random_state = 42) \n",
    "vote_mod = VotingRegressor([ ('Lasso', lasso_mod), ('SVR', svr_mod),('Elastic', elastic_mod), ('Linear', lr),\n",
    "                            ('XGBRegressor', xgb_mod),('RandomForest', random_mod)])\n",
    "\n",
    "# vote_mod = VotingRegressor([ ('SVR', svr_mod), ('Linear', lr)\n",
    "#                             ,('RandomForest', random_mod)])\n",
    "voting_ave(skew_data[title], y,vote_mod)\n"
   ]
  },
  {
   "cell_type": "code",
   "execution_count": 10,
   "metadata": {},
   "outputs": [
    {
     "name": "stdout",
     "output_type": "stream",
     "text": [
      "test_rmse_ave: 0.00897591643624758\n",
      "[0.008978946352825135, 0.00841615395776593, 0.00889291242023024, 0.009616615741658164, 0.009574314627354554, 0.009371133471566118, 0.008449645345579345, 0.009346329765286288, 0.007882326722985894, 0.009230785957224132]\n",
      "\n",
      "\n",
      "test_r2_ave: 0.5259671906976223\n",
      "[0.543809300111116, 0.6150348476418495, 0.5397085494554916, 0.46213787037086385, 0.4783301813550056, 0.4313082472224993, 0.5594624581584207, 0.5085182899221117, 0.6169307873377881, 0.504431375401077]\n"
     ]
    }
   ],
   "source": [
    "\n",
    "stack_mod = StackingRegressor(regressors=[svr_mod,elastic_mod,lr, lasso_mod], \n",
    "                           meta_regressor=vote_mod, use_features_in_secondary=True\n",
    "                          )\n",
    "\n",
    "stack_ave(skew_data[title], y,stack_mod)"
   ]
  },
  {
   "cell_type": "code",
   "execution_count": 11,
   "metadata": {},
   "outputs": [
    {
     "name": "stdout",
     "output_type": "stream",
     "text": [
      "test_rmse_ave: 0.00896257904309267\n",
      "[0.008997591657074581, 0.008337107865327235, 0.00894739984767813, 0.009533542349331405, 0.009530038405932847, 0.009297937827573686, 0.008517841994431943, 0.009370509426057204, 0.007828429430903278, 0.009265391626616385]\n",
      "\n",
      "\n",
      "test_r2_ave: 0.5274042328140882\n",
      "[0.5419127199401852, 0.6222322181003195, 0.5340508010183718, 0.47139040565863133, 0.4831439277547923, 0.44015737841121927, 0.5523226502012988, 0.5059719998710472, 0.622151531578081, 0.5007086956069362]\n"
     ]
    }
   ],
   "source": [
    "ave(skew_data[title],y,0.5,stack_mod,0.3,vote_mod,0.2,svr_mod)"
   ]
  },
  {
   "cell_type": "code",
   "execution_count": 12,
   "metadata": {},
   "outputs": [],
   "source": [
    "name='Input_A3_018'\n",
    "test_pred=[]\n",
    "seed=[1,6,8,2,0,5,9]\n",
    "stack_w=0.5\n",
    "vote_w=0.3\n",
    "model_w=0.2\n",
    "model=svr_mod\n",
    "for i in seed:\n",
    "    X_train, X_test, y_train, y_test = train_test_split(skew_data[title], y, test_size=0.2, random_state=i)\n",
    "\n",
    "    stack = stack_mod.fit(X_train, y_train)\n",
    "    stack_pred = stack.predict(test)\n",
    "    vote = vote_mod.fit(X_train, y_train)\n",
    "    vote_pred = vote.predict(test)\n",
    "    mod = model.fit(X_train, y_train)\n",
    "    mod_pred = mod.predict(test)\n",
    "\n",
    "    ###\n",
    "    final_test = (vote_w*vote_pred+stack_w*stack_pred + model_w*mod_pred)\n",
    "    ###\n",
    "    test_pred.append(final_test)\n",
    "\n",
    "\n",
    "final_test = pd.DataFrame(np.mean(test_pred, axis=0), columns=[name])\n",
    "final_test.to_csv(('./output/'+name+'.csv'))\n"
   ]
  }
 ],
 "metadata": {
  "kernelspec": {
   "display_name": "Python 3",
   "language": "python",
   "name": "python3"
  },
  "language_info": {
   "codemirror_mode": {
    "name": "ipython",
    "version": 3
   },
   "file_extension": ".py",
   "mimetype": "text/x-python",
   "name": "python",
   "nbconvert_exporter": "python",
   "pygments_lexer": "ipython3",
   "version": "3.7.7"
  }
 },
 "nbformat": 4,
 "nbformat_minor": 4
}
