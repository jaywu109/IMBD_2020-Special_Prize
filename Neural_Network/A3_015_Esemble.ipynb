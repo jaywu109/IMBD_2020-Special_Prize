{
 "cells": [
  {
   "cell_type": "code",
   "execution_count": 1,
   "metadata": {},
   "outputs": [],
   "source": [
    "import pandas as pd\n",
    "import tensorflow as tf\n",
    "tf.config.set_visible_devices([], 'GPU')"
   ]
  },
  {
   "cell_type": "code",
   "execution_count": 2,
   "metadata": {},
   "outputs": [],
   "source": [
    "\n",
    "import NeuralNetwork.pretrained_models as pre_models\n",
    "from NeuralNetwork.tools import predict, predict_mul\n",
    "from NeuralNetwork.preprocessing import skewness_pure, min_max_normalization_pure\n",
    "\n",
    "\n",
    "def predict_df(X_df):\n",
    "\n",
    "    model_A3_015, input_features_A3_015 = pre_models.Input_A3_015('weights/')\n",
    "    \n",
    "    outputs = ['Input_A3_015']\n",
    "\n",
    "    preprocessings = ['min_max_normalization']\n",
    "\n",
    "    models = [model_A3_015]\n",
    "\n",
    "    input_features = [input_features_A3_015]\n",
    "\n",
    "    result = {}\n",
    "\n",
    "    for i in range(len(outputs)):\n",
    "\n",
    "            if preprocessings[i] == 'skewness':\n",
    "                X = skewness_pure(X_df, input_features[i])\n",
    "            elif preprocessings[i] == 'min_max_normalization':\n",
    "                X = min_max_normalization_pure(X_df, input_features[i])\n",
    "\n",
    "            result[outputs[i]] = predict_mul(models[i], X)\n",
    "    \n",
    "    result_df = pd.DataFrame(result, columns = outputs)\n",
    "    return result_df\n"
   ]
  },
  {
   "cell_type": "code",
   "execution_count": 3,
   "metadata": {},
   "outputs": [],
   "source": [
    "def nn_ave(x, y):\n",
    "\n",
    "    rmse = []\n",
    "    r2 = []\n",
    "    for i in np.arange(10):\n",
    "        X_train, X_test, y_train, y_test = train_test_split(\n",
    "            x, y, test_size=0.2, random_state=i)\n",
    "\n",
    "        nn_pred = predict_df(X_test)\n",
    "\n",
    "        rmse.append(math.sqrt(mean_squared_error(y_test, nn_pred)))\n",
    "        r2.append(r2_score(y_test, nn_pred))\n",
    "\n",
    "    test_rmse = np.array(rmse).mean()\n",
    "    print('test_rmse_ave:', test_rmse)\n",
    "    print(rmse)\n",
    "    print('\\n')\n",
    "    test_r2 = np.array(r2).mean()\n",
    "    print('test_r2_ave:', test_r2)\n",
    "    print(r2)"
   ]
  },
  {
   "cell_type": "code",
   "execution_count": 4,
   "metadata": {},
   "outputs": [],
   "source": [
    "from sklearn import preprocessing\n",
    "from sklearn.preprocessing import MinMaxScaler, RobustScaler, StandardScaler\n",
    "from sklearn.linear_model import LinearRegression, LassoCV\n",
    "from sklearn.model_selection import train_test_split\n",
    "from sklearn.metrics import r2_score, mean_squared_error\n",
    "from sklearn.preprocessing import PowerTransformer\n",
    "import math\n",
    "import warnings\n",
    "warnings.filterwarnings('ignore')\n",
    "\n",
    "# 處理 data 套件\n",
    "import numpy as np\n",
    "import pandas as pd\n",
    "from xgboost.sklearn import XGBRegressor\n",
    "from sklearn.model_selection import GridSearchCV\n",
    "from sklearn.model_selection import cross_val_score,KFold\n",
    "from scipy.stats import skew\n",
    "from sklearn.ensemble import RandomForestRegressor\n",
    "from sklearn.linear_model import ElasticNet\n",
    "from sklearn.linear_model import Lasso\n",
    "from mlxtend.regressor import StackingRegressor\n",
    "from sklearn.ensemble import VotingRegressor\n",
    "from sklearn.svm import SVR"
   ]
  },
  {
   "cell_type": "code",
   "execution_count": 5,
   "metadata": {},
   "outputs": [],
   "source": [
    "from imbdpack import skew_pro,lr_rmse_ave,lr_rmse_ave_fea,laso_rmse_ave,ElasticNet_rmse_ave,xgb_ave,svr_rmse_ave,rand_ave\n",
    "from imbdpack import voting_ave,stack_ave,ave"
   ]
  },
  {
   "cell_type": "code",
   "execution_count": 6,
   "metadata": {},
   "outputs": [
    {
     "data": {
      "text/plain": [
       "array(['Input_A2_015', 'Input_A6_015', 'Input_A1_015', 'Input_A4_015',\n",
       "       'Input_A5_015', 'Input_C_137', 'Input_A4_012'], dtype=object)"
      ]
     },
     "execution_count": 6,
     "metadata": {},
     "output_type": "execute_result"
    }
   ],
   "source": [
    "fea_number=7\n",
    "data=pd.read_csv('./BayesianRidge_Pre_0/Input_A3_015.csv',index_col=0).drop(['Number'], axis=1) ## 改路徑\n",
    "y=data.Predict\n",
    "nn=data.drop(['Predict'], axis=1)\n",
    "skew_data=skew_pro(data)\n",
    "num=skew_data.select_dtypes(exclude='object')\n",
    "numcorr=num.corr()\n",
    "title=abs(numcorr['Predict']).sort_values(ascending=False).head(fea_number+1).to_frame().index.to_numpy()[1:]\n",
    "skew_x=skew_data.drop(['Predict'], axis=1)\n",
    "title"
   ]
  },
  {
   "cell_type": "code",
   "execution_count": 7,
   "metadata": {},
   "outputs": [],
   "source": [
    "test=pd.read_csv('./final_testX.csv',index_col=0).drop(['Number'], axis=1)[title] ## 改路徑"
   ]
  },
  {
   "cell_type": "code",
   "execution_count": 8,
   "metadata": {},
   "outputs": [
    {
     "name": "stdout",
     "output_type": "stream",
     "text": [
      "test_rmse_ave: 0.024578226914792382\n",
      "[0.02521454114422555, 0.02616802301348055, 0.023194927770656338, 0.0214952167039765, 0.025185665354734543, 0.02445537792173391, 0.024248494454938593, 0.025343751437680133, 0.021190402619349683, 0.02928586872714807]\n",
      "\n",
      "\n",
      "test_r2_ave: 0.34846017953047975\n",
      "[0.34655296366521526, 0.3056084760863683, 0.41240588771437925, 0.47544040723495706, 0.309401610542836, 0.2835298622329553, 0.44117527506085774, 0.3769320265796403, 0.5937197092639594, -0.06016442307637093]\n"
     ]
    }
   ],
   "source": [
    "nn_ave(nn, y)"
   ]
  },
  {
   "cell_type": "markdown",
   "metadata": {},
   "source": [
    "## Linear Regression Baseline"
   ]
  },
  {
   "cell_type": "code",
   "execution_count": 4,
   "metadata": {},
   "outputs": [
    {
     "name": "stdout",
     "output_type": "stream",
     "text": [
      "train_rmse: 0.019713512282696334\n",
      "test_rmse: 0.020504559214319984\n",
      "test_r2: 0.5508460551254092\n"
     ]
    }
   ],
   "source": [
    "lr_rmse_ave_fea(skew_data,7)"
   ]
  },
  {
   "cell_type": "markdown",
   "metadata": {},
   "source": [
    "## Lasso"
   ]
  },
  {
   "cell_type": "code",
   "execution_count": 5,
   "metadata": {},
   "outputs": [
    {
     "name": "stdout",
     "output_type": "stream",
     "text": [
      "test_rmse_ave: 0.020376659127956644\n",
      "[0.019595678141870715, 0.025034946710217745, 0.019748459743782903, 0.01722057450847281, 0.020191466306880998, 0.021051460347164982, 0.02180145803923424, 0.019527462811933516, 0.02008410499501116, 0.01951097967499735]\n",
      "\n",
      "\n",
      "test_r2_ave: 0.5575229992804258\n",
      "[0.6053347859044851, 0.36444092037359566, 0.5740507629884186, 0.663328425348323, 0.5561314020965205, 0.4690986943095694, 0.5482718725913468, 0.6300992037017203, 0.6350340872484874, 0.5294398382417908]\n"
     ]
    }
   ],
   "source": [
    "laso_rmse_ave(skew_data[title],y,9e-05)"
   ]
  },
  {
   "cell_type": "markdown",
   "metadata": {},
   "source": [
    "## ElasticNet"
   ]
  },
  {
   "cell_type": "code",
   "execution_count": 6,
   "metadata": {},
   "outputs": [
    {
     "name": "stdout",
     "output_type": "stream",
     "text": [
      "test_rmse_ave: 0.020383014180187543\n",
      "[0.019430199078172623, 0.024928376107396625, 0.0197436588685917, 0.01727244446105894, 0.020326660624560632, 0.02100937256195339, 0.021813599767353902, 0.01967778643424961, 0.020049446569995463, 0.019578597328542547]\n",
      "\n",
      "\n",
      "test_r2_ave: 0.5573370734154943\n",
      "[0.611972277480483, 0.369840392713519, 0.5742578353969808, 0.6612971993988458, 0.550167554962861, 0.47121941404366585, 0.5477685771336773, 0.624382244684153, 0.6362926177764856, 0.5261726205642723]\n"
     ]
    }
   ],
   "source": [
    "ElasticNet_rmse_ave(skew_data[title],y,[0.02],0.015)"
   ]
  },
  {
   "cell_type": "markdown",
   "metadata": {},
   "source": [
    "## SVR"
   ]
  },
  {
   "cell_type": "code",
   "execution_count": 7,
   "metadata": {},
   "outputs": [
    {
     "name": "stdout",
     "output_type": "stream",
     "text": [
      "train_rmse: 0.020459710392575232\n",
      "test_rmse: 0.021243930263697586\n",
      "test_r2: 0.5175633683687253\n"
     ]
    }
   ],
   "source": [
    "model=SVR(kernel='linear', C=1.2, gamma= 1e-07, epsilon= 0)\n",
    "svr_rmse_ave(skew_data,7,model)"
   ]
  },
  {
   "cell_type": "markdown",
   "metadata": {},
   "source": [
    "## XGB"
   ]
  },
  {
   "cell_type": "code",
   "execution_count": 8,
   "metadata": {},
   "outputs": [
    {
     "name": "stdout",
     "output_type": "stream",
     "text": [
      "test_rmse_ave: 0.019314022878319733\n",
      "[0.018708557406221512, 0.022736903489053748, 0.016826896137625908, 0.020037382268678624, 0.019020752525853828, 0.019519288363624935, 0.018230421629519142, 0.019578933496952357, 0.019179014945796907, 0.01930207851987036]\n",
      "\n",
      "\n",
      "test_r2_ave: 0.6019573658397293\n",
      "[0.6402598960205762, 0.47576595508667463, 0.6907573296716079, 0.5441802431251226, 0.6061107807272861, 0.5435667261781567, 0.6841364728605484, 0.6281466572582409, 0.6671872674572534, 0.5394623300118255]\n"
     ]
    }
   ],
   "source": [
    "best_xgb_model =  XGBRegressor(\n",
    "                objective ='reg:squarederror',\n",
    "              learning_rate = 0.1,\n",
    "              booster = 'dart', \n",
    "              n_estimators = 80, \n",
    "              max_depth = 4, \n",
    "              min_child_weight = 2,\n",
    "              seed = 42,\n",
    "              gamma = 0,\n",
    "              subsample = 0.8,\n",
    "              colsample_bytree = 0.6,\n",
    "              reg_alpha =  0,\n",
    "              reg_lambda = 0.5)\n",
    "xgb_ave(skew_data[title], y,best_xgb_model)"
   ]
  },
  {
   "cell_type": "markdown",
   "metadata": {},
   "source": [
    "## RandomForest"
   ]
  },
  {
   "cell_type": "code",
   "execution_count": 9,
   "metadata": {},
   "outputs": [
    {
     "name": "stdout",
     "output_type": "stream",
     "text": [
      "test_rmse_ave: 0.01900400321155791\n",
      "[0.017769769914259874, 0.02212374567080392, 0.016477233385604258, 0.01862246715672049, 0.019188050881242875, 0.018992173620575408, 0.018509244524834073, 0.01962633862027239, 0.019840737294604338, 0.01889027104666146]\n",
      "\n",
      "\n",
      "test_r2_ave: 0.6159384823977577\n",
      "[0.6754572863688693, 0.503659287912025, 0.7034759160791153, 0.6062816903429231, 0.5991513484533801, 0.5678856585919713, 0.6744007165937668, 0.6263437915398141, 0.6438253950419099, 0.5589037330538018]\n"
     ]
    }
   ],
   "source": [
    "rand_model = RandomForestRegressor( \n",
    "            criterion ='mse', \n",
    "            n_estimators = 50,\n",
    "            max_depth = 9,\n",
    "            min_samples_split = 7,\n",
    "            max_leaf_nodes = 14,\n",
    "            min_samples_leaf =4,\n",
    "            random_state = 42) \n",
    "rand_ave(skew_x[title], y,rand_model)"
   ]
  },
  {
   "cell_type": "code",
   "execution_count": 9,
   "metadata": {},
   "outputs": [
    {
     "name": "stdout",
     "output_type": "stream",
     "text": [
      "test_rmse_ave: 0.01908822294563444\n",
      "[0.017962630120056063, 0.023184440634087086, 0.017599891275272977, 0.01752531451396, 0.018956884105527667, 0.019719143457516602, 0.01927516182678679, 0.018915986132989622, 0.019005097104266233, 0.018737680285881346]\n",
      "\n",
      "\n",
      "test_r2_ave: 0.611821945775781\n",
      "[0.6683743544507375, 0.45492554486446535, 0.6616927098587568, 0.6513073290252465, 0.6087515643244157, 0.5341721714447243, 0.6468964202868752, 0.6529024075149485, 0.6731958795890033, 0.5660010763986368]\n"
     ]
    }
   ],
   "source": [
    "lr = LinearRegression()\n",
    "lasso_mod=Lasso(alpha=9e-05)\n",
    "elastic_mod=ElasticNet(alpha=[0.02], l1_ratio=0.015)\n",
    "svr_mod=SVR(kernel='linear', C=1.2, gamma= 1e-07, epsilon= 0)\n",
    "\n",
    "xgb_mod =  XGBRegressor(\n",
    "                objective ='reg:squarederror',\n",
    "              learning_rate = 0.1,\n",
    "              booster = 'dart', \n",
    "              n_estimators = 80, \n",
    "              max_depth = 4, \n",
    "              min_child_weight = 2,\n",
    "              seed = 42,\n",
    "              gamma = 0,\n",
    "              subsample = 0.8,\n",
    "              colsample_bytree = 0.6,\n",
    "              reg_alpha =  0,\n",
    "              reg_lambda = 0.5)\n",
    "\n",
    "random_mod = RandomForestRegressor( \n",
    "            criterion ='mse', \n",
    "            n_estimators = 50,\n",
    "            max_depth = 9,\n",
    "            min_samples_split = 7,\n",
    "            max_leaf_nodes = 14,\n",
    "            min_samples_leaf =4,\n",
    "            random_state = 42)     \n",
    "vote_mod = VotingRegressor([ ('Lasso', lasso_mod), ('Elastic', elastic_mod),\n",
    "                            ('XGBRegressor', xgb_mod),('RandomForest', random_mod)])\n",
    "\n",
    "# vote_mod = VotingRegressor([ ('SVR', svr_mod), ('Linear', lr)\n",
    "#                             ,('RandomForest', random_mod)])\n",
    "voting_ave(skew_data[title], y,vote_mod)\n"
   ]
  },
  {
   "cell_type": "code",
   "execution_count": 10,
   "metadata": {},
   "outputs": [
    {
     "name": "stdout",
     "output_type": "stream",
     "text": [
      "test_rmse_ave: 0.020764845095189843\n",
      "[0.02016537518443068, 0.02382798067406965, 0.016076886899909583, 0.02148947673001909, 0.021241837450419025, 0.02148471063517267, 0.01920625714889707, 0.021231926695636862, 0.02187611159312292, 0.0210478879402209]\n",
      "\n",
      "\n",
      "test_r2_ave: 0.538701132406507\n",
      "[0.5820533318995379, 0.4242458682510616, 0.7177101261514456, 0.4757205213112644, 0.5087496572093333, 0.447021362249715, 0.649416451032429, 0.5627070863762103, 0.5670002975279504, 0.45238662205612146]\n"
     ]
    }
   ],
   "source": [
    "\n",
    "stack_mod = StackingRegressor(regressors=[lasso_mod,elastic_mod,  vote_mod], \n",
    "                           meta_regressor=random_mod, use_features_in_secondary=True\n",
    "                          )\n",
    "\n",
    "stack_ave(skew_data[title], y,stack_mod)"
   ]
  },
  {
   "cell_type": "code",
   "execution_count": 11,
   "metadata": {},
   "outputs": [
    {
     "name": "stdout",
     "output_type": "stream",
     "text": [
      "test_rmse_ave: 0.019034248036129953\n",
      "[0.017990439578783275, 0.0225470703361079, 0.016466691535045888, 0.018465322014602572, 0.019060931714124527, 0.019509409791606643, 0.01858763335065617, 0.019177019310881668, 0.019565419011582014, 0.018972543717908887]\n",
      "\n",
      "\n",
      "test_r2_ave: 0.614064557633595\n",
      "[0.6673467244685685, 0.48448319857086464, 0.7038552167243105, 0.6128984153168584, 0.6044449302776408, 0.5440286044925454, 0.6716369741120757, 0.6432566891598801, 0.653641664376422, 0.5550531588367856]\n"
     ]
    }
   ],
   "source": [
    "ave(skew_data[title],y,0.2,stack_mod,0.4,vote_mod,0.4,random_mod)"
   ]
  },
  {
   "cell_type": "code",
   "execution_count": 12,
   "metadata": {},
   "outputs": [],
   "source": [
    "name='Input_A3_015'\n",
    "test_pred=[]\n",
    "seed=[0,2,3,9,6,5,8]\n",
    "stack_w=0.2\n",
    "vote_w=0.4\n",
    "model_w=0.4\n",
    "model=random_mod\n",
    "for i in seed:\n",
    "    X_train, X_test, y_train, y_test = train_test_split(skew_data[title], y, test_size=0.2, random_state=i)\n",
    "\n",
    "    stack = stack_mod.fit(X_train, y_train)\n",
    "    stack_pred = stack.predict(test)\n",
    "    vote = vote_mod.fit(X_train, y_train)\n",
    "    vote_pred = vote.predict(test)\n",
    "    mod = model.fit(X_train, y_train)\n",
    "    mod_pred = mod.predict(test)\n",
    "\n",
    "    ###\n",
    "    final_test = (vote_w*vote_pred+stack_w*stack_pred + model_w*mod_pred)\n",
    "    ###\n",
    "    test_pred.append(final_test)\n",
    "\n",
    "\n",
    "\n",
    "final_test = pd.DataFrame(np.mean(test_pred, axis=0), columns=[name])\n",
    "final_test.to_csv(('./output/'+name+'.csv'))"
   ]
  }
 ],
 "metadata": {
  "kernelspec": {
   "display_name": "Python 3",
   "language": "python",
   "name": "python3"
  },
  "language_info": {
   "codemirror_mode": {
    "name": "ipython",
    "version": 3
   },
   "file_extension": ".py",
   "mimetype": "text/x-python",
   "name": "python",
   "nbconvert_exporter": "python",
   "pygments_lexer": "ipython3",
   "version": "3.7.7"
  }
 },
 "nbformat": 4,
 "nbformat_minor": 4
}
