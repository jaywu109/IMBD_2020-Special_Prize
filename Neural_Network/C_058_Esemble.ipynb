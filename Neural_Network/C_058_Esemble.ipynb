{
 "cells": [
  {
   "cell_type": "code",
   "execution_count": 1,
   "metadata": {},
   "outputs": [],
   "source": [
    "import pandas as pd\n",
    "import tensorflow as tf\n",
    "tf.config.set_visible_devices([], 'GPU')"
   ]
  },
  {
   "cell_type": "code",
   "execution_count": 2,
   "metadata": {},
   "outputs": [],
   "source": [
    "\n",
    "import NeuralNetwork.pretrained_models as pre_models\n",
    "from NeuralNetwork.tools import predict, predict_mul\n",
    "from NeuralNetwork.preprocessing import skewness_pure, min_max_normalization_pure\n",
    "\n",
    "\n",
    "def predict_df(X_df):\n",
    "\n",
    "    model_C_058, input_features_C_058 = pre_models.Input_C_058('weights/')\n",
    "    \n",
    "    outputs = ['Input_C_058']\n",
    "\n",
    "    preprocessings = ['min_max_normalization']\n",
    "\n",
    "    models = [model_C_058]\n",
    "\n",
    "    input_features = [input_features_C_058]\n",
    "\n",
    "    result = {}\n",
    "\n",
    "    for i in range(len(outputs)):\n",
    "\n",
    "            if preprocessings[i] == 'skewness':\n",
    "                X = skewness_pure(X_df, input_features[i])\n",
    "            elif preprocessings[i] == 'min_max_normalization':\n",
    "                X = min_max_normalization_pure(X_df, input_features[i])\n",
    "\n",
    "            result[outputs[i]] = predict_mul(models[i], X)\n",
    "    \n",
    "    result_df = pd.DataFrame(result, columns = outputs)\n",
    "    return result_df\n"
   ]
  },
  {
   "cell_type": "code",
   "execution_count": 3,
   "metadata": {},
   "outputs": [],
   "source": [
    "def nn_ave(x, y):\n",
    "\n",
    "    rmse = []\n",
    "    r2 = []\n",
    "    for i in np.arange(10):\n",
    "        X_train, X_test, y_train, y_test = train_test_split(\n",
    "            x, y, test_size=0.2, random_state=i)\n",
    "\n",
    "        nn_pred = predict_df(X_test)\n",
    "\n",
    "        rmse.append(math.sqrt(mean_squared_error(y_test, nn_pred)))\n",
    "        r2.append(r2_score(y_test, nn_pred))\n",
    "\n",
    "    test_rmse = np.array(rmse).mean()\n",
    "    print('test_rmse_ave:', test_rmse)\n",
    "    print(rmse)\n",
    "    print('\\n')\n",
    "    test_r2 = np.array(r2).mean()\n",
    "    print('test_r2_ave:', test_r2)\n",
    "    print(r2)"
   ]
  },
  {
   "cell_type": "code",
   "execution_count": 4,
   "metadata": {},
   "outputs": [],
   "source": [
    "from sklearn import preprocessing\n",
    "from sklearn.preprocessing import MinMaxScaler, RobustScaler, StandardScaler\n",
    "from sklearn.linear_model import LinearRegression, LassoCV\n",
    "from sklearn.model_selection import train_test_split\n",
    "from sklearn.metrics import r2_score, mean_squared_error\n",
    "from sklearn.preprocessing import PowerTransformer\n",
    "import math\n",
    "import warnings\n",
    "warnings.filterwarnings('ignore')\n",
    "\n",
    "# 處理 data 套件\n",
    "import numpy as np\n",
    "import pandas as pd\n",
    "from xgboost.sklearn import XGBRegressor\n",
    "from sklearn.model_selection import GridSearchCV\n",
    "from sklearn.model_selection import cross_val_score,KFold\n",
    "from scipy.stats import skew\n",
    "from sklearn.ensemble import RandomForestRegressor\n",
    "from sklearn.linear_model import ElasticNet\n",
    "from sklearn.linear_model import Lasso\n",
    "from mlxtend.regressor import StackingRegressor\n",
    "from sklearn.ensemble import VotingRegressor\n",
    "from sklearn.svm import SVR"
   ]
  },
  {
   "cell_type": "code",
   "execution_count": 5,
   "metadata": {},
   "outputs": [],
   "source": [
    "from imbdpack import skew_pro,lr_rmse_ave,lr_rmse_ave_fea,laso_rmse_ave,ElasticNet_rmse_ave,xgb_ave,svr_rmse_ave,rand_ave\n",
    "from imbdpack import voting_ave,stack_ave,ave"
   ]
  },
  {
   "cell_type": "code",
   "execution_count": 6,
   "metadata": {},
   "outputs": [
    {
     "data": {
      "text/plain": [
       "array(['Input_C_054', 'Input_C_052', 'Input_C_055', 'Input_C_135',\n",
       "       'Input_C_059', 'Input_C_060', 'Input_C_056', 'Input_C_053',\n",
       "       'Input_A4_011'], dtype=object)"
      ]
     },
     "execution_count": 6,
     "metadata": {},
     "output_type": "execute_result"
    }
   ],
   "source": [
    "fea_number=9\n",
    "data=pd.read_csv('./BayesianRidge_Pre_0/Input_C_058.csv',index_col=0).drop(['Number'], axis=1) ## 改路徑\n",
    "y=data.Predict\n",
    "nn=data.drop(['Predict'], axis=1)\n",
    "skew_data=skew_pro(data)\n",
    "num=skew_data.select_dtypes(exclude='object')\n",
    "numcorr=num.corr()\n",
    "title=abs(numcorr['Predict']).sort_values(ascending=False).head(fea_number+1).to_frame().index.to_numpy()[1:]\n",
    "skew_x=skew_data.drop(['Predict'], axis=1)\n",
    "title"
   ]
  },
  {
   "cell_type": "code",
   "execution_count": 7,
   "metadata": {},
   "outputs": [],
   "source": [
    "test=pd.read_csv('./final_testX.csv',index_col=0).drop(['Number'], axis=1)[title] ## 改路徑"
   ]
  },
  {
   "cell_type": "code",
   "execution_count": 11,
   "metadata": {},
   "outputs": [
    {
     "name": "stdout",
     "output_type": "stream",
     "text": [
      "test_rmse_ave: 0.003060707047082828\n",
      "[0.00383050913293738, 0.003336432716468487, 0.0021065044439281667, 0.003571376173347496, 0.0031061971794034806, 0.001920100733095955, 0.002785437032873378, 0.0025469611057583165, 0.0038295722890587984, 0.003573979663956822]\n",
      "\n",
      "\n",
      "test_r2_ave: 0.6464219766975188\n",
      "[0.3910234177211709, 0.587235346451389, 0.851122174423196, 0.6290778121470554, 0.6503971709628651, 0.8903261557756506, 0.7271269491047998, 0.7934870314154366, 0.45177755895810967, 0.49264615001551315]\n"
     ]
    }
   ],
   "source": [
    "nn_ave(nn, y)"
   ]
  },
  {
   "cell_type": "markdown",
   "metadata": {},
   "source": [
    "## Linear Regression Baseline"
   ]
  },
  {
   "cell_type": "code",
   "execution_count": 12,
   "metadata": {},
   "outputs": [
    {
     "name": "stdout",
     "output_type": "stream",
     "text": [
      "train_rmse: 0.0018062772782699791\n",
      "test_rmse: 0.0018484704121483684\n",
      "test_r2: 0.8802204885524739\n"
     ]
    }
   ],
   "source": [
    "lr_rmse_ave_fea(skew_data,9)"
   ]
  },
  {
   "cell_type": "markdown",
   "metadata": {},
   "source": [
    "## Lasso"
   ]
  },
  {
   "cell_type": "code",
   "execution_count": 13,
   "metadata": {},
   "outputs": [
    {
     "name": "stdout",
     "output_type": "stream",
     "text": [
      "test_rmse_ave: 0.001788355218182537\n",
      "[0.0018684381774833917, 0.0017178219841128728, 0.0019609645205860083, 0.0018380530704643044, 0.0018853680084753317, 0.001735840238042914, 0.0015637775092538161, 0.0018964500318850819, 0.0016643424606024285, 0.0017524961809192224]\n",
      "\n",
      "\n",
      "test_r2_ave: 0.8873953987308474\n",
      "[0.8551077844283718, 0.8905806651122459, 0.8709836562623341, 0.9017510964422667, 0.8712019868919126, 0.910365635785961, 0.9139949641287496, 0.8855052660467183, 0.8964520152040906, 0.8780109170058238]\n"
     ]
    }
   ],
   "source": [
    "laso_rmse_ave(skew_data[title],y,5e-06)"
   ]
  },
  {
   "cell_type": "markdown",
   "metadata": {},
   "source": [
    "## ElasticNet"
   ]
  },
  {
   "cell_type": "code",
   "execution_count": 14,
   "metadata": {},
   "outputs": [
    {
     "name": "stdout",
     "output_type": "stream",
     "text": [
      "test_rmse_ave: 0.0017920703220896312\n",
      "[0.0018500499511447746, 0.0017193800735374853, 0.0019760453490751738, 0.0018906539812752275, 0.0018966281677105343, 0.0017317409901115518, 0.0015563086417196273, 0.0019231104685331066, 0.0016299965300786575, 0.001746789067710173]\n",
      "\n",
      "\n",
      "test_r2_ave: 0.8870377907260281\n",
      "[0.8579456631279614, 0.8903820852519976, 0.868991621273978, 0.8960473114344246, 0.86965892795612, 0.9107884853322245, 0.914814551577135, 0.8822634874151826, 0.9006816204765453, 0.8788041534147102]\n"
     ]
    }
   ],
   "source": [
    "ElasticNet_rmse_ave(skew_data[title],y,[0.007],0.01)"
   ]
  },
  {
   "cell_type": "markdown",
   "metadata": {},
   "source": [
    "## SVR"
   ]
  },
  {
   "cell_type": "code",
   "execution_count": 15,
   "metadata": {},
   "outputs": [
    {
     "name": "stdout",
     "output_type": "stream",
     "text": [
      "train_rmse: 0.0018584341791834512\n",
      "test_rmse: 0.0018916388734179254\n",
      "test_r2: 0.8746508093208286\n"
     ]
    }
   ],
   "source": [
    "model=SVR(kernel='linear', C=1.25, gamma= 1e-07, epsilon= 0)\n",
    "svr_rmse_ave(skew_data,9,model)"
   ]
  },
  {
   "cell_type": "markdown",
   "metadata": {},
   "source": [
    "## XGB"
   ]
  },
  {
   "cell_type": "code",
   "execution_count": 16,
   "metadata": {},
   "outputs": [
    {
     "name": "stdout",
     "output_type": "stream",
     "text": [
      "test_rmse_ave: 0.001955727904184468\n",
      "[0.0018466467985351538, 0.001998024888860786, 0.0023356968090925893, 0.00195638810302729, 0.0020305038666861273, 0.0020266491759792387, 0.0017500617708297594, 0.0019470171555288952, 0.0017123616239316656, 0.001953928849373172]\n",
      "\n",
      "\n",
      "test_r2_ave: 0.8654872359887866\n",
      "[0.8584677981672647, 0.8519734745131992, 0.8169632934941589, 0.8886932132956071, 0.8506089643358404, 0.8778166038434239, 0.8922838774074072, 0.8793180663667776, 0.8903907420354701, 0.8483563264287175]\n"
     ]
    }
   ],
   "source": [
    "best_xgb_model =  XGBRegressor(\n",
    "                objective ='reg:squarederror',\n",
    "              learning_rate = 0.08,\n",
    "              booster = 'dart', \n",
    "              n_estimators = 125, \n",
    "              max_depth = 5, \n",
    "              min_child_weight = 4,\n",
    "              seed = 42,\n",
    "              gamma = 0,\n",
    "              subsample = 0.8,\n",
    "              colsample_bytree = 0.5,\n",
    "              reg_alpha =  0,\n",
    "              reg_lambda = 2)\n",
    "xgb_ave(skew_data[title], y,best_xgb_model)"
   ]
  },
  {
   "cell_type": "markdown",
   "metadata": {},
   "source": [
    "## RandomForest"
   ]
  },
  {
   "cell_type": "code",
   "execution_count": 17,
   "metadata": {},
   "outputs": [
    {
     "name": "stdout",
     "output_type": "stream",
     "text": [
      "test_rmse_ave: 0.0019141087235315817\n",
      "[0.0018577097224646156, 0.0018288595900760132, 0.0022601966593258542, 0.0019292934406905775, 0.002022019095598604, 0.0020978843597729575, 0.001686142272855897, 0.0018281012695572562, 0.0017198735048260015, 0.001911007320148044]\n",
      "\n",
      "\n",
      "test_r2_ave: 0.8712026715284589\n",
      "[0.856766931412636, 0.8759780699202568, 0.8286051709686606, 0.8917549128190362, 0.8518548623985964, 0.8690763423173369, 0.9000086598305587, 0.893609413213082, 0.8894269529794431, 0.8549453994249814]\n"
     ]
    }
   ],
   "source": [
    "rand_model = RandomForestRegressor( \n",
    "            criterion ='mse', \n",
    "            n_estimators = 60,\n",
    "            max_depth = 8,\n",
    "            min_samples_split = 3,\n",
    "            max_leaf_nodes = 12,\n",
    "            min_samples_leaf =4,\n",
    "            random_state = 42) \n",
    "rand_ave(skew_x[title], y,rand_model)"
   ]
  },
  {
   "cell_type": "code",
   "execution_count": 8,
   "metadata": {},
   "outputs": [
    {
     "name": "stdout",
     "output_type": "stream",
     "text": [
      "test_rmse_ave: 0.001787723489802094\n",
      "[0.0018232517520947711, 0.0017356541130508739, 0.0020026993055085335, 0.0018643656703483309, 0.0019031865437230723, 0.0017742286780573191, 0.0015548541849047396, 0.00186600600663363, 0.0016166513154695233, 0.001736337328230149]\n",
      "\n",
      "\n",
      "test_r2_ave: 0.8876470005024135\n",
      "[0.862031206233649, 0.8882971840829769, 0.8654335633868929, 0.8989180028855511, 0.8687559531594173, 0.906357234922262, 0.9149736982369029, 0.889151765992241, 0.9023012549498184, 0.8802501411744242]\n"
     ]
    }
   ],
   "source": [
    "lr = LinearRegression()\n",
    "lasso_mod=Lasso(alpha=9e-05)\n",
    "elastic_mod=ElasticNet(alpha=[0.006], l1_ratio=0.01)\n",
    "svr_mod=SVR(kernel='linear', C=1.25, gamma= 1e-07, epsilon= 0)\n",
    "\n",
    "xgb_mod =  XGBRegressor(\n",
    "                objective ='reg:squarederror',\n",
    "              learning_rate = 0.08,\n",
    "              booster = 'dart', \n",
    "              n_estimators = 125, \n",
    "              max_depth = 5, \n",
    "              min_child_weight = 4,\n",
    "              seed = 42,\n",
    "              gamma = 0,\n",
    "              subsample = 0.8,\n",
    "              colsample_bytree = 0.5,\n",
    "              reg_alpha =  0,\n",
    "              reg_lambda = 2)\n",
    "\n",
    "random_mod = RandomForestRegressor( \n",
    "            criterion ='mse', \n",
    "            n_estimators = 60,\n",
    "            max_depth = 8,\n",
    "            min_samples_split = 3,\n",
    "            max_leaf_nodes = 12,\n",
    "            min_samples_leaf =4,\n",
    "            random_state = 42)  \n",
    "vote_mod = VotingRegressor([ ('Lasso', lasso_mod), ('SVR', svr_mod),('Elastic', elastic_mod), ('Linear', lr),\n",
    "                            ('RandomForest', random_mod),('XGB', xgb_mod)])\n",
    "# \n",
    "# vote_mod = VotingRegressor([ ('SVR', svr_mod), ('Linear', lr)\n",
    "#                             ,('RandomForest', random_mod)])\n",
    "voting_ave(skew_data[title], y,vote_mod)\n"
   ]
  },
  {
   "cell_type": "code",
   "execution_count": 9,
   "metadata": {},
   "outputs": [
    {
     "name": "stdout",
     "output_type": "stream",
     "text": [
      "test_rmse_ave: 0.001801823313093958\n",
      "[0.001889870350550944, 0.0017223092689039672, 0.002003225698042372, 0.001851313962072251, 0.0019407150537209985, 0.0018107959320145701, 0.0015342279736196118, 0.0018921089600944258, 0.0016283444531392803, 0.0017453214787811588]\n",
      "\n",
      "\n",
      "test_r2_ave: 0.8856584549573592\n",
      "[0.8517647086171314, 0.8900082693576837, 0.8653628147962257, 0.9003283215030163, 0.8635289774776655, 0.9024574601207866, 0.9172146003041513, 0.8860288348072163, 0.9008828459997777, 0.8790077165899375]\n"
     ]
    }
   ],
   "source": [
    "\n",
    "stack_mod = StackingRegressor(regressors=[lasso_mod, lr, elastic_mod], \n",
    "                           meta_regressor=vote_mod, use_features_in_secondary=True\n",
    "                          )\n",
    "\n",
    "stack_ave(skew_data[title], y,stack_mod)"
   ]
  },
  {
   "cell_type": "code",
   "execution_count": 10,
   "metadata": {},
   "outputs": [
    {
     "name": "stdout",
     "output_type": "stream",
     "text": [
      "test_rmse_ave: 0.001784266339980882\n",
      "[0.001835458992628435, 0.0017230647094753, 0.001979987837231587, 0.0018739100929601922, 0.001897391722393911, 0.0017514902339073725, 0.0015495695558029217, 0.0018806388677378326, 0.001615482955020703, 0.0017356684326505637]\n",
      "\n",
      "\n",
      "test_r2_ave: 0.8880476029520297\n",
      "[0.8601775330548431, 0.8899117588873244, 0.8684683395327114, 0.8978803965496025, 0.8695539600231885, 0.9087420981103579, 0.9155506898015382, 0.8874064483269962, 0.9024424184785872, 0.8803423867551478]\n"
     ]
    }
   ],
   "source": [
    "ave(skew_data[title],y,0.1,stack_mod,0.45,vote_mod,0.45,lasso_mod)"
   ]
  },
  {
   "cell_type": "code",
   "execution_count": 12,
   "metadata": {},
   "outputs": [],
   "source": [
    "name='Input_C_058'\n",
    "test_pred=[]\n",
    "seed=[0,1,5,6,8,9,3,4]\n",
    "stack_w=0.1\n",
    "vote_w=0.45\n",
    "model_w=0.45\n",
    "model=lasso_mod\n",
    "for i in seed:\n",
    "    X_train, X_test, y_train, y_test = train_test_split(skew_data[title], y, test_size=0.2, random_state=i)\n",
    "\n",
    "    stack = stack_mod.fit(X_train, y_train)\n",
    "    stack_pred = stack.predict(test)\n",
    "    vote = vote_mod.fit(X_train, y_train)\n",
    "    vote_pred = vote.predict(test)\n",
    "    mod = model.fit(X_train, y_train)\n",
    "    mod_pred = mod.predict(test)\n",
    "\n",
    "    ###\n",
    "    final_test = (vote_w*vote_pred+stack_w*stack_pred + model_w*mod_pred)\n",
    "    ###\n",
    "    test_pred.append(final_test)\n",
    "\n",
    "\n",
    "final_test = pd.DataFrame(np.mean(test_pred, axis=0), columns=[name])\n",
    "final_test.to_csv(('./output/'+name+'.csv'))\n"
   ]
  },
  {
   "cell_type": "code",
   "execution_count": null,
   "metadata": {},
   "outputs": [],
   "source": []
  }
 ],
 "metadata": {
  "kernelspec": {
   "display_name": "Python 3",
   "language": "python",
   "name": "python3"
  },
  "language_info": {
   "codemirror_mode": {
    "name": "ipython",
    "version": 3
   },
   "file_extension": ".py",
   "mimetype": "text/x-python",
   "name": "python",
   "nbconvert_exporter": "python",
   "pygments_lexer": "ipython3",
   "version": "3.7.7"
  }
 },
 "nbformat": 4,
 "nbformat_minor": 4
}
