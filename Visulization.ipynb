{
 "cells": [
  {
   "cell_type": "code",
   "execution_count": 31,
   "metadata": {},
   "outputs": [],
   "source": [
    "import numpy as np\n",
    "import math\n",
    "import pandas as pd\n",
    "import math\n",
    "from sklearn.experimental import enable_iterative_imputer\n",
    "from sklearn.impute import IterativeImputer\n",
    "import matplotlib.pyplot as plt\n",
    "import seaborn as sns"
   ]
  },
  {
   "cell_type": "code",
   "execution_count": 138,
   "metadata": {},
   "outputs": [],
   "source": [
    "# 讀資料進來 index設第一欄 丟掉 Number 那欄\n",
    "a = pd.read_csv('./BayesianRidge_Pre/Input_C_096.csv',index_col=0)"
   ]
  },
  {
   "cell_type": "code",
   "execution_count": 139,
   "metadata": {},
   "outputs": [
    {
     "data": {
      "image/png": "[encoded data removed]",
      "text/plain": [
       "<Figure size 1224x72 with 2 Axes>"
      ]
     },
     "metadata": {
      "needs_background": "light"
     },
     "output_type": "display_data"
    }
   ],
   "source": [
    "\n",
    "num=a.select_dtypes(exclude='object')\n",
    "numcorr=num.corr()\n",
    "f,ax=plt.subplots(figsize=(17,1))\n",
    "\n",
    "sns.heatmap(numcorr.sort_values(by=['Predict'], ascending=False).head(1), cmap='Blues')\n",
    "\n",
    "plt.title(\" Numerical features correlation with the Y\", weight='bold', fontsize=18)\n",
    "plt.xticks(weight='bold')\n",
    "plt.yticks(weight='bold', color='dodgerblue', rotation=0)\n",
    "plt.show()"
   ]
  },
  {
   "cell_type": "code",
   "execution_count": 140,
   "metadata": {},
   "outputs": [
    {
     "data": {
      "text/html": [
       "<style  type=\"text/css\" >\n",
       "    #T_de11f90c_d4cd_11ea_9e08_cc2f7120e652row0_col0 {\n",
       "            background-color:  #00ffff;\n",
       "            color:  #000000;\n",
       "        }    #T_de11f90c_d4cd_11ea_9e08_cc2f7120e652row1_col0 {\n",
       "            background-color:  #d5ffff;\n",
       "            color:  #000000;\n",
       "        }    #T_de11f90c_d4cd_11ea_9e08_cc2f7120e652row2_col0 {\n",
       "            background-color:  #d5ffff;\n",
       "            color:  #000000;\n",
       "        }    #T_de11f90c_d4cd_11ea_9e08_cc2f7120e652row3_col0 {\n",
       "            background-color:  #d9ffff;\n",
       "            color:  #000000;\n",
       "        }    #T_de11f90c_d4cd_11ea_9e08_cc2f7120e652row4_col0 {\n",
       "            background-color:  #d9ffff;\n",
       "            color:  #000000;\n",
       "        }    #T_de11f90c_d4cd_11ea_9e08_cc2f7120e652row5_col0 {\n",
       "            background-color:  #dbffff;\n",
       "            color:  #000000;\n",
       "        }    #T_de11f90c_d4cd_11ea_9e08_cc2f7120e652row6_col0 {\n",
       "            background-color:  #dcffff;\n",
       "            color:  #000000;\n",
       "        }    #T_de11f90c_d4cd_11ea_9e08_cc2f7120e652row7_col0 {\n",
       "            background-color:  #ddffff;\n",
       "            color:  #000000;\n",
       "        }    #T_de11f90c_d4cd_11ea_9e08_cc2f7120e652row8_col0 {\n",
       "            background-color:  #deffff;\n",
       "            color:  #000000;\n",
       "        }    #T_de11f90c_d4cd_11ea_9e08_cc2f7120e652row9_col0 {\n",
       "            background-color:  #dfffff;\n",
       "            color:  #000000;\n",
       "        }    #T_de11f90c_d4cd_11ea_9e08_cc2f7120e652row10_col0 {\n",
       "            background-color:  #e1ffff;\n",
       "            color:  #000000;\n",
       "        }    #T_de11f90c_d4cd_11ea_9e08_cc2f7120e652row11_col0 {\n",
       "            background-color:  #e1ffff;\n",
       "            color:  #000000;\n",
       "        }    #T_de11f90c_d4cd_11ea_9e08_cc2f7120e652row12_col0 {\n",
       "            background-color:  #e2ffff;\n",
       "            color:  #000000;\n",
       "        }    #T_de11f90c_d4cd_11ea_9e08_cc2f7120e652row13_col0 {\n",
       "            background-color:  #e4ffff;\n",
       "            color:  #000000;\n",
       "        }    #T_de11f90c_d4cd_11ea_9e08_cc2f7120e652row14_col0 {\n",
       "            background-color:  #e5ffff;\n",
       "            color:  #000000;\n",
       "        }    #T_de11f90c_d4cd_11ea_9e08_cc2f7120e652row15_col0 {\n",
       "            background-color:  #e5ffff;\n",
       "            color:  #000000;\n",
       "        }    #T_de11f90c_d4cd_11ea_9e08_cc2f7120e652row16_col0 {\n",
       "            background-color:  #e5ffff;\n",
       "            color:  #000000;\n",
       "        }    #T_de11f90c_d4cd_11ea_9e08_cc2f7120e652row17_col0 {\n",
       "            background-color:  #e5ffff;\n",
       "            color:  #000000;\n",
       "        }    #T_de11f90c_d4cd_11ea_9e08_cc2f7120e652row18_col0 {\n",
       "            background-color:  #e5ffff;\n",
       "            color:  #000000;\n",
       "        }    #T_de11f90c_d4cd_11ea_9e08_cc2f7120e652row19_col0 {\n",
       "            background-color:  #e5ffff;\n",
       "            color:  #000000;\n",
       "        }</style><table id=\"T_de11f90c_d4cd_11ea_9e08_cc2f7120e652\" ><thead>    <tr>        <th class=\"blank level0\" ></th>        <th class=\"col_heading level0 col0\" >Predict</th>    </tr></thead><tbody>\n",
       "                <tr>\n",
       "                        <th id=\"T_de11f90c_d4cd_11ea_9e08_cc2f7120e652level0_row0\" class=\"row_heading level0 row0\" >Predict</th>\n",
       "                        <td id=\"T_de11f90c_d4cd_11ea_9e08_cc2f7120e652row0_col0\" class=\"data row0 col0\" >1.000000</td>\n",
       "            </tr>\n",
       "            <tr>\n",
       "                        <th id=\"T_de11f90c_d4cd_11ea_9e08_cc2f7120e652level0_row1\" class=\"row_heading level0 row1\" >Input_C_137</th>\n",
       "                        <td id=\"T_de11f90c_d4cd_11ea_9e08_cc2f7120e652row1_col0\" class=\"data row1 col0\" >0.142215</td>\n",
       "            </tr>\n",
       "            <tr>\n",
       "                        <th id=\"T_de11f90c_d4cd_11ea_9e08_cc2f7120e652level0_row2\" class=\"row_heading level0 row2\" >Input_C_121</th>\n",
       "                        <td id=\"T_de11f90c_d4cd_11ea_9e08_cc2f7120e652row2_col0\" class=\"data row2 col0\" >0.141360</td>\n",
       "            </tr>\n",
       "            <tr>\n",
       "                        <th id=\"T_de11f90c_d4cd_11ea_9e08_cc2f7120e652level0_row3\" class=\"row_heading level0 row3\" >Input_C_101</th>\n",
       "                        <td id=\"T_de11f90c_d4cd_11ea_9e08_cc2f7120e652row3_col0\" class=\"data row3 col0\" >0.128779</td>\n",
       "            </tr>\n",
       "            <tr>\n",
       "                        <th id=\"T_de11f90c_d4cd_11ea_9e08_cc2f7120e652level0_row4\" class=\"row_heading level0 row4\" >Input_A4_019</th>\n",
       "                        <td id=\"T_de11f90c_d4cd_11ea_9e08_cc2f7120e652row4_col0\" class=\"data row4 col0\" >0.128580</td>\n",
       "            </tr>\n",
       "            <tr>\n",
       "                        <th id=\"T_de11f90c_d4cd_11ea_9e08_cc2f7120e652level0_row5\" class=\"row_heading level0 row5\" >Input_C_136</th>\n",
       "                        <td id=\"T_de11f90c_d4cd_11ea_9e08_cc2f7120e652row5_col0\" class=\"data row5 col0\" >0.122133</td>\n",
       "            </tr>\n",
       "            <tr>\n",
       "                        <th id=\"T_de11f90c_d4cd_11ea_9e08_cc2f7120e652level0_row6\" class=\"row_heading level0 row6\" >Input_C_102</th>\n",
       "                        <td id=\"T_de11f90c_d4cd_11ea_9e08_cc2f7120e652row6_col0\" class=\"data row6 col0\" >0.116444</td>\n",
       "            </tr>\n",
       "            <tr>\n",
       "                        <th id=\"T_de11f90c_d4cd_11ea_9e08_cc2f7120e652level0_row7\" class=\"row_heading level0 row7\" >Input_A1_023</th>\n",
       "                        <td id=\"T_de11f90c_d4cd_11ea_9e08_cc2f7120e652row7_col0\" class=\"data row7 col0\" >0.109746</td>\n",
       "            </tr>\n",
       "            <tr>\n",
       "                        <th id=\"T_de11f90c_d4cd_11ea_9e08_cc2f7120e652level0_row8\" class=\"row_heading level0 row8\" >Input_C_007</th>\n",
       "                        <td id=\"T_de11f90c_d4cd_11ea_9e08_cc2f7120e652row8_col0\" class=\"data row8 col0\" >0.105281</td>\n",
       "            </tr>\n",
       "            <tr>\n",
       "                        <th id=\"T_de11f90c_d4cd_11ea_9e08_cc2f7120e652level0_row9\" class=\"row_heading level0 row9\" >Input_A4_011</th>\n",
       "                        <td id=\"T_de11f90c_d4cd_11ea_9e08_cc2f7120e652row9_col0\" class=\"data row9 col0\" >0.104398</td>\n",
       "            </tr>\n",
       "            <tr>\n",
       "                        <th id=\"T_de11f90c_d4cd_11ea_9e08_cc2f7120e652level0_row10\" class=\"row_heading level0 row10\" >Input_C_014</th>\n",
       "                        <td id=\"T_de11f90c_d4cd_11ea_9e08_cc2f7120e652row10_col0\" class=\"data row10 col0\" >0.096762</td>\n",
       "            </tr>\n",
       "            <tr>\n",
       "                        <th id=\"T_de11f90c_d4cd_11ea_9e08_cc2f7120e652level0_row11\" class=\"row_heading level0 row11\" >Input_A5_011</th>\n",
       "                        <td id=\"T_de11f90c_d4cd_11ea_9e08_cc2f7120e652row11_col0\" class=\"data row11 col0\" >0.095924</td>\n",
       "            </tr>\n",
       "            <tr>\n",
       "                        <th id=\"T_de11f90c_d4cd_11ea_9e08_cc2f7120e652level0_row12\" class=\"row_heading level0 row12\" >Input_C_097</th>\n",
       "                        <td id=\"T_de11f90c_d4cd_11ea_9e08_cc2f7120e652row12_col0\" class=\"data row12 col0\" >0.092170</td>\n",
       "            </tr>\n",
       "            <tr>\n",
       "                        <th id=\"T_de11f90c_d4cd_11ea_9e08_cc2f7120e652level0_row13\" class=\"row_heading level0 row13\" >Input_C_027_X</th>\n",
       "                        <td id=\"T_de11f90c_d4cd_11ea_9e08_cc2f7120e652row13_col0\" class=\"data row13 col0\" >0.085724</td>\n",
       "            </tr>\n",
       "            <tr>\n",
       "                        <th id=\"T_de11f90c_d4cd_11ea_9e08_cc2f7120e652level0_row14\" class=\"row_heading level0 row14\" >Input_A6_009</th>\n",
       "                        <td id=\"T_de11f90c_d4cd_11ea_9e08_cc2f7120e652row14_col0\" class=\"data row14 col0\" >0.082333</td>\n",
       "            </tr>\n",
       "            <tr>\n",
       "                        <th id=\"T_de11f90c_d4cd_11ea_9e08_cc2f7120e652level0_row15\" class=\"row_heading level0 row15\" >Input_A5_019</th>\n",
       "                        <td id=\"T_de11f90c_d4cd_11ea_9e08_cc2f7120e652row15_col0\" class=\"data row15 col0\" >0.082005</td>\n",
       "            </tr>\n",
       "            <tr>\n",
       "                        <th id=\"T_de11f90c_d4cd_11ea_9e08_cc2f7120e652level0_row16\" class=\"row_heading level0 row16\" >Input_A4_001</th>\n",
       "                        <td id=\"T_de11f90c_d4cd_11ea_9e08_cc2f7120e652row16_col0\" class=\"data row16 col0\" >0.077868</td>\n",
       "            </tr>\n",
       "            <tr>\n",
       "                        <th id=\"T_de11f90c_d4cd_11ea_9e08_cc2f7120e652level0_row17\" class=\"row_heading level0 row17\" >Input_C_092</th>\n",
       "                        <td id=\"T_de11f90c_d4cd_11ea_9e08_cc2f7120e652row17_col0\" class=\"data row17 col0\" >0.077103</td>\n",
       "            </tr>\n",
       "            <tr>\n",
       "                        <th id=\"T_de11f90c_d4cd_11ea_9e08_cc2f7120e652level0_row18\" class=\"row_heading level0 row18\" >Input_A4_018</th>\n",
       "                        <td id=\"T_de11f90c_d4cd_11ea_9e08_cc2f7120e652row18_col0\" class=\"data row18 col0\" >0.075824</td>\n",
       "            </tr>\n",
       "            <tr>\n",
       "                        <th id=\"T_de11f90c_d4cd_11ea_9e08_cc2f7120e652level0_row19\" class=\"row_heading level0 row19\" >Input_A1_011</th>\n",
       "                        <td id=\"T_de11f90c_d4cd_11ea_9e08_cc2f7120e652row19_col0\" class=\"data row19 col0\" >0.075562</td>\n",
       "            </tr>\n",
       "    </tbody></table>"
      ],
      "text/plain": [
       "<pandas.io.formats.style.Styler at 0x27b5b600988>"
      ]
     },
     "execution_count": 140,
     "metadata": {},
     "output_type": "execute_result"
    }
   ],
   "source": [
    "Num=numcorr['Predict'].sort_values(ascending=False).head(20).to_frame()\n",
    "\n",
    "cm = sns.light_palette(\"cyan\", as_cmap=True)\n",
    "\n",
    "s = Num.style.background_gradient(cmap=cm)\n",
    "s"
   ]
  },
  {
   "cell_type": "code",
   "execution_count": null,
   "metadata": {},
   "outputs": [],
   "source": []
  },
  {
   "cell_type": "code",
   "execution_count": null,
   "metadata": {},
   "outputs": [],
   "source": []
  }
 ],
 "metadata": {
  "kernelspec": {
   "display_name": "Python 3",
   "language": "python",
   "name": "python3"
  },
  "language_info": {
   "codemirror_mode": {
    "name": "ipython",
    "version": 3
   },
   "file_extension": ".py",
   "mimetype": "text/x-python",
   "name": "python",
   "nbconvert_exporter": "python",
   "pygments_lexer": "ipython3",
   "version": "3.7.7"
  }
 },
 "nbformat": 4,
 "nbformat_minor": 4
}
